{
 "cells": [
  {
   "cell_type": "code",
   "execution_count": null,
   "metadata": {},
   "outputs": [],
   "source": [
    "import torch\n",
    "import torch.nn as nn\n",
    "import torch.nn.functional as F\n",
    "import numpy as np\n",
    "import cv2\n",
    "import os\n",
    "import json\n",
    "import random\n",
    "\n",
    "from unetModules.unet_model import UNet\n",
    "from unetModules.Utils import Utils\n",
    "from sklearn.model_selection import KFold\n",
    "from tqdm import tqdm\n",
    "from PIL import Image\n",
    "from torchmetrics import JaccardIndex\n",
    "from torchmetrics import Dice"
   ]
  },
  {
   "cell_type": "code",
   "execution_count": null,
   "metadata": {},
   "outputs": [],
   "source": [
    "cuda = True\n",
    "batch_size = 2\n",
    "epochs_per_fold = 100\n",
    "learn_rate = 5e-4\n",
    "n_classes = 2\n",
    "n_channels = 3\n",
    "weight_decay = 2e-4\n",
    "k_folds = 5\n",
    "eval_every = 10\n",
    "description = \"Diese Unet Evaluation wurde mit den River Blindess Datensatz trainiert. Erweiterere(Rotation + Sharpend + Contrast) Datenaugmentierung wurde angewendet. Validation set wurde separiert.\"\n",
    "\n",
    "path_save_model = \"./modelEvaluation/\"\n",
    "# path_images = \"../../content/SchistosomaMansoni/img/\"\n",
    "# path_labels = \"../../content/SchistosomaMansoni/labels/\"\n",
    "# path_images_val = \"../../content/SchistosomaMansoni/val_img/\"\n",
    "# path_labels_val = \"../../content/SchistosomaMansoni/val_labels/\"\n",
    "path_images = \"../../content/RiverBlindness/img/\"\n",
    "path_labels = \"../../content/RiverBlindness/labels/\"\n",
    "path_images_val = \"../../content/RiverBlindness/val_img/\"\n",
    "path_labels_val = \"../../content/RiverBlindness/val_labels/\"\n",
    "\n",
    "with open(path_save_model + \"logs/settings.json\", \"w\", encoding=\"utf-8\") as f:\n",
    "    settings = { \n",
    "        \"cuda\": cuda,\n",
    "        \"batch_size\": batch_size,\n",
    "        \"epochs_per_fold\": epochs_per_fold,\n",
    "        \"learn_rate\": learn_rate,\n",
    "        \"n_classes\": n_classes,\n",
    "        \"weight_decay\": weight_decay,\n",
    "        \"k_folds\": k_folds,\n",
    "        \"eval_every\": eval_every,\n",
    "        \"description\": description\n",
    "    }\n",
    "    \n",
    "    json.dump(settings, f, ensure_ascii=False, indent=4)\n"
   ]
  },
  {
   "cell_type": "code",
   "execution_count": null,
   "metadata": {},
   "outputs": [],
   "source": [
    "img_filenames = np.array(os.listdir(path_images))\n",
    "input_train = []\n",
    "\n",
    "label_filenames = np.array(os.listdir(path_labels))\n",
    "label_train = []\n",
    "\n",
    "assert(len(img_filenames) == len(label_filenames))\n",
    "\n",
    "random.shuffle(img_filenames)\n",
    "\n",
    "print(\"[INFO]Loading trainings dataset.\")\n",
    "# Reading train images and labels                  \n",
    "for file in tqdm(img_filenames):    \n",
    "    img = Image.open(path_images + file)\n",
    "    label = Image.open(path_labels + file)\n",
    "    augmented_imgs, augmented_labels = Utils.imageAugmentation(img, label)\n",
    "        \n",
    "    for aug_img in augmented_imgs:\n",
    "        img = cv2.resize(np.array(aug_img), (512, 512), cv2.INTER_NEAREST)\n",
    "        input_train.append(img[:,:,0:3]) # cutting out potential alpha channel\n",
    "      \n",
    "    for aug_label in augmented_labels:\n",
    "        label = cv2.resize(np.array(aug_label), (512, 512), cv2.INTER_NEAREST)\n",
    "        label_train.append(label)\n",
    "\n",
    "input_train = np.array(input_train)\n",
    "label_train = np.array(label_train) \n",
    "\n",
    "val_img_filenames = np.array(os.listdir(path_images_val))\n",
    "input_val = []\n",
    "\n",
    "val_label_filenames = np.array(os.listdir(path_labels_val))\n",
    "label_val = []\n",
    "\n",
    "assert(len(val_img_filenames) == len(val_label_filenames))\n",
    "\n",
    "print(\"[INFO]Loading validation dataset\")\n",
    "# Reading validation images and labels. Validation set should not be augmented\n",
    "for file in tqdm(val_img_filenames):\n",
    "    val_img = Image.open(path_images_val + file)\n",
    "    val_img = cv2.resize(np.array(val_img), (512, 512), cv2.INTER_NEAREST)\n",
    "    input_val.append(val_img[:,:,0:3])\n",
    "    \n",
    "    val_label = Image.open(path_labels_val + file)\n",
    "    val_label = cv2.resize(np.array(val_label), (512, 512), cv2.INTER_NEAREST)\n",
    "    label_val.append(val_label)\n",
    "    \n",
    "input_val = np.stack(input_val, axis=2)\n",
    "input_val = torch.tensor(input_val).transpose(0,2).transpose(1,3)\n",
    "\n",
    "label_val = np.array(label_val)\n",
    "label_val = torch.tensor(label_val)\n",
    "\n",
    "print(\"[INFO]Starting to define the class weights...\")\n",
    "class_weights = Utils.get_class_weights(label_train, n_classes)\n",
    "print(\"[INFO]Fetched all class weights successfully!\")\n",
    "\n",
    "# Checking for cuda\n",
    "if(torch.cuda.is_available() & cuda):\n",
    "    print(\"[INFO]CUDA is available!\")\n",
    "    device = torch.device(\"cuda:0\")\n",
    "else:\n",
    "    print(\"[INFO]CUDA isn't available!\")\n",
    "    device = torch.device(\"cpu\")"
   ]
  },
  {
   "cell_type": "code",
   "execution_count": 12,
   "metadata": {},
   "outputs": [
    {
     "name": "stderr",
     "output_type": "stream",
     "text": [
      "100%|██████████| 779/779 [02:34<00:00,  5.04it/s]\n"
     ]
    },
    {
     "name": "stdout",
     "output_type": "stream",
     "text": [
      "\n",
      "Epoch 81/100... Loss 70.626517\n",
      "\n",
      "Validation:\n"
     ]
    },
    {
     "name": "stderr",
     "output_type": "stream",
     "text": [
      "100%|██████████| 28/28 [00:05<00:00,  5.60it/s]\n"
     ]
    },
    {
     "name": "stdout",
     "output_type": "stream",
     "text": [
      "Loss 12.138845\n",
      "Epoch 81/100...\n",
      "--------------- Epoch 82 ---------------\n"
     ]
    },
    {
     "name": "stderr",
     "output_type": "stream",
     "text": [
      "100%|██████████| 779/779 [02:33<00:00,  5.07it/s]\n"
     ]
    },
    {
     "name": "stdout",
     "output_type": "stream",
     "text": [
      "\n",
      "Epoch 82/100... Loss 68.403184\n",
      "\n",
      "Validation:\n"
     ]
    },
    {
     "name": "stderr",
     "output_type": "stream",
     "text": [
      "100%|██████████| 28/28 [00:04<00:00,  6.29it/s]\n"
     ]
    },
    {
     "name": "stdout",
     "output_type": "stream",
     "text": [
      "Loss 8.719670\n",
      "Epoch 82/100...\n",
      "--------------- Epoch 83 ---------------\n"
     ]
    },
    {
     "name": "stderr",
     "output_type": "stream",
     "text": [
      "100%|██████████| 779/779 [02:31<00:00,  5.15it/s]\n"
     ]
    },
    {
     "name": "stdout",
     "output_type": "stream",
     "text": [
      "\n",
      "Epoch 83/100... Loss 63.268886\n",
      "\n",
      "Validation:\n"
     ]
    },
    {
     "name": "stderr",
     "output_type": "stream",
     "text": [
      "100%|██████████| 28/28 [00:04<00:00,  6.28it/s]\n"
     ]
    },
    {
     "name": "stdout",
     "output_type": "stream",
     "text": [
      "Loss 10.564289\n",
      "Epoch 83/100...\n",
      "--------------- Epoch 84 ---------------\n"
     ]
    },
    {
     "name": "stderr",
     "output_type": "stream",
     "text": [
      "100%|██████████| 779/779 [02:32<00:00,  5.10it/s]\n"
     ]
    },
    {
     "name": "stdout",
     "output_type": "stream",
     "text": [
      "\n",
      "Epoch 84/100... Loss 64.970719\n",
      "\n",
      "Validation:\n"
     ]
    },
    {
     "name": "stderr",
     "output_type": "stream",
     "text": [
      "100%|██████████| 28/28 [00:04<00:00,  6.29it/s]\n"
     ]
    },
    {
     "name": "stdout",
     "output_type": "stream",
     "text": [
      "Loss 20.484768\n",
      "Epoch 84/100...\n",
      "--------------- Epoch 85 ---------------\n"
     ]
    },
    {
     "name": "stderr",
     "output_type": "stream",
     "text": [
      "100%|██████████| 779/779 [02:32<00:00,  5.11it/s]\n"
     ]
    },
    {
     "name": "stdout",
     "output_type": "stream",
     "text": [
      "\n",
      "Epoch 85/100... Loss 66.784975\n",
      "\n",
      "Validation:\n"
     ]
    },
    {
     "name": "stderr",
     "output_type": "stream",
     "text": [
      "100%|██████████| 28/28 [00:04<00:00,  6.29it/s]\n"
     ]
    },
    {
     "name": "stdout",
     "output_type": "stream",
     "text": [
      "Loss 9.818439\n",
      "Epoch 85/100...\n",
      "--------------- Epoch 86 ---------------\n"
     ]
    },
    {
     "name": "stderr",
     "output_type": "stream",
     "text": [
      "100%|██████████| 779/779 [02:31<00:00,  5.14it/s]\n"
     ]
    },
    {
     "name": "stdout",
     "output_type": "stream",
     "text": [
      "\n",
      "Epoch 86/100... Loss 66.448477\n",
      "\n",
      "Validation:\n"
     ]
    },
    {
     "name": "stderr",
     "output_type": "stream",
     "text": [
      "100%|██████████| 28/28 [00:04<00:00,  6.29it/s]\n"
     ]
    },
    {
     "name": "stdout",
     "output_type": "stream",
     "text": [
      "Loss 10.372926\n",
      "Epoch 86/100...\n",
      "--------------- Epoch 87 ---------------\n"
     ]
    },
    {
     "name": "stderr",
     "output_type": "stream",
     "text": [
      "100%|██████████| 779/779 [02:31<00:00,  5.13it/s]\n"
     ]
    },
    {
     "name": "stdout",
     "output_type": "stream",
     "text": [
      "\n",
      "Epoch 87/100... Loss 71.851050\n",
      "\n",
      "Validation:\n"
     ]
    },
    {
     "name": "stderr",
     "output_type": "stream",
     "text": [
      "100%|██████████| 28/28 [00:04<00:00,  6.15it/s]\n"
     ]
    },
    {
     "name": "stdout",
     "output_type": "stream",
     "text": [
      "Loss 8.599211\n",
      "Epoch 87/100...\n",
      "--------------- Epoch 88 ---------------\n"
     ]
    },
    {
     "name": "stderr",
     "output_type": "stream",
     "text": [
      "100%|██████████| 779/779 [02:36<00:00,  4.98it/s]\n"
     ]
    },
    {
     "name": "stdout",
     "output_type": "stream",
     "text": [
      "\n",
      "Epoch 88/100... Loss 65.500552\n",
      "\n",
      "Validation:\n"
     ]
    },
    {
     "name": "stderr",
     "output_type": "stream",
     "text": [
      "100%|██████████| 28/28 [00:04<00:00,  6.29it/s]\n"
     ]
    },
    {
     "name": "stdout",
     "output_type": "stream",
     "text": [
      "Loss 13.856434\n",
      "Epoch 88/100...\n",
      "--------------- Epoch 89 ---------------\n"
     ]
    },
    {
     "name": "stderr",
     "output_type": "stream",
     "text": [
      "100%|██████████| 779/779 [02:31<00:00,  5.15it/s]\n"
     ]
    },
    {
     "name": "stdout",
     "output_type": "stream",
     "text": [
      "\n",
      "Epoch 89/100... Loss 60.118224\n",
      "\n",
      "Validation:\n"
     ]
    },
    {
     "name": "stderr",
     "output_type": "stream",
     "text": [
      "100%|██████████| 28/28 [00:04<00:00,  6.29it/s]\n"
     ]
    },
    {
     "name": "stdout",
     "output_type": "stream",
     "text": [
      "Loss 10.353237\n",
      "Epoch 89/100...\n",
      "--------------- Epoch 90 ---------------\n"
     ]
    },
    {
     "name": "stderr",
     "output_type": "stream",
     "text": [
      "100%|██████████| 779/779 [02:33<00:00,  5.08it/s]\n"
     ]
    },
    {
     "name": "stdout",
     "output_type": "stream",
     "text": [
      "\n",
      "Epoch 90/100... Loss 60.582256\n",
      "\n",
      "Validation:\n"
     ]
    },
    {
     "name": "stderr",
     "output_type": "stream",
     "text": [
      "100%|██████████| 28/28 [00:04<00:00,  6.29it/s]\n"
     ]
    },
    {
     "name": "stdout",
     "output_type": "stream",
     "text": [
      "Loss 10.051537\n",
      "Epoch 90/100...\n",
      "[INFO]Starting Evaluation for Fold 5 Epoche 90.\n"
     ]
    },
    {
     "name": "stderr",
     "output_type": "stream",
     "text": [
      "100%|██████████| 389/389 [00:58<00:00,  6.60it/s]\n"
     ]
    },
    {
     "name": "stdout",
     "output_type": "stream",
     "text": [
      "---------------------------------------------------------------------------------------------------------------------------------------\n",
      "Jaccard Index: \t meanClass[0] = 0.7760506389916403 \t meanClass[1] = 0.7701624864209587 \t mean = 0.7731065627062995\n",
      "Dice Score: \t meanClass[0] = 0.8605805895169167 \t meanClass[1] = 0.8540999518951597 \t mean = 0.8573402707060382\n",
      "---------------------------------------------------------------------------------------------------------------------------------------\n",
      "--------------- Epoch 91 ---------------\n"
     ]
    },
    {
     "name": "stderr",
     "output_type": "stream",
     "text": [
      "100%|██████████| 779/779 [02:32<00:00,  5.11it/s]\n"
     ]
    },
    {
     "name": "stdout",
     "output_type": "stream",
     "text": [
      "\n",
      "Epoch 91/100... Loss 68.745540\n",
      "\n",
      "Validation:\n"
     ]
    },
    {
     "name": "stderr",
     "output_type": "stream",
     "text": [
      "100%|██████████| 28/28 [00:04<00:00,  6.25it/s]\n"
     ]
    },
    {
     "name": "stdout",
     "output_type": "stream",
     "text": [
      "Loss 16.132773\n",
      "Epoch 91/100...\n",
      "--------------- Epoch 92 ---------------\n"
     ]
    },
    {
     "name": "stderr",
     "output_type": "stream",
     "text": [
      "100%|██████████| 779/779 [02:31<00:00,  5.14it/s]\n"
     ]
    },
    {
     "name": "stdout",
     "output_type": "stream",
     "text": [
      "\n",
      "Epoch 92/100... Loss 66.634493\n",
      "\n",
      "Validation:\n"
     ]
    },
    {
     "name": "stderr",
     "output_type": "stream",
     "text": [
      "100%|██████████| 28/28 [00:04<00:00,  6.28it/s]\n"
     ]
    },
    {
     "name": "stdout",
     "output_type": "stream",
     "text": [
      "Loss 11.578780\n",
      "Epoch 92/100...\n",
      "--------------- Epoch 93 ---------------\n"
     ]
    },
    {
     "name": "stderr",
     "output_type": "stream",
     "text": [
      "100%|██████████| 779/779 [02:34<00:00,  5.05it/s]\n"
     ]
    },
    {
     "name": "stdout",
     "output_type": "stream",
     "text": [
      "\n",
      "Epoch 93/100... Loss 66.892615\n",
      "\n",
      "Validation:\n"
     ]
    },
    {
     "name": "stderr",
     "output_type": "stream",
     "text": [
      "100%|██████████| 28/28 [00:04<00:00,  5.87it/s]\n"
     ]
    },
    {
     "name": "stdout",
     "output_type": "stream",
     "text": [
      "Loss 12.751736\n",
      "Epoch 93/100...\n",
      "--------------- Epoch 94 ---------------\n"
     ]
    },
    {
     "name": "stderr",
     "output_type": "stream",
     "text": [
      "100%|██████████| 779/779 [02:31<00:00,  5.14it/s]\n"
     ]
    },
    {
     "name": "stdout",
     "output_type": "stream",
     "text": [
      "\n",
      "Epoch 94/100... Loss 60.301668\n",
      "\n",
      "Validation:\n"
     ]
    },
    {
     "name": "stderr",
     "output_type": "stream",
     "text": [
      "100%|██████████| 28/28 [00:04<00:00,  6.28it/s]\n"
     ]
    },
    {
     "name": "stdout",
     "output_type": "stream",
     "text": [
      "Loss 8.641250\n",
      "Epoch 94/100...\n",
      "--------------- Epoch 95 ---------------\n"
     ]
    },
    {
     "name": "stderr",
     "output_type": "stream",
     "text": [
      "100%|██████████| 779/779 [02:33<00:00,  5.09it/s]\n"
     ]
    },
    {
     "name": "stdout",
     "output_type": "stream",
     "text": [
      "\n",
      "Epoch 95/100... Loss 60.742233\n",
      "\n",
      "Validation:\n"
     ]
    },
    {
     "name": "stderr",
     "output_type": "stream",
     "text": [
      "100%|██████████| 28/28 [00:04<00:00,  6.29it/s]\n"
     ]
    },
    {
     "name": "stdout",
     "output_type": "stream",
     "text": [
      "Loss 10.165675\n",
      "Epoch 95/100...\n",
      "--------------- Epoch 96 ---------------\n"
     ]
    },
    {
     "name": "stderr",
     "output_type": "stream",
     "text": [
      "100%|██████████| 779/779 [02:33<00:00,  5.06it/s]\n"
     ]
    },
    {
     "name": "stdout",
     "output_type": "stream",
     "text": [
      "\n",
      "Epoch 96/100... Loss 66.360128\n",
      "\n",
      "Validation:\n"
     ]
    },
    {
     "name": "stderr",
     "output_type": "stream",
     "text": [
      "100%|██████████| 28/28 [00:04<00:00,  6.28it/s]\n"
     ]
    },
    {
     "name": "stdout",
     "output_type": "stream",
     "text": [
      "Loss 9.388008\n",
      "Epoch 96/100...\n",
      "--------------- Epoch 97 ---------------\n"
     ]
    },
    {
     "name": "stderr",
     "output_type": "stream",
     "text": [
      "100%|██████████| 779/779 [02:35<00:00,  5.01it/s]\n"
     ]
    },
    {
     "name": "stdout",
     "output_type": "stream",
     "text": [
      "\n",
      "Epoch 97/100... Loss 59.366041\n",
      "\n",
      "Validation:\n"
     ]
    },
    {
     "name": "stderr",
     "output_type": "stream",
     "text": [
      "100%|██████████| 28/28 [00:04<00:00,  5.98it/s]\n"
     ]
    },
    {
     "name": "stdout",
     "output_type": "stream",
     "text": [
      "Loss 11.175318\n",
      "Epoch 97/100...\n",
      "--------------- Epoch 98 ---------------\n"
     ]
    },
    {
     "name": "stderr",
     "output_type": "stream",
     "text": [
      "100%|██████████| 779/779 [02:38<00:00,  4.92it/s]\n"
     ]
    },
    {
     "name": "stdout",
     "output_type": "stream",
     "text": [
      "\n",
      "Epoch 98/100... Loss 61.747508\n",
      "\n",
      "Validation:\n"
     ]
    },
    {
     "name": "stderr",
     "output_type": "stream",
     "text": [
      "100%|██████████| 28/28 [00:04<00:00,  5.70it/s]\n"
     ]
    },
    {
     "name": "stdout",
     "output_type": "stream",
     "text": [
      "Loss 8.143127\n",
      "Epoch 98/100...\n",
      "--------------- Epoch 99 ---------------\n"
     ]
    },
    {
     "name": "stderr",
     "output_type": "stream",
     "text": [
      "100%|██████████| 779/779 [02:41<00:00,  4.82it/s]\n"
     ]
    },
    {
     "name": "stdout",
     "output_type": "stream",
     "text": [
      "\n",
      "Epoch 99/100... Loss 60.205612\n",
      "\n",
      "Validation:\n"
     ]
    },
    {
     "name": "stderr",
     "output_type": "stream",
     "text": [
      "100%|██████████| 28/28 [00:04<00:00,  5.79it/s]\n"
     ]
    },
    {
     "name": "stdout",
     "output_type": "stream",
     "text": [
      "Loss 13.554310\n",
      "Epoch 99/100...\n",
      "--------------- Epoch 100 ---------------\n"
     ]
    },
    {
     "name": "stderr",
     "output_type": "stream",
     "text": [
      "100%|██████████| 779/779 [02:41<00:00,  4.82it/s]\n"
     ]
    },
    {
     "name": "stdout",
     "output_type": "stream",
     "text": [
      "\n",
      "Epoch 100/100... Loss 61.435039\n",
      "\n",
      "Validation:\n"
     ]
    },
    {
     "name": "stderr",
     "output_type": "stream",
     "text": [
      "100%|██████████| 28/28 [00:04<00:00,  5.76it/s]\n"
     ]
    },
    {
     "name": "stdout",
     "output_type": "stream",
     "text": [
      "Loss 13.380938\n",
      "Epoch 100/100...\n",
      "[INFO]Starting Evaluation for Fold 5 Epoche 100.\n"
     ]
    },
    {
     "name": "stderr",
     "output_type": "stream",
     "text": [
      "100%|██████████| 389/389 [01:00<00:00,  6.38it/s]\n"
     ]
    },
    {
     "name": "stdout",
     "output_type": "stream",
     "text": [
      "---------------------------------------------------------------------------------------------------------------------------------------\n",
      "Jaccard Index: \t meanClass[0] = 0.6892083600201766 \t meanClass[1] = 0.6145416365068221 \t mean = 0.6518749982634994\n",
      "Dice Score: \t meanClass[0] = 0.799184959697846 \t meanClass[1] = 0.7334921225578618 \t mean = 0.7663385411278538\n",
      "---------------------------------------------------------------------------------------------------------------------------------------\n",
      "[INFO]Saving metric data and model.\n",
      "[INFO]Saving done.\n",
      "[INFO]Evaluation process complete!\n"
     ]
    }
   ],
   "source": [
    "print(\"[INFO]Starting Training...\")\n",
    "\n",
    "kf = KFold(n_splits=k_folds, shuffle=False)\n",
    "\n",
    "# Important values and metrics for backup\n",
    "train_losses_json = {}\n",
    "val_losses_json = {}\n",
    "jaccard_index_per_fold_json = {}\n",
    "jaccard_index_means_json = {}\n",
    "dice_score_per_fold_json = {}\n",
    "dice_score_means_json = {}\n",
    "\n",
    "for k, (kfsplit_train, kfsplit_test) in enumerate(kf.split(input_train)): \n",
    "    print(\"===========================\")\n",
    "    print(f\"         Fold: {k + 1}\")     \n",
    "    print(\"===========================\")\n",
    "   \n",
    "    unet = UNet(n_channels=n_channels, n_classes=n_classes)\n",
    "    unet = unet.to(device)\n",
    "    grad_scaler = torch.cuda.amp.GradScaler(enabled=True)\n",
    "    criterion = nn.CrossEntropyLoss(weight=torch.FloatTensor(class_weights).to(device))\n",
    "    optimizer = torch.optim.Adam(unet.parameters(),\n",
    "                                lr=learn_rate,\n",
    "                                weight_decay=weight_decay)\n",
    "    print(\"[INFO]Model,optimizer and loss function instantiated!\")\n",
    "    \n",
    "    kf_X_train, kf_X_test = input_train[kfsplit_train], input_train[kfsplit_test]\n",
    "    kf_y_train, kf_y_test = label_train[kfsplit_train], label_train[kfsplit_test]\n",
    "\n",
    "    kf_X_train = np.stack(kf_X_train, axis=2)\n",
    "    kf_X_train = torch.tensor(kf_X_train).transpose(0, 2).transpose(1, 3)\n",
    "\n",
    "    kf_X_test = np.stack(kf_X_test, axis=2)\n",
    "    kf_X_test = torch.tensor(kf_X_test).transpose(0, 2).transpose(1, 3)\n",
    "\n",
    "    kf_y_train = torch.tensor(kf_y_train)\n",
    "    kf_y_test = torch.tensor(kf_y_test)\n",
    "\n",
    "    jaccard_index_per_fold_json[f\"fold{k+1}\"] = []\n",
    "    dice_score_per_fold_json[f\"fold{k+1}\"] = []\n",
    "    jaccard_index_means_json[f\"fold{k+1}\"] = []\n",
    "    dice_score_means_json[f\"fold{k+1}\"] = []\n",
    "\n",
    "    train_losses = []\n",
    "    val_losses = []\n",
    "    \n",
    "    batch_count_train = (len(kf_X_train) // batch_size)\n",
    "    batch_count_val = (len(input_val) // batch_size)\n",
    "      \n",
    "    if((len(kf_X_train) / batch_size) % 1 != 0):\n",
    "        batch_count_train += 1\n",
    "        \n",
    "    if((len(input_val) / batch_size) % 1 != 0):\n",
    "        batch_count_val += 1\n",
    "        \n",
    "    for e in range(1, epochs_per_fold + 1):\n",
    "        train_loss = 0\n",
    "        print (\"-\"*15,\"Epoch %d\" % e , \"-\"*15) \n",
    "\n",
    "        unet.train()\n",
    "             \n",
    "        for _ in tqdm(range(batch_count_train)):\n",
    "            X_train, y_train = kf_X_train[batch_size * _: batch_size * (_ + 1)], kf_y_train[batch_size * _: batch_size * (_ + 1)]          \n",
    "            X_train, y_train = X_train.to(device), y_train.to(device)\n",
    "                                     \n",
    "            optimizer.zero_grad()\n",
    "\n",
    "            with torch.autocast(device.type, enabled=True):\n",
    "                out = unet(X_train.float())        \n",
    "                loss = criterion(out, y_train.long())     \n",
    "\n",
    "            grad_scaler.scale(loss).backward()\n",
    "            grad_scaler.step(optimizer)\n",
    "            grad_scaler.update()\n",
    "                       \n",
    "            train_loss += loss.item()\n",
    "            \n",
    "        print()\n",
    "        train_losses.append(train_loss)\n",
    "\n",
    " \n",
    "        print ('Epoch {}/{}...'.format(e, epochs_per_fold),\n",
    "                'Loss {:6f}'.format(train_loss))\n",
    "            \n",
    "        with torch.no_grad():                \n",
    "            print()\n",
    "            print(\"Validation:\")\n",
    "\n",
    "            # Validates the model\n",
    "            unet.eval()              \n",
    "            val_loss = 0\n",
    "\n",
    "            for _ in tqdm(range(batch_count_val)):           \n",
    "                X_val, y_val = input_val[batch_size * _: batch_size * (_ + 1)], label_val[batch_size * _: batch_size * (_ + 1)]          \n",
    "                X_val, y_val = X_val.to(device), y_val.to(device)\n",
    "\n",
    "                out = unet(X_val.float())\n",
    "                loss = criterion(out, y_val.long())\n",
    "\n",
    "                val_loss += loss.item()\n",
    "\n",
    "            print('Loss {:6f}'.format(val_loss))\n",
    "\n",
    "            val_losses.append(val_loss)            \n",
    "                                                                       \n",
    "        print ('Epoch {}/{}...'.format(e, epochs_per_fold))\n",
    "\n",
    "        if e % eval_every == 0:  \n",
    "            print(f\"[INFO]Starting Evaluation for Fold {k+1} Epoche {e}.\")\n",
    "    \n",
    "            jaccard = JaccardIndex(num_classes=n_classes, average=\"none\")\n",
    "            dice = Dice(num_classes=n_classes, average=\"none\")\n",
    "    \n",
    "            jaccard_indices = []\n",
    "            dice_scores = []\n",
    "          \n",
    "            with torch.no_grad():\n",
    "                for test_sample_index in tqdm(range(0, len(kf_X_test))):            \n",
    "                    out_test = unet((kf_X_test[test_sample_index].unsqueeze(0).float()).to(device)).squeeze(0)\n",
    "                    pred = out_test.data.max(0)[1].cpu().numpy()\n",
    "                    pred = torch.tensor(pred.astype('uint8'))\n",
    "                                                \n",
    "                    jaccard_indices.append(jaccard(pred, kf_y_test[test_sample_index]).tolist())\n",
    "                    dice_scores.append(dice(pred, kf_y_test[test_sample_index]).tolist())\n",
    "        \n",
    "            jaccard_index_means_per_class = [np.mean([jindex[0] for jindex in jaccard_indices]), np.mean([jindex[1] for jindex in jaccard_indices])]\n",
    "            dice_score_means_per_class = [np.mean([dscore[0] for dscore in dice_scores]), np.mean([dscore[1] for dscore in dice_scores])]\n",
    "                            \n",
    "            jaccard_index_per_fold_json[f\"fold{k+1}\"].append(jaccard_indices)\n",
    "            dice_score_per_fold_json[f\"fold{k+1}\"].append(dice_scores)\n",
    "            \n",
    "            jaccard_index_means_json[f\"fold{k+1}\"].append(jaccard_index_means_per_class)\n",
    "            dice_score_means_json[f\"fold{k+1}\"].append(dice_score_means_per_class)   \n",
    "\n",
    "            print(\"---------------------------------------------------------------------------------------------------------------------------------------\")      \n",
    "            print(f\"Jaccard Index: \\t meanClass[0] = {str(jaccard_index_means_per_class[0])} \\t meanClass[1] = {str(jaccard_index_means_per_class[1])} \\t mean = {np.mean(jaccard_index_means_per_class)}\")                                  \n",
    "            print(f\"Dice Score: \\t meanClass[0] = {str(dice_score_means_per_class[0])} \\t meanClass[1] = {str(dice_score_means_per_class[1])} \\t mean = {np.mean(dice_score_means_per_class)}\")\n",
    "            print(\"---------------------------------------------------------------------------------------------------------------------------------------\")   \n",
    "                \n",
    "    train_losses_json[f\"fold{k+1}\"] = train_losses\n",
    "    val_losses_json[f\"fold{k+1}\"] = val_losses\n",
    "    \n",
    "    print(\"[INFO]Saving metric data and model.\")\n",
    "       \n",
    "    with open(path_save_model + \"logs/trainLosses.json\", \"w\", encoding=\"utf-8\") as f:\n",
    "        json.dump(train_losses_json, f, ensure_ascii=False, indent=4)\n",
    "        \n",
    "    with open(path_save_model + \"logs/valLosses.json\", \"w\", encoding=\"utf-8\") as f:\n",
    "        json.dump(val_losses_json, f, ensure_ascii=False, indent=4)    \n",
    "        \n",
    "    with open(path_save_model + \"logs/jaccardIndicesPerFold.json\", \"w\", encoding=\"utf-8\") as f:\n",
    "        json.dump(jaccard_index_per_fold_json, f, ensure_ascii=False, indent=4) \n",
    "        \n",
    "    with open(path_save_model + \"logs/diceScoresPerFold.json\", \"w\", encoding=\"utf-8\") as f:\n",
    "        json.dump(dice_score_per_fold_json, f, ensure_ascii=False, indent=4) \n",
    "            \n",
    "    with open(path_save_model + \"logs/jaccardIndexMeans.json\", \"w\", encoding=\"utf-8\") as f:\n",
    "        json.dump(jaccard_index_means_json, f, ensure_ascii=False, indent=4)\n",
    "    \n",
    "    with open(path_save_model + \"logs/diceScoreMeans.json\", \"w\", encoding=\"utf-8\") as f:\n",
    "        json.dump(dice_score_means_json, f, ensure_ascii=False, indent=4) \n",
    "        \n",
    "    checkpoint = {\n",
    "        'fold': k+1,\n",
    "        'state_dict' : unet.state_dict()\n",
    "    }\n",
    "    \n",
    "    torch.save(checkpoint, path_save_model + 'ckpt-unet-{}-{}.pth'.format(k+1, train_loss))\n",
    "\n",
    "    print(\"[INFO]Saving done.\")\n",
    "            \n",
    "print(\"[INFO]Evaluation process complete!\") "
   ]
  }
 ],
 "metadata": {
  "kernelspec": {
   "display_name": "base",
   "language": "python",
   "name": "python3"
  },
  "language_info": {
   "codemirror_mode": {
    "name": "ipython",
    "version": 3
   },
   "file_extension": ".py",
   "mimetype": "text/x-python",
   "name": "python",
   "nbconvert_exporter": "python",
   "pygments_lexer": "ipython3",
   "version": "3.9.13"
  },
  "orig_nbformat": 4,
  "vscode": {
   "interpreter": {
    "hash": "dc8688e06fb41c859b3a1b30abeb667a639c61f56cdaba7eb8e5bd6171de15c6"
   }
  }
 },
 "nbformat": 4,
 "nbformat_minor": 2
}
