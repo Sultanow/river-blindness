{
 "cells": [
  {
   "cell_type": "code",
   "execution_count": 2,
   "id": "be3dbd31-467a-4a59-a896-57a48ec40374",
   "metadata": {},
   "outputs": [
    {
     "name": "stdout",
     "output_type": "stream",
     "text": [
      "/home/sagemaker-user/MMDetection\n",
      "No CUDA runtime is found, using CUDA_HOME='/usr/local/cuda'\n"
     ]
    }
   ],
   "source": [
    "%cd /home/sagemaker-user/MMDetection\n",
    "import boto3           # For interacting with S3\n",
    "import pandas as pd\n",
    "import sys             # Python system library needed to load custom functions\n",
    "sys.path.append('..')  # Add the source directory to the PYTHONPATH. This allows to import local functions and modules.\n",
    "import sagemaker\n",
    "# Imports to run Sagemaker training jobs\n",
    "from sagemaker import get_execution_role\n",
    "from sagemaker.pytorch import PyTorch\n",
    "from sagemaker.session import Session, TrainingInput\n",
    "import tarfile\n",
    "from Dataset import OnchoDataset\n",
    "from detection_util import create_predictions\n",
    "from gdsc_score import get_leaderboard_score\n",
    "from gdsc_util import download_directory, download_file, load_sections_df, set_up_logging, PROJECT_DIR\n",
    "from PredictionEvaluator import PredictionEvaluator\n",
    "from config import DEFAULT_BUCKET, DEFAULT_REGION  # The name of the S3 bucket that contains the training data\n",
    "from detection_util import create_predictions\n",
    "from gdsc_util import download_and_extract_model, set_up_logging, extract_hyperparams,create_encrypted_bucket, PROJECT_DIR\n",
    "from training_4k import load_config as load_config_4k\n",
    "set_up_logging()  # Sets up logging to console and the .log file\n",
    "import matplotlib.pyplot as plt  # Used for plotting\n",
    "import mmcv  # Object detection framework\n",
    "import os  # Interaction with the file system\n",
    "import pandas as pd  # Home of the DataFrame construct, _the_ most important object for Data Science\n",
    "import sys  # Python system library needed to load custom functions\n",
    "\n",
    "from matplotlib.patches import Rectangle  # Allows drawing the bounding boxes of the worm sections\n",
    "from mmcv import Config  # Loading and accessing MMDetection configuration files\n",
    "from mmdet.apis import inference_detector, init_detector, train_detector, set_random_seed  # Part of the MMDetection framework\n",
    "from mmdet.datasets import build_dataset  # Part of the MMDetection framework\n",
    "from mmdet.models import build_detector  # Part of the MMDetection framework\n",
    "\n",
    "from PIL import Image  # For loading image files\n",
    "from tqdm import tqdm  # for timing a for loop"
   ]
  },
  {
   "cell_type": "code",
   "execution_count": 3,
   "id": "bc8c0cde-2bd3-4465-a5fa-2fd7f84820ef",
   "metadata": {},
   "outputs": [
    {
     "name": "stdout",
     "output_type": "stream",
     "text": [
      "Requirement already satisfied: imutils in /opt/conda/lib/python3.6/site-packages (0.5.4)\n",
      "\u001b[33mWARNING: Running pip as the 'root' user can result in broken permissions and conflicting behaviour with the system package manager. It is recommended to use a virtual environment instead: https://pip.pypa.io/warnings/venv\u001b[0m\n",
      "Requirement already satisfied: docutils in /opt/conda/lib/python3.6/site-packages (0.18.1)\n",
      "\u001b[33mWARNING: Running pip as the 'root' user can result in broken permissions and conflicting behaviour with the system package manager. It is recommended to use a virtual environment instead: https://pip.pypa.io/warnings/venv\u001b[0m\n",
      "Requirement already satisfied: sagemaker in /opt/conda/lib/python3.6/site-packages (2.103.0)\n",
      "Requirement already satisfied: pandas in /opt/conda/lib/python3.6/site-packages (from sagemaker) (1.1.5)\n",
      "Requirement already satisfied: packaging>=20.0 in /opt/conda/lib/python3.6/site-packages (from sagemaker) (21.3)\n",
      "Requirement already satisfied: importlib-metadata<5.0,>=1.4.0 in /opt/conda/lib/python3.6/site-packages (from sagemaker) (4.8.3)\n",
      "Requirement already satisfied: pathos in /opt/conda/lib/python3.6/site-packages (from sagemaker) (0.2.8)\n",
      "Requirement already satisfied: attrs<22,>=20.3.0 in /opt/conda/lib/python3.6/site-packages (from sagemaker) (21.2.0)\n",
      "Requirement already satisfied: protobuf<4.0,>=3.1 in /opt/conda/lib/python3.6/site-packages (from sagemaker) (3.19.1)\n",
      "Requirement already satisfied: protobuf3-to-dict<1.0,>=0.1.5 in /opt/conda/lib/python3.6/site-packages (from sagemaker) (0.1.5)\n",
      "Requirement already satisfied: google-pasta in /opt/conda/lib/python3.6/site-packages (from sagemaker) (0.2.0)\n",
      "Requirement already satisfied: numpy<2.0,>=1.9.0 in /opt/conda/lib/python3.6/site-packages (from sagemaker) (1.19.1)\n",
      "Requirement already satisfied: smdebug-rulesconfig==1.0.1 in /opt/conda/lib/python3.6/site-packages (from sagemaker) (1.0.1)\n",
      "Requirement already satisfied: boto3<2.0,>=1.20.21 in /opt/conda/lib/python3.6/site-packages (from sagemaker) (1.20.24)\n",
      "Requirement already satisfied: s3transfer<0.6.0,>=0.5.0 in /opt/conda/lib/python3.6/site-packages (from boto3<2.0,>=1.20.21->sagemaker) (0.5.0)\n",
      "Requirement already satisfied: jmespath<1.0.0,>=0.7.1 in /opt/conda/lib/python3.6/site-packages (from boto3<2.0,>=1.20.21->sagemaker) (0.10.0)\n",
      "Requirement already satisfied: botocore<1.24.0,>=1.23.24 in /opt/conda/lib/python3.6/site-packages (from boto3<2.0,>=1.20.21->sagemaker) (1.23.24)\n",
      "Requirement already satisfied: typing-extensions>=3.6.4 in /opt/conda/lib/python3.6/site-packages (from importlib-metadata<5.0,>=1.4.0->sagemaker) (3.10.0.2)\n",
      "Requirement already satisfied: zipp>=0.5 in /opt/conda/lib/python3.6/site-packages (from importlib-metadata<5.0,>=1.4.0->sagemaker) (3.6.0)\n",
      "Requirement already satisfied: pyparsing!=3.0.5,>=2.0.2 in /opt/conda/lib/python3.6/site-packages (from packaging>=20.0->sagemaker) (3.0.6)\n",
      "Requirement already satisfied: six in /opt/conda/lib/python3.6/site-packages (from protobuf3-to-dict<1.0,>=0.1.5->sagemaker) (1.16.0)\n",
      "Requirement already satisfied: python-dateutil>=2.7.3 in /opt/conda/lib/python3.6/site-packages (from pandas->sagemaker) (2.8.2)\n",
      "Requirement already satisfied: pytz>=2017.2 in /opt/conda/lib/python3.6/site-packages (from pandas->sagemaker) (2021.3)\n",
      "Requirement already satisfied: dill>=0.3.4 in /opt/conda/lib/python3.6/site-packages (from pathos->sagemaker) (0.3.4)\n",
      "Requirement already satisfied: multiprocess>=0.70.12 in /opt/conda/lib/python3.6/site-packages (from pathos->sagemaker) (0.70.12.2)\n",
      "Requirement already satisfied: pox>=0.3.0 in /opt/conda/lib/python3.6/site-packages (from pathos->sagemaker) (0.3.0)\n",
      "Requirement already satisfied: ppft>=1.6.6.4 in /opt/conda/lib/python3.6/site-packages (from pathos->sagemaker) (1.6.6.4)\n",
      "Requirement already satisfied: urllib3<1.27,>=1.25.4 in /opt/conda/lib/python3.6/site-packages (from botocore<1.24.0,>=1.23.24->boto3<2.0,>=1.20.21->sagemaker) (1.26.6)\n",
      "\u001b[33mWARNING: Running pip as the 'root' user can result in broken permissions and conflicting behaviour with the system package manager. It is recommended to use a virtual environment instead: https://pip.pypa.io/warnings/venv\u001b[0m\n"
     ]
    }
   ],
   "source": [
    "!pip install imutils\n",
    "!pip install docutils\n",
    "!pip install -U sagemaker"
   ]
  },
  {
   "cell_type": "code",
   "execution_count": 4,
   "id": "d555eee4-d484-4c4a-8bb9-d6a1dca2ffe5",
   "metadata": {},
   "outputs": [
    {
     "data": {
      "text/plain": [
       "'/home/sagemaker-user/MMDetection'"
      ]
     },
     "execution_count": 4,
     "metadata": {},
     "output_type": "execute_result"
    }
   ],
   "source": [
    "%pwd"
   ]
  },
  {
   "cell_type": "code",
   "execution_count": 5,
   "id": "ad03ac9f-90eb-424f-aeb5-dfa6f3af284d",
   "metadata": {},
   "outputs": [
    {
     "name": "stdout",
     "output_type": "stream",
     "text": [
      "data folder: /home/sagemaker-user/MMDetection/data\n",
      "max boxes per imgage: 400\n",
      "epochs: 5\n",
      "batch size: 1\n",
      "image size: (4096, 4096)\n",
      "CPU times: user 2 s, sys: 946 ms, total: 2.94 s\n",
      "Wall time: 20.2 s\n"
     ]
    }
   ],
   "source": [
    "%%time\n",
    "\n",
    "data_folder = str(PROJECT_DIR / 'MMDetection/data')\n",
    "cfg, base_file = load_config_4k(data_folder)\n",
    "\n",
    "print(f'data folder: {data_folder}')\n",
    "print(f'max boxes per imgage: {cfg.model.test_cfg.rcnn.max_per_img}')\n",
    "print(f'epochs: {cfg.runner.max_epochs}')\n",
    "print(f'batch size: {cfg.data.samples_per_gpu}')\n",
    "print(f\"image size: {cfg.train_pipeline[3]['img_scale']}\")"
   ]
  },
  {
   "cell_type": "code",
   "execution_count": 6,
   "id": "104a16c7-93d0-419c-b9a7-a5bb5744962c",
   "metadata": {},
   "outputs": [
    {
     "name": "stdout",
     "output_type": "stream",
     "text": [
      "/home/sagemaker-user/MMDetection/data\n"
     ]
    }
   ],
   "source": [
    "%cd /home/sagemaker-user/MMDetection/data"
   ]
  },
  {
   "cell_type": "code",
   "execution_count": 7,
   "id": "84f72e8b-9745-48bc-898f-b03d4f8652a3",
   "metadata": {},
   "outputs": [
    {
     "data": {
      "text/plain": [
       "'training-4k'"
      ]
     },
     "execution_count": 7,
     "metadata": {},
     "output_type": "execute_result"
    }
   ],
   "source": [
    "entry_point = 'training_4k.py'\n",
    "exp_name = entry_point.split('.')[0].replace('_', '-')  # AWS does not allow . and _ as experiment names\n",
    "exp_name"
   ]
  },
  {
   "cell_type": "code",
   "execution_count": 8,
   "id": "6d6357ae-795a-4344-a840-6925eb2f34d8",
   "metadata": {},
   "outputs": [
    {
     "name": "stdout",
     "output_type": "stream",
     "text": [
      "SageMaker Session: <sagemaker.session.Session object at 0x7f8629d5b828>\n",
      "Role: arn:aws:iam::494549386743:role/service-role/AmazonSageMaker-ExecutionRole-20220618T161542\n",
      "Bucket: sagemaker-studio-jna7gyyxsih\n",
      "s3://sagemaker-studio-jna7gyyxsih/mmdetection/mmd-input/training-input/input/models/\n",
      "s3://sagemaker-studio-jna7gyyxsih/mmdetection/mmd-input/dataset/\n",
      "s3://sagemaker-studio-jna7gyyxsih/mmdetection/mmd-output/\n"
     ]
    }
   ],
   "source": [
    "sagemaker_session = sagemaker.Session()\n",
    "sagemaker_role = sagemaker.get_execution_role()\n",
    "bucket = 'sagemaker-studio-jna7gyyxsih'\n",
    "print(f'SageMaker Session: {sagemaker_session}')\n",
    "print(f'Role: {sagemaker_role}')\n",
    "print(f'Bucket: {bucket}')\n",
    "\n",
    "s3_input = \"s3://sagemaker-studio-jna7gyyxsih/mmdetection/mmd-input/training-input\".format(bucket)\n",
    "s3_images = \"s3://sagemaker-studio-jna7gyyxsih/mmdetection/mmd-input/dataset\" # Images files are here, in a subfolder named 'train'\n",
    "s3_output = 's3://sagemaker-studio-jna7gyyxsih/mmdetection/mmd-output'.format(bucket)\n",
    "\n",
    "cfg='{}/input/models/'.format(s3_input)\n",
    "images='{}/'.format(s3_images)\n",
    "outpath='{}/'.format(s3_output)\n",
    "\n",
    "print(cfg)\n",
    "print(images)\n",
    "print(outpath)"
   ]
  },
  {
   "cell_type": "code",
   "execution_count": 9,
   "id": "6c690ec4-42cb-4976-b53f-a3f6fe80bdca",
   "metadata": {},
   "outputs": [],
   "source": [
    "def make_tarfile_without_parent(output_filename, source_dir, excluded_paths):\n",
    "    with tarfile.open(output_filename, \"w:gz\") as tar:\n",
    "        for fn in os.listdir(source_dir):\n",
    "            p = os.path.join(source_dir, fn)\n",
    "            if p not in excluded_paths:\n",
    "                tar.add(p, arcname=fn)"
   ]
  },
  {
   "cell_type": "code",
   "execution_count": 10,
   "id": "5f650688-d252-4153-938d-81e074c0d866",
   "metadata": {},
   "outputs": [
    {
     "name": "stdout",
     "output_type": "stream",
     "text": [
      "/home/sagemaker-user\n"
     ]
    }
   ],
   "source": [
    "%cd /home/sagemaker-user\n",
    "\n",
    "# the folders 'data' and 'output' are big and not supposed to be there\n",
    "\n",
    "excluded_paths=['/home/sagemaker-user/MMDetection/data',\n",
    "               '/home/sagemaker-user/MMDetection/output']\n",
    "\n",
    "make_tarfile_without_parent(\"input.tar.gz\", \"/home/sagemaker-user/MMDetection/\",excluded_paths)"
   ]
  },
  {
   "cell_type": "code",
   "execution_count": 11,
   "id": "31bbf69c-1883-45b7-b845-0a5f8e65d1db",
   "metadata": {},
   "outputs": [],
   "source": [
    "import boto3, os\n",
    "s3 = boto3.resource('s3')\n",
    "s3.meta.client.upload_file(\"input.tar.gz\",\"sagemaker-studio-jna7gyyxsih\", \"mmdetection/mmd-input/training-input/input/input.tar.gz\")"
   ]
  },
  {
   "cell_type": "code",
   "execution_count": 12,
   "id": "b9c71ba0-0eca-4aa6-b553-6a0e4985119c",
   "metadata": {},
   "outputs": [],
   "source": [
    "inputs = {\"images\": TrainingInput(images)}"
   ]
  },
  {
   "cell_type": "markdown",
   "id": "cd31e585-1cc3-40fd-9200-b24204e6f4c8",
   "metadata": {},
   "source": [
    "## Change Epochs by: runner.max_epochs in the next cell"
   ]
  },
  {
   "cell_type": "code",
   "execution_count": 13,
   "id": "a248ef6f-bdce-4cca-9f35-cd3f690ed5ad",
   "metadata": {},
   "outputs": [],
   "source": [
    "entry_point = 'training_4k.py'\n",
    "exp_name = entry_point.split('.')[0].replace('_', '-')  # AWS does not allow . and _ as experiment names\n",
    "\n",
    "# account_id = boto3.client('sts').get_caller_identity().get('Account')\n",
    "role = get_execution_role()\n",
    "\n",
    "# sm_client = boto3.client(\"sagemaker\", region_name=DEFAULT_REGION)\n",
    "# sess = Session(sagemaker_client=sm_client)\n",
    "# s3_output_location = f\"s3://{sess.default_bucket()}/{exp_name}\"\n",
    "# input_channels = {\"train\": f\"s3://{DEFAULT_BUCKET}\"}\n",
    "\n",
    "#hyperparameters = extract_hyperparams(entry_point) # custom function to parse the training script and extract config\n",
    "hyperparameters = {\n",
    "    'dataset_type': \"OnchoDataset\",\n",
    "    'data_root': 'dataset/',\n",
    "    'data.train.type': \"OnchoDataset\",\n",
    "    'data.train.data_root': 'dataset/',\n",
    "    'data.train.img_prefix': \"train/\",\n",
    "    'data.train.ann_file': \"gdsc_train.csv\",\n",
    "    'data.test.type': \"OnchoDataset\",\n",
    "    'data.test.data_root': 'dataset/',\n",
    "    'data.test.img_prefix': \"train/\",\n",
    "    'data.test.ann_file': \"gdsc_train.csv\",\n",
    "    'data.val.type': \"OnchoDataset\",\n",
    "    'data.val.data_root': 'dataset/',\n",
    "    'data.val.img_prefix': \"train/\",\n",
    "    'data.val.ann_file': \"gdsc_train.csv\",\n",
    "    'load_from': 'mask_rcnn_r50_caffe_fpn_mstrain-poly_3x_coco_bbox_mAP-0.408__segm_mAP-0.37_20200504_163245-42aa3d00.pth',\n",
    "    'work_dir': '/opt/ml/model/',\n",
    "    'seed': '0',\n",
    "    'data.samples_per_gpu': '1',\n",
    "    'data.workers_per_gpu': '1',\n",
    "    'model.roi_head.bbox_head.num_classes': '1',\n",
    "    'lr_config.warmup': 'None',\n",
    "    'log_config.interval': '50',\n",
    "    'evaluation.metric': \"'mAP'\",\n",
    "    'evaluation.interval': '1',\n",
    "    'checkpoint_config.interval': '1',\n",
    "    'runner.max_epochs': '1',\n",
    "    'device': 'cuda',\n",
    "    'model.test_cfg.rcnn.max_per_img': '400'\n",
    "}\n",
    "hyperparameters['base_file'] = base_file\n",
    "\n",
    "metrics = [\n",
    "    {\"Name\": \"train:loss_rpn_cls\", \"Regex\": \"loss_rpn_cls: ([0-9\\.]+)\"},\n",
    "    {\"Name\": \"train:loss_rpn_bbox\", \"Regex\": \"loss_rpn_bbox: ([0-9\\.]+)\"},\n",
    "    {\"Name\": \"train:loss_cls\", \"Regex\": \"loss_cls: ([0-9\\.]+)\"},\n",
    "    {\"Name\": \"train:loss_bbox\", \"Regex\": \"loss_bbox: ([0-9\\.]+)\"},\n",
    "    {\"Name\": \"train:loss\", \"Regex\": \"loss: ([0-9\\.]+)\"},\n",
    "    {\"Name\": \"train:accuracy\", \"Regex\": \"acc: ([0-9\\.]+)\"},\n",
    "    {\"Name\": \"train:epoch\", \"Regex\": \"Epoch (\\[[0-9\\.]+\\])\"},\n",
    "    {\"Name\": \"val:epoch\", \"Regex\": \"Epoch\\(val\\) (\\[[0-9]+\\])\"},\n",
    "    {\"Name\": \"val:mAP\", \"Regex\": \"mAP: ([0-9\\.]+)\"},\n",
    "]\n",
    "\n",
    "estimator = PyTorch(\n",
    "    entry_point=entry_point,             # This function will be called by the training job\n",
    "    source_dir='s3://sagemaker-studio-jna7gyyxsih/mmdetection/mmd-input/training-input/input/input.tar.gz',\n",
    "    image_uri=f\"954362353459.dkr.ecr.{DEFAULT_REGION}.amazonaws.com/sm-training-custom:torch-1.8.1-cu111-noGPL\",\n",
    "    input_mode='File',\n",
    "    role=role,\n",
    "    output_path=outpath,\n",
    "    container_log_level=20,             # 10=debug, 20=info\n",
    "    base_job_name=exp_name,\n",
    "    instance_count=1,\n",
    "    instance_type=\"ml.g4dn.xlarge\",     # a GPU instance\n",
    "    volume_size=45,\n",
    "    metric_definitions=metrics,\n",
    "    hyperparameters=hyperparameters,\n",
    ")"
   ]
  },
  {
   "cell_type": "code",
   "execution_count": 14,
   "id": "98c925a1-7077-42ec-bca6-50913a489193",
   "metadata": {},
   "outputs": [
    {
     "name": "stdout",
     "output_type": "stream",
     "text": [
      "2022-08-14 15:00:57,528 - sagemaker.image_uris - INFO - Defaulting to the only supported framework/algorithm version: latest.\n",
      "2022-08-14 15:00:57,570 - sagemaker.image_uris - INFO - Ignoring unnecessary instance type: None.\n",
      "2022-08-14 15:00:57,579 - sagemaker - INFO - Creating training-job with name: training-4k-2022-08-14-15-00-57-527\n",
      "s3://sagemaker-studio-jna7gyyxsih/mmdetection/mmd-output/training-4k-2022-08-14-15-00-57-527/output/model.tar.gz\n"
     ]
    }
   ],
   "source": [
    "estimator.fit(\n",
    "    inputs,\n",
    "    wait=False,           # Whether or not the notebook should wait for the job to finish. By setting it to False we can continue working while the job runs on another machine.\n",
    ")\n",
    "\n",
    "job_name=f'{estimator._hyperparameters[\"sagemaker_job_name\"]}'\n",
    "model_location = f'{outpath}{job_name}/output/model.tar.gz'\n",
    "print(model_location)\n",
    "\n",
    "path='/home/sagemaker-user/MMDetection/output/'+job_name\n",
    "os.mkdir(path)\n",
    "\n",
    "with open(f'{PROJECT_DIR}/MMDetection/output/{job_name}/model_location.txt', 'w+') as f:\n",
    "    f.write(model_location)"
   ]
  },
  {
   "cell_type": "markdown",
   "id": "262d8443-8566-448c-8b5d-bc2516ca2f18",
   "metadata": {},
   "source": [
    "# If the notebook stopped, and training is done, just modify the Job_name in the next cell and switch to GPU for detection"
   ]
  },
  {
   "cell_type": "code",
   "execution_count": 18,
   "id": "cc32d5d9-2551-4b16-b7b3-8ab1711f0437",
   "metadata": {},
   "outputs": [
    {
     "name": "stdout",
     "output_type": "stream",
     "text": [
      "2022-08-12 18:42:10,464 - gdsc_util - INFO - File mmdetection/mmd-output/training-4k-2022-08-10-15-08-48-262/output/model.tar.gz already exists. Skipping download\n"
     ]
    },
    {
     "data": {
      "text/plain": [
       "'/home/sagemaker-user/MMDetection/output/training-4k-2022-08-10-15-08-48-262/mmd-output'"
      ]
     },
     "execution_count": 18,
     "metadata": {},
     "output_type": "execute_result"
    }
   ],
   "source": [
    "job_name='training-4k-2022-08-14-15-00-57-527'  # fix it manually \n",
    "\n",
    "model_location=f's3://sagemaker-studio-jna7gyyxsih/mmdetection/mmd-output/{job_name}/output/model.tar.gz'\n",
    "local_directory=f\"MMDetection/output/{job_name}\"\n",
    "local_model_dir = download_and_extract_model(model_uri=model_location, local_dir=local_directory)\n",
    "local_model_dir"
   ]
  },
  {
   "cell_type": "code",
   "execution_count": 5,
   "id": "a7cf7bdd-a933-4e31-ad17-b398ec64dd1b",
   "metadata": {},
   "outputs": [],
   "source": [
    "# def getAllFiles(path,extension='jpg'):\n",
    "#     import glob, os\n",
    "#     os.chdir(path)\n",
    "#     return [file for file in glob.glob('*.'+extension)]"
   ]
  },
  {
   "cell_type": "code",
   "execution_count": 19,
   "id": "e0de9324-fd28-4749-9722-558bacb0358a",
   "metadata": {},
   "outputs": [
    {
     "data": {
      "text/plain": [
       "'/home/sagemaker-user'"
      ]
     },
     "execution_count": 19,
     "metadata": {},
     "output_type": "execute_result"
    }
   ],
   "source": [
    "%pwd"
   ]
  },
  {
   "cell_type": "code",
   "execution_count": 7,
   "id": "ec789941-54ff-4dc3-aada-f59f8ea093d7",
   "metadata": {},
   "outputs": [],
   "source": [
    "# root_path='/home/sagemaker-user/'\n",
    "# job_name='training-4k-2022-08-07-17-17-20-543'\n",
    "# source_train_folder=root_path+'river-blindness/content/new/dataset/train/'\n",
    "# source_valid_folder=root_path+'river-blindness/content/new/dataset/valid/'\n",
    "# source_test_folder=root_path+'river-blindness/yolov5/test/images/'\n",
    "\n",
    "# train_imgs=getAllFiles(source_train_folder,extension='jpg')\n",
    "# valid_imgs=getAllFiles(source_valid_folder,extension='jpg')\n",
    "# test_imgs=getAllFiles(source_test_folder,extension='jpg')\n",
    "\n",
    "# train_valid_images=train_imgs+valid_imgs # for fixing the labels"
   ]
  },
  {
   "cell_type": "code",
   "execution_count": 23,
   "id": "3c110328-af06-4a71-afa0-2a1815299e3f",
   "metadata": {},
   "outputs": [],
   "source": [
    "# to  create labels, we need to run the detection on the train (not test) images\n",
    "# train_path_csv='/home/sagemaker-user/MMDetection/data/train_files.csv'\n",
    "# pd.DataFrame(train_valid_images).to_csv(train_path_csv,sep=';', header=None,index=False)"
   ]
  },
  {
   "cell_type": "code",
   "execution_count": 20,
   "id": "d2ca6858-4890-43c1-a7b2-6ef3d97f85a5",
   "metadata": {},
   "outputs": [
    {
     "name": "stdout",
     "output_type": "stream",
     "text": [
      "Number of epochs: 20\n",
      "CPU times: user 1.29 s, sys: 748 ms, total: 2.04 s\n",
      "Wall time: 19.3 s\n"
     ]
    }
   ],
   "source": [
    "%%time\n",
    "\n",
    "# get the final/last epochs file\n",
    "data_folder = str(PROJECT_DIR / 'MMDetection/data')\n",
    "config, base_file = load_config_4k(data_folder)\n",
    "print(f'Number of epochs: {config.runner.max_epochs}')\n",
    "last_epoch=f\"epoch_{config.runner.max_epochs}.pth\"\n",
    "last_epoch='epoch_8.pth'"
   ]
  },
  {
   "cell_type": "markdown",
   "id": "aa8d0e7f-1fa8-4b0b-b36c-524e0b4b1f6a",
   "metadata": {},
   "source": [
    "# Check the output of previous cell whether we're using the last epoch"
   ]
  },
  {
   "cell_type": "code",
   "execution_count": 21,
   "id": "bb58c8d2-976c-4ae3-a328-005584bb7944",
   "metadata": {},
   "outputs": [
    {
     "name": "stdout",
     "output_type": "stream",
     "text": [
      "/root\n"
     ]
    }
   ],
   "source": [
    "%cd "
   ]
  },
  {
   "cell_type": "code",
   "execution_count": 22,
   "id": "f3a0680a-025c-4196-a0e0-80c7dfbf0a56",
   "metadata": {},
   "outputs": [],
   "source": [
    "job_name='training-4k-2022-08-10-15-08-48-262'\n",
    "local_model_dir=f\"/home/sagemaker-user/MMDetection/output/{job_name}/mmd-output\"\n",
    "checkpoint = f'{local_model_dir}/{last_epoch}' # Select one of the model checkpoints to load in\n",
    "file_names = pd.read_csv(f'{data_folder}/test_files.csv', sep=';', header=None)[0].values"
   ]
  },
  {
   "cell_type": "markdown",
   "id": "9cf1c593-7863-4a9a-a500-64e361a1a810",
   "metadata": {},
   "source": [
    "# To run labels uncomment and run the following cell"
   ]
  },
  {
   "cell_type": "code",
   "execution_count": null,
   "id": "3d8ced5c-0521-4f0c-95ae-4e32f7ea8693",
   "metadata": {
    "collapsed": true,
    "jupyter": {
     "outputs_hidden": true
    },
    "tags": []
   },
   "outputs": [
    {
     "name": "stdout",
     "output_type": "stream",
     "text": [
      "load checkpoint from local path: /home/sagemaker-user/MMDetection/output/training-4k-2022-08-07-17-17-20-543/mmd-output/epoch_8.pth\n",
      "2022-08-08 20:43:18,862 - detection_util - INFO - Creating predictions for 994 files\n"
     ]
    },
    {
     "name": "stderr",
     "output_type": "stream",
     "text": [
      "  0%|          | 0/994 [00:00<?, ?it/s]"
     ]
    },
    {
     "name": "stdout",
     "output_type": "stream",
     "text": [
      "2022-08-08 20:43:18,866 - detection_util - INFO - Processing file: 79_B.jpg\n"
     ]
    },
    {
     "name": "stderr",
     "output_type": "stream",
     "text": [
      "/mmdetection/mmdet/datasets/utils.py:70: UserWarning: \"ImageToTensor\" pipeline is replaced by \"DefaultFormatBundle\" for batch inference. It is recommended to manually replace it in the test data pipeline in your config file.\n",
      "  'data pipeline in your config file.', UserWarning)\n"
     ]
    },
    {
     "name": "stdout",
     "output_type": "stream",
     "text": [
      "[2022-08-08 20:43:20.957 gdsc5-smstudio-cust-ml-g4dn-xlarge-f78d9f621f45e8ce75aa4230fd29:61 INFO utils.py:27] RULE_JOB_STOP_SIGNAL_FILENAME: None\n",
      "[2022-08-08 20:43:21.016 gdsc5-smstudio-cust-ml-g4dn-xlarge-f78d9f621f45e8ce75aa4230fd29:61 INFO profiler_config_parser.py:102] Unable to find config at /opt/ml/input/config/profilerconfig.json. Profiler is disabled.\n"
     ]
    },
    {
     "name": "stderr",
     "output_type": "stream",
     "text": [
      "  0%|          | 1/994 [00:57<15:57:27, 57.85s/it]"
     ]
    },
    {
     "name": "stdout",
     "output_type": "stream",
     "text": [
      "2022-08-08 20:44:16,719 - detection_util - INFO - Processing file: 269_A.jpg\n"
     ]
    },
    {
     "name": "stderr",
     "output_type": "stream",
     "text": [
      "  0%|          | 2/994 [01:47<14:36:39, 53.02s/it]"
     ]
    },
    {
     "name": "stdout",
     "output_type": "stream",
     "text": [
      "2022-08-08 20:45:06,362 - detection_util - INFO - Processing file: 286_B.jpg\n"
     ]
    },
    {
     "name": "stderr",
     "output_type": "stream",
     "text": [
      "  0%|          | 3/994 [02:47<15:31:53, 56.42s/it]"
     ]
    },
    {
     "name": "stdout",
     "output_type": "stream",
     "text": [
      "2022-08-08 20:46:06,827 - detection_util - INFO - Processing file: 188_A.jpg\n"
     ]
    },
    {
     "name": "stderr",
     "output_type": "stream",
     "text": [
      "  0%|          | 4/994 [03:39<15:00:54, 54.60s/it]"
     ]
    },
    {
     "name": "stdout",
     "output_type": "stream",
     "text": [
      "2022-08-08 20:46:58,637 - detection_util - INFO - Processing file: 64_DD.jpg\n"
     ]
    },
    {
     "name": "stderr",
     "output_type": "stream",
     "text": [
      "  1%|          | 5/994 [04:29<14:30:06, 52.79s/it]"
     ]
    },
    {
     "name": "stdout",
     "output_type": "stream",
     "text": [
      "2022-08-08 20:47:48,207 - detection_util - INFO - Processing file: 77_D.jpg\n"
     ]
    },
    {
     "name": "stderr",
     "output_type": "stream",
     "text": [
      "  1%|          | 6/994 [05:29<15:12:33, 55.42s/it]"
     ]
    },
    {
     "name": "stdout",
     "output_type": "stream",
     "text": [
      "2022-08-08 20:48:48,733 - detection_util - INFO - Processing file: 271_DD.jpg\n"
     ]
    },
    {
     "name": "stderr",
     "output_type": "stream",
     "text": [
      "  1%|          | 7/994 [06:07<13:38:22, 49.75s/it]"
     ]
    },
    {
     "name": "stdout",
     "output_type": "stream",
     "text": [
      "2022-08-08 20:49:26,811 - detection_util - INFO - Processing file: 347_D.jpg\n"
     ]
    },
    {
     "name": "stderr",
     "output_type": "stream",
     "text": [
      "  1%|          | 8/994 [06:49<12:56:33, 47.25s/it]"
     ]
    },
    {
     "name": "stdout",
     "output_type": "stream",
     "text": [
      "2022-08-08 20:50:08,725 - detection_util - INFO - Processing file: 385_B.jpg\n"
     ]
    },
    {
     "name": "stderr",
     "output_type": "stream",
     "text": [
      "  1%|          | 9/994 [07:41<13:20:45, 48.78s/it]"
     ]
    },
    {
     "name": "stdout",
     "output_type": "stream",
     "text": [
      "2022-08-08 20:51:00,851 - detection_util - INFO - Processing file: 287_A.jpg\n"
     ]
    },
    {
     "name": "stderr",
     "output_type": "stream",
     "text": [
      "  1%|          | 10/994 [08:25<12:55:18, 47.27s/it]"
     ]
    },
    {
     "name": "stdout",
     "output_type": "stream",
     "text": [
      "2022-08-08 20:51:44,760 - detection_util - INFO - Processing file: 59_D.jpg\n"
     ]
    },
    {
     "name": "stderr",
     "output_type": "stream",
     "text": [
      "  1%|          | 11/994 [09:15<13:07:36, 48.07s/it]"
     ]
    },
    {
     "name": "stdout",
     "output_type": "stream",
     "text": [
      "2022-08-08 20:52:34,647 - detection_util - INFO - Processing file: 368_A.jpg\n"
     ]
    },
    {
     "name": "stderr",
     "output_type": "stream",
     "text": [
      "  1%|          | 12/994 [09:56<12:28:39, 45.74s/it]"
     ]
    },
    {
     "name": "stdout",
     "output_type": "stream",
     "text": [
      "2022-08-08 20:53:15,057 - detection_util - INFO - Processing file: 349_B.jpg\n"
     ]
    },
    {
     "name": "stderr",
     "output_type": "stream",
     "text": [
      "  1%|▏         | 13/994 [10:22<10:49:59, 39.75s/it]"
     ]
    },
    {
     "name": "stdout",
     "output_type": "stream",
     "text": [
      "2022-08-08 20:53:41,034 - detection_util - INFO - Processing file: 187_B.jpg\n"
     ]
    },
    {
     "name": "stderr",
     "output_type": "stream",
     "text": [
      "  1%|▏         | 14/994 [11:19<12:18:20, 45.20s/it]"
     ]
    },
    {
     "name": "stdout",
     "output_type": "stream",
     "text": [
      "2022-08-08 20:54:38,832 - detection_util - INFO - Processing file: 383_D.jpg\n"
     ]
    },
    {
     "name": "stderr",
     "output_type": "stream",
     "text": [
      "  2%|▏         | 15/994 [12:20<13:32:04, 49.77s/it]"
     ]
    },
    {
     "name": "stdout",
     "output_type": "stream",
     "text": [
      "2022-08-08 20:55:39,180 - detection_util - INFO - Processing file: 268_B.jpg\n"
     ]
    },
    {
     "name": "stderr",
     "output_type": "stream",
     "text": [
      "  2%|▏         | 16/994 [13:10<13:35:20, 50.02s/it]"
     ]
    },
    {
     "name": "stdout",
     "output_type": "stream",
     "text": [
      "2022-08-08 20:56:29,784 - detection_util - INFO - Processing file: 78_C.jpg\n"
     ]
    },
    {
     "name": "stderr",
     "output_type": "stream",
     "text": [
      "  2%|▏         | 17/994 [14:12<14:30:20, 53.45s/it]"
     ]
    },
    {
     "name": "stdout",
     "output_type": "stream",
     "text": [
      "2022-08-08 20:57:31,207 - detection_util - INFO - Processing file: 338_D.jpg\n"
     ]
    },
    {
     "name": "stderr",
     "output_type": "stream",
     "text": [
      "  2%|▏         | 18/994 [14:56<13:45:48, 50.77s/it]"
     ]
    },
    {
     "name": "stdout",
     "output_type": "stream",
     "text": [
      "2022-08-08 20:58:15,729 - detection_util - INFO - Processing file: 419_D.jpg\n"
     ]
    },
    {
     "name": "stderr",
     "output_type": "stream",
     "text": [
      "  2%|▏         | 19/994 [15:46<13:37:39, 50.32s/it]"
     ]
    },
    {
     "name": "stdout",
     "output_type": "stream",
     "text": [
      "2022-08-08 20:59:04,999 - detection_util - INFO - Processing file: 257_D.jpg\n"
     ]
    },
    {
     "name": "stderr",
     "output_type": "stream",
     "text": [
      "  2%|▏         | 20/994 [16:45<14:20:54, 53.03s/it]"
     ]
    },
    {
     "name": "stdout",
     "output_type": "stream",
     "text": [
      "2022-08-08 21:00:04,362 - detection_util - INFO - Processing file: 376_B.jpg\n"
     ]
    },
    {
     "name": "stderr",
     "output_type": "stream",
     "text": [
      "  2%|▏         | 21/994 [17:25<13:18:13, 49.22s/it]"
     ]
    },
    {
     "name": "stdout",
     "output_type": "stream",
     "text": [
      "2022-08-08 21:00:44,700 - detection_util - INFO - Processing file: 278_A.jpg\n"
     ]
    },
    {
     "name": "stderr",
     "output_type": "stream",
     "text": [
      "  2%|▏         | 22/994 [18:13<13:10:42, 48.81s/it]"
     ]
    },
    {
     "name": "stdout",
     "output_type": "stream",
     "text": [
      "2022-08-08 21:01:32,547 - detection_util - INFO - Processing file: 359_A.jpg\n"
     ]
    },
    {
     "name": "stderr",
     "output_type": "stream",
     "text": [
      "  2%|▏         | 23/994 [18:47<11:59:17, 44.45s/it]"
     ]
    },
    {
     "name": "stdout",
     "output_type": "stream",
     "text": [
      "2022-08-08 21:02:06,816 - detection_util - INFO - Processing file: 374_D.jpg\n"
     ]
    },
    {
     "name": "stderr",
     "output_type": "stream",
     "text": [
      "  2%|▏         | 24/994 [19:31<11:55:26, 44.25s/it]"
     ]
    },
    {
     "name": "stdout",
     "output_type": "stream",
     "text": [
      "2022-08-08 21:02:50,621 - detection_util - INFO - Processing file: 69_C.jpg\n"
     ]
    },
    {
     "name": "stderr",
     "output_type": "stream",
     "text": [
      "  3%|▎         | 25/994 [20:18<12:07:45, 45.06s/it]"
     ]
    },
    {
     "name": "stdout",
     "output_type": "stream",
     "text": [
      "2022-08-08 21:03:37,571 - detection_util - INFO - Processing file: 395_A.jpg\n"
     ]
    },
    {
     "name": "stderr",
     "output_type": "stream",
     "text": [
      "  3%|▎         | 26/994 [21:01<11:58:24, 44.53s/it]"
     ]
    },
    {
     "name": "stdout",
     "output_type": "stream",
     "text": [
      "2022-08-08 21:04:20,855 - detection_util - INFO - Processing file: 356_D.jpg\n"
     ]
    },
    {
     "name": "stderr",
     "output_type": "stream",
     "text": [
      "  3%|▎         | 27/994 [22:08<13:42:17, 51.02s/it]"
     ]
    },
    {
     "name": "stdout",
     "output_type": "stream",
     "text": [
      "2022-08-08 21:05:27,021 - detection_util - INFO - Processing file: 275_D.jpg\n"
     ]
    },
    {
     "name": "stderr",
     "output_type": "stream",
     "text": [
      "  3%|▎         | 28/994 [23:09<14:30:22, 54.06s/it]"
     ]
    },
    {
     "name": "stdout",
     "output_type": "stream",
     "text": [
      "2022-08-08 21:06:28,176 - detection_util - INFO - Processing file: 296_A.jpg\n"
     ]
    },
    {
     "name": "stderr",
     "output_type": "stream",
     "text": [
      "  3%|▎         | 29/994 [23:58<14:08:19, 52.75s/it]"
     ]
    },
    {
     "name": "stdout",
     "output_type": "stream",
     "text": [
      "2022-08-08 21:07:17,851 - detection_util - INFO - Processing file: 68_D.jpg\n"
     ]
    },
    {
     "name": "stderr",
     "output_type": "stream",
     "text": [
      "  3%|▎         | 30/994 [24:51<14:06:39, 52.70s/it]"
     ]
    },
    {
     "name": "stdout",
     "output_type": "stream",
     "text": [
      "2022-08-08 21:08:10,434 - detection_util - INFO - Processing file: 394_B.jpg\n"
     ]
    },
    {
     "name": "stderr",
     "output_type": "stream",
     "text": [
      "  3%|▎         | 31/994 [25:33<13:14:34, 49.51s/it]"
     ]
    },
    {
     "name": "stdout",
     "output_type": "stream",
     "text": [
      "2022-08-08 21:08:52,496 - detection_util - INFO - Processing file: 10_A.jpg\n"
     ]
    },
    {
     "name": "stderr",
     "output_type": "stream",
     "text": [
      "  3%|▎         | 32/994 [26:20<12:59:50, 48.64s/it]"
     ]
    },
    {
     "name": "stdout",
     "output_type": "stream",
     "text": [
      "2022-08-08 21:09:39,110 - detection_util - INFO - Processing file: 262_DD.jpg\n"
     ]
    },
    {
     "name": "stderr",
     "output_type": "stream",
     "text": [
      "  3%|▎         | 33/994 [27:13<13:21:13, 50.02s/it]"
     ]
    },
    {
     "name": "stdout",
     "output_type": "stream",
     "text": [
      "2022-08-08 21:10:32,367 - detection_util - INFO - Processing file: 377_A.jpg\n"
     ]
    },
    {
     "name": "stderr",
     "output_type": "stream",
     "text": [
      "  3%|▎         | 34/994 [28:11<13:59:03, 52.44s/it]"
     ]
    },
    {
     "name": "stdout",
     "output_type": "stream",
     "text": [
      "2022-08-08 21:11:30,447 - detection_util - INFO - Processing file: 392_D.jpg\n"
     ]
    },
    {
     "name": "stderr",
     "output_type": "stream",
     "text": [
      "  4%|▎         | 35/994 [29:10<14:28:37, 54.35s/it]"
     ]
    },
    {
     "name": "stdout",
     "output_type": "stream",
     "text": [
      "2022-08-08 21:12:29,237 - detection_util - INFO - Processing file: 358_B.jpg\n"
     ]
    },
    {
     "name": "stderr",
     "output_type": "stream",
     "text": [
      "  4%|▎         | 36/994 [29:53<13:34:09, 50.99s/it]"
     ]
    },
    {
     "name": "stdout",
     "output_type": "stream",
     "text": [
      "2022-08-08 21:13:12,402 - detection_util - INFO - Processing file: 179_A.jpg\n"
     ]
    },
    {
     "name": "stderr",
     "output_type": "stream",
     "text": [
      "  4%|▎         | 37/994 [30:39<13:10:21, 49.55s/it]"
     ]
    },
    {
     "name": "stdout",
     "output_type": "stream",
     "text": [
      "2022-08-08 21:13:58,596 - detection_util - INFO - Processing file: 277_B.jpg\n"
     ]
    },
    {
     "name": "stderr",
     "output_type": "stream",
     "text": [
      "  4%|▍         | 38/994 [31:05<11:16:35, 42.46s/it]"
     ]
    },
    {
     "name": "stdout",
     "output_type": "stream",
     "text": [
      "2022-08-08 21:14:24,521 - detection_util - INFO - Processing file: 87_C.jpg\n"
     ]
    },
    {
     "name": "stderr",
     "output_type": "stream",
     "text": [
      "  4%|▍         | 39/994 [31:54<11:47:47, 44.47s/it]"
     ]
    },
    {
     "name": "stdout",
     "output_type": "stream",
     "text": [
      "2022-08-08 21:15:13,668 - detection_util - INFO - Processing file: 411_D.jpg\n"
     ]
    },
    {
     "name": "stderr",
     "output_type": "stream",
     "text": [
      "  4%|▍         | 40/994 [32:27<10:52:52, 41.06s/it]"
     ]
    },
    {
     "name": "stdout",
     "output_type": "stream",
     "text": [
      "2022-08-08 21:15:46,778 - detection_util - INFO - Processing file: 80_B.jpg\n"
     ]
    },
    {
     "name": "stderr",
     "output_type": "stream",
     "text": [
      "  4%|▍         | 41/994 [33:21<11:50:30, 44.73s/it]"
     ]
    },
    {
     "name": "stdout",
     "output_type": "stream",
     "text": [
      "2022-08-08 21:16:40,077 - detection_util - INFO - Processing file: 330_D.jpg\n"
     ]
    },
    {
     "name": "stderr",
     "output_type": "stream",
     "text": [
      "  4%|▍         | 42/994 [33:54<10:57:24, 41.43s/it]"
     ]
    },
    {
     "name": "stdout",
     "output_type": "stream",
     "text": [
      "2022-08-08 21:17:13,814 - detection_util - INFO - Processing file: 63_A.jpg\n"
     ]
    },
    {
     "name": "stderr",
     "output_type": "stream",
     "text": [
      "  4%|▍         | 43/994 [34:30<10:29:55, 39.74s/it]"
     ]
    },
    {
     "name": "stdout",
     "output_type": "stream",
     "text": [
      "2022-08-08 21:17:49,611 - detection_util - INFO - Processing file: 25_C.jpg\n"
     ]
    },
    {
     "name": "stderr",
     "output_type": "stream",
     "text": [
      "  4%|▍         | 44/994 [35:05<10:03:38, 38.12s/it]"
     ]
    },
    {
     "name": "stdout",
     "output_type": "stream",
     "text": [
      "2022-08-08 21:18:23,961 - detection_util - INFO - Processing file: 351_A.jpg\n"
     ]
    },
    {
     "name": "stderr",
     "output_type": "stream",
     "text": [
      "  5%|▍         | 45/994 [35:46<10:19:47, 39.19s/it]"
     ]
    },
    {
     "name": "stdout",
     "output_type": "stream",
     "text": [
      "2022-08-08 21:19:05,624 - detection_util - INFO - Processing file: 270_A.jpg\n"
     ]
    },
    {
     "name": "stderr",
     "output_type": "stream",
     "text": [
      "  5%|▍         | 46/994 [36:39<11:24:04, 43.30s/it]"
     ]
    },
    {
     "name": "stdout",
     "output_type": "stream",
     "text": [
      "2022-08-08 21:19:58,508 - detection_util - INFO - Processing file: 413_B.jpg\n"
     ]
    },
    {
     "name": "stderr",
     "output_type": "stream",
     "text": [
      "  5%|▍         | 47/994 [37:33<12:14:41, 46.55s/it]"
     ]
    },
    {
     "name": "stdout",
     "output_type": "stream",
     "text": [
      "2022-08-08 21:20:52,647 - detection_util - INFO - Processing file: 315_A.jpg\n"
     ]
    },
    {
     "name": "stderr",
     "output_type": "stream",
     "text": [
      "  5%|▍         | 48/994 [38:05<11:05:16, 42.19s/it]"
     ]
    },
    {
     "name": "stdout",
     "output_type": "stream",
     "text": [
      "2022-08-08 21:21:24,683 - detection_util - INFO - Processing file: 153_A.jpg\n"
     ]
    },
    {
     "name": "stderr",
     "output_type": "stream",
     "text": [
      "  5%|▍         | 49/994 [39:07<12:38:27, 48.16s/it]"
     ]
    },
    {
     "name": "stdout",
     "output_type": "stream",
     "text": [
      "2022-08-08 21:22:26,749 - detection_util - INFO - Processing file: 34_B_b.jpg\n"
     ]
    },
    {
     "name": "stderr",
     "output_type": "stream",
     "text": [
      "  5%|▌         | 50/994 [39:55<12:34:15, 47.94s/it]"
     ]
    },
    {
     "name": "stdout",
     "output_type": "stream",
     "text": [
      "2022-08-08 21:23:14,184 - detection_util - INFO - Processing file: 234_A.jpg\n"
     ]
    },
    {
     "name": "stderr",
     "output_type": "stream",
     "text": [
      "  5%|▌         | 51/994 [40:50<13:08:15, 50.15s/it]"
     ]
    },
    {
     "name": "stdout",
     "output_type": "stream",
     "text": [
      "2022-08-08 21:24:09,506 - detection_util - INFO - Processing file: 332_B.jpg\n"
     ]
    },
    {
     "name": "stderr",
     "output_type": "stream",
     "text": [
      "  5%|▌         | 52/994 [41:46<13:34:51, 51.90s/it]"
     ]
    },
    {
     "name": "stdout",
     "output_type": "stream",
     "text": [
      "2022-08-08 21:25:05,483 - detection_util - INFO - Processing file: 61_C.jpg\n"
     ]
    },
    {
     "name": "stderr",
     "output_type": "stream",
     "text": [
      "  5%|▌         | 53/994 [42:37<13:27:04, 51.46s/it]"
     ]
    },
    {
     "name": "stdout",
     "output_type": "stream",
     "text": [
      "2022-08-08 21:25:55,917 - detection_util - INFO - Processing file: 27_A.jpg\n"
     ]
    },
    {
     "name": "stderr",
     "output_type": "stream",
     "text": [
      "  5%|▌         | 54/994 [43:31<13:38:24, 52.24s/it]"
     ]
    },
    {
     "name": "stdout",
     "output_type": "stream",
     "text": [
      "2022-08-08 21:26:49,969 - detection_util - INFO - Processing file: 44_B.jpg\n"
     ]
    },
    {
     "name": "stderr",
     "output_type": "stream",
     "text": [
      "  6%|▌         | 55/994 [44:08<12:26:07, 47.68s/it]"
     ]
    },
    {
     "name": "stdout",
     "output_type": "stream",
     "text": [
      "2022-08-08 21:27:26,998 - detection_util - INFO - Processing file: 135_A.jpg\n"
     ]
    },
    {
     "name": "stderr",
     "output_type": "stream",
     "text": [
      "  6%|▌         | 56/994 [44:31<10:33:39, 40.53s/it]"
     ]
    },
    {
     "name": "stdout",
     "output_type": "stream",
     "text": [
      "2022-08-08 21:27:50,864 - detection_util - INFO - Processing file: 314_B.jpg\n"
     ]
    },
    {
     "name": "stderr",
     "output_type": "stream",
     "text": [
      "  6%|▌         | 57/994 [45:10<10:25:37, 40.06s/it]"
     ]
    },
    {
     "name": "stdout",
     "output_type": "stream",
     "text": [
      "2022-08-08 21:28:29,827 - detection_util - INFO - Processing file: 81_A.jpg\n"
     ]
    },
    {
     "name": "stderr",
     "output_type": "stream",
     "text": [
      "  6%|▌         | 58/994 [46:09<11:51:42, 45.62s/it]"
     ]
    },
    {
     "name": "stdout",
     "output_type": "stream",
     "text": [
      "2022-08-08 21:29:28,425 - detection_util - INFO - Processing file: 43_C.jpg\n"
     ]
    },
    {
     "name": "stderr",
     "output_type": "stream",
     "text": [
      "  6%|▌         | 59/994 [47:08<12:53:29, 49.64s/it]"
     ]
    },
    {
     "name": "stdout",
     "output_type": "stream",
     "text": [
      "2022-08-08 21:30:27,427 - detection_util - INFO - Processing file: 60_D.jpg\n"
     ]
    },
    {
     "name": "stderr",
     "output_type": "stream",
     "text": [
      "  6%|▌         | 60/994 [48:10<13:48:23, 53.22s/it]"
     ]
    },
    {
     "name": "stdout",
     "output_type": "stream",
     "text": [
      "2022-08-08 21:31:28,996 - detection_util - INFO - Processing file: 333_A.jpg\n"
     ]
    },
    {
     "name": "stderr",
     "output_type": "stream",
     "text": [
      "  6%|▌         | 61/994 [49:08<14:09:13, 54.61s/it]"
     ]
    },
    {
     "name": "stdout",
     "output_type": "stream",
     "text": [
      "2022-08-08 21:32:26,868 - detection_util - INFO - Processing file: 297_DD.jpg\n"
     ]
    },
    {
     "name": "stderr",
     "output_type": "stream",
     "text": [
      "  6%|▌         | 62/994 [50:07<14:32:49, 56.19s/it]"
     ]
    },
    {
     "name": "stdout",
     "output_type": "stream",
     "text": [
      "2022-08-08 21:33:26,738 - detection_util - INFO - Processing file: 171_A.jpg\n"
     ]
    },
    {
     "name": "stderr",
     "output_type": "stream",
     "text": [
      "  6%|▋         | 63/994 [50:50<13:29:12, 52.15s/it]"
     ]
    },
    {
     "name": "stdout",
     "output_type": "stream",
     "text": [
      "2022-08-08 21:34:09,465 - detection_util - INFO - Processing file: 414_A.jpg\n"
     ]
    },
    {
     "name": "stderr",
     "output_type": "stream",
     "text": [
      "  6%|▋         | 64/994 [51:21<11:49:54, 45.80s/it]"
     ]
    },
    {
     "name": "stdout",
     "output_type": "stream",
     "text": [
      "2022-08-08 21:34:40,447 - detection_util - INFO - Processing file: 350_B.jpg\n"
     ]
    },
    {
     "name": "stderr",
     "output_type": "stream",
     "text": [
      "  7%|▋         | 65/994 [52:03<11:30:11, 44.58s/it]"
     ]
    },
    {
     "name": "stdout",
     "output_type": "stream",
     "text": [
      "2022-08-08 21:35:22,168 - detection_util - INFO - Processing file: 252_A.jpg\n"
     ]
    },
    {
     "name": "stderr",
     "output_type": "stream",
     "text": [
      "  7%|▋         | 66/994 [53:03<12:39:55, 49.13s/it]"
     ]
    },
    {
     "name": "stdout",
     "output_type": "stream",
     "text": [
      "2022-08-08 21:36:21,934 - detection_util - INFO - Processing file: 24_D.jpg\n"
     ]
    },
    {
     "name": "stderr",
     "output_type": "stream",
     "text": [
      "  7%|▋         | 67/994 [53:41<11:49:21, 45.91s/it]"
     ]
    },
    {
     "name": "stdout",
     "output_type": "stream",
     "text": [
      "2022-08-08 21:37:00,332 - detection_util - INFO - Processing file: 116_B.jpg\n"
     ]
    },
    {
     "name": "stderr",
     "output_type": "stream",
     "text": [
      "  7%|▋         | 68/994 [54:23<11:29:06, 44.65s/it]"
     ]
    },
    {
     "name": "stdout",
     "output_type": "stream",
     "text": [
      "2022-08-08 21:37:42,036 - detection_util - INFO - Processing file: 312_D.jpg\n"
     ]
    },
    {
     "name": "stderr",
     "output_type": "stream",
     "text": [
      "  7%|▋         | 69/994 [55:03<11:07:57, 43.33s/it]"
     ]
    },
    {
     "name": "stdout",
     "output_type": "stream",
     "text": [
      "2022-08-08 21:38:22,274 - detection_util - INFO - Processing file: 150_D.jpg\n"
     ]
    },
    {
     "name": "stderr",
     "output_type": "stream",
     "text": [
      "  7%|▋         | 70/994 [55:51<11:30:49, 44.86s/it]"
     ]
    },
    {
     "name": "stdout",
     "output_type": "stream",
     "text": [
      "2022-08-08 21:39:10,708 - detection_util - INFO - Processing file: 45_A.jpg\n"
     ]
    },
    {
     "name": "stderr",
     "output_type": "stream",
     "text": [
      "  7%|▋         | 71/994 [56:35<11:24:59, 44.53s/it]"
     ]
    },
    {
     "name": "stdout",
     "output_type": "stream",
     "text": [
      "2022-08-08 21:39:54,463 - detection_util - INFO - Processing file: 62_B.jpg\n"
     ]
    },
    {
     "name": "stderr",
     "output_type": "stream",
     "text": [
      "  7%|▋         | 72/994 [57:36<12:39:34, 49.43s/it]"
     ]
    },
    {
     "name": "stdout",
     "output_type": "stream",
     "text": [
      "2022-08-08 21:40:55,333 - detection_util - INFO - Processing file: 420_D.jpg\n"
     ]
    },
    {
     "name": "stderr",
     "output_type": "stream",
     "text": [
      "  7%|▋         | 73/994 [58:19<12:11:13, 47.64s/it]"
     ]
    },
    {
     "name": "stdout",
     "output_type": "stream",
     "text": [
      "2022-08-08 21:41:38,785 - detection_util - INFO - Processing file: 6_D.jpg\n"
     ]
    },
    {
     "name": "stderr",
     "output_type": "stream",
     "text": [
      "  7%|▋         | 74/994 [59:04<11:57:53, 46.82s/it]"
     ]
    },
    {
     "name": "stdout",
     "output_type": "stream",
     "text": [
      "2022-08-08 21:42:23,697 - detection_util - INFO - Processing file: 207_A.jpg\n"
     ]
    },
    {
     "name": "stderr",
     "output_type": "stream",
     "text": [
      "  8%|▊         | 75/994 [1:00:03<12:51:26, 50.37s/it]"
     ]
    },
    {
     "name": "stdout",
     "output_type": "stream",
     "text": [
      "2022-08-08 21:43:22,337 - detection_util - INFO - Processing file: 72_A.jpg\n"
     ]
    },
    {
     "name": "stderr",
     "output_type": "stream",
     "text": [
      "  8%|▊         | 76/994 [1:00:35<11:26:47, 44.89s/it]"
     ]
    },
    {
     "name": "stdout",
     "output_type": "stream",
     "text": [
      "2022-08-08 21:43:54,447 - detection_util - INFO - Processing file: 305_B.jpg\n"
     ]
    },
    {
     "name": "stderr",
     "output_type": "stream",
     "text": [
      "  8%|▊         | 77/994 [1:01:04<10:12:27, 40.07s/it]"
     ]
    },
    {
     "name": "stdout",
     "output_type": "stream",
     "text": [
      "2022-08-08 21:44:23,285 - detection_util - INFO - Processing file: 360_A.jpg\n"
     ]
    },
    {
     "name": "stderr",
     "output_type": "stream",
     "text": [
      "  8%|▊         | 78/994 [1:01:38<9:44:44, 38.30s/it] "
     ]
    },
    {
     "name": "stdout",
     "output_type": "stream",
     "text": [
      "2022-08-08 21:44:57,451 - detection_util - INFO - Processing file: 34_C.jpg\n"
     ]
    },
    {
     "name": "stderr",
     "output_type": "stream",
     "text": [
      "  8%|▊         | 79/994 [1:02:25<10:22:32, 40.82s/it]"
     ]
    },
    {
     "name": "stdout",
     "output_type": "stream",
     "text": [
      "2022-08-08 21:45:44,157 - detection_util - INFO - Processing file: 51_D.jpg\n"
     ]
    },
    {
     "name": "stderr",
     "output_type": "stream",
     "text": [
      "  8%|▊         | 80/994 [1:03:18<11:17:10, 44.45s/it]"
     ]
    },
    {
     "name": "stdout",
     "output_type": "stream",
     "text": [
      "2022-08-08 21:46:37,084 - detection_util - INFO - Processing file: 8_B.jpg\n"
     ]
    },
    {
     "name": "stderr",
     "output_type": "stream",
     "text": [
      "  8%|▊         | 81/994 [1:04:18<12:27:57, 49.15s/it]"
     ]
    },
    {
     "name": "stdout",
     "output_type": "stream",
     "text": [
      "2022-08-08 21:47:37,204 - detection_util - INFO - Processing file: 162_A.jpg\n"
     ]
    },
    {
     "name": "stderr",
     "output_type": "stream",
     "text": [
      "  8%|▊         | 82/994 [1:05:07<12:26:07, 49.09s/it]"
     ]
    },
    {
     "name": "stdout",
     "output_type": "stream",
     "text": [
      "2022-08-08 21:48:26,135 - detection_util - INFO - Processing file: 260_B.jpg\n"
     ]
    },
    {
     "name": "stderr",
     "output_type": "stream",
     "text": [
      "  8%|▊         | 83/994 [1:05:49<11:53:51, 47.02s/it]"
     ]
    },
    {
     "name": "stdout",
     "output_type": "stream",
     "text": [
      "2022-08-08 21:49:08,317 - detection_util - INFO - Processing file: 324_A.jpg\n"
     ]
    },
    {
     "name": "stderr",
     "output_type": "stream",
     "text": [
      "  8%|▊         | 84/994 [1:06:33<11:39:04, 46.09s/it]"
     ]
    },
    {
     "name": "stdout",
     "output_type": "stream",
     "text": [
      "2022-08-08 21:49:52,257 - detection_util - INFO - Processing file: 15_D.jpg\n"
     ]
    },
    {
     "name": "stderr",
     "output_type": "stream",
     "text": [
      "  9%|▊         | 85/994 [1:07:11<11:02:33, 43.73s/it]"
     ]
    },
    {
     "name": "stdout",
     "output_type": "stream",
     "text": [
      "2022-08-08 21:50:30,486 - detection_util - INFO - Processing file: 243_A.jpg\n"
     ]
    },
    {
     "name": "stderr",
     "output_type": "stream",
     "text": [
      "  9%|▊         | 86/994 [1:07:52<10:47:42, 42.80s/it]"
     ]
    },
    {
     "name": "stdout",
     "output_type": "stream",
     "text": [
      "2022-08-08 21:51:11,106 - detection_util - INFO - Processing file: 341_B.jpg\n"
     ]
    },
    {
     "name": "stderr",
     "output_type": "stream",
     "text": [
      "  9%|▉         | 87/994 [1:08:39<11:06:40, 44.10s/it]"
     ]
    },
    {
     "name": "stdout",
     "output_type": "stream",
     "text": [
      "2022-08-08 21:51:58,247 - detection_util - INFO - Processing file: 405_A.jpg\n"
     ]
    },
    {
     "name": "stderr",
     "output_type": "stream",
     "text": [
      "  9%|▉         | 88/994 [1:09:24<11:11:34, 44.47s/it]"
     ]
    },
    {
     "name": "stdout",
     "output_type": "stream",
     "text": [
      "2022-08-08 21:52:43,592 - detection_util - INFO - Processing file: 36_A.jpg\n"
     ]
    },
    {
     "name": "stderr",
     "output_type": "stream",
     "text": [
      "  9%|▉         | 89/994 [1:10:25<12:22:55, 49.26s/it]"
     ]
    },
    {
     "name": "stdout",
     "output_type": "stream",
     "text": [
      "2022-08-08 21:53:44,001 - detection_util - INFO - Processing file: 70_C.jpg\n"
     ]
    },
    {
     "name": "stderr",
     "output_type": "stream",
     "text": [
      "  9%|▉         | 90/994 [1:11:23<13:03:43, 52.02s/it]"
     ]
    },
    {
     "name": "stdout",
     "output_type": "stream",
     "text": [
      "2022-08-08 21:54:42,464 - detection_util - INFO - Processing file: 53_B.jpg\n"
     ]
    },
    {
     "name": "stderr",
     "output_type": "stream",
     "text": [
      "  9%|▉         | 91/994 [1:12:21<13:30:01, 53.82s/it]"
     ]
    },
    {
     "name": "stdout",
     "output_type": "stream",
     "text": [
      "2022-08-08 21:55:40,498 - detection_util - INFO - Processing file: 144_A.jpg\n"
     ]
    },
    {
     "name": "stderr",
     "output_type": "stream",
     "text": [
      "  9%|▉         | 92/994 [1:13:20<13:53:24, 55.44s/it]"
     ]
    },
    {
     "name": "stdout",
     "output_type": "stream",
     "text": [
      "2022-08-08 21:56:39,702 - detection_util - INFO - Processing file: 404_B.jpg\n"
     ]
    },
    {
     "name": "stderr",
     "output_type": "stream",
     "text": [
      "  9%|▉         | 93/994 [1:14:13<13:41:06, 54.68s/it]"
     ]
    },
    {
     "name": "stdout",
     "output_type": "stream",
     "text": [
      "2022-08-08 21:57:32,617 - detection_util - INFO - Processing file: 306_A.jpg\n"
     ]
    },
    {
     "name": "stderr",
     "output_type": "stream",
     "text": [
      "  9%|▉         | 94/994 [1:15:14<14:08:29, 56.57s/it]"
     ]
    },
    {
     "name": "stdout",
     "output_type": "stream",
     "text": [
      "2022-08-08 21:58:33,583 - detection_util - INFO - Processing file: 323_B.jpg\n"
     ]
    },
    {
     "name": "stderr",
     "output_type": "stream",
     "text": [
      " 10%|▉         | 95/994 [1:15:58<13:10:00, 52.73s/it]"
     ]
    },
    {
     "name": "stdout",
     "output_type": "stream",
     "text": [
      "2022-08-08 21:59:17,347 - detection_util - INFO - Processing file: 225_A.jpg\n"
     ]
    },
    {
     "name": "stderr",
     "output_type": "stream",
     "text": [
      " 10%|▉         | 96/994 [1:16:26<11:16:41, 45.21s/it]"
     ]
    },
    {
     "name": "stdout",
     "output_type": "stream",
     "text": [
      "2022-08-08 21:59:45,033 - detection_util - INFO - Processing file: 123_D.jpg\n"
     ]
    },
    {
     "name": "stderr",
     "output_type": "stream",
     "text": [
      " 10%|▉         | 97/994 [1:17:16<11:40:57, 46.89s/it]"
     ]
    },
    {
     "name": "stdout",
     "output_type": "stream",
     "text": [
      "2022-08-08 22:00:35,824 - detection_util - INFO - Processing file: 18_A.jpg\n"
     ]
    },
    {
     "name": "stderr",
     "output_type": "stream",
     "text": [
      " 10%|▉         | 98/994 [1:17:55<11:05:01, 44.53s/it]"
     ]
    },
    {
     "name": "stdout",
     "output_type": "stream",
     "text": [
      "2022-08-08 22:01:14,864 - detection_util - INFO - Processing file: 52_C.jpg\n"
     ]
    },
    {
     "name": "stderr",
     "output_type": "stream",
     "text": [
      " 10%|▉         | 99/994 [1:18:37<10:52:18, 43.73s/it]"
     ]
    },
    {
     "name": "stdout",
     "output_type": "stream",
     "text": [
      "2022-08-08 22:01:56,721 - detection_util - INFO - Processing file: 16_C.jpg\n"
     ]
    },
    {
     "name": "stderr",
     "output_type": "stream",
     "text": [
      " 10%|█         | 100/994 [1:19:06<9:43:56, 39.19s/it]"
     ]
    },
    {
     "name": "stdout",
     "output_type": "stream",
     "text": [
      "2022-08-08 22:02:25,318 - detection_util - INFO - Processing file: 342_A.jpg\n"
     ]
    },
    {
     "name": "stderr",
     "output_type": "stream",
     "text": [
      " 10%|█         | 101/994 [1:20:04<11:07:09, 44.83s/it]"
     ]
    },
    {
     "name": "stdout",
     "output_type": "stream",
     "text": [
      "2022-08-08 22:03:23,294 - detection_util - INFO - Processing file: 34_A_2nd_stain_b.jpg\n"
     ]
    },
    {
     "name": "stderr",
     "output_type": "stream",
     "text": [
      " 10%|█         | 102/994 [1:20:48<11:00:52, 44.45s/it]"
     ]
    },
    {
     "name": "stdout",
     "output_type": "stream",
     "text": [
      "2022-08-08 22:04:06,877 - detection_util - INFO - Processing file: 9_A.jpg\n"
     ]
    },
    {
     "name": "stderr",
     "output_type": "stream",
     "text": [
      " 10%|█         | 103/994 [1:21:20<10:08:17, 40.96s/it]"
     ]
    },
    {
     "name": "stdout",
     "output_type": "stream",
     "text": [
      "2022-08-08 22:04:39,694 - detection_util - INFO - Processing file: 261_A.jpg\n"
     ]
    },
    {
     "name": "stderr",
     "output_type": "stream",
     "text": [
      " 10%|█         | 104/994 [1:22:17<11:19:43, 45.82s/it]"
     ]
    },
    {
     "name": "stdout",
     "output_type": "stream",
     "text": [
      "2022-08-08 22:05:36,863 - detection_util - INFO - Processing file: 33_D.jpg\n"
     ]
    },
    {
     "name": "stderr",
     "output_type": "stream",
     "text": [
      " 11%|█         | 105/994 [1:23:12<11:58:59, 48.53s/it]"
     ]
    },
    {
     "name": "stdout",
     "output_type": "stream",
     "text": [
      "2022-08-08 22:06:31,692 - detection_util - INFO - Processing file: 54_A.jpg\n"
     ]
    },
    {
     "name": "stderr",
     "output_type": "stream",
     "text": [
      " 11%|█         | 106/994 [1:24:00<11:53:45, 48.23s/it]"
     ]
    },
    {
     "name": "stdout",
     "output_type": "stream",
     "text": [
      "2022-08-08 22:07:19,220 - detection_util - INFO - Processing file: 321_D.jpg\n"
     ]
    },
    {
     "name": "stderr",
     "output_type": "stream",
     "text": [
      " 11%|█         | 107/994 [1:24:25<10:12:28, 41.43s/it]"
     ]
    },
    {
     "name": "stdout",
     "output_type": "stream",
     "text": [
      "2022-08-08 22:07:44,792 - detection_util - INFO - Processing file: 108_A.jpg\n"
     ]
    },
    {
     "name": "stderr",
     "output_type": "stream",
     "text": [
      " 11%|█         | 108/994 [1:25:13<10:40:12, 43.35s/it]"
     ]
    },
    {
     "name": "stdout",
     "output_type": "stream",
     "text": [
      "2022-08-08 22:08:32,638 - detection_util - INFO - Processing file: 402_D.jpg\n"
     ]
    },
    {
     "name": "stderr",
     "output_type": "stream",
     "text": [
      " 11%|█         | 109/994 [1:25:57<10:42:07, 43.53s/it]"
     ]
    },
    {
     "name": "stdout",
     "output_type": "stream",
     "text": [
      "2022-08-08 22:09:16,589 - detection_util - INFO - Processing file: 71_B.jpg\n"
     ]
    },
    {
     "name": "stderr",
     "output_type": "stream",
     "text": [
      " 11%|█         | 110/994 [1:26:52<11:31:15, 46.92s/it]"
     ]
    },
    {
     "name": "stdout",
     "output_type": "stream",
     "text": [
      "2022-08-08 22:10:11,402 - detection_util - INFO - Processing file: 21_C.jpg\n"
     ]
    },
    {
     "name": "stderr",
     "output_type": "stream",
     "text": [
      " 11%|█         | 111/994 [1:27:39<11:29:33, 46.86s/it]"
     ]
    },
    {
     "name": "stdout",
     "output_type": "stream",
     "text": [
      "2022-08-08 22:10:58,114 - detection_util - INFO - Processing file: 211_B.jpg\n"
     ]
    },
    {
     "name": "stderr",
     "output_type": "stream",
     "text": [
      " 11%|█▏        | 112/994 [1:28:27<11:36:22, 47.37s/it]"
     ]
    },
    {
     "name": "stdout",
     "output_type": "stream",
     "text": [
      "2022-08-08 22:11:46,693 - detection_util - INFO - Processing file: 23_A.jpg\n"
     ]
    },
    {
     "name": "stderr",
     "output_type": "stream",
     "text": [
      " 11%|█▏        | 113/994 [1:29:06<10:57:57, 44.81s/it]"
     ]
    },
    {
     "name": "stdout",
     "output_type": "stream",
     "text": [
      "2022-08-08 22:12:25,524 - detection_util - INFO - Processing file: 288_D.jpg\n"
     ]
    },
    {
     "name": "stderr",
     "output_type": "stream",
     "text": [
      " 11%|█▏        | 114/994 [1:29:37<9:53:50, 40.49s/it] "
     ]
    },
    {
     "name": "stdout",
     "output_type": "stream",
     "text": [
      "2022-08-08 22:12:55,929 - detection_util - INFO - Processing file: 389_B.jpg\n"
     ]
    },
    {
     "name": "stderr",
     "output_type": "stream",
     "text": [
      " 12%|█▏        | 115/994 [1:30:17<9:53:33, 40.52s/it]"
     ]
    },
    {
     "name": "stdout",
     "output_type": "stream",
     "text": [
      "2022-08-08 22:13:36,507 - detection_util - INFO - Processing file: 131_A.jpg\n"
     ]
    },
    {
     "name": "stderr",
     "output_type": "stream",
     "text": [
      " 12%|█▏        | 116/994 [1:31:08<10:36:15, 43.48s/it]"
     ]
    },
    {
     "name": "stdout",
     "output_type": "stream",
     "text": [
      "2022-08-08 22:14:26,906 - detection_util - INFO - Processing file: 212_A.jpg\n"
     ]
    },
    {
     "name": "stderr",
     "output_type": "stream",
     "text": [
      " 12%|█▏        | 117/994 [1:31:51<10:36:01, 43.51s/it]"
     ]
    },
    {
     "name": "stdout",
     "output_type": "stream",
     "text": [
      "2022-08-08 22:15:10,497 - detection_util - INFO - Processing file: 103_A_2nd_stain.jpg\n"
     ]
    },
    {
     "name": "stderr",
     "output_type": "stream",
     "text": [
      " 12%|█▏        | 118/994 [1:32:44<11:17:11, 46.38s/it]"
     ]
    },
    {
     "name": "stdout",
     "output_type": "stream",
     "text": [
      "2022-08-08 22:16:03,576 - detection_util - INFO - Processing file: 41_A.jpg\n"
     ]
    },
    {
     "name": "stderr",
     "output_type": "stream",
     "text": [
      " 12%|█▏        | 119/994 [1:33:43<12:10:43, 50.11s/it]"
     ]
    },
    {
     "name": "stdout",
     "output_type": "stream",
     "text": [
      "2022-08-08 22:17:02,372 - detection_util - INFO - Processing file: 112_B.jpg\n"
     ]
    },
    {
     "name": "stderr",
     "output_type": "stream",
     "text": [
      " 12%|█▏        | 120/994 [1:34:27<11:45:08, 48.41s/it]"
     ]
    },
    {
     "name": "stdout",
     "output_type": "stream",
     "text": [
      "2022-08-08 22:17:46,817 - detection_util - INFO - Processing file: 20_D.jpg\n"
     ]
    },
    {
     "name": "stderr",
     "output_type": "stream",
     "text": [
      " 12%|█▏        | 121/994 [1:35:02<10:43:31, 44.23s/it]"
     ]
    },
    {
     "name": "stdout",
     "output_type": "stream",
     "text": [
      "2022-08-08 22:18:21,292 - detection_util - INFO - Processing file: 410_A.jpg\n"
     ]
    },
    {
     "name": "stderr",
     "output_type": "stream",
     "text": [
      " 12%|█▏        | 122/994 [1:35:54<11:17:54, 46.64s/it]"
     ]
    },
    {
     "name": "stdout",
     "output_type": "stream",
     "text": [
      "2022-08-08 22:19:13,575 - detection_util - INFO - Processing file: 13_B.jpg\n"
     ]
    },
    {
     "name": "stderr",
     "output_type": "stream",
     "text": [
      " 12%|█▏        | 123/994 [1:36:26<10:12:38, 42.20s/it]"
     ]
    },
    {
     "name": "stdout",
     "output_type": "stream",
     "text": [
      "2022-08-08 22:19:45,411 - detection_util - INFO - Processing file: 30_C.jpg\n"
     ]
    },
    {
     "name": "stderr",
     "output_type": "stream",
     "text": [
      " 12%|█▏        | 124/994 [1:37:22<11:12:07, 46.35s/it]"
     ]
    },
    {
     "name": "stdout",
     "output_type": "stream",
     "text": [
      "2022-08-08 22:20:41,449 - detection_util - INFO - Processing file: 299_B.jpg\n"
     ]
    },
    {
     "name": "stderr",
     "output_type": "stream",
     "text": [
      " 13%|█▎        | 125/994 [1:38:20<12:01:19, 49.80s/it]"
     ]
    },
    {
     "name": "stdout",
     "output_type": "stream",
     "text": [
      "2022-08-08 22:21:39,307 - detection_util - INFO - Processing file: 2_D.jpg\n"
     ]
    },
    {
     "name": "stderr",
     "output_type": "stream",
     "text": [
      " 13%|█▎        | 126/994 [1:39:05<11:41:59, 48.53s/it]"
     ]
    },
    {
     "name": "stdout",
     "output_type": "stream",
     "text": [
      "2022-08-08 22:22:24,847 - detection_util - INFO - Processing file: 122_A.jpg\n"
     ]
    },
    {
     "name": "stderr",
     "output_type": "stream",
     "text": [
      " 13%|█▎        | 127/994 [1:39:48<11:15:38, 46.76s/it]"
     ]
    },
    {
     "name": "stdout",
     "output_type": "stream",
     "text": [
      "2022-08-08 22:23:07,478 - detection_util - INFO - Processing file: 284_DD.jpg\n"
     ]
    },
    {
     "name": "stderr",
     "output_type": "stream",
     "text": [
      " 13%|█▎        | 128/994 [1:40:34<11:10:11, 46.43s/it]"
     ]
    },
    {
     "name": "stdout",
     "output_type": "stream",
     "text": [
      "2022-08-08 22:23:53,157 - detection_util - INFO - Processing file: 203_A.jpg\n"
     ]
    },
    {
     "name": "stderr",
     "output_type": "stream",
     "text": [
      " 13%|█▎        | 129/994 [1:41:21<11:14:34, 46.79s/it]"
     ]
    },
    {
     "name": "stdout",
     "output_type": "stream",
     "text": [
      "2022-08-08 22:24:40,784 - detection_util - INFO - Processing file: 301_B.jpg\n"
     ]
    },
    {
     "name": "stderr",
     "output_type": "stream",
     "text": [
      " 13%|█▎        | 130/994 [1:41:50<9:53:01, 41.18s/it] "
     ]
    },
    {
     "name": "stdout",
     "output_type": "stream",
     "text": [
      "2022-08-08 22:25:08,877 - detection_util - INFO - Processing file: 103_B.jpg\n"
     ]
    },
    {
     "name": "stderr",
     "output_type": "stream",
     "text": [
      " 13%|█▎        | 131/994 [1:42:52<11:23:05, 47.49s/it]"
     ]
    },
    {
     "name": "stdout",
     "output_type": "stream",
     "text": [
      "2022-08-08 22:26:11,091 - detection_util - INFO - Processing file: 399_A.jpg\n"
     ]
    },
    {
     "name": "stderr",
     "output_type": "stream",
     "text": [
      " 13%|█▎        | 132/994 [1:43:56<12:36:34, 52.66s/it]"
     ]
    },
    {
     "name": "stdout",
     "output_type": "stream",
     "text": [
      "2022-08-08 22:27:15,817 - detection_util - INFO - Processing file: 320_A.jpg\n"
     ]
    },
    {
     "name": "stderr",
     "output_type": "stream",
     "text": [
      " 13%|█▎        | 133/994 [1:44:37<11:45:38, 49.17s/it]"
     ]
    },
    {
     "name": "stdout",
     "output_type": "stream",
     "text": [
      "2022-08-08 22:27:56,853 - detection_util - INFO - Processing file: 4_B.jpg\n"
     ]
    },
    {
     "name": "stderr",
     "output_type": "stream",
     "text": [
      " 13%|█▎        | 134/994 [1:45:38<12:32:07, 52.47s/it]"
     ]
    },
    {
     "name": "stdout",
     "output_type": "stream",
     "text": [
      "2022-08-08 22:28:57,028 - detection_util - INFO - Processing file: 378_D.jpg\n"
     ]
    },
    {
     "name": "stderr",
     "output_type": "stream",
     "text": [
      " 14%|█▎        | 135/994 [1:46:27<12:17:30, 51.51s/it]"
     ]
    },
    {
     "name": "stdout",
     "output_type": "stream",
     "text": [
      "2022-08-08 22:29:46,299 - detection_util - INFO - Processing file: 11_D.jpg\n"
     ]
    },
    {
     "name": "stderr",
     "output_type": "stream",
     "text": [
      " 14%|█▎        | 136/994 [1:47:01<11:03:40, 46.41s/it]"
     ]
    },
    {
     "name": "stdout",
     "output_type": "stream",
     "text": [
      "2022-08-08 22:30:20,806 - detection_util - INFO - Processing file: 398_B.jpg\n"
     ]
    },
    {
     "name": "stderr",
     "output_type": "stream",
     "text": [
      " 14%|█▍        | 137/994 [1:47:51<11:16:36, 47.37s/it]"
     ]
    },
    {
     "name": "stdout",
     "output_type": "stream",
     "text": [
      "2022-08-08 22:31:10,415 - detection_util - INFO - Processing file: 14_A.jpg\n"
     ]
    },
    {
     "name": "stderr",
     "output_type": "stream",
     "text": [
      " 14%|█▍        | 138/994 [1:48:16<9:41:44, 40.78s/it] "
     ]
    },
    {
     "name": "stdout",
     "output_type": "stream",
     "text": [
      "2022-08-08 22:31:35,804 - detection_util - INFO - Processing file: 302_A.jpg\n"
     ]
    },
    {
     "name": "stderr",
     "output_type": "stream",
     "text": [
      " 14%|█▍        | 139/994 [1:49:00<9:53:05, 41.62s/it]"
     ]
    },
    {
     "name": "stdout",
     "output_type": "stream",
     "text": [
      "2022-08-08 22:32:19,393 - detection_util - INFO - Processing file: 279_D.jpg\n"
     ]
    },
    {
     "name": "stderr",
     "output_type": "stream",
     "text": [
      " 14%|█▍        | 140/994 [1:49:41<9:47:54, 41.30s/it]"
     ]
    },
    {
     "name": "stdout",
     "output_type": "stream",
     "text": [
      "2022-08-08 22:32:59,962 - detection_util - INFO - Processing file: 400_B.jpg\n"
     ]
    },
    {
     "name": "stderr",
     "output_type": "stream",
     "text": [
      " 14%|█▍        | 141/994 [1:50:20<9:39:04, 40.73s/it]"
     ]
    },
    {
     "name": "stdout",
     "output_type": "stream",
     "text": [
      "2022-08-08 22:33:39,357 - detection_util - INFO - Processing file: 140_A.jpg\n"
     ]
    },
    {
     "name": "stderr",
     "output_type": "stream",
     "text": [
      " 14%|█▍        | 142/994 [1:50:42<8:20:40, 35.26s/it]"
     ]
    },
    {
     "name": "stdout",
     "output_type": "stream",
     "text": [
      "2022-08-08 22:34:01,845 - detection_util - INFO - Processing file: 3_C.jpg\n"
     ]
    },
    {
     "name": "stderr",
     "output_type": "stream",
     "text": [
      " 14%|█▍        | 143/994 [1:51:22<8:40:12, 36.68s/it]"
     ]
    },
    {
     "name": "stdout",
     "output_type": "stream",
     "text": [
      "2022-08-08 22:34:41,834 - detection_util - INFO - Processing file: 221_A.jpg\n"
     ]
    },
    {
     "name": "stderr",
     "output_type": "stream",
     "text": [
      " 14%|█▍        | 144/994 [1:52:17<9:53:25, 41.89s/it]"
     ]
    },
    {
     "name": "stdout",
     "output_type": "stream",
     "text": [
      "2022-08-08 22:35:35,880 - detection_util - INFO - Processing file: 104_A.jpg\n"
     ]
    },
    {
     "name": "stderr",
     "output_type": "stream",
     "text": [
      " 15%|█▍        | 145/994 [1:53:10<10:40:42, 45.28s/it]"
     ]
    },
    {
     "name": "stdout",
     "output_type": "stream",
     "text": [
      "2022-08-08 22:36:29,073 - detection_util - INFO - Processing file: 266_DD.jpg\n"
     ]
    },
    {
     "name": "stderr",
     "output_type": "stream",
     "text": [
      " 15%|█▍        | 146/994 [1:53:58<10:53:43, 46.25s/it]"
     ]
    },
    {
     "name": "stdout",
     "output_type": "stream",
     "text": [
      "2022-08-08 22:37:17,601 - detection_util - INFO - Processing file: 50_A.jpg\n"
     ]
    },
    {
     "name": "stderr",
     "output_type": "stream",
     "text": [
      " 15%|█▍        | 147/994 [1:54:56<11:41:18, 49.68s/it]"
     ]
    },
    {
     "name": "stdout",
     "output_type": "stream",
     "text": [
      "2022-08-08 22:38:15,274 - detection_util - INFO - Processing file: 12_C.jpg\n"
     ]
    },
    {
     "name": "stderr",
     "output_type": "stream",
     "text": [
      " 15%|█▍        | 148/994 [1:55:25<10:12:06, 43.41s/it]"
     ]
    },
    {
     "name": "stdout",
     "output_type": "stream",
     "text": [
      "2022-08-08 22:38:44,059 - detection_util - INFO - Processing file: 396_D.jpg\n"
     ]
    },
    {
     "name": "stderr",
     "output_type": "stream",
     "text": [
      " 15%|█▍        | 149/994 [1:55:57<9:22:56, 39.97s/it] "
     ]
    },
    {
     "name": "stdout",
     "output_type": "stream",
     "text": [
      "2022-08-08 22:39:16,007 - detection_util - INFO - Processing file: 5_A.jpg\n"
     ]
    },
    {
     "name": "stderr",
     "output_type": "stream",
     "text": [
      " 15%|█▌        | 150/994 [1:56:42<9:45:47, 41.64s/it]"
     ]
    },
    {
     "name": "stdout",
     "output_type": "stream",
     "text": [
      "2022-08-08 22:40:01,550 - detection_util - INFO - Processing file: 193_A.jpg\n"
     ]
    },
    {
     "name": "stderr",
     "output_type": "stream",
     "text": [
      " 15%|█▌        | 151/994 [1:57:27<9:59:36, 42.68s/it]"
     ]
    },
    {
     "name": "stdout",
     "output_type": "stream",
     "text": [
      "2022-08-08 22:40:46,638 - detection_util - INFO - Processing file: 355_A.jpg\n"
     ]
    },
    {
     "name": "stderr",
     "output_type": "stream",
     "text": [
      " 15%|█▌        | 152/994 [1:58:14<10:15:13, 43.84s/it]"
     ]
    },
    {
     "name": "stdout",
     "output_type": "stream",
     "text": [
      "2022-08-08 22:41:33,192 - detection_util - INFO - Processing file: 46_D.jpg\n"
     ]
    },
    {
     "name": "stderr",
     "output_type": "stream",
     "text": [
      " 15%|█▌        | 153/994 [1:58:49<9:35:59, 41.09s/it] "
     ]
    },
    {
     "name": "stdout",
     "output_type": "stream",
     "text": [
      "2022-08-08 22:42:07,876 - detection_util - INFO - Processing file: 84_B.jpg\n"
     ]
    },
    {
     "name": "stderr",
     "output_type": "stream",
     "text": [
      " 15%|█▌        | 154/994 [1:59:32<9:46:09, 41.87s/it]"
     ]
    },
    {
     "name": "stdout",
     "output_type": "stream",
     "text": [
      "2022-08-08 22:42:51,554 - detection_util - INFO - Processing file: 65_C.jpg\n"
     ]
    },
    {
     "name": "stderr",
     "output_type": "stream",
     "text": [
      " 16%|█▌        | 155/994 [2:00:18<10:02:03, 43.06s/it]"
     ]
    },
    {
     "name": "stdout",
     "output_type": "stream",
     "text": [
      "2022-08-08 22:43:37,380 - detection_util - INFO - Processing file: 82_D.jpg\n"
     ]
    },
    {
     "name": "stderr",
     "output_type": "stream",
     "text": [
      " 16%|█▌        | 156/994 [2:01:11<10:43:58, 46.11s/it]"
     ]
    },
    {
     "name": "stdout",
     "output_type": "stream",
     "text": [
      "2022-08-08 22:44:30,609 - detection_util - INFO - Processing file: 217_D.jpg\n"
     ]
    },
    {
     "name": "stderr",
     "output_type": "stream",
     "text": [
      " 16%|█▌        | 157/994 [2:02:12<11:42:40, 50.37s/it]"
     ]
    },
    {
     "name": "stdout",
     "output_type": "stream",
     "text": [
      "2022-08-08 22:45:30,926 - detection_util - INFO - Processing file: 48_B.jpg\n"
     ]
    },
    {
     "name": "stderr",
     "output_type": "stream",
     "text": [
      " 16%|█▌        | 158/994 [2:02:53<11:06:24, 47.83s/it]"
     ]
    },
    {
     "name": "stdout",
     "output_type": "stream",
     "text": [
      "2022-08-08 22:46:12,822 - detection_util - INFO - Processing file: 238_A.jpg\n"
     ]
    },
    {
     "name": "stderr",
     "output_type": "stream",
     "text": [
      " 16%|█▌        | 159/994 [2:03:28<10:11:04, 43.91s/it]"
     ]
    },
    {
     "name": "stdout",
     "output_type": "stream",
     "text": [
      "2022-08-08 22:46:47,589 - detection_util - INFO - Processing file: 336_B.jpg\n"
     ]
    },
    {
     "name": "stderr",
     "output_type": "stream",
     "text": [
      " 16%|█▌        | 160/994 [2:04:17<10:31:56, 45.46s/it]"
     ]
    },
    {
     "name": "stdout",
     "output_type": "stream",
     "text": [
      "2022-08-08 22:47:36,676 - detection_util - INFO - Processing file: 319_A.jpg\n"
     ]
    },
    {
     "name": "stderr",
     "output_type": "stream",
     "text": [
      " 16%|█▌        | 161/994 [2:05:00<10:20:28, 44.69s/it]"
     ]
    },
    {
     "name": "stdout",
     "output_type": "stream",
     "text": [
      "2022-08-08 22:48:19,568 - detection_util - INFO - Processing file: 417_B.jpg\n"
     ]
    },
    {
     "name": "stderr",
     "output_type": "stream",
     "text": [
      " 16%|█▋        | 162/994 [2:05:59<11:20:11, 49.05s/it]"
     ]
    },
    {
     "name": "stdout",
     "output_type": "stream",
     "text": [
      "2022-08-08 22:49:18,795 - detection_util - INFO - Processing file: 157_A.jpg\n"
     ]
    },
    {
     "name": "stderr",
     "output_type": "stream",
     "text": [
      " 16%|█▋        | 163/994 [2:06:38<10:36:00, 45.92s/it]"
     ]
    },
    {
     "name": "stdout",
     "output_type": "stream",
     "text": [
      "2022-08-08 22:49:57,410 - detection_util - INFO - Processing file: 47_C.jpg\n"
     ]
    },
    {
     "name": "stderr",
     "output_type": "stream",
     "text": [
      " 16%|█▋        | 164/994 [2:07:37<11:30:24, 49.91s/it]"
     ]
    },
    {
     "name": "stdout",
     "output_type": "stream",
     "text": [
      "2022-08-08 22:50:56,626 - detection_util - INFO - Processing file: 373_A.jpg\n"
     ]
    },
    {
     "name": "stderr",
     "output_type": "stream",
     "text": [
      " 17%|█▋        | 165/994 [2:08:02<9:45:02, 42.34s/it] "
     ]
    },
    {
     "name": "stdout",
     "output_type": "stream",
     "text": [
      "2022-08-08 22:51:21,314 - detection_util - INFO - Processing file: 390_B.jpg\n"
     ]
    },
    {
     "name": "stderr",
     "output_type": "stream",
     "text": [
      " 17%|█▋        | 166/994 [2:08:33<8:59:17, 39.08s/it]"
     ]
    },
    {
     "name": "stdout",
     "output_type": "stream",
     "text": [
      "2022-08-08 22:51:52,778 - detection_util - INFO - Processing file: 292_A.jpg\n"
     ]
    },
    {
     "name": "stderr",
     "output_type": "stream",
     "text": [
      " 17%|█▋        | 167/994 [2:09:20<9:27:40, 41.19s/it]"
     ]
    },
    {
     "name": "stdout",
     "output_type": "stream",
     "text": [
      "2022-08-08 22:52:38,879 - detection_util - INFO - Processing file: 318_B.jpg\n"
     ]
    },
    {
     "name": "stderr",
     "output_type": "stream",
     "text": [
      " 17%|█▋        | 168/994 [2:10:02<9:30:22, 41.43s/it]"
     ]
    },
    {
     "name": "stdout",
     "output_type": "stream",
     "text": [
      "2022-08-08 22:53:20,883 - detection_util - INFO - Processing file: 303_DD.jpg\n"
     ]
    },
    {
     "name": "stderr",
     "output_type": "stream",
     "text": [
      " 17%|█▋        | 169/994 [2:10:51<10:01:39, 43.76s/it]"
     ]
    },
    {
     "name": "stdout",
     "output_type": "stream",
     "text": [
      "2022-08-08 22:54:10,065 - detection_util - INFO - Processing file: 190_D.jpg\n"
     ]
    },
    {
     "name": "stderr",
     "output_type": "stream",
     "text": [
      " 17%|█▋        | 170/994 [2:11:33<9:53:09, 43.19s/it] "
     ]
    },
    {
     "name": "stdout",
     "output_type": "stream",
     "text": [
      "2022-08-08 22:54:51,939 - detection_util - INFO - Processing file: 139_A.jpg\n"
     ]
    },
    {
     "name": "stderr",
     "output_type": "stream",
     "text": [
      " 17%|█▋        | 171/994 [2:12:16<9:55:06, 43.39s/it]"
     ]
    },
    {
     "name": "stdout",
     "output_type": "stream",
     "text": [
      "2022-08-08 22:55:35,778 - detection_util - INFO - Processing file: 49_A.jpg\n"
     ]
    },
    {
     "name": "stderr",
     "output_type": "stream",
     "text": [
      " 17%|█▋        | 172/994 [2:13:01<10:01:02, 43.87s/it]"
     ]
    },
    {
     "name": "stdout",
     "output_type": "stream",
     "text": [
      "2022-08-08 22:56:20,781 - detection_util - INFO - Processing file: 83_C.jpg\n"
     ]
    },
    {
     "name": "stderr",
     "output_type": "stream",
     "text": [
      " 17%|█▋        | 173/994 [2:13:54<10:37:33, 46.59s/it]"
     ]
    },
    {
     "name": "stdout",
     "output_type": "stream",
     "text": [
      "2022-08-08 22:57:13,729 - detection_util - INFO - Processing file: 316_D.jpg\n"
     ]
    },
    {
     "name": "stderr",
     "output_type": "stream",
     "text": [
      " 18%|█▊        | 174/994 [2:14:39<10:28:07, 45.96s/it]"
     ]
    },
    {
     "name": "stdout",
     "output_type": "stream",
     "text": [
      "2022-08-08 22:57:58,212 - detection_util - INFO - Processing file: 235_D.jpg\n"
     ]
    },
    {
     "name": "stderr",
     "output_type": "stream",
     "text": [
      " 18%|█▊        | 175/994 [2:15:34<11:04:55, 48.71s/it]"
     ]
    },
    {
     "name": "stdout",
     "output_type": "stream",
     "text": [
      "2022-08-08 22:58:53,347 - detection_util - INFO - Processing file: 66_B.jpg\n"
     ]
    },
    {
     "name": "stderr",
     "output_type": "stream",
     "text": [
      " 18%|█▊        | 176/994 [2:16:10<10:13:02, 44.97s/it]"
     ]
    },
    {
     "name": "stdout",
     "output_type": "stream",
     "text": [
      "2022-08-08 22:59:29,570 - detection_util - INFO - Processing file: 256_A.jpg\n"
     ]
    },
    {
     "name": "stderr",
     "output_type": "stream",
     "text": [
      " 18%|█▊        | 177/994 [2:17:13<11:23:21, 50.19s/it]"
     ]
    },
    {
     "name": "stdout",
     "output_type": "stream",
     "text": [
      "2022-08-08 23:00:31,933 - detection_util - INFO - Processing file: 28_D.jpg\n"
     ]
    },
    {
     "name": "stderr",
     "output_type": "stream",
     "text": [
      " 18%|█▊        | 178/994 [2:18:12<12:00:30, 52.98s/it]"
     ]
    },
    {
     "name": "stdout",
     "output_type": "stream",
     "text": [
      "2022-08-08 23:01:31,431 - detection_util - INFO - Processing file: 418_A.jpg\n"
     ]
    },
    {
     "name": "stderr",
     "output_type": "stream",
     "text": [
      " 18%|█▊        | 179/994 [2:18:44<10:35:23, 46.78s/it]"
     ]
    },
    {
     "name": "stdout",
     "output_type": "stream",
     "text": [
      "2022-08-08 23:02:03,737 - detection_util - INFO - Processing file: 337_A.jpg\n"
     ]
    },
    {
     "name": "stderr",
     "output_type": "stream",
     "text": [
      " 18%|█▊        | 180/994 [2:19:39<11:05:56, 49.09s/it]"
     ]
    },
    {
     "name": "stdout",
     "output_type": "stream",
     "text": [
      "2022-08-08 23:02:58,213 - detection_util - INFO - Processing file: 175_A.jpg\n"
     ]
    },
    {
     "name": "stderr",
     "output_type": "stream",
     "text": [
      " 18%|█▊        | 181/994 [2:20:24<10:47:40, 47.80s/it]"
     ]
    },
    {
     "name": "stdout",
     "output_type": "stream",
     "text": [
      "2022-08-08 23:03:43,006 - detection_util - INFO - Processing file: 273_B.jpg\n"
     ]
    },
    {
     "name": "stderr",
     "output_type": "stream",
     "text": [
      " 18%|█▊        | 182/994 [2:21:21<11:24:31, 50.58s/it]"
     ]
    },
    {
     "name": "stdout",
     "output_type": "stream",
     "text": [
      "2022-08-08 23:04:40,078 - detection_util - INFO - Processing file: 364_A.jpg\n"
     ]
    },
    {
     "name": "stderr",
     "output_type": "stream",
     "text": [
      " 18%|█▊        | 183/994 [2:21:59<10:35:41, 47.03s/it]"
     ]
    },
    {
     "name": "stdout",
     "output_type": "stream",
     "text": [
      "2022-08-08 23:05:18,824 - detection_util - INFO - Processing file: 38_C.jpg\n"
     ]
    },
    {
     "name": "stderr",
     "output_type": "stream",
     "text": [
      " 19%|█▊        | 184/994 [2:22:39<10:06:27, 44.92s/it]"
     ]
    },
    {
     "name": "stdout",
     "output_type": "stream",
     "text": [
      "2022-08-08 23:05:58,828 - detection_util - INFO - Processing file: 381_B.jpg\n"
     ]
    },
    {
     "name": "stderr",
     "output_type": "stream",
     "text": [
      " 19%|█▊        | 185/994 [2:23:46<11:31:55, 51.32s/it]"
     ]
    },
    {
     "name": "stdout",
     "output_type": "stream",
     "text": [
      "2022-08-08 23:07:05,067 - detection_util - INFO - Processing file: 283_A.jpg\n"
     ]
    },
    {
     "name": "stderr",
     "output_type": "stream",
     "text": [
      " 19%|█▊        | 186/994 [2:24:52<12:31:59, 55.84s/it]"
     ]
    },
    {
     "name": "stdout",
     "output_type": "stream",
     "text": [
      "2022-08-08 23:08:11,462 - detection_util - INFO - Processing file: 55_D.jpg\n"
     ]
    },
    {
     "name": "stderr",
     "output_type": "stream",
     "text": [
      " 19%|█▉        | 187/994 [2:25:44<12:15:17, 54.67s/it]"
     ]
    },
    {
     "name": "stdout",
     "output_type": "stream",
     "text": [
      "2022-08-08 23:09:03,396 - detection_util - INFO - Processing file: 343_D.jpg\n"
     ]
    },
    {
     "name": "stderr",
     "output_type": "stream",
     "text": [
      " 19%|█▉        | 188/994 [2:26:32<11:46:31, 52.59s/it]"
     ]
    },
    {
     "name": "stdout",
     "output_type": "stream",
     "text": [
      "2022-08-08 23:09:51,151 - detection_util - INFO - Processing file: 76_A.jpg\n"
     ]
    },
    {
     "name": "stderr",
     "output_type": "stream",
     "text": [
      " 19%|█▉        | 189/994 [2:27:25<11:47:55, 52.77s/it]"
     ]
    },
    {
     "name": "stdout",
     "output_type": "stream",
     "text": [
      "2022-08-08 23:10:44,314 - detection_util - INFO - Processing file: 145_D.jpg\n"
     ]
    },
    {
     "name": "stderr",
     "output_type": "stream",
     "text": [
      " 19%|█▉        | 190/994 [2:28:22<12:03:04, 53.96s/it]"
     ]
    },
    {
     "name": "stdout",
     "output_type": "stream",
     "text": [
      "2022-08-08 23:11:41,066 - detection_util - INFO - Processing file: 57_B.jpg\n"
     ]
    },
    {
     "name": "stderr",
     "output_type": "stream",
     "text": [
      " 19%|█▉        | 191/994 [2:29:09<11:33:44, 51.84s/it]"
     ]
    },
    {
     "name": "stdout",
     "output_type": "stream",
     "text": [
      "2022-08-08 23:12:27,942 - detection_util - INFO - Processing file: 409_A.jpg\n"
     ]
    },
    {
     "name": "stderr",
     "output_type": "stream",
     "text": [
      " 19%|█▉        | 192/994 [2:29:48<10:42:15, 48.05s/it]"
     ]
    },
    {
     "name": "stdout",
     "output_type": "stream",
     "text": [
      "2022-08-08 23:13:07,155 - detection_util - INFO - Processing file: 345_B.jpg\n"
     ]
    },
    {
     "name": "stderr",
     "output_type": "stream",
     "text": [
      " 19%|█▉        | 193/994 [2:30:38<10:49:43, 48.67s/it]"
     ]
    },
    {
     "name": "stdout",
     "output_type": "stream",
     "text": [
      "2022-08-08 23:13:57,271 - detection_util - INFO - Processing file: 19_D.jpg\n"
     ]
    },
    {
     "name": "stderr",
     "output_type": "stream",
     "text": [
      " 20%|█▉        | 194/994 [2:31:23<10:36:28, 47.74s/it]"
     ]
    },
    {
     "name": "stdout",
     "output_type": "stream",
     "text": [
      "2022-08-08 23:14:42,830 - detection_util - INFO - Processing file: 247_A.jpg\n"
     ]
    },
    {
     "name": "stderr",
     "output_type": "stream",
     "text": [
      " 20%|█▉        | 195/994 [2:32:07<10:19:06, 46.49s/it]"
     ]
    },
    {
     "name": "stdout",
     "output_type": "stream",
     "text": [
      "2022-08-08 23:15:26,417 - detection_util - INFO - Processing file: 264_B.jpg\n"
     ]
    },
    {
     "name": "stderr",
     "output_type": "stream",
     "text": [
      " 20%|█▉        | 196/994 [2:33:10<11:23:53, 51.42s/it]"
     ]
    },
    {
     "name": "stdout",
     "output_type": "stream",
     "text": [
      "2022-08-08 23:16:29,340 - detection_util - INFO - Processing file: 166_A.jpg\n"
     ]
    },
    {
     "name": "stderr",
     "output_type": "stream",
     "text": [
      " 20%|█▉        | 197/994 [2:33:59<11:12:56, 50.66s/it]"
     ]
    },
    {
     "name": "stdout",
     "output_type": "stream",
     "text": [
      "2022-08-08 23:17:18,226 - detection_util - INFO - Processing file: 328_A.jpg\n"
     ]
    },
    {
     "name": "stderr",
     "output_type": "stream",
     "text": [
      " 20%|█▉        | 198/994 [2:34:50<11:15:20, 50.90s/it]"
     ]
    },
    {
     "name": "stdout",
     "output_type": "stream",
     "text": [
      "2022-08-08 23:18:09,701 - detection_util - INFO - Processing file: 56_C.jpg\n"
     ]
    },
    {
     "name": "stderr",
     "output_type": "stream",
     "text": [
      " 20%|██        | 199/994 [2:35:40<11:10:35, 50.61s/it]"
     ]
    },
    {
     "name": "stdout",
     "output_type": "stream",
     "text": [
      "2022-08-08 23:18:59,625 - detection_util - INFO - Processing file: 382_A.jpg\n"
     ]
    },
    {
     "name": "stderr",
     "output_type": "stream",
     "text": [
      " 20%|██        | 200/994 [2:36:10<9:46:45, 44.34s/it] "
     ]
    },
    {
     "name": "stdout",
     "output_type": "stream",
     "text": [
      "2022-08-08 23:19:29,333 - detection_util - INFO - Processing file: 39_B.jpg\n"
     ]
    },
    {
     "name": "stderr",
     "output_type": "stream",
     "text": [
      " 20%|██        | 201/994 [2:37:00<10:07:28, 45.96s/it]"
     ]
    },
    {
     "name": "stdout",
     "output_type": "stream",
     "text": [
      "2022-08-08 23:20:19,082 - detection_util - INFO - Processing file: 73_D.jpg\n"
     ]
    },
    {
     "name": "stderr",
     "output_type": "stream",
     "text": [
      " 20%|██        | 202/994 [2:37:50<10:22:39, 47.17s/it]"
     ]
    },
    {
     "name": "stdout",
     "output_type": "stream",
     "text": [
      "2022-08-08 23:21:09,073 - detection_util - INFO - Processing file: 229_A.jpg\n"
     ]
    },
    {
     "name": "stderr",
     "output_type": "stream",
     "text": [
      " 20%|██        | 203/994 [2:38:30<9:54:37, 45.10s/it] "
     ]
    },
    {
     "name": "stdout",
     "output_type": "stream",
     "text": [
      "2022-08-08 23:21:49,356 - detection_util - INFO - Processing file: 327_B.jpg\n"
     ]
    },
    {
     "name": "stderr",
     "output_type": "stream",
     "text": [
      " 21%|██        | 204/994 [2:39:24<10:29:07, 47.78s/it]"
     ]
    },
    {
     "name": "stdout",
     "output_type": "stream",
     "text": [
      "2022-08-08 23:22:43,386 - detection_util - INFO - Processing file: 148_A.jpg\n"
     ]
    },
    {
     "name": "stderr",
     "output_type": "stream",
     "text": [
      " 21%|██        | 205/994 [2:40:10<10:20:04, 47.15s/it]"
     ]
    },
    {
     "name": "stdout",
     "output_type": "stream",
     "text": [
      "2022-08-08 23:23:29,073 - detection_util - INFO - Processing file: 280_D.jpg\n"
     ]
    },
    {
     "name": "stderr",
     "output_type": "stream",
     "text": [
      " 21%|██        | 206/994 [2:41:03<10:41:59, 48.88s/it]"
     ]
    },
    {
     "name": "stdout",
     "output_type": "stream",
     "text": [
      "2022-08-08 23:24:21,988 - detection_util - INFO - Processing file: 408_B.jpg\n"
     ]
    },
    {
     "name": "stderr",
     "output_type": "stream",
     "text": [
      " 21%|██        | 207/994 [2:41:31<9:21:36, 42.82s/it] "
     ]
    },
    {
     "name": "stdout",
     "output_type": "stream",
     "text": [
      "2022-08-08 23:24:50,653 - detection_util - INFO - Processing file: 325_D.jpg\n"
     ]
    },
    {
     "name": "stderr",
     "output_type": "stream",
     "text": [
      " 62%|██████▏   | 617/994 [8:10:11<4:41:27, 44.79s/it]"
     ]
    },
    {
     "name": "stdout",
     "output_type": "stream",
     "text": [
      "2022-08-09 04:53:30,335 - detection_util - INFO - Processing file: 374_A.jpg\n"
     ]
    },
    {
     "name": "stderr",
     "output_type": "stream",
     "text": [
      " 62%|██████▏   | 618/994 [8:10:51<4:31:02, 43.25s/it]"
     ]
    },
    {
     "name": "stdout",
     "output_type": "stream",
     "text": [
      "2022-08-09 04:54:09,985 - detection_util - INFO - Processing file: 119_D.jpg\n"
     ]
    },
    {
     "name": "stderr",
     "output_type": "stream",
     "text": [
      " 62%|██████▏   | 619/994 [8:11:52<5:04:13, 48.68s/it]"
     ]
    },
    {
     "name": "stdout",
     "output_type": "stream",
     "text": [
      "2022-08-09 04:55:11,322 - detection_util - INFO - Processing file: 355_B.jpg\n"
     ]
    },
    {
     "name": "stderr",
     "output_type": "stream",
     "text": [
      " 62%|██████▏   | 620/994 [8:12:45<5:12:11, 50.08s/it]"
     ]
    },
    {
     "name": "stdout",
     "output_type": "stream",
     "text": [
      "2022-08-09 04:56:04,689 - detection_util - INFO - Processing file: 29_D.jpg\n"
     ]
    },
    {
     "name": "stderr",
     "output_type": "stream",
     "text": [
      " 62%|██████▏   | 621/994 [8:13:39<5:17:36, 51.09s/it]"
     ]
    },
    {
     "name": "stdout",
     "output_type": "stream",
     "text": [
      "2022-08-09 04:56:58,129 - detection_util - INFO - Processing file: 419_A.jpg\n"
     ]
    },
    {
     "name": "stderr",
     "output_type": "stream",
     "text": [
      " 63%|██████▎   | 622/994 [8:14:24<5:06:35, 49.45s/it]"
     ]
    },
    {
     "name": "stdout",
     "output_type": "stream",
     "text": [
      "2022-08-09 04:57:43,751 - detection_util - INFO - Processing file: 338_A.jpg\n"
     ]
    },
    {
     "name": "stderr",
     "output_type": "stream",
     "text": [
      " 63%|██████▎   | 623/994 [8:15:13<5:05:04, 49.34s/it]"
     ]
    },
    {
     "name": "stdout",
     "output_type": "stream",
     "text": [
      "2022-08-09 04:58:32,833 - detection_util - INFO - Processing file: 176_A.jpg\n"
     ]
    },
    {
     "name": "stderr",
     "output_type": "stream",
     "text": [
      " 63%|██████▎   | 624/994 [8:15:55<4:49:13, 46.90s/it]"
     ]
    },
    {
     "name": "stdout",
     "output_type": "stream",
     "text": [
      "2022-08-09 04:59:14,042 - detection_util - INFO - Processing file: 274_B.jpg\n"
     ]
    },
    {
     "name": "stderr",
     "output_type": "stream",
     "text": [
      " 63%|██████▎   | 625/994 [8:16:50<5:03:39, 49.38s/it]"
     ]
    },
    {
     "name": "stdout",
     "output_type": "stream",
     "text": [
      "2022-08-09 05:00:09,196 - detection_util - INFO - Processing file: 236_D.jpg\n"
     ]
    },
    {
     "name": "stderr",
     "output_type": "stream",
     "text": [
      " 63%|██████▎   | 626/994 [8:17:42<5:07:17, 50.10s/it]"
     ]
    },
    {
     "name": "stdout",
     "output_type": "stream",
     "text": [
      "2022-08-09 05:01:00,987 - detection_util - INFO - Processing file: 67_B.jpg\n"
     ]
    },
    {
     "name": "stderr",
     "output_type": "stream",
     "text": [
      " 63%|██████▎   | 627/994 [8:18:35<5:12:55, 51.16s/it]"
     ]
    },
    {
     "name": "stdout",
     "output_type": "stream",
     "text": [
      "2022-08-09 05:01:54,619 - detection_util - INFO - Processing file: 317_D.jpg\n"
     ]
    },
    {
     "name": "stderr",
     "output_type": "stream",
     "text": [
      " 63%|██████▎   | 628/994 [8:19:28<5:14:33, 51.57s/it]"
     ]
    },
    {
     "name": "stdout",
     "output_type": "stream",
     "text": [
      "2022-08-09 05:02:47,137 - detection_util - INFO - Processing file: 239_A.jpg\n"
     ]
    },
    {
     "name": "stderr",
     "output_type": "stream",
     "text": [
      " 63%|██████▎   | 629/994 [8:20:10<4:56:46, 48.78s/it]"
     ]
    },
    {
     "name": "stdout",
     "output_type": "stream",
     "text": [
      "2022-08-09 05:03:29,428 - detection_util - INFO - Processing file: 337_B.jpg\n"
     ]
    },
    {
     "name": "stderr",
     "output_type": "stream",
     "text": [
      " 63%|██████▎   | 630/994 [8:21:04<5:05:18, 50.33s/it]"
     ]
    },
    {
     "name": "stdout",
     "output_type": "stream",
     "text": [
      "2022-08-09 05:04:23,351 - detection_util - INFO - Processing file: 418_B.jpg\n"
     ]
    },
    {
     "name": "stderr",
     "output_type": "stream",
     "text": [
      " 63%|██████▎   | 631/994 [8:21:37<4:32:34, 45.05s/it]"
     ]
    },
    {
     "name": "stdout",
     "output_type": "stream",
     "text": [
      "2022-08-09 05:04:56,104 - detection_util - INFO - Processing file: 158_A.jpg\n"
     ]
    },
    {
     "name": "stderr",
     "output_type": "stream",
     "text": [
      " 64%|██████▎   | 632/994 [8:22:18<4:25:50, 44.06s/it]"
     ]
    },
    {
     "name": "stdout",
     "output_type": "stream",
     "text": [
      "2022-08-09 05:05:37,851 - detection_util - INFO - Processing file: 83_D.jpg\n"
     ]
    },
    {
     "name": "stderr",
     "output_type": "stream",
     "text": [
      " 64%|██████▎   | 633/994 [8:23:05<4:30:16, 44.92s/it]"
     ]
    },
    {
     "name": "stdout",
     "output_type": "stream",
     "text": [
      "2022-08-09 05:06:24,781 - detection_util - INFO - Processing file: 49_B.jpg\n"
     ]
    },
    {
     "name": "stderr",
     "output_type": "stream",
     "text": [
      " 64%|██████▍   | 634/994 [8:23:47<4:23:09, 43.86s/it]"
     ]
    },
    {
     "name": "stdout",
     "output_type": "stream",
     "text": [
      "2022-08-09 05:07:06,164 - detection_util - INFO - Processing file: 392_A.jpg\n"
     ]
    },
    {
     "name": "stderr",
     "output_type": "stream",
     "text": [
      " 64%|██████▍   | 635/994 [8:24:30<4:20:53, 43.60s/it]"
     ]
    },
    {
     "name": "stdout",
     "output_type": "stream",
     "text": [
      "2022-08-09 05:07:49,167 - detection_util - INFO - Processing file: 66_C.jpg\n"
     ]
    },
    {
     "name": "stderr",
     "output_type": "stream",
     "text": [
      " 64%|██████▍   | 636/994 [8:25:13<4:18:50, 43.38s/it]"
     ]
    },
    {
     "name": "stdout",
     "output_type": "stream",
     "text": [
      "2022-08-09 05:08:32,028 - detection_util - INFO - Processing file: 275_A.jpg\n"
     ]
    },
    {
     "name": "stderr",
     "output_type": "stream",
     "text": [
      " 64%|██████▍   | 637/994 [8:26:15<4:51:35, 49.01s/it]"
     ]
    },
    {
     "name": "stdout",
     "output_type": "stream",
     "text": [
      "2022-08-09 05:09:34,163 - detection_util - INFO - Processing file: 47_D.jpg\n"
     ]
    },
    {
     "name": "stderr",
     "output_type": "stream",
     "text": [
      " 64%|██████▍   | 638/994 [8:27:08<4:58:43, 50.35s/it]"
     ]
    },
    {
     "name": "stdout",
     "output_type": "stream",
     "text": [
      "2022-08-09 05:10:27,635 - detection_util - INFO - Processing file: 356_A.jpg\n"
     ]
    },
    {
     "name": "stderr",
     "output_type": "stream",
     "text": [
      " 64%|██████▍   | 639/994 [8:28:04<5:07:24, 51.96s/it]"
     ]
    },
    {
     "name": "stdout",
     "output_type": "stream",
     "text": [
      "2022-08-09 05:11:23,346 - detection_util - INFO - Processing file: 292_B.jpg\n"
     ]
    },
    {
     "name": "stderr",
     "output_type": "stream",
     "text": [
      " 64%|██████▍   | 640/994 [8:28:47<4:51:30, 49.41s/it]"
     ]
    },
    {
     "name": "stdout",
     "output_type": "stream",
     "text": [
      "2022-08-09 05:12:06,812 - detection_util - INFO - Processing file: 194_A.jpg\n"
     ]
    },
    {
     "name": "stderr",
     "output_type": "stream",
     "text": [
      " 64%|██████▍   | 641/994 [8:29:30<4:39:14, 47.46s/it]"
     ]
    },
    {
     "name": "stdout",
     "output_type": "stream",
     "text": [
      "2022-08-09 05:12:49,733 - detection_util - INFO - Processing file: 85_B.jpg\n"
     ]
    },
    {
     "name": "stderr",
     "output_type": "stream",
     "text": [
      " 65%|██████▍   | 642/994 [8:30:30<4:59:36, 51.07s/it]"
     ]
    },
    {
     "name": "stdout",
     "output_type": "stream",
     "text": [
      "2022-08-09 05:13:49,224 - detection_util - INFO - Processing file: 335_D.jpg\n"
     ]
    },
    {
     "name": "stderr",
     "output_type": "stream",
     "text": [
      " 65%|██████▍   | 643/994 [8:31:36<5:25:13, 55.59s/it]"
     ]
    },
    {
     "name": "stdout",
     "output_type": "stream",
     "text": [
      "2022-08-09 05:14:55,374 - detection_util - INFO - Processing file: 68_A.jpg\n"
     ]
    },
    {
     "name": "stderr",
     "output_type": "stream",
     "text": [
      " 65%|██████▍   | 644/994 [8:32:38<5:35:50, 57.57s/it]"
     ]
    },
    {
     "name": "stdout",
     "output_type": "stream",
     "text": [
      "2022-08-09 05:15:57,567 - detection_util - INFO - Processing file: 362_D.jpg\n"
     ]
    },
    {
     "name": "stderr",
     "output_type": "stream",
     "text": [
      " 65%|██████▍   | 645/994 [8:33:30<5:25:24, 55.94s/it]"
     ]
    },
    {
     "name": "stdout",
     "output_type": "stream",
     "text": [
      "2022-08-09 05:16:49,710 - detection_util - INFO - Processing file: 304_DD.jpg\n"
     ]
    },
    {
     "name": "stderr",
     "output_type": "stream",
     "text": [
      " 65%|██████▍   | 646/994 [8:34:33<5:36:57, 58.10s/it]"
     ]
    },
    {
     "name": "stdout",
     "output_type": "stream",
     "text": [
      "2022-08-09 05:17:52,827 - detection_util - INFO - Processing file: 328_B.jpg\n"
     ]
    },
    {
     "name": "stderr",
     "output_type": "stream",
     "text": [
      " 65%|██████▌   | 647/994 [8:35:27<5:28:40, 56.83s/it]"
     ]
    },
    {
     "name": "stdout",
     "output_type": "stream",
     "text": [
      "2022-08-09 05:18:46,708 - detection_util - INFO - Processing file: 409_B.jpg\n"
     ]
    },
    {
     "name": "stderr",
     "output_type": "stream",
     "text": [
      " 65%|██████▌   | 648/994 [8:36:15<5:12:09, 54.13s/it]"
     ]
    },
    {
     "name": "stdout",
     "output_type": "stream",
     "text": [
      "2022-08-09 05:19:34,538 - detection_util - INFO - Processing file: 74_D.jpg\n"
     ]
    },
    {
     "name": "stderr",
     "output_type": "stream",
     "text": [
      " 65%|██████▌   | 649/994 [8:37:12<5:16:01, 54.96s/it]"
     ]
    },
    {
     "name": "stdout",
     "output_type": "stream",
     "text": [
      "2022-08-09 05:20:31,437 - detection_util - INFO - Processing file: 57_C.jpg\n"
     ]
    },
    {
     "name": "stderr",
     "output_type": "stream",
     "text": [
      " 65%|██████▌   | 650/994 [8:37:53<4:51:10, 50.79s/it]"
     ]
    },
    {
     "name": "stdout",
     "output_type": "stream",
     "text": [
      "2022-08-09 05:21:12,485 - detection_util - INFO - Processing file: 38_D.jpg\n"
     ]
    },
    {
     "name": "stderr",
     "output_type": "stream",
     "text": [
      " 65%|██████▌   | 651/994 [8:38:34<4:33:32, 47.85s/it]"
     ]
    },
    {
     "name": "stdout",
     "output_type": "stream",
     "text": [
      "2022-08-09 05:21:53,483 - detection_util - INFO - Processing file: 266_A.jpg\n"
     ]
    },
    {
     "name": "stderr",
     "output_type": "stream",
     "text": [
      " 66%|██████▌   | 652/994 [8:39:24<4:36:00, 48.42s/it]"
     ]
    },
    {
     "name": "stdout",
     "output_type": "stream",
     "text": [
      "2022-08-09 05:22:43,243 - detection_util - INFO - Processing file: 185_A.jpg\n"
     ]
    },
    {
     "name": "stderr",
     "output_type": "stream",
     "text": [
      " 66%|██████▌   | 653/994 [8:40:04<4:21:52, 46.08s/it]"
     ]
    },
    {
     "name": "stdout",
     "output_type": "stream",
     "text": [
      "2022-08-09 05:23:23,843 - detection_util - INFO - Processing file: 283_B.jpg\n"
     ]
    },
    {
     "name": "stderr",
     "output_type": "stream",
     "text": [
      " 66%|██████▌   | 654/994 [8:41:01<4:38:52, 49.21s/it]"
     ]
    },
    {
     "name": "stdout",
     "output_type": "stream",
     "text": [
      "2022-08-09 05:24:20,379 - detection_util - INFO - Processing file: 347_A.jpg\n"
     ]
    },
    {
     "name": "stderr",
     "output_type": "stream",
     "text": [
      " 66%|██████▌   | 655/994 [8:41:41<4:21:39, 46.31s/it]"
     ]
    },
    {
     "name": "stdout",
     "output_type": "stream",
     "text": [
      "2022-08-09 05:24:59,917 - detection_util - INFO - Processing file: 407_D.jpg\n"
     ]
    },
    {
     "name": "stderr",
     "output_type": "stream",
     "text": [
      " 66%|██████▌   | 656/994 [8:42:28<4:23:31, 46.78s/it]"
     ]
    },
    {
     "name": "stdout",
     "output_type": "stream",
     "text": [
      "2022-08-09 05:25:47,790 - detection_util - INFO - Processing file: 76_B.jpg\n"
     ]
    },
    {
     "name": "stderr",
     "output_type": "stream",
     "text": [
      " 66%|██████▌   | 657/994 [8:43:23<4:36:37, 49.25s/it]"
     ]
    },
    {
     "name": "stdout",
     "output_type": "stream",
     "text": [
      "2022-08-09 05:26:42,804 - detection_util - INFO - Processing file: 59_A.jpg\n"
     ]
    },
    {
     "name": "stderr",
     "output_type": "stream",
     "text": [
      " 66%|██████▌   | 658/994 [8:44:15<4:38:59, 49.82s/it]"
     ]
    },
    {
     "name": "stdout",
     "output_type": "stream",
     "text": [
      "2022-08-09 05:27:33,949 - detection_util - INFO - Processing file: 326_D.jpg\n"
     ]
    },
    {
     "name": "stderr",
     "output_type": "stream",
     "text": [
      " 66%|██████▋   | 659/994 [8:45:08<4:44:26, 50.94s/it]"
     ]
    },
    {
     "name": "stdout",
     "output_type": "stream",
     "text": [
      "2022-08-09 05:28:27,520 - detection_util - INFO - Processing file: 85_A_2nd_stain.jpg\n"
     ]
    },
    {
     "name": "stderr",
     "output_type": "stream",
     "text": [
      " 66%|██████▋   | 660/994 [8:46:11<5:03:25, 54.51s/it]"
     ]
    },
    {
     "name": "stdout",
     "output_type": "stream",
     "text": [
      "2022-08-09 05:29:30,346 - detection_util - INFO - Processing file: 380_D.jpg\n"
     ]
    },
    {
     "name": "stderr",
     "output_type": "stream",
     "text": [
      " 66%|██████▋   | 661/994 [8:47:06<5:03:36, 54.70s/it]"
     ]
    },
    {
     "name": "stdout",
     "output_type": "stream",
     "text": [
      "2022-08-09 05:30:25,505 - detection_util - INFO - Processing file: 346_B.jpg\n"
     ]
    },
    {
     "name": "stderr",
     "output_type": "stream",
     "text": [
      " 67%|██████▋   | 662/994 [8:47:48<4:42:02, 50.97s/it]"
     ]
    },
    {
     "name": "stdout",
     "output_type": "stream",
     "text": [
      "2022-08-09 05:31:07,772 - detection_util - INFO - Processing file: 248_A.jpg\n"
     ]
    },
    {
     "name": "stderr",
     "output_type": "stream",
     "text": [
      " 67%|██████▋   | 663/994 [8:48:41<4:44:14, 51.52s/it]"
     ]
    },
    {
     "name": "stdout",
     "output_type": "stream",
     "text": [
      "2022-08-09 05:32:00,583 - detection_util - INFO - Processing file: 265_B.jpg\n"
     ]
    },
    {
     "name": "stderr",
     "output_type": "stream",
     "text": [
      " 67%|██████▋   | 664/994 [8:49:23<4:27:46, 48.69s/it]"
     ]
    },
    {
     "name": "stdout",
     "output_type": "stream",
     "text": [
      "2022-08-09 05:32:42,645 - detection_util - INFO - Processing file: 167_A.jpg\n"
     ]
    },
    {
     "name": "stderr",
     "output_type": "stream",
     "text": [
      " 67%|██████▋   | 665/994 [8:50:06<4:17:13, 46.91s/it]"
     ]
    },
    {
     "name": "stdout",
     "output_type": "stream",
     "text": [
      "2022-08-09 05:33:25,418 - detection_util - INFO - Processing file: 58_B.jpg\n"
     ]
    },
    {
     "name": "stderr",
     "output_type": "stream",
     "text": [
      " 67%|██████▋   | 666/994 [8:50:51<4:12:55, 46.27s/it]"
     ]
    },
    {
     "name": "stdout",
     "output_type": "stream",
     "text": [
      "2022-08-09 05:34:10,177 - detection_util - INFO - Processing file: 146_D.jpg\n"
     ]
    },
    {
     "name": "stderr",
     "output_type": "stream",
     "text": [
      " 67%|██████▋   | 667/994 [8:51:54<4:39:44, 51.33s/it]"
     ]
    },
    {
     "name": "stdout",
     "output_type": "stream",
     "text": [
      "2022-08-09 05:35:13,314 - detection_util - INFO - Processing file: 75_C.jpg\n"
     ]
    },
    {
     "name": "stderr",
     "output_type": "stream",
     "text": [
      " 67%|██████▋   | 668/994 [8:52:42<4:33:04, 50.26s/it]"
     ]
    },
    {
     "name": "stdout",
     "output_type": "stream",
     "text": [
      "2022-08-09 05:36:01,084 - detection_util - INFO - Processing file: 382_B.jpg\n"
     ]
    },
    {
     "name": "stderr",
     "output_type": "stream",
     "text": [
      " 67%|██████▋   | 669/994 [8:53:16<4:06:56, 45.59s/it]"
     ]
    },
    {
     "name": "stdout",
     "output_type": "stream",
     "text": [
      "2022-08-09 05:36:35,770 - detection_util - INFO - Processing file: 56_D.jpg\n"
     ]
    },
    {
     "name": "stderr",
     "output_type": "stream",
     "text": [
      " 67%|██████▋   | 670/994 [8:54:12<4:22:39, 48.64s/it]"
     ]
    },
    {
     "name": "stdout",
     "output_type": "stream",
     "text": [
      "2022-08-09 05:37:31,532 - detection_util - INFO - Processing file: 284_A.jpg\n"
     ]
    },
    {
     "name": "stderr",
     "output_type": "stream",
     "text": [
      " 68%|██████▊   | 671/994 [8:54:59<4:19:26, 48.19s/it]"
     ]
    },
    {
     "name": "stdout",
     "output_type": "stream",
     "text": [
      "2022-08-09 05:38:18,680 - detection_util - INFO - Processing file: 39_C.jpg\n"
     ]
    },
    {
     "name": "stderr",
     "output_type": "stream",
     "text": [
      " 68%|██████▊   | 672/994 [8:55:40<4:07:04, 46.04s/it]"
     ]
    },
    {
     "name": "stdout",
     "output_type": "stream",
     "text": [
      "2022-08-09 05:38:59,694 - detection_util - INFO - Processing file: 365_A.jpg\n"
     ]
    },
    {
     "name": "stderr",
     "output_type": "stream",
     "text": [
      " 68%|██████▊   | 673/994 [8:56:25<4:04:32, 45.71s/it]"
     ]
    },
    {
     "name": "stdout",
     "output_type": "stream",
     "text": [
      "2022-08-09 05:39:44,633 - detection_util - INFO - Processing file: 77_A.jpg\n"
     ]
    },
    {
     "name": "stderr",
     "output_type": "stream",
     "text": [
      " 68%|██████▊   | 674/994 [8:57:29<4:32:32, 51.10s/it]"
     ]
    },
    {
     "name": "stdout",
     "output_type": "stream",
     "text": [
      "2022-08-09 05:40:48,314 - detection_util - INFO - Processing file: 111_B.jpg\n"
     ]
    },
    {
     "name": "stderr",
     "output_type": "stream",
     "text": [
      " 68%|██████▊   | 675/994 [8:58:22<4:34:56, 51.71s/it]"
     ]
    },
    {
     "name": "stdout",
     "output_type": "stream",
     "text": [
      "2022-08-09 05:41:41,453 - detection_util - INFO - Processing file: 40_A.jpg\n"
     ]
    },
    {
     "name": "stderr",
     "output_type": "stream",
     "text": [
      " 68%|██████▊   | 676/994 [8:59:19<4:42:02, 53.21s/it]"
     ]
    },
    {
     "name": "stdout",
     "output_type": "stream",
     "text": [
      "2022-08-09 05:42:38,173 - detection_util - INFO - Processing file: 265_DD.jpg\n"
     ]
    },
    {
     "name": "stderr",
     "output_type": "stream",
     "text": [
      " 68%|██████▊   | 677/994 [9:00:04<4:28:14, 50.77s/it]"
     ]
    },
    {
     "name": "stdout",
     "output_type": "stream",
     "text": [
      "2022-08-09 05:43:23,247 - detection_util - INFO - Processing file: 211_A.jpg\n"
     ]
    },
    {
     "name": "stderr",
     "output_type": "stream",
     "text": [
      " 68%|██████▊   | 678/994 [9:00:54<4:26:48, 50.66s/it]"
     ]
    },
    {
     "name": "stdout",
     "output_type": "stream",
     "text": [
      "2022-08-09 05:44:13,645 - detection_util - INFO - Processing file: 130_A.jpg\n"
     ]
    },
    {
     "name": "stderr",
     "output_type": "stream",
     "text": [
      " 68%|██████▊   | 679/994 [9:01:39<4:15:59, 48.76s/it]"
     ]
    },
    {
     "name": "stdout",
     "output_type": "stream",
     "text": [
      "2022-08-09 05:44:57,977 - detection_util - INFO - Processing file: 21_B.jpg\n"
     ]
    },
    {
     "name": "stderr",
     "output_type": "stream",
     "text": [
      " 68%|██████▊   | 680/994 [9:02:31<4:20:27, 49.77s/it]"
     ]
    },
    {
     "name": "stdout",
     "output_type": "stream",
     "text": [
      "2022-08-09 05:45:50,097 - detection_util - INFO - Processing file: 388_B.jpg\n"
     ]
    },
    {
     "name": "stderr",
     "output_type": "stream",
     "text": [
      " 69%|██████▊   | 681/994 [9:03:30<4:34:25, 52.60s/it]"
     ]
    },
    {
     "name": "stdout",
     "output_type": "stream",
     "text": [
      "2022-08-09 05:46:49,315 - detection_util - INFO - Processing file: 283_DD.jpg\n"
     ]
    },
    {
     "name": "stderr",
     "output_type": "stream",
     "text": [
      " 69%|██████▊   | 682/994 [9:04:36<4:54:19, 56.60s/it]"
     ]
    },
    {
     "name": "stdout",
     "output_type": "stream",
     "text": [
      "2022-08-09 05:47:55,243 - detection_util - INFO - Processing file: 23_Axtra.jpg\n"
     ]
    },
    {
     "name": "stderr",
     "output_type": "stream",
     "text": [
      " 69%|██████▊   | 683/994 [9:05:20<4:34:28, 52.95s/it]"
     ]
    },
    {
     "name": "stdout",
     "output_type": "stream",
     "text": [
      "2022-08-09 05:48:39,685 - detection_util - INFO - Processing file: 112_A.jpg\n"
     ]
    },
    {
     "name": "stderr",
     "output_type": "stream",
     "text": [
      " 69%|██████▉   | 684/994 [9:06:06<4:22:32, 50.82s/it]"
     ]
    },
    {
     "name": "stdout",
     "output_type": "stream",
     "text": [
      "2022-08-09 05:49:25,513 - detection_util - INFO - Processing file: 289_B.jpg\n"
     ]
    },
    {
     "name": "stderr",
     "output_type": "stream",
     "text": [
      " 69%|██████▉   | 685/994 [9:06:47<4:06:38, 47.89s/it]"
     ]
    },
    {
     "name": "stdout",
     "output_type": "stream",
     "text": [
      "2022-08-09 05:50:06,578 - detection_util - INFO - Processing file: 20_C.jpg\n"
     ]
    },
    {
     "name": "stderr",
     "output_type": "stream",
     "text": [
      " 69%|██████▉   | 686/994 [9:07:20<3:42:04, 43.26s/it]"
     ]
    },
    {
     "name": "stdout",
     "output_type": "stream",
     "text": [
      "2022-08-09 05:50:39,040 - detection_util - INFO - Processing file: 310_A.jpg\n"
     ]
    },
    {
     "name": "stderr",
     "output_type": "stream",
     "text": [
      " 69%|██████▉   | 687/994 [9:08:17<4:03:05, 47.51s/it]"
     ]
    },
    {
     "name": "stdout",
     "output_type": "stream",
     "text": [
      "2022-08-09 05:51:36,460 - detection_util - INFO - Processing file: 22_A.jpg\n"
     ]
    },
    {
     "name": "stderr",
     "output_type": "stream",
     "text": [
      " 69%|██████▉   | 688/994 [9:09:23<4:30:23, 53.02s/it]"
     ]
    },
    {
     "name": "stdout",
     "output_type": "stream",
     "text": [
      "2022-08-09 05:52:42,336 - detection_util - INFO - Processing file: 389_A.jpg\n"
     ]
    },
    {
     "name": "stderr",
     "output_type": "stream",
     "text": [
      " 69%|██████▉   | 689/994 [9:10:00<4:05:40, 48.33s/it]"
     ]
    },
    {
     "name": "stdout",
     "output_type": "stream",
     "text": [
      "2022-08-09 05:53:19,728 - detection_util - INFO - Processing file: 120_B.jpg\n"
     ]
    },
    {
     "name": "stderr",
     "output_type": "stream",
     "text": [
      " 69%|██████▉   | 690/994 [9:11:06<4:31:56, 53.67s/it]"
     ]
    },
    {
     "name": "stdout",
     "output_type": "stream",
     "text": [
      "2022-08-09 05:54:25,862 - detection_util - INFO - Processing file: 274_DD.jpg\n"
     ]
    },
    {
     "name": "stderr",
     "output_type": "stream",
     "text": [
      " 70%|██████▉   | 691/994 [9:12:02<4:33:11, 54.10s/it]"
     ]
    },
    {
     "name": "stdout",
     "output_type": "stream",
     "text": [
      "2022-08-09 05:55:20,947 - detection_util - INFO - Processing file: 201_B.jpg\n"
     ]
    },
    {
     "name": "stderr",
     "output_type": "stream",
     "text": [
      " 70%|██████▉   | 692/994 [9:12:46<4:17:47, 51.22s/it]"
     ]
    },
    {
     "name": "stdout",
     "output_type": "stream",
     "text": [
      "2022-08-09 05:56:05,446 - detection_util - INFO - Processing file: 103_A.jpg\n"
     ]
    },
    {
     "name": "stderr",
     "output_type": "stream",
     "text": [
      " 70%|██████▉   | 693/994 [9:13:43<4:25:53, 53.00s/it]"
     ]
    },
    {
     "name": "stdout",
     "output_type": "stream",
     "text": [
      "2022-08-09 05:57:02,615 - detection_util - INFO - Processing file: 4_A.jpg\n"
     ]
    },
    {
     "name": "stderr",
     "output_type": "stream",
     "text": [
      " 70%|██████▉   | 694/994 [9:14:43<4:34:54, 54.98s/it]"
     ]
    },
    {
     "name": "stdout",
     "output_type": "stream",
     "text": [
      "2022-08-09 05:58:02,218 - detection_util - INFO - Processing file: 395_D.jpg\n"
     ]
    },
    {
     "name": "stderr",
     "output_type": "stream",
     "text": [
      " 70%|██████▉   | 695/994 [9:15:32<4:25:44, 53.33s/it]"
     ]
    },
    {
     "name": "stdout",
     "output_type": "stream",
     "text": [
      "2022-08-09 05:58:51,679 - detection_util - INFO - Processing file: 11_C.jpg\n"
     ]
    },
    {
     "name": "stderr",
     "output_type": "stream",
     "text": [
      " 70%|███████   | 696/994 [9:16:08<3:59:06, 48.14s/it]"
     ]
    },
    {
     "name": "stdout",
     "output_type": "stream",
     "text": [
      "2022-08-09 05:59:27,728 - detection_util - INFO - Processing file: 220_A.jpg\n"
     ]
    },
    {
     "name": "stderr",
     "output_type": "stream",
     "text": [
      " 70%|███████   | 697/994 [9:17:00<4:02:50, 49.06s/it]"
     ]
    },
    {
     "name": "stdout",
     "output_type": "stream",
     "text": [
      "2022-08-09 06:00:18,925 - detection_util - INFO - Processing file: 359_D.jpg\n"
     ]
    },
    {
     "name": "stderr",
     "output_type": "stream",
     "text": [
      " 70%|███████   | 698/994 [9:17:37<3:45:18, 45.67s/it]"
     ]
    },
    {
     "name": "stdout",
     "output_type": "stream",
     "text": [
      "2022-08-09 06:00:56,688 - detection_util - INFO - Processing file: 2_C.jpg\n"
     ]
    },
    {
     "name": "stderr",
     "output_type": "stream",
     "text": [
      " 70%|███████   | 699/994 [9:18:28<3:51:44, 47.13s/it]"
     ]
    },
    {
     "name": "stdout",
     "output_type": "stream",
     "text": [
      "2022-08-09 06:01:47,236 - detection_util - INFO - Processing file: 301_A.jpg\n"
     ]
    },
    {
     "name": "stderr",
     "output_type": "stream",
     "text": [
      " 70%|███████   | 700/994 [9:18:59<3:27:21, 42.32s/it]"
     ]
    },
    {
     "name": "stdout",
     "output_type": "stream",
     "text": [
      "2022-08-09 06:02:18,312 - detection_util - INFO - Processing file: 278_D.jpg\n"
     ]
    },
    {
     "name": "stderr",
     "output_type": "stream",
     "text": [
      " 71%|███████   | 701/994 [9:19:48<3:36:39, 44.37s/it]"
     ]
    },
    {
     "name": "stdout",
     "output_type": "stream",
     "text": [
      "2022-08-09 06:03:07,460 - detection_util - INFO - Processing file: 299_A.jpg\n"
     ]
    },
    {
     "name": "stderr",
     "output_type": "stream",
     "text": [
      " 71%|███████   | 702/994 [9:20:42<3:50:03, 47.27s/it]"
     ]
    },
    {
     "name": "stdout",
     "output_type": "stream",
     "text": [
      "2022-08-09 06:04:01,509 - detection_util - INFO - Processing file: 397_B.jpg\n"
     ]
    },
    {
     "name": "stderr",
     "output_type": "stream",
     "text": [
      " 71%|███████   | 703/994 [9:21:34<3:55:35, 48.58s/it]"
     ]
    },
    {
     "name": "stdout",
     "output_type": "stream",
     "text": [
      "2022-08-09 06:04:53,128 - detection_util - INFO - Processing file: 30_B.jpg\n"
     ]
    },
    {
     "name": "stderr",
     "output_type": "stream",
     "text": [
      " 71%|███████   | 704/994 [9:22:33<4:09:35, 51.64s/it]"
     ]
    },
    {
     "name": "stdout",
     "output_type": "stream",
     "text": [
      "2022-08-09 06:05:51,918 - detection_util - INFO - Processing file: 13_A.jpg\n"
     ]
    },
    {
     "name": "stderr",
     "output_type": "stream",
     "text": [
      " 71%|███████   | 705/994 [9:23:01<3:35:10, 44.67s/it]"
     ]
    },
    {
     "name": "stdout",
     "output_type": "stream",
     "text": [
      "2022-08-09 06:06:20,340 - detection_util - INFO - Processing file: 300_B.jpg\n"
     ]
    },
    {
     "name": "stderr",
     "output_type": "stream",
     "text": [
      " 71%|███████   | 706/994 [9:23:49<3:38:51, 45.60s/it]"
     ]
    },
    {
     "name": "stdout",
     "output_type": "stream",
     "text": [
      "2022-08-09 06:07:08,087 - detection_util - INFO - Processing file: 202_A.jpg\n"
     ]
    },
    {
     "name": "stderr",
     "output_type": "stream",
     "text": [
      " 71%|███████   | 707/994 [9:24:22<3:19:51, 41.78s/it]"
     ]
    },
    {
     "name": "stdout",
     "output_type": "stream",
     "text": [
      "2022-08-09 06:07:40,968 - detection_util - INFO - Processing file: 32_Axtra.jpg\n"
     ]
    },
    {
     "name": "stderr",
     "output_type": "stream",
     "text": [
      " 71%|███████   | 708/994 [9:25:21<3:44:40, 47.14s/it]"
     ]
    },
    {
     "name": "stdout",
     "output_type": "stream",
     "text": [
      "2022-08-09 06:08:40,598 - detection_util - INFO - Processing file: 1_D.jpg\n"
     ]
    },
    {
     "name": "stderr",
     "output_type": "stream",
     "text": [
      " 71%|███████▏  | 709/994 [9:26:20<4:00:04, 50.54s/it]"
     ]
    },
    {
     "name": "stdout",
     "output_type": "stream",
     "text": [
      "2022-08-09 06:09:39,086 - detection_util - INFO - Processing file: 121_A.jpg\n"
     ]
    },
    {
     "name": "stderr",
     "output_type": "stream",
     "text": [
      " 71%|███████▏  | 710/994 [9:27:17<4:08:55, 52.59s/it]"
     ]
    },
    {
     "name": "stdout",
     "output_type": "stream",
     "text": [
      "2022-08-09 06:10:36,458 - detection_util - INFO - Processing file: 12_B.jpg\n"
     ]
    },
    {
     "name": "stderr",
     "output_type": "stream",
     "text": [
      " 72%|███████▏  | 711/994 [9:27:49<3:38:13, 46.27s/it]"
     ]
    },
    {
     "name": "stdout",
     "output_type": "stream",
     "text": [
      "2022-08-09 06:11:07,971 - detection_util - INFO - Processing file: 298_B.jpg\n"
     ]
    },
    {
     "name": "stderr",
     "output_type": "stream",
     "text": [
      " 72%|███████▏  | 712/994 [9:28:48<3:55:36, 50.13s/it]"
     ]
    },
    {
     "name": "stdout",
     "output_type": "stream",
     "text": [
      "2022-08-09 06:12:07,110 - detection_util - INFO - Processing file: 10_D.jpg\n"
     ]
    },
    {
     "name": "stderr",
     "output_type": "stream",
     "text": [
      " 72%|███████▏  | 713/994 [9:29:36<3:52:22, 49.62s/it]"
     ]
    },
    {
     "name": "stdout",
     "output_type": "stream",
     "text": [
      "2022-08-09 06:12:55,530 - detection_util - INFO - Processing file: 400_A.jpg\n"
     ]
    },
    {
     "name": "stderr",
     "output_type": "stream",
     "text": [
      " 72%|███████▏  | 714/994 [9:30:17<3:38:52, 46.90s/it]"
     ]
    },
    {
     "name": "stdout",
     "output_type": "stream",
     "text": [
      "2022-08-09 06:13:36,102 - detection_util - INFO - Processing file: 21_A_2nd_stain.jpg\n"
     ]
    },
    {
     "name": "stderr",
     "output_type": "stream",
     "text": [
      " 72%|███████▏  | 715/994 [9:31:04<3:38:41, 47.03s/it]"
     ]
    },
    {
     "name": "stdout",
     "output_type": "stream",
     "text": [
      "2022-08-09 06:14:23,429 - detection_util - INFO - Processing file: 3_B.jpg\n"
     ]
    },
    {
     "name": "stderr",
     "output_type": "stream",
     "text": [
      " 72%|███████▏  | 716/994 [9:31:47<3:31:37, 45.67s/it]"
     ]
    },
    {
     "name": "stdout",
     "output_type": "stream",
     "text": [
      "2022-08-09 06:15:05,936 - detection_util - INFO - Processing file: 14xtra_A.jpg\n"
     ]
    },
    {
     "name": "stderr",
     "output_type": "stream",
     "text": [
      " 72%|███████▏  | 717/994 [9:32:19<3:12:14, 41.64s/it]"
     ]
    },
    {
     "name": "stdout",
     "output_type": "stream",
     "text": [
      "2022-08-09 06:15:38,172 - detection_util - INFO - Processing file: 31_A.jpg\n"
     ]
    },
    {
     "name": "stderr",
     "output_type": "stream",
     "text": [
      " 72%|███████▏  | 718/994 [9:33:12<3:27:33, 45.12s/it]"
     ]
    },
    {
     "name": "stdout",
     "output_type": "stream",
     "text": [
      "2022-08-09 06:16:31,409 - detection_util - INFO - Processing file: 65_B.jpg\n"
     ]
    },
    {
     "name": "stderr",
     "output_type": "stream",
     "text": [
      " 72%|███████▏  | 719/994 [9:34:13<3:47:54, 49.73s/it]"
     ]
    },
    {
     "name": "stdout",
     "output_type": "stream",
     "text": [
      "2022-08-09 06:17:31,879 - detection_util - INFO - Processing file: 48_A.jpg\n"
     ]
    },
    {
     "name": "stderr",
     "output_type": "stream",
     "text": [
      " 72%|███████▏  | 720/994 [9:34:56<3:38:08, 47.77s/it]"
     ]
    },
    {
     "name": "stdout",
     "output_type": "stream",
     "text": [
      "2022-08-09 06:18:15,086 - detection_util - INFO - Processing file: 82_C.jpg\n"
     ]
    },
    {
     "name": "stderr",
     "output_type": "stream",
     "text": [
      " 73%|███████▎  | 721/994 [9:35:57<3:55:47, 51.82s/it]"
     ]
    },
    {
     "name": "stdout",
     "output_type": "stream",
     "text": [
      "2022-08-09 06:19:16,365 - detection_util - INFO - Processing file: 315_D.jpg\n"
     ]
    },
    {
     "name": "stderr",
     "output_type": "stream",
     "text": [
      " 73%|███████▎  | 722/994 [9:36:35<3:36:02, 47.65s/it]"
     ]
    },
    {
     "name": "stdout",
     "output_type": "stream",
     "text": [
      "2022-08-09 06:19:54,295 - detection_util - INFO - Processing file: 119_B.jpg\n"
     ]
    },
    {
     "name": "stderr",
     "output_type": "stream",
     "text": [
      " 73%|███████▎  | 723/994 [9:37:37<3:54:56, 52.02s/it]"
     ]
    },
    {
     "name": "stdout",
     "output_type": "stream",
     "text": [
      "2022-08-09 06:20:56,485 - detection_util - INFO - Processing file: 272_B.jpg\n"
     ]
    },
    {
     "name": "stderr",
     "output_type": "stream",
     "text": [
      " 73%|███████▎  | 724/994 [9:38:18<3:39:36, 48.80s/it]"
     ]
    },
    {
     "name": "stdout",
     "output_type": "stream",
     "text": [
      "2022-08-09 06:21:37,790 - detection_util - INFO - Processing file: 174_A.jpg\n"
     ]
    },
    {
     "name": "stderr",
     "output_type": "stream",
     "text": [
      " 73%|███████▎  | 725/994 [9:39:06<3:37:34, 48.53s/it]"
     ]
    },
    {
     "name": "stdout",
     "output_type": "stream",
     "text": [
      "2022-08-09 06:22:25,688 - detection_util - INFO - Processing file: 336_A.jpg\n"
     ]
    },
    {
     "name": "stderr",
     "output_type": "stream",
     "text": [
      " 73%|███████▎  | 726/994 [9:39:57<3:40:01, 49.26s/it]"
     ]
    },
    {
     "name": "stdout",
     "output_type": "stream",
     "text": [
      "2022-08-09 06:23:16,650 - detection_util - INFO - Processing file: 353_B.jpg\n"
     ]
    },
    {
     "name": "stderr",
     "output_type": "stream",
     "text": [
      " 73%|███████▎  | 727/994 [9:40:48<3:41:16, 49.72s/it]"
     ]
    },
    {
     "name": "stdout",
     "output_type": "stream",
     "text": [
      "2022-08-09 06:24:07,453 - detection_util - INFO - Processing file: 27_D.jpg\n"
     ]
    },
    {
     "name": "stderr",
     "output_type": "stream",
     "text": [
      " 73%|███████▎  | 728/994 [9:41:48<3:53:19, 52.63s/it]"
     ]
    },
    {
     "name": "stdout",
     "output_type": "stream",
     "text": [
      "2022-08-09 06:25:06,870 - detection_util - INFO - Processing file: 255_A.jpg\n"
     ]
    },
    {
     "name": "stderr",
     "output_type": "stream",
     "text": [
      " 73%|███████▎  | 729/994 [9:42:39<3:50:52, 52.27s/it]"
     ]
    },
    {
     "name": "stdout",
     "output_type": "stream",
     "text": [
      "2022-08-09 06:25:58,311 - detection_util - INFO - Processing file: 417_A.jpg\n"
     ]
    },
    {
     "name": "stderr",
     "output_type": "stream",
     "text": [
      " 73%|███████▎  | 730/994 [9:43:35<3:54:35, 53.32s/it]"
     ]
    },
    {
     "name": "stdout",
     "output_type": "stream",
     "text": [
      "2022-08-09 06:26:54,057 - detection_util - INFO - Processing file: 236_B.jpg\n"
     ]
    },
    {
     "name": "stderr",
     "output_type": "stream",
     "text": [
      " 74%|███████▎  | 731/994 [9:44:22<3:45:14, 51.38s/it]"
     ]
    },
    {
     "name": "stdout",
     "output_type": "stream",
     "text": [
      "2022-08-09 06:27:40,934 - detection_util - INFO - Processing file: 138_A.jpg\n"
     ]
    },
    {
     "name": "stderr",
     "output_type": "stream",
     "text": [
      " 74%|███████▎  | 732/994 [9:45:02<3:29:40, 48.02s/it]"
     ]
    },
    {
     "name": "stdout",
     "output_type": "stream",
     "text": [
      "2022-08-09 06:28:21,089 - detection_util - INFO - Processing file: 317_B.jpg\n"
     ]
    },
    {
     "name": "stderr",
     "output_type": "stream",
     "text": [
      " 74%|███████▎  | 733/994 [9:45:47<3:25:11, 47.17s/it]"
     ]
    },
    {
     "name": "stdout",
     "output_type": "stream",
     "text": [
      "2022-08-09 06:29:06,291 - detection_util - INFO - Processing file: 219_A.jpg\n"
     ]
    },
    {
     "name": "stderr",
     "output_type": "stream",
     "text": [
      " 74%|███████▍  | 734/994 [9:46:31<3:19:49, 46.12s/it]"
     ]
    },
    {
     "name": "stdout",
     "output_type": "stream",
     "text": [
      "2022-08-09 06:29:49,941 - detection_util - INFO - Processing file: 84_A.jpg\n"
     ]
    },
    {
     "name": "stderr",
     "output_type": "stream",
     "text": [
      " 74%|███████▍  | 735/994 [9:47:17<3:19:37, 46.25s/it]"
     ]
    },
    {
     "name": "stdout",
     "output_type": "stream",
     "text": [
      "2022-08-09 06:30:36,490 - detection_util - INFO - Processing file: 351_D.jpg\n"
     ]
    },
    {
     "name": "stderr",
     "output_type": "stream",
     "text": [
      " 74%|███████▍  | 736/994 [9:48:05<3:21:20, 46.82s/it]"
     ]
    },
    {
     "name": "stdout",
     "output_type": "stream",
     "text": [
      "2022-08-09 06:31:24,665 - detection_util - INFO - Processing file: 117_D.jpg\n"
     ]
    },
    {
     "name": "stderr",
     "output_type": "stream",
     "text": [
      " 74%|███████▍  | 737/994 [9:48:53<3:21:20, 47.01s/it]"
     ]
    },
    {
     "name": "stdout",
     "output_type": "stream",
     "text": [
      "2022-08-09 06:32:12,096 - detection_util - INFO - Processing file: 63_D.jpg\n"
     ]
    },
    {
     "name": "stderr",
     "output_type": "stream",
     "text": [
      " 74%|███████▍  | 738/994 [9:49:23<2:58:45, 41.90s/it]"
     ]
    },
    {
     "name": "stdout",
     "output_type": "stream",
     "text": [
      "2022-08-09 06:32:42,073 - detection_util - INFO - Processing file: 291_A.jpg\n"
     ]
    },
    {
     "name": "stderr",
     "output_type": "stream",
     "text": [
      " 74%|███████▍  | 739/994 [9:50:30<3:29:52, 49.38s/it]"
     ]
    },
    {
     "name": "stdout",
     "output_type": "stream",
     "text": [
      "2022-08-09 06:33:48,916 - detection_util - INFO - Processing file: 29_B.jpg\n"
     ]
    },
    {
     "name": "stderr",
     "output_type": "stream",
     "text": [
      " 74%|███████▍  | 740/994 [9:51:22<3:32:26, 50.18s/it]"
     ]
    },
    {
     "name": "stdout",
     "output_type": "stream",
     "text": [
      "2022-08-09 06:34:40,967 - detection_util - INFO - Processing file: 83_B.jpg\n"
     ]
    },
    {
     "name": "stderr",
     "output_type": "stream",
     "text": [
      " 75%|███████▍  | 741/994 [9:52:23<3:45:12, 53.41s/it]"
     ]
    },
    {
     "name": "stdout",
     "output_type": "stream",
     "text": [
      "2022-08-09 06:35:41,904 - detection_util - INFO - Processing file: 66_A.jpg\n"
     ]
    },
    {
     "name": "stderr",
     "output_type": "stream",
     "text": [
      " 75%|███████▍  | 742/994 [9:53:00<3:23:46, 48.52s/it]"
     ]
    },
    {
     "name": "stdout",
     "output_type": "stream",
     "text": [
      "2022-08-09 06:36:19,014 - detection_util - INFO - Processing file: 192_A.jpg\n"
     ]
    },
    {
     "name": "stderr",
     "output_type": "stream",
     "text": [
      " 75%|███████▍  | 743/994 [9:53:58<3:34:41, 51.32s/it]"
     ]
    },
    {
     "name": "stdout",
     "output_type": "stream",
     "text": [
      "2022-08-09 06:37:16,876 - detection_util - INFO - Processing file: 290_B.jpg\n"
     ]
    },
    {
     "name": "stderr",
     "output_type": "stream",
     "text": [
      " 75%|███████▍  | 744/994 [9:54:56<3:43:14, 53.58s/it]"
     ]
    },
    {
     "name": "stdout",
     "output_type": "stream",
     "text": [
      "2022-08-09 06:38:15,722 - detection_util - INFO - Processing file: 354_A.jpg\n"
     ]
    },
    {
     "name": "stderr",
     "output_type": "stream",
     "text": [
      " 75%|███████▍  | 745/994 [9:55:56<3:50:31, 55.55s/it]"
     ]
    },
    {
     "name": "stdout",
     "output_type": "stream",
     "text": [
      "2022-08-09 06:39:15,861 - detection_util - INFO - Processing file: 28_C.jpg\n"
     ]
    },
    {
     "name": "stderr",
     "output_type": "stream",
     "text": [
      " 75%|███████▌  | 746/994 [9:56:56<3:54:21, 56.70s/it]"
     ]
    },
    {
     "name": "stdout",
     "output_type": "stream",
     "text": [
      "2022-08-09 06:40:15,254 - detection_util - INFO - Processing file: 273_A.jpg\n"
     ]
    },
    {
     "name": "stderr",
     "output_type": "stream",
     "text": [
      " 75%|███████▌  | 747/994 [9:57:57<3:58:46, 58.00s/it]"
     ]
    },
    {
     "name": "stdout",
     "output_type": "stream",
     "text": [
      "2022-08-09 06:41:16,296 - detection_util - INFO - Processing file: 45_D.jpg\n"
     ]
    },
    {
     "name": "stderr",
     "output_type": "stream",
     "text": [
      " 75%|███████▌  | 748/994 [9:58:43<3:43:24, 54.49s/it]"
     ]
    },
    {
     "name": "stdout",
     "output_type": "stream",
     "text": [
      "2022-08-09 06:42:02,594 - detection_util - INFO - Processing file: 371_B.jpg\n"
     ]
    },
    {
     "name": "stderr",
     "output_type": "stream",
     "text": [
      " 75%|███████▌  | 749/994 [9:59:23<3:24:08, 49.99s/it]"
     ]
    },
    {
     "name": "stdout",
     "output_type": "stream",
     "text": [
      "2022-08-09 06:42:42,088 - detection_util - INFO - Processing file: 156_A.jpg\n"
     ]
    },
    {
     "name": "stderr",
     "output_type": "stream",
     "text": [
      " 75%|███████▌  | 750/994 [10:00:07<3:16:20, 48.28s/it]"
     ]
    },
    {
     "name": "stdout",
     "output_type": "stream",
     "text": [
      "2022-08-09 06:43:26,380 - detection_util - INFO - Processing file: 318_A.jpg\n"
     ]
    },
    {
     "name": "stderr",
     "output_type": "stream",
     "text": [
      " 76%|███████▌  | 751/994 [10:00:38<2:54:58, 43.21s/it]"
     ]
    },
    {
     "name": "stdout",
     "output_type": "stream",
     "text": [
      "2022-08-09 06:43:57,740 - detection_util - INFO - Processing file: 416_B.jpg\n"
     ]
    },
    {
     "name": "stderr",
     "output_type": "stream",
     "text": [
      " 76%|███████▌  | 752/994 [10:01:35<3:10:38, 47.27s/it]"
     ]
    },
    {
     "name": "stdout",
     "output_type": "stream",
     "text": [
      "2022-08-09 06:44:54,488 - detection_util - INFO - Processing file: 237_A.jpg\n"
     ]
    },
    {
     "name": "stderr",
     "output_type": "stream",
     "text": [
      " 76%|███████▌  | 753/994 [10:02:37<3:27:50, 51.74s/it]"
     ]
    },
    {
     "name": "stdout",
     "output_type": "stream",
     "text": [
      "2022-08-09 06:45:56,676 - detection_util - INFO - Processing file: 335_B.jpg\n"
     ]
    },
    {
     "name": "stderr",
     "output_type": "stream",
     "text": [
      " 76%|███████▌  | 754/994 [10:03:43<3:43:46, 55.95s/it]"
     ]
    },
    {
     "name": "stdout",
     "output_type": "stream",
     "text": [
      "2022-08-09 06:47:02,423 - detection_util - INFO - Processing file: 135_D.jpg\n"
     ]
    },
    {
     "name": "stderr",
     "output_type": "stream",
     "text": [
      " 76%|███████▌  | 755/994 [10:04:10<3:08:30, 47.33s/it]"
     ]
    },
    {
     "name": "stdout",
     "output_type": "stream",
     "text": [
      "2022-08-09 06:47:29,637 - detection_util - INFO - Processing file: 390_A.jpg\n"
     ]
    },
    {
     "name": "stderr",
     "output_type": "stream",
     "text": [
      " 76%|███████▌  | 756/994 [10:04:47<2:55:23, 44.22s/it]"
     ]
    },
    {
     "name": "stdout",
     "output_type": "stream",
     "text": [
      "2022-08-09 06:48:06,598 - detection_util - INFO - Processing file: 81_D.jpg\n"
     ]
    },
    {
     "name": "stderr",
     "output_type": "stream",
     "text": [
      " 76%|███████▌  | 757/994 [10:05:47<3:13:03, 48.87s/it]"
     ]
    },
    {
     "name": "stdout",
     "output_type": "stream",
     "text": [
      "2022-08-09 06:49:06,339 - detection_util - INFO - Processing file: 405_D.jpg\n"
     ]
    },
    {
     "name": "stderr",
     "output_type": "stream",
     "text": [
      " 76%|███████▋  | 758/994 [10:06:38<3:15:17, 49.65s/it]"
     ]
    },
    {
     "name": "stdout",
     "output_type": "stream",
     "text": [
      "2022-08-09 06:49:57,805 - detection_util - INFO - Processing file: 74_B.jpg\n"
     ]
    },
    {
     "name": "stderr",
     "output_type": "stream",
     "text": [
      " 76%|███████▋  | 759/994 [10:07:35<3:22:29, 51.70s/it]"
     ]
    },
    {
     "name": "stdout",
     "output_type": "stream",
     "text": [
      "2022-08-09 06:50:54,280 - detection_util - INFO - Processing file: 324_D.jpg\n"
     ]
    },
    {
     "name": "stderr",
     "output_type": "stream",
     "text": [
      " 76%|███████▋  | 760/994 [10:08:24<3:18:05, 50.79s/it]"
     ]
    },
    {
     "name": "stdout",
     "output_type": "stream",
     "text": [
      "2022-08-09 06:51:42,954 - detection_util - INFO - Processing file: 57_A.jpg\n"
     ]
    },
    {
     "name": "stderr",
     "output_type": "stream",
     "text": [
      " 77%|███████▋  | 761/994 [10:09:02<3:03:15, 47.19s/it]"
     ]
    },
    {
     "name": "stdout",
     "output_type": "stream",
     "text": [
      "2022-08-09 06:52:21,738 - detection_util - INFO - Processing file: 162_D.jpg\n"
     ]
    },
    {
     "name": "stderr",
     "output_type": "stream",
     "text": [
      " 77%|███████▋  | 762/994 [10:09:30<2:39:41, 41.30s/it]"
     ]
    },
    {
     "name": "stdout",
     "output_type": "stream",
     "text": [
      "2022-08-09 06:52:49,297 - detection_util - INFO - Processing file: 19_C.jpg\n"
     ]
    },
    {
     "name": "stderr",
     "output_type": "stream",
     "text": [
      " 77%|███████▋  | 763/994 [10:10:05<2:32:01, 39.49s/it]"
     ]
    },
    {
     "name": "stdout",
     "output_type": "stream",
     "text": [
      "2022-08-09 06:53:24,557 - detection_util - INFO - Processing file: 345_A.jpg\n"
     ]
    },
    {
     "name": "stderr",
     "output_type": "stream",
     "text": [
      " 77%|███████▋  | 764/994 [10:10:58<2:46:19, 43.39s/it]"
     ]
    },
    {
     "name": "stdout",
     "output_type": "stream",
     "text": [
      "2022-08-09 06:54:17,044 - detection_util - INFO - Processing file: 183_A.jpg\n"
     ]
    },
    {
     "name": "stderr",
     "output_type": "stream",
     "text": [
      " 77%|███████▋  | 765/994 [10:11:45<2:50:13, 44.60s/it]"
     ]
    },
    {
     "name": "stdout",
     "output_type": "stream",
     "text": [
      "2022-08-09 06:55:04,468 - detection_util - INFO - Processing file: 281_B.jpg\n"
     ]
    },
    {
     "name": "stderr",
     "output_type": "stream",
     "text": [
      " 77%|███████▋  | 766/994 [10:12:26<2:44:57, 43.41s/it]"
     ]
    },
    {
     "name": "stdout",
     "output_type": "stream",
     "text": [
      "2022-08-09 06:55:45,101 - detection_util - INFO - Processing file: 264_A.jpg\n"
     ]
    },
    {
     "name": "stderr",
     "output_type": "stream",
     "text": [
      " 77%|███████▋  | 767/994 [10:13:32<3:09:40, 50.13s/it]"
     ]
    },
    {
     "name": "stdout",
     "output_type": "stream",
     "text": [
      "2022-08-09 06:56:50,924 - detection_util - INFO - Processing file: 362_B.jpg\n"
     ]
    },
    {
     "name": "stderr",
     "output_type": "stream",
     "text": [
      " 77%|███████▋  | 768/994 [10:14:28<3:15:31, 51.91s/it]"
     ]
    },
    {
     "name": "stdout",
     "output_type": "stream",
     "text": [
      "2022-08-09 06:57:46,981 - detection_util - INFO - Processing file: 407_B.jpg\n"
     ]
    },
    {
     "name": "stderr",
     "output_type": "stream",
     "text": [
      " 77%|███████▋  | 769/994 [10:15:14<3:08:38, 50.31s/it]"
     ]
    },
    {
     "name": "stdout",
     "output_type": "stream",
     "text": [
      "2022-08-09 06:58:33,543 - detection_util - INFO - Processing file: 309_A.jpg\n"
     ]
    },
    {
     "name": "stderr",
     "output_type": "stream",
     "text": [
      " 77%|███████▋  | 770/994 [10:16:03<3:06:21, 49.92s/it]"
     ]
    },
    {
     "name": "stdout",
     "output_type": "stream",
     "text": [
      "2022-08-09 06:59:22,548 - detection_util - INFO - Processing file: 147_A.jpg\n"
     ]
    },
    {
     "name": "stderr",
     "output_type": "stream",
     "text": [
      " 78%|███████▊  | 771/994 [10:17:03<3:16:19, 52.82s/it]"
     ]
    },
    {
     "name": "stdout",
     "output_type": "stream",
     "text": [
      "2022-08-09 07:00:22,157 - detection_util - INFO - Processing file: 228_A.jpg\n"
     ]
    },
    {
     "name": "stderr",
     "output_type": "stream",
     "text": [
      " 78%|███████▊  | 772/994 [10:18:08<3:28:42, 56.41s/it]"
     ]
    },
    {
     "name": "stdout",
     "output_type": "stream",
     "text": [
      "2022-08-09 07:01:26,930 - detection_util - INFO - Processing file: 326_B.jpg\n"
     ]
    },
    {
     "name": "stderr",
     "output_type": "stream",
     "text": [
      " 78%|███████▊  | 773/994 [10:19:04<3:27:53, 56.44s/it]"
     ]
    },
    {
     "name": "stdout",
     "output_type": "stream",
     "text": [
      "2022-08-09 07:02:23,448 - detection_util - INFO - Processing file: 55_C.jpg\n"
     ]
    },
    {
     "name": "stderr",
     "output_type": "stream",
     "text": [
      " 78%|███████▊  | 774/994 [10:20:06<3:33:09, 58.13s/it]"
     ]
    },
    {
     "name": "stdout",
     "output_type": "stream",
     "text": [
      "2022-08-09 07:03:25,532 - detection_util - INFO - Processing file: 381_A.jpg\n"
     ]
    },
    {
     "name": "stderr",
     "output_type": "stream",
     "text": [
      " 78%|███████▊  | 775/994 [10:20:51<3:17:46, 54.19s/it]"
     ]
    },
    {
     "name": "stdout",
     "output_type": "stream",
     "text": [
      "2022-08-09 07:04:10,507 - detection_util - INFO - Processing file: 38_B.jpg\n"
     ]
    },
    {
     "name": "stderr",
     "output_type": "stream",
     "text": [
      " 78%|███████▊  | 776/994 [10:21:32<3:02:02, 50.10s/it]"
     ]
    },
    {
     "name": "stdout",
     "output_type": "stream",
     "text": [
      "2022-08-09 07:04:51,082 - detection_util - INFO - Processing file: 83_A_2nd_stain.jpg\n"
     ]
    },
    {
     "name": "stderr",
     "output_type": "stream",
     "text": [
      " 78%|███████▊  | 777/994 [10:22:19<2:57:42, 49.14s/it]"
     ]
    },
    {
     "name": "stdout",
     "output_type": "stream",
     "text": [
      "2022-08-09 07:05:37,962 - detection_util - INFO - Processing file: 72_D.jpg\n"
     ]
    },
    {
     "name": "stderr",
     "output_type": "stream",
     "text": [
      " 78%|███████▊  | 778/994 [10:22:50<2:37:46, 43.83s/it]"
     ]
    },
    {
     "name": "stdout",
     "output_type": "stream",
     "text": [
      "2022-08-09 07:06:09,404 - detection_util - INFO - Processing file: 261_D.jpg\n"
     ]
    },
    {
     "name": "stderr",
     "output_type": "stream",
     "text": [
      " 78%|███████▊  | 779/994 [10:23:56<3:00:33, 50.39s/it]"
     ]
    },
    {
     "name": "stdout",
     "output_type": "stream",
     "text": [
      "2022-08-09 07:07:15,108 - detection_util - INFO - Processing file: 9_D.jpg\n"
     ]
    },
    {
     "name": "stderr",
     "output_type": "stream",
     "text": [
      " 78%|███████▊  | 780/994 [10:24:31<2:43:13, 45.76s/it]"
     ]
    },
    {
     "name": "stdout",
     "output_type": "stream",
     "text": [
      "2022-08-09 07:07:50,072 - detection_util - INFO - Processing file: 146_B.jpg\n"
     ]
    },
    {
     "name": "stderr",
     "output_type": "stream",
     "text": [
      " 79%|███████▊  | 781/994 [10:25:27<2:53:14, 48.80s/it]"
     ]
    },
    {
     "name": "stdout",
     "output_type": "stream",
     "text": [
      "2022-08-09 07:08:45,967 - detection_util - INFO - Processing file: 302_DD.jpg\n"
     ]
    },
    {
     "name": "stderr",
     "output_type": "stream",
     "text": [
      " 79%|███████▊  | 782/994 [10:26:11<2:48:07, 47.58s/it]"
     ]
    },
    {
     "name": "stdout",
     "output_type": "stream",
     "text": [
      "2022-08-09 07:09:30,700 - detection_util - INFO - Processing file: 363_A.jpg\n"
     ]
    },
    {
     "name": "stderr",
     "output_type": "stream",
     "text": [
      " 79%|███████▉  | 783/994 [10:27:09<2:58:17, 50.70s/it]"
     ]
    },
    {
     "name": "stdout",
     "output_type": "stream",
     "text": [
      "2022-08-09 07:10:28,668 - detection_util - INFO - Processing file: 37_C.jpg\n"
     ]
    },
    {
     "name": "stderr",
     "output_type": "stream",
     "text": [
      " 79%|███████▉  | 784/994 [10:27:49<2:45:29, 47.28s/it]"
     ]
    },
    {
     "name": "stdout",
     "output_type": "stream",
     "text": [
      "2022-08-09 07:11:07,987 - detection_util - INFO - Processing file: 108_D.jpg\n"
     ]
    },
    {
     "name": "stderr",
     "output_type": "stream",
     "text": [
      " 79%|███████▉  | 785/994 [10:28:47<2:55:50, 50.48s/it]"
     ]
    },
    {
     "name": "stdout",
     "output_type": "stream",
     "text": [
      "2022-08-09 07:12:05,926 - detection_util - INFO - Processing file: 380_B.jpg\n"
     ]
    },
    {
     "name": "stderr",
     "output_type": "stream",
     "text": [
      " 79%|███████▉  | 786/994 [10:29:36<2:53:49, 50.14s/it]"
     ]
    },
    {
     "name": "stdout",
     "output_type": "stream",
     "text": [
      "2022-08-09 07:12:55,278 - detection_util - INFO - Processing file: 54_D.jpg\n"
     ]
    },
    {
     "name": "stderr",
     "output_type": "stream",
     "text": [
      " 79%|███████▉  | 787/994 [10:30:27<2:53:57, 50.42s/it]"
     ]
    },
    {
     "name": "stdout",
     "output_type": "stream",
     "text": [
      "2022-08-09 07:13:46,348 - detection_util - INFO - Processing file: 282_A.jpg\n"
     ]
    },
    {
     "name": "stderr",
     "output_type": "stream",
     "text": [
      " 79%|███████▉  | 788/994 [10:31:15<2:50:09, 49.56s/it]"
     ]
    },
    {
     "name": "stdout",
     "output_type": "stream",
     "text": [
      "2022-08-09 07:14:33,909 - detection_util - INFO - Processing file: 263_B.jpg\n"
     ]
    },
    {
     "name": "stderr",
     "output_type": "stream",
     "text": [
      " 79%|███████▉  | 789/994 [10:32:17<3:02:06, 53.30s/it]"
     ]
    },
    {
     "name": "stdout",
     "output_type": "stream",
     "text": [
      "2022-08-09 07:15:35,922 - detection_util - INFO - Processing file: 165_A.jpg\n"
     ]
    },
    {
     "name": "stderr",
     "output_type": "stream",
     "text": [
      " 79%|███████▉  | 790/994 [10:32:44<2:34:56, 45.57s/it]"
     ]
    },
    {
     "name": "stdout",
     "output_type": "stream",
     "text": [
      "2022-08-09 07:16:03,467 - detection_util - INFO - Processing file: 408_A.jpg\n"
     ]
    },
    {
     "name": "stderr",
     "output_type": "stream",
     "text": [
      " 80%|███████▉  | 791/994 [10:33:21<2:25:33, 43.02s/it]"
     ]
    },
    {
     "name": "stdout",
     "output_type": "stream",
     "text": [
      "2022-08-09 07:16:40,543 - detection_util - INFO - Processing file: 344_B.jpg\n"
     ]
    },
    {
     "name": "stderr",
     "output_type": "stream",
     "text": [
      " 80%|███████▉  | 792/994 [10:34:17<2:38:08, 46.98s/it]"
     ]
    },
    {
     "name": "stdout",
     "output_type": "stream",
     "text": [
      "2022-08-09 07:17:36,739 - detection_util - INFO - Processing file: 246_A.jpg\n"
     ]
    },
    {
     "name": "stderr",
     "output_type": "stream",
     "text": [
      " 80%|███████▉  | 793/994 [10:35:24<2:56:42, 52.75s/it]"
     ]
    },
    {
     "name": "stdout",
     "output_type": "stream",
     "text": [
      "2022-08-09 07:18:42,967 - detection_util - INFO - Processing file: 18_D.jpg\n"
     ]
    },
    {
     "name": "stderr",
     "output_type": "stream",
     "text": [
      " 80%|███████▉  | 794/994 [10:36:10<2:49:07, 50.74s/it]"
     ]
    },
    {
     "name": "stdout",
     "output_type": "stream",
     "text": [
      "2022-08-09 07:19:29,001 - detection_util - INFO - Processing file: 39_A.jpg\n"
     ]
    },
    {
     "name": "stderr",
     "output_type": "stream",
     "text": [
      " 80%|███████▉  | 795/994 [10:36:54<2:42:12, 48.91s/it]"
     ]
    },
    {
     "name": "stdout",
     "output_type": "stream",
     "text": [
      "2022-08-09 07:20:13,645 - detection_util - INFO - Processing file: 56_B.jpg\n"
     ]
    },
    {
     "name": "stderr",
     "output_type": "stream",
     "text": [
      " 80%|████████  | 796/994 [10:37:45<2:43:28, 49.54s/it]"
     ]
    },
    {
     "name": "stdout",
     "output_type": "stream",
     "text": [
      "2022-08-09 07:21:04,647 - detection_util - INFO - Processing file: 251_A.jpg\n"
     ]
    },
    {
     "name": "stderr",
     "output_type": "stream",
     "text": [
      " 80%|████████  | 797/994 [10:38:37<2:44:30, 50.10s/it]"
     ]
    },
    {
     "name": "stdout",
     "output_type": "stream",
     "text": [
      "2022-08-09 07:21:56,074 - detection_util - INFO - Processing file: 23_D.jpg\n"
     ]
    },
    {
     "name": "stderr",
     "output_type": "stream",
     "text": [
      " 80%|████████  | 798/994 [10:39:17<2:33:59, 47.14s/it]"
     ]
    },
    {
     "name": "stdout",
     "output_type": "stream",
     "text": [
      "2022-08-09 07:22:36,298 - detection_util - INFO - Processing file: 413_A.jpg\n"
     ]
    },
    {
     "name": "stderr",
     "output_type": "stream",
     "text": [
      " 80%|████████  | 799/994 [10:40:16<2:44:32, 50.63s/it]"
     ]
    },
    {
     "name": "stdout",
     "output_type": "stream",
     "text": [
      "2022-08-09 07:23:35,059 - detection_util - INFO - Processing file: 332_A.jpg\n"
     ]
    },
    {
     "name": "stderr",
     "output_type": "stream",
     "text": [
      " 80%|████████  | 800/994 [10:41:08<2:44:56, 51.01s/it]"
     ]
    },
    {
     "name": "stdout",
     "output_type": "stream",
     "text": [
      "2022-08-09 07:24:26,976 - detection_util - INFO - Processing file: 170_A.jpg\n"
     ]
    },
    {
     "name": "stderr",
     "output_type": "stream",
     "text": [
      " 81%|████████  | 801/994 [10:41:38<2:24:11, 44.82s/it]"
     ]
    },
    {
     "name": "stdout",
     "output_type": "stream",
     "text": [
      "2022-08-09 07:24:57,360 - detection_util - INFO - Processing file: 61_B.jpg\n"
     ]
    },
    {
     "name": "stderr",
     "output_type": "stream",
     "text": [
      " 81%|████████  | 802/994 [10:42:32<2:32:18, 47.60s/it]"
     ]
    },
    {
     "name": "stdout",
     "output_type": "stream",
     "text": [
      "2022-08-09 07:25:51,420 - detection_util - INFO - Processing file: 311_D.jpg\n"
     ]
    },
    {
     "name": "stderr",
     "output_type": "stream",
     "text": [
      " 81%|████████  | 803/994 [10:43:23<2:34:14, 48.45s/it]"
     ]
    },
    {
     "name": "stdout",
     "output_type": "stream",
     "text": [
      "2022-08-09 07:26:41,879 - detection_util - INFO - Processing file: 44_A.jpg\n"
     ]
    },
    {
     "name": "stderr",
     "output_type": "stream",
     "text": [
      " 81%|████████  | 804/994 [10:44:17<2:38:54, 50.18s/it]"
     ]
    },
    {
     "name": "stdout",
     "output_type": "stream",
     "text": [
      "2022-08-09 07:27:36,088 - detection_util - INFO - Processing file: 25_B.jpg\n"
     ]
    },
    {
     "name": "stderr",
     "output_type": "stream",
     "text": [
      " 81%|████████  | 805/994 [10:44:52<2:23:55, 45.69s/it]"
     ]
    },
    {
     "name": "stdout",
     "output_type": "stream",
     "text": [
      "2022-08-09 07:28:11,298 - detection_util - INFO - Processing file: 134_A.jpg\n"
     ]
    },
    {
     "name": "stderr",
     "output_type": "stream",
     "text": [
      " 81%|████████  | 806/994 [10:45:44<2:29:00, 47.55s/it]"
     ]
    },
    {
     "name": "stdout",
     "output_type": "stream",
     "text": [
      "2022-08-09 07:29:03,206 - detection_util - INFO - Processing file: 151_B.jpg\n"
     ]
    },
    {
     "name": "stderr",
     "output_type": "stream",
     "text": [
      " 81%|████████  | 807/994 [10:46:35<2:31:31, 48.62s/it]"
     ]
    },
    {
     "name": "stdout",
     "output_type": "stream",
     "text": [
      "2022-08-09 07:29:54,298 - detection_util - INFO - Processing file: 313_B.jpg\n"
     ]
    },
    {
     "name": "stderr",
     "output_type": "stream",
     "text": [
      " 81%|████████▏ | 808/994 [10:47:34<2:40:00, 51.61s/it]"
     ]
    },
    {
     "name": "stdout",
     "output_type": "stream",
     "text": [
      "2022-08-09 07:30:52,909 - detection_util - INFO - Processing file: 269_DD.jpg\n"
     ]
    },
    {
     "name": "stderr",
     "output_type": "stream",
     "text": [
      " 81%|████████▏ | 809/994 [10:48:22<2:35:57, 50.58s/it]"
     ]
    },
    {
     "name": "stdout",
     "output_type": "stream",
     "text": [
      "2022-08-09 07:31:41,083 - detection_util - INFO - Processing file: 215_A.jpg\n"
     ]
    },
    {
     "name": "stderr",
     "output_type": "stream",
     "text": [
      " 81%|████████▏ | 810/994 [10:49:07<2:29:49, 48.85s/it]"
     ]
    },
    {
     "name": "stdout",
     "output_type": "stream",
     "text": [
      "2022-08-09 07:32:25,904 - detection_util - INFO - Processing file: 80_A.jpg\n"
     ]
    },
    {
     "name": "stderr",
     "output_type": "stream",
     "text": [
      " 82%|████████▏ | 811/994 [10:50:01<2:33:48, 50.43s/it]"
     ]
    },
    {
     "name": "stdout",
     "output_type": "stream",
     "text": [
      "2022-08-09 07:33:20,008 - detection_util - INFO - Processing file: 41_D.jpg\n"
     ]
    },
    {
     "name": "stderr",
     "output_type": "stream",
     "text": [
      " 82%|████████▏ | 812/994 [10:50:56<2:37:40, 51.98s/it]"
     ]
    },
    {
     "name": "stdout",
     "output_type": "stream",
     "text": [
      "2022-08-09 07:34:15,617 - detection_util - INFO - Processing file: 24_C.jpg\n"
     ]
    },
    {
     "name": "stderr",
     "output_type": "stream",
     "text": [
      " 82%|████████▏ | 813/994 [10:51:43<2:32:30, 50.56s/it]"
     ]
    },
    {
     "name": "stdout",
     "output_type": "stream",
     "text": [
      "2022-08-09 07:35:02,846 - detection_util - INFO - Processing file: 350_A.jpg\n"
     ]
    },
    {
     "name": "stderr",
     "output_type": "stream",
     "text": [
      " 82%|████████▏ | 814/994 [10:52:35<2:32:45, 50.92s/it]"
     ]
    },
    {
     "name": "stdout",
     "output_type": "stream",
     "text": [
      "2022-08-09 07:35:54,606 - detection_util - INFO - Processing file: 116_A.jpg\n"
     ]
    },
    {
     "name": "stderr",
     "output_type": "stream",
     "text": [
      " 82%|████████▏ | 815/994 [10:53:21<2:27:17, 49.37s/it]"
     ]
    },
    {
     "name": "stdout",
     "output_type": "stream",
     "text": [
      "2022-08-09 07:36:40,372 - detection_util - INFO - Processing file: 410_D.jpg\n"
     ]
    },
    {
     "name": "stderr",
     "output_type": "stream",
     "text": [
      " 82%|████████▏ | 816/994 [10:54:04<2:20:50, 47.47s/it]"
     ]
    },
    {
     "name": "stdout",
     "output_type": "stream",
     "text": [
      "2022-08-09 07:37:23,410 - detection_util - INFO - Processing file: 62_A.jpg\n"
     ]
    },
    {
     "name": "stderr",
     "output_type": "stream",
     "text": [
      " 82%|████████▏ | 817/994 [10:54:58<2:25:33, 49.34s/it]"
     ]
    },
    {
     "name": "stdout",
     "output_type": "stream",
     "text": [
      "2022-08-09 07:38:17,112 - detection_util - INFO - Processing file: 43_B.jpg\n"
     ]
    },
    {
     "name": "stderr",
     "output_type": "stream",
     "text": [
      " 82%|████████▏ | 818/994 [10:55:53<2:29:29, 50.97s/it]"
     ]
    },
    {
     "name": "stdout",
     "output_type": "stream",
     "text": [
      "2022-08-09 07:39:11,869 - detection_util - INFO - Processing file: 60_C.jpg\n"
     ]
    },
    {
     "name": "stderr",
     "output_type": "stream",
     "text": [
      " 82%|████████▏ | 819/994 [10:56:55<2:39:06, 54.55s/it]"
     ]
    },
    {
     "name": "stdout",
     "output_type": "stream",
     "text": [
      "2022-08-09 07:40:14,794 - detection_util - INFO - Processing file: 26_A.jpg\n"
     ]
    },
    {
     "name": "stderr",
     "output_type": "stream",
     "text": [
      " 82%|████████▏ | 820/994 [10:57:35<2:25:11, 50.06s/it]"
     ]
    },
    {
     "name": "stdout",
     "output_type": "stream",
     "text": [
      "2022-08-09 07:40:54,383 - detection_util - INFO - Processing file: 314_A.jpg\n"
     ]
    },
    {
     "name": "stderr",
     "output_type": "stream",
     "text": [
      " 83%|████████▎ | 821/994 [10:58:32<2:30:32, 52.21s/it]"
     ]
    },
    {
     "name": "stdout",
     "output_type": "stream",
     "text": [
      "2022-08-09 07:41:51,602 - detection_util - INFO - Processing file: 233_A.jpg\n"
     ]
    },
    {
     "name": "stderr",
     "output_type": "stream",
     "text": [
      " 83%|████████▎ | 822/994 [10:59:32<2:35:54, 54.38s/it]"
     ]
    },
    {
     "name": "stdout",
     "output_type": "stream",
     "text": [
      "2022-08-09 07:42:51,061 - detection_util - INFO - Processing file: 331_B.jpg\n"
     ]
    },
    {
     "name": "stderr",
     "output_type": "stream",
     "text": [
      " 83%|████████▎ | 823/994 [11:00:29<2:37:22, 55.22s/it]"
     ]
    },
    {
     "name": "stdout",
     "output_type": "stream",
     "text": [
      "2022-08-09 07:43:48,223 - detection_util - INFO - Processing file: 399_D.jpg\n"
     ]
    },
    {
     "name": "stderr",
     "output_type": "stream",
     "text": [
      " 83%|████████▎ | 824/994 [11:01:29<2:41:02, 56.84s/it]"
     ]
    },
    {
     "name": "stdout",
     "output_type": "stream",
     "text": [
      "2022-08-09 07:44:48,836 - detection_util - INFO - Processing file: 8_A.jpg\n"
     ]
    },
    {
     "name": "stderr",
     "output_type": "stream",
     "text": [
      " 83%|████████▎ | 825/994 [11:02:30<2:43:16, 57.97s/it]"
     ]
    },
    {
     "name": "stdout",
     "output_type": "stream",
     "text": [
      "2022-08-09 07:45:49,443 - detection_util - INFO - Processing file: 32_D.jpg\n"
     ]
    },
    {
     "name": "stderr",
     "output_type": "stream",
     "text": [
      " 83%|████████▎ | 826/994 [11:03:33<2:46:25, 59.44s/it]"
     ]
    },
    {
     "name": "stdout",
     "output_type": "stream",
     "text": [
      "2022-08-09 07:46:52,307 - detection_util - INFO - Processing file: 260_A.jpg\n"
     ]
    },
    {
     "name": "stderr",
     "output_type": "stream",
     "text": [
      " 83%|████████▎ | 827/994 [11:04:12<2:28:36, 53.39s/it]"
     ]
    },
    {
     "name": "stdout",
     "output_type": "stream",
     "text": [
      "2022-08-09 07:47:31,589 - detection_util - INFO - Processing file: 15_C.jpg\n"
     ]
    },
    {
     "name": "stderr",
     "output_type": "stream",
     "text": [
      " 83%|████████▎ | 828/994 [11:04:48<2:12:45, 47.98s/it]"
     ]
    },
    {
     "name": "stdout",
     "output_type": "stream",
     "text": [
      "2022-08-09 07:48:06,954 - detection_util - INFO - Processing file: 341_A.jpg\n"
     ]
    },
    {
     "name": "stderr",
     "output_type": "stream",
     "text": [
      " 83%|████████▎ | 829/994 [11:05:39<2:14:53, 49.05s/it]"
     ]
    },
    {
     "name": "stdout",
     "output_type": "stream",
     "text": [
      "2022-08-09 07:48:58,496 - detection_util - INFO - Processing file: 401_D.jpg\n"
     ]
    },
    {
     "name": "stderr",
     "output_type": "stream",
     "text": [
      " 84%|████████▎ | 830/994 [11:06:25<2:11:23, 48.07s/it]"
     ]
    },
    {
     "name": "stdout",
     "output_type": "stream",
     "text": [
      "2022-08-09 07:49:44,274 - detection_util - INFO - Processing file: 107_A.jpg\n"
     ]
    },
    {
     "name": "stderr",
     "output_type": "stream",
     "text": [
      " 84%|████████▎ | 831/994 [11:07:05<2:03:52, 45.60s/it]"
     ]
    },
    {
     "name": "stdout",
     "output_type": "stream",
     "text": [
      "2022-08-09 07:50:24,098 - detection_util - INFO - Processing file: 53_A.jpg\n"
     ]
    },
    {
     "name": "stderr",
     "output_type": "stream",
     "text": [
      " 84%|████████▎ | 832/994 [11:08:07<2:16:42, 50.64s/it]"
     ]
    },
    {
     "name": "stdout",
     "output_type": "stream",
     "text": [
      "2022-08-09 07:51:26,493 - detection_util - INFO - Processing file: 320_D.jpg\n"
     ]
    },
    {
     "name": "stderr",
     "output_type": "stream",
     "text": [
      " 84%|████████▍ | 833/994 [11:08:47<2:07:25, 47.49s/it]"
     ]
    },
    {
     "name": "stdout",
     "output_type": "stream",
     "text": [
      "2022-08-09 07:52:06,629 - detection_util - INFO - Processing file: 34_B.jpg\n"
     ]
    },
    {
     "name": "stderr",
     "output_type": "stream",
     "text": [
      " 84%|████████▍ | 834/994 [11:09:39<2:09:41, 48.63s/it]"
     ]
    },
    {
     "name": "stdout",
     "output_type": "stream",
     "text": [
      "2022-08-09 07:52:57,936 - detection_util - INFO - Processing file: 122_D.jpg\n"
     ]
    },
    {
     "name": "stderr",
     "output_type": "stream",
     "text": [
      " 84%|████████▍ | 835/994 [11:10:27<2:09:04, 48.71s/it]"
     ]
    },
    {
     "name": "stdout",
     "output_type": "stream",
     "text": [
      "2022-08-09 07:53:46,827 - detection_util - INFO - Processing file: 51_C.jpg\n"
     ]
    },
    {
     "name": "stderr",
     "output_type": "stream",
     "text": [
      " 84%|████████▍ | 836/994 [11:11:25<2:15:32, 51.47s/it]"
     ]
    },
    {
     "name": "stdout",
     "output_type": "stream",
     "text": [
      "2022-08-09 07:54:44,753 - detection_util - INFO - Processing file: 143_A.jpg\n"
     ]
    },
    {
     "name": "stderr",
     "output_type": "stream",
     "text": [
      " 84%|████████▍ | 837/994 [11:12:04<2:04:27, 47.56s/it]"
     ]
    },
    {
     "name": "stdout",
     "output_type": "stream",
     "text": [
      "2022-08-09 07:55:23,188 - detection_util - INFO - Processing file: 403_B.jpg\n"
     ]
    },
    {
     "name": "stderr",
     "output_type": "stream",
     "text": [
      " 84%|████████▍ | 838/994 [11:12:50<2:02:16, 47.03s/it]"
     ]
    },
    {
     "name": "stdout",
     "output_type": "stream",
     "text": [
      "2022-08-09 07:56:08,972 - detection_util - INFO - Processing file: 305_A.jpg\n"
     ]
    },
    {
     "name": "stderr",
     "output_type": "stream",
     "text": [
      " 84%|████████▍ | 839/994 [11:13:22<1:49:47, 42.50s/it]"
     ]
    },
    {
     "name": "stdout",
     "output_type": "stream",
     "text": [
      "2022-08-09 07:56:40,904 - detection_util - INFO - Processing file: 322_B.jpg\n"
     ]
    },
    {
     "name": "stderr",
     "output_type": "stream",
     "text": [
      " 85%|████████▍ | 840/994 [11:13:50<1:38:18, 38.30s/it]"
     ]
    },
    {
     "name": "stdout",
     "output_type": "stream",
     "text": [
      "2022-08-09 07:57:09,405 - detection_util - INFO - Processing file: 224_A.jpg\n"
     ]
    },
    {
     "name": "stderr",
     "output_type": "stream",
     "text": [
      " 85%|████████▍ | 841/994 [11:14:42<1:47:48, 42.28s/it]"
     ]
    },
    {
     "name": "stdout",
     "output_type": "stream",
     "text": [
      "2022-08-09 07:58:00,971 - detection_util - INFO - Processing file: 16_B.jpg\n"
     ]
    },
    {
     "name": "stderr",
     "output_type": "stream",
     "text": [
      " 85%|████████▍ | 842/994 [11:15:21<1:45:14, 41.54s/it]"
     ]
    },
    {
     "name": "stdout",
     "output_type": "stream",
     "text": [
      "2022-08-09 07:58:40,790 - detection_util - INFO - Processing file: 50_D.jpg\n"
     ]
    },
    {
     "name": "stderr",
     "output_type": "stream",
     "text": [
      " 85%|████████▍ | 843/994 [11:16:16<1:54:44, 45.59s/it]"
     ]
    },
    {
     "name": "stdout",
     "output_type": "stream",
     "text": [
      "2022-08-09 07:59:35,835 - detection_util - INFO - Processing file: 125_A.jpg\n"
     ]
    },
    {
     "name": "stderr",
     "output_type": "stream",
     "text": [
      " 85%|████████▍ | 844/994 [11:17:06<1:57:14, 46.90s/it]"
     ]
    },
    {
     "name": "stdout",
     "output_type": "stream",
     "text": [
      "2022-08-09 08:00:25,777 - detection_util - INFO - Processing file: 223_B.jpg\n"
     ]
    },
    {
     "name": "stderr",
     "output_type": "stream",
     "text": [
      " 85%|████████▌ | 845/994 [11:17:59<2:00:37, 48.57s/it]"
     ]
    },
    {
     "name": "stdout",
     "output_type": "stream",
     "text": [
      "2022-08-09 08:01:18,254 - detection_util - INFO - Processing file: 5_D.jpg\n"
     ]
    },
    {
     "name": "stderr",
     "output_type": "stream",
     "text": [
      " 85%|████████▌ | 846/994 [11:18:54<2:04:19, 50.40s/it]"
     ]
    },
    {
     "name": "stdout",
     "output_type": "stream",
     "text": [
      "2022-08-09 08:02:12,935 - detection_util - INFO - Processing file: 206_A.jpg\n"
     ]
    },
    {
     "name": "stderr",
     "output_type": "stream",
     "text": [
      " 85%|████████▌ | 847/994 [11:19:32<1:54:26, 46.71s/it]"
     ]
    },
    {
     "name": "stdout",
     "output_type": "stream",
     "text": [
      "2022-08-09 08:02:51,024 - detection_util - INFO - Processing file: 71_A.jpg\n"
     ]
    },
    {
     "name": "stderr",
     "output_type": "stream",
     "text": [
      " 85%|████████▌ | 848/994 [11:20:28<2:00:21, 49.46s/it]"
     ]
    },
    {
     "name": "stdout",
     "output_type": "stream",
     "text": [
      "2022-08-09 08:03:46,909 - detection_util - INFO - Processing file: 304_B.jpg\n"
     ]
    },
    {
     "name": "stderr",
     "output_type": "stream",
     "text": [
      " 85%|████████▌ | 849/994 [11:21:30<2:09:10, 53.45s/it]"
     ]
    },
    {
     "name": "stdout",
     "output_type": "stream",
     "text": [
      "2022-08-09 08:04:49,674 - detection_util - INFO - Processing file: 52_B.jpg\n"
     ]
    },
    {
     "name": "stderr",
     "output_type": "stream",
     "text": [
      " 86%|████████▌ | 850/994 [11:22:21<2:06:26, 52.69s/it]"
     ]
    },
    {
     "name": "stdout",
     "output_type": "stream",
     "text": [
      "2022-08-09 08:05:40,572 - detection_util - INFO - Processing file: 221_D.jpg\n"
     ]
    },
    {
     "name": "stderr",
     "output_type": "stream",
     "text": [
      " 86%|████████▌ | 851/994 [11:23:08<2:01:07, 50.82s/it]"
     ]
    },
    {
     "name": "stdout",
     "output_type": "stream",
     "text": [
      "2022-08-09 08:06:27,039 - detection_util - INFO - Processing file: 35_A.jpg\n"
     ]
    }
   ],
   "source": [
    "# %%time \n",
    "\n",
    "# local_model_dir='/home/sagemaker-user/MMDetection/output/training-4k-2022-08-07-17-17-20-543/mmd-output'\n",
    "# checkpoint = f'{local_model_dir}/{last_epoch}'\n",
    "# file_names_train=pd.read_csv(f'{data_folder}/train_files.csv', sep=';', header=None)[0].values\n",
    "# prediction_df_train = create_predictions(file_names_train, config, checkpoint)\n",
    "# %cd /home/sagemaker-user/\n",
    "# local_directory=f\"MMDetection/output/{job_name}\"\n",
    "# file_name='updated-labels-'+ job_name + '.csv'\n",
    "# prediction_df_train.to_csv(f'{local_directory}/{file_name}', sep=';')"
   ]
  },
  {
   "cell_type": "code",
   "execution_count": 23,
   "id": "ea683a65-2a58-45b4-b4bc-3492b4347f93",
   "metadata": {},
   "outputs": [
    {
     "data": {
      "text/plain": [
       "'/root'"
      ]
     },
     "execution_count": 23,
     "metadata": {},
     "output_type": "execute_result"
    }
   ],
   "source": [
    "%pwd"
   ]
  },
  {
   "cell_type": "markdown",
   "id": "fb5fc4b6-91e4-49f3-94c0-e84fcfc6ea38",
   "metadata": {},
   "source": [
    "# We need to add higth and width to the new csv file"
   ]
  },
  {
   "cell_type": "code",
   "execution_count": 64,
   "id": "164f9904-799f-4872-8059-c5fcab38f68a",
   "metadata": {},
   "outputs": [],
   "source": [
    "# %cd /home/sagemaker-user\n",
    "# job_name='training-4k-2022-08-07-17-17-20-543'\n",
    "# local_model_dir=f'MMDetection/output/{job_name}'\n",
    "# file_name='updated-labels-'+ job_name + '.csv'\n",
    "# prediction_df_train=pd.read_csv(f'{local_model_dir}/{file_name}', sep=';')\n",
    "# prediction_df_train[\"height\"] = 0\n",
    "# prediction_df_train[\"width\"] = 0\n",
    "# section_df=pd.read_csv('MMDetection/gdsc_train.csv', sep=';')\n",
    "# all_imgs=list(section_df['file_name'].unique())\n",
    "# dict_h_w={}\n",
    "# for index,row in section_df.iterrows():\n",
    "#     dict_h_w[row['file_name']]=(row['height'],row['width'])\n",
    "    \n",
    "# print(f\"Size of dict: {len(dict_h_w)}\")\n",
    "\n",
    "# for index,row in prediction_df_train.iterrows():\n",
    "#     prediction_df_train.at[index,'height']=dict_h_w[row['file_name']][0]\n",
    "#     prediction_df_train.at[index,'width']=dict_h_w[row['file_name']][1]\n",
    "\n",
    "# prediction_df_train\n",
    "# prediction_df_train.to_csv(f'{local_model_dir}/{file_name}', sep=';')"
   ]
  },
  {
   "cell_type": "markdown",
   "id": "40e00544-8d3a-4609-a6d1-119781b20083",
   "metadata": {},
   "source": [
    "# Running the detection"
   ]
  },
  {
   "cell_type": "code",
   "execution_count": 24,
   "id": "938ee735-3f6c-4f62-946a-cecf6016945a",
   "metadata": {
    "tags": []
   },
   "outputs": [
    {
     "name": "stdout",
     "output_type": "stream",
     "text": [
      "load checkpoint from local path: /home/sagemaker-user/MMDetection/output/training-4k-2022-08-10-15-08-48-262/mmd-output/epoch_8.pth\n",
      "2022-08-12 18:43:59,935 - detection_util - INFO - Creating predictions for 73 files\n"
     ]
    },
    {
     "name": "stderr",
     "output_type": "stream",
     "text": [
      "  0%|          | 0/73 [00:00<?, ?it/s]"
     ]
    },
    {
     "name": "stdout",
     "output_type": "stream",
     "text": [
      "2022-08-12 18:43:59,939 - detection_util - INFO - Processing file: 100_D.jpg\n"
     ]
    },
    {
     "name": "stderr",
     "output_type": "stream",
     "text": [
      "  1%|▏         | 1/73 [00:30<36:17, 30.25s/it]"
     ]
    },
    {
     "name": "stdout",
     "output_type": "stream",
     "text": [
      "2022-08-12 18:44:30,187 - detection_util - INFO - Processing file: 100_C.jpg\n"
     ]
    },
    {
     "name": "stderr",
     "output_type": "stream",
     "text": [
      "  3%|▎         | 2/73 [01:00<35:43, 30.18s/it]"
     ]
    },
    {
     "name": "stdout",
     "output_type": "stream",
     "text": [
      "2022-08-12 18:45:00,327 - detection_util - INFO - Processing file: 100_B.jpg\n"
     ]
    },
    {
     "name": "stderr",
     "output_type": "stream",
     "text": [
      "  4%|▍         | 3/73 [01:23<31:13, 26.76s/it]"
     ]
    },
    {
     "name": "stdout",
     "output_type": "stream",
     "text": [
      "2022-08-12 18:45:23,012 - detection_util - INFO - Processing file: 100_AA.jpg\n"
     ]
    },
    {
     "name": "stderr",
     "output_type": "stream",
     "text": [
      "  5%|▌         | 4/73 [01:50<30:53, 26.86s/it]"
     ]
    },
    {
     "name": "stdout",
     "output_type": "stream",
     "text": [
      "2022-08-12 18:45:50,028 - detection_util - INFO - Processing file: 100_A.jpg\n"
     ]
    },
    {
     "name": "stderr",
     "output_type": "stream",
     "text": [
      "  7%|▋         | 5/73 [02:20<31:45, 28.02s/it]"
     ]
    },
    {
     "name": "stdout",
     "output_type": "stream",
     "text": [
      "2022-08-12 18:46:20,105 - detection_util - INFO - Processing file: 101_DD.jpg\n"
     ]
    },
    {
     "name": "stderr",
     "output_type": "stream",
     "text": [
      "  8%|▊         | 6/73 [02:46<30:48, 27.58s/it]"
     ]
    },
    {
     "name": "stdout",
     "output_type": "stream",
     "text": [
      "2022-08-12 18:46:46,836 - detection_util - INFO - Processing file: 101_C.jpg\n"
     ]
    },
    {
     "name": "stderr",
     "output_type": "stream",
     "text": [
      " 10%|▉         | 7/73 [03:14<30:27, 27.69s/it]"
     ]
    },
    {
     "name": "stdout",
     "output_type": "stream",
     "text": [
      "2022-08-12 18:47:14,759 - detection_util - INFO - Processing file: 101_B.jpg\n"
     ]
    },
    {
     "name": "stderr",
     "output_type": "stream",
     "text": [
      " 11%|█         | 8/73 [03:41<29:42, 27.42s/it]"
     ]
    },
    {
     "name": "stdout",
     "output_type": "stream",
     "text": [
      "2022-08-12 18:47:41,581 - detection_util - INFO - Processing file: 101_AA.jpg\n"
     ]
    },
    {
     "name": "stderr",
     "output_type": "stream",
     "text": [
      " 12%|█▏        | 9/73 [04:08<29:00, 27.20s/it]"
     ]
    },
    {
     "name": "stdout",
     "output_type": "stream",
     "text": [
      "2022-08-12 18:48:08,299 - detection_util - INFO - Processing file: 101_A.jpg\n"
     ]
    },
    {
     "name": "stderr",
     "output_type": "stream",
     "text": [
      " 14%|█▎        | 10/73 [04:33<28:02, 26.71s/it]"
     ]
    },
    {
     "name": "stdout",
     "output_type": "stream",
     "text": [
      "2022-08-12 18:48:33,925 - detection_util - INFO - Processing file: 86_D.jpg\n"
     ]
    },
    {
     "name": "stderr",
     "output_type": "stream",
     "text": [
      " 15%|█▌        | 11/73 [05:10<30:44, 29.76s/it]"
     ]
    },
    {
     "name": "stdout",
     "output_type": "stream",
     "text": [
      "2022-08-12 18:49:10,582 - detection_util - INFO - Processing file: 86_C.jpg\n"
     ]
    },
    {
     "name": "stderr",
     "output_type": "stream",
     "text": [
      " 16%|█▋        | 12/73 [05:50<33:31, 32.97s/it]"
     ]
    },
    {
     "name": "stdout",
     "output_type": "stream",
     "text": [
      "2022-08-12 18:49:50,912 - detection_util - INFO - Processing file: 86_B.jpg\n"
     ]
    },
    {
     "name": "stderr",
     "output_type": "stream",
     "text": [
      " 18%|█▊        | 13/73 [06:24<33:02, 33.04s/it]"
     ]
    },
    {
     "name": "stdout",
     "output_type": "stream",
     "text": [
      "2022-08-12 18:50:24,106 - detection_util - INFO - Processing file: 86_AA.jpg\n"
     ]
    },
    {
     "name": "stderr",
     "output_type": "stream",
     "text": [
      " 19%|█▉        | 14/73 [06:54<31:48, 32.34s/it]"
     ]
    },
    {
     "name": "stdout",
     "output_type": "stream",
     "text": [
      "2022-08-12 18:50:54,843 - detection_util - INFO - Processing file: 86_A.jpg\n"
     ]
    },
    {
     "name": "stderr",
     "output_type": "stream",
     "text": [
      " 21%|██        | 15/73 [07:31<32:33, 33.68s/it]"
     ]
    },
    {
     "name": "stdout",
     "output_type": "stream",
     "text": [
      "2022-08-12 18:51:31,613 - detection_util - INFO - Processing file: 88_D.jpg\n"
     ]
    },
    {
     "name": "stderr",
     "output_type": "stream",
     "text": [
      " 22%|██▏       | 16/73 [08:27<38:15, 40.27s/it]"
     ]
    },
    {
     "name": "stdout",
     "output_type": "stream",
     "text": [
      "2022-08-12 18:52:27,194 - detection_util - INFO - Processing file: 88_C.jpg\n"
     ]
    },
    {
     "name": "stderr",
     "output_type": "stream",
     "text": [
      " 23%|██▎       | 17/73 [09:23<41:56, 44.94s/it]"
     ]
    },
    {
     "name": "stdout",
     "output_type": "stream",
     "text": [
      "2022-08-12 18:53:22,998 - detection_util - INFO - Processing file: 88_B.jpg\n"
     ]
    },
    {
     "name": "stderr",
     "output_type": "stream",
     "text": [
      " 25%|██▍       | 18/73 [10:12<42:20, 46.19s/it]"
     ]
    },
    {
     "name": "stdout",
     "output_type": "stream",
     "text": [
      "2022-08-12 18:54:12,088 - detection_util - INFO - Processing file: 88_A.jpg\n"
     ]
    },
    {
     "name": "stderr",
     "output_type": "stream",
     "text": [
      " 26%|██▌       | 19/73 [11:02<42:47, 47.54s/it]"
     ]
    },
    {
     "name": "stdout",
     "output_type": "stream",
     "text": [
      "2022-08-12 18:55:02,783 - detection_util - INFO - Processing file: 89_D.jpg\n"
     ]
    },
    {
     "name": "stderr",
     "output_type": "stream",
     "text": [
      " 27%|██▋       | 20/73 [11:25<35:20, 40.01s/it]"
     ]
    },
    {
     "name": "stdout",
     "output_type": "stream",
     "text": [
      "2022-08-12 18:55:25,247 - detection_util - INFO - Processing file: 89_C.jpg\n"
     ]
    },
    {
     "name": "stderr",
     "output_type": "stream",
     "text": [
      " 29%|██▉       | 21/73 [11:56<32:24, 37.39s/it]"
     ]
    },
    {
     "name": "stdout",
     "output_type": "stream",
     "text": [
      "2022-08-12 18:55:56,532 - detection_util - INFO - Processing file: 89_B.jpg\n"
     ]
    },
    {
     "name": "stderr",
     "output_type": "stream",
     "text": [
      " 30%|███       | 22/73 [12:19<28:07, 33.09s/it]"
     ]
    },
    {
     "name": "stdout",
     "output_type": "stream",
     "text": [
      "2022-08-12 18:56:19,576 - detection_util - INFO - Processing file: 89_AA.jpg\n"
     ]
    },
    {
     "name": "stderr",
     "output_type": "stream",
     "text": [
      " 32%|███▏      | 23/73 [12:52<27:31, 33.03s/it]"
     ]
    },
    {
     "name": "stdout",
     "output_type": "stream",
     "text": [
      "2022-08-12 18:56:52,459 - detection_util - INFO - Processing file: 89_A.jpg\n"
     ]
    },
    {
     "name": "stderr",
     "output_type": "stream",
     "text": [
      " 33%|███▎      | 24/73 [13:18<25:09, 30.81s/it]"
     ]
    },
    {
     "name": "stdout",
     "output_type": "stream",
     "text": [
      "2022-08-12 18:57:18,110 - detection_util - INFO - Processing file: 90_D.jpg\n"
     ]
    },
    {
     "name": "stderr",
     "output_type": "stream",
     "text": [
      " 34%|███▍      | 25/73 [13:55<26:10, 32.71s/it]"
     ]
    },
    {
     "name": "stdout",
     "output_type": "stream",
     "text": [
      "2022-08-12 18:57:55,242 - detection_util - INFO - Processing file: 90_C.jpg\n"
     ]
    },
    {
     "name": "stderr",
     "output_type": "stream",
     "text": [
      " 36%|███▌      | 26/73 [14:38<28:10, 35.97s/it]"
     ]
    },
    {
     "name": "stdout",
     "output_type": "stream",
     "text": [
      "2022-08-12 18:58:38,810 - detection_util - INFO - Processing file: 90_B.jpg\n"
     ]
    },
    {
     "name": "stderr",
     "output_type": "stream",
     "text": [
      " 37%|███▋      | 27/73 [15:22<29:16, 38.18s/it]"
     ]
    },
    {
     "name": "stdout",
     "output_type": "stream",
     "text": [
      "2022-08-12 18:59:22,149 - detection_util - INFO - Processing file: 90_AA.jpg\n"
     ]
    },
    {
     "name": "stderr",
     "output_type": "stream",
     "text": [
      " 38%|███▊      | 28/73 [16:12<31:24, 41.87s/it]"
     ]
    },
    {
     "name": "stdout",
     "output_type": "stream",
     "text": [
      "2022-08-12 19:00:12,631 - detection_util - INFO - Processing file: 90_A.jpg\n"
     ]
    },
    {
     "name": "stderr",
     "output_type": "stream",
     "text": [
      " 40%|███▉      | 29/73 [16:56<31:12, 42.57s/it]"
     ]
    },
    {
     "name": "stdout",
     "output_type": "stream",
     "text": [
      "2022-08-12 19:00:56,820 - detection_util - INFO - Processing file: 91_D.jpg\n"
     ]
    },
    {
     "name": "stderr",
     "output_type": "stream",
     "text": [
      " 41%|████      | 30/73 [17:38<30:16, 42.25s/it]"
     ]
    },
    {
     "name": "stdout",
     "output_type": "stream",
     "text": [
      "2022-08-12 19:01:38,331 - detection_util - INFO - Processing file: 91_C.jpg\n"
     ]
    },
    {
     "name": "stderr",
     "output_type": "stream",
     "text": [
      " 42%|████▏     | 31/73 [18:22<29:57, 42.79s/it]"
     ]
    },
    {
     "name": "stdout",
     "output_type": "stream",
     "text": [
      "2022-08-12 19:02:22,372 - detection_util - INFO - Processing file: 91_B.jpg\n"
     ]
    },
    {
     "name": "stderr",
     "output_type": "stream",
     "text": [
      " 44%|████▍     | 32/73 [19:09<30:02, 43.96s/it]"
     ]
    },
    {
     "name": "stdout",
     "output_type": "stream",
     "text": [
      "2022-08-12 19:03:09,061 - detection_util - INFO - Processing file: 91_AA.jpg\n"
     ]
    },
    {
     "name": "stderr",
     "output_type": "stream",
     "text": [
      " 45%|████▌     | 33/73 [19:53<29:17, 43.94s/it]"
     ]
    },
    {
     "name": "stdout",
     "output_type": "stream",
     "text": [
      "2022-08-12 19:03:52,952 - detection_util - INFO - Processing file: 91_A.jpg\n"
     ]
    },
    {
     "name": "stderr",
     "output_type": "stream",
     "text": [
      " 47%|████▋     | 34/73 [20:46<30:23, 46.76s/it]"
     ]
    },
    {
     "name": "stdout",
     "output_type": "stream",
     "text": [
      "2022-08-12 19:04:46,295 - detection_util - INFO - Processing file: 92_D.jpg\n"
     ]
    },
    {
     "name": "stderr",
     "output_type": "stream",
     "text": [
      " 48%|████▊     | 35/73 [21:37<30:21, 47.94s/it]"
     ]
    },
    {
     "name": "stdout",
     "output_type": "stream",
     "text": [
      "2022-08-12 19:05:36,977 - detection_util - INFO - Processing file: 92_C.jpg\n"
     ]
    },
    {
     "name": "stderr",
     "output_type": "stream",
     "text": [
      " 49%|████▉     | 36/73 [22:31<30:46, 49.90s/it]"
     ]
    },
    {
     "name": "stdout",
     "output_type": "stream",
     "text": [
      "2022-08-12 19:06:31,472 - detection_util - INFO - Processing file: 92_B.jpg\n"
     ]
    },
    {
     "name": "stderr",
     "output_type": "stream",
     "text": [
      " 51%|█████     | 37/73 [23:30<31:38, 52.74s/it]"
     ]
    },
    {
     "name": "stdout",
     "output_type": "stream",
     "text": [
      "2022-08-12 19:07:30,822 - detection_util - INFO - Processing file: 92_AA.jpg\n"
     ]
    },
    {
     "name": "stderr",
     "output_type": "stream",
     "text": [
      " 52%|█████▏    | 38/73 [24:21<30:26, 52.19s/it]"
     ]
    },
    {
     "name": "stdout",
     "output_type": "stream",
     "text": [
      "2022-08-12 19:08:21,740 - detection_util - INFO - Processing file: 92_A.jpg\n"
     ]
    },
    {
     "name": "stderr",
     "output_type": "stream",
     "text": [
      " 53%|█████▎    | 39/73 [25:10<28:53, 51.00s/it]"
     ]
    },
    {
     "name": "stdout",
     "output_type": "stream",
     "text": [
      "2022-08-12 19:09:09,955 - detection_util - INFO - Processing file: 93_D.jpg\n"
     ]
    },
    {
     "name": "stderr",
     "output_type": "stream",
     "text": [
      " 55%|█████▍    | 40/73 [26:11<29:47, 54.16s/it]"
     ]
    },
    {
     "name": "stdout",
     "output_type": "stream",
     "text": [
      "2022-08-12 19:10:11,492 - detection_util - INFO - Processing file: 93_C.jpg\n"
     ]
    },
    {
     "name": "stderr",
     "output_type": "stream",
     "text": [
      " 56%|█████▌    | 41/73 [27:08<29:21, 55.04s/it]"
     ]
    },
    {
     "name": "stdout",
     "output_type": "stream",
     "text": [
      "2022-08-12 19:11:08,601 - detection_util - INFO - Processing file: 93_B.jpg\n"
     ]
    },
    {
     "name": "stderr",
     "output_type": "stream",
     "text": [
      " 58%|█████▊    | 42/73 [28:02<28:10, 54.54s/it]"
     ]
    },
    {
     "name": "stdout",
     "output_type": "stream",
     "text": [
      "2022-08-12 19:12:01,947 - detection_util - INFO - Processing file: 93_AA.jpg\n"
     ]
    },
    {
     "name": "stderr",
     "output_type": "stream",
     "text": [
      " 59%|█████▉    | 43/73 [28:46<25:44, 51.49s/it]"
     ]
    },
    {
     "name": "stdout",
     "output_type": "stream",
     "text": [
      "2022-08-12 19:12:46,337 - detection_util - INFO - Processing file: 93_A.jpg\n"
     ]
    },
    {
     "name": "stderr",
     "output_type": "stream",
     "text": [
      " 60%|██████    | 44/73 [29:43<25:40, 53.13s/it]"
     ]
    },
    {
     "name": "stdout",
     "output_type": "stream",
     "text": [
      "2022-08-12 19:13:43,277 - detection_util - INFO - Processing file: 94_D.jpg\n"
     ]
    },
    {
     "name": "stderr",
     "output_type": "stream",
     "text": [
      " 62%|██████▏   | 45/73 [30:38<25:05, 53.78s/it]"
     ]
    },
    {
     "name": "stdout",
     "output_type": "stream",
     "text": [
      "2022-08-12 19:14:38,575 - detection_util - INFO - Processing file: 94_C.jpg\n"
     ]
    },
    {
     "name": "stderr",
     "output_type": "stream",
     "text": [
      " 63%|██████▎   | 46/73 [31:36<24:45, 55.02s/it]"
     ]
    },
    {
     "name": "stdout",
     "output_type": "stream",
     "text": [
      "2022-08-12 19:15:36,497 - detection_util - INFO - Processing file: 94_B.jpg\n"
     ]
    },
    {
     "name": "stderr",
     "output_type": "stream",
     "text": [
      " 64%|██████▍   | 47/73 [32:34<24:16, 56.01s/it]"
     ]
    },
    {
     "name": "stdout",
     "output_type": "stream",
     "text": [
      "2022-08-12 19:16:34,811 - detection_util - INFO - Processing file: 94_AA.jpg\n"
     ]
    },
    {
     "name": "stderr",
     "output_type": "stream",
     "text": [
      " 66%|██████▌   | 48/73 [33:22<22:15, 53.44s/it]"
     ]
    },
    {
     "name": "stdout",
     "output_type": "stream",
     "text": [
      "2022-08-12 19:17:22,255 - detection_util - INFO - Processing file: 94_A.jpg\n"
     ]
    },
    {
     "name": "stderr",
     "output_type": "stream",
     "text": [
      " 67%|██████▋   | 49/73 [34:20<22:00, 55.01s/it]"
     ]
    },
    {
     "name": "stdout",
     "output_type": "stream",
     "text": [
      "2022-08-12 19:18:20,918 - detection_util - INFO - Processing file: 95_D.jpg\n"
     ]
    },
    {
     "name": "stderr",
     "output_type": "stream",
     "text": [
      " 68%|██████▊   | 50/73 [34:58<19:01, 49.61s/it]"
     ]
    },
    {
     "name": "stdout",
     "output_type": "stream",
     "text": [
      "2022-08-12 19:18:57,941 - detection_util - INFO - Processing file: 95_C.jpg\n"
     ]
    },
    {
     "name": "stderr",
     "output_type": "stream",
     "text": [
      " 70%|██████▉   | 51/73 [35:43<17:42, 48.27s/it]"
     ]
    },
    {
     "name": "stdout",
     "output_type": "stream",
     "text": [
      "2022-08-12 19:19:43,096 - detection_util - INFO - Processing file: 95_B.jpg\n"
     ]
    },
    {
     "name": "stderr",
     "output_type": "stream",
     "text": [
      " 71%|███████   | 52/73 [36:19<15:41, 44.83s/it]"
     ]
    },
    {
     "name": "stdout",
     "output_type": "stream",
     "text": [
      "2022-08-12 19:20:19,901 - detection_util - INFO - Processing file: 95_AA.jpg\n"
     ]
    },
    {
     "name": "stderr",
     "output_type": "stream",
     "text": [
      " 73%|███████▎  | 53/73 [36:56<14:09, 42.49s/it]"
     ]
    },
    {
     "name": "stdout",
     "output_type": "stream",
     "text": [
      "2022-08-12 19:20:56,914 - detection_util - INFO - Processing file: 95_A.jpg\n"
     ]
    },
    {
     "name": "stderr",
     "output_type": "stream",
     "text": [
      " 74%|███████▍  | 54/73 [37:40<13:34, 42.84s/it]"
     ]
    },
    {
     "name": "stdout",
     "output_type": "stream",
     "text": [
      "2022-08-12 19:21:40,590 - detection_util - INFO - Processing file: 96_D.jpg\n"
     ]
    },
    {
     "name": "stderr",
     "output_type": "stream",
     "text": [
      " 75%|███████▌  | 55/73 [38:25<13:00, 43.34s/it]"
     ]
    },
    {
     "name": "stdout",
     "output_type": "stream",
     "text": [
      "2022-08-12 19:22:25,077 - detection_util - INFO - Processing file: 96_C.jpg\n"
     ]
    },
    {
     "name": "stderr",
     "output_type": "stream",
     "text": [
      " 77%|███████▋  | 56/73 [38:54<11:07, 39.29s/it]"
     ]
    },
    {
     "name": "stdout",
     "output_type": "stream",
     "text": [
      "2022-08-12 19:22:54,919 - detection_util - INFO - Processing file: 96_B.jpg\n"
     ]
    },
    {
     "name": "stderr",
     "output_type": "stream",
     "text": [
      " 78%|███████▊  | 57/73 [39:42<11:06, 41.69s/it]"
     ]
    },
    {
     "name": "stdout",
     "output_type": "stream",
     "text": [
      "2022-08-12 19:23:42,201 - detection_util - INFO - Processing file: 96_AA.jpg\n"
     ]
    },
    {
     "name": "stderr",
     "output_type": "stream",
     "text": [
      " 79%|███████▉  | 58/73 [40:21<10:15, 41.05s/it]"
     ]
    },
    {
     "name": "stdout",
     "output_type": "stream",
     "text": [
      "2022-08-12 19:24:21,778 - detection_util - INFO - Processing file: 96_A.jpg\n"
     ]
    },
    {
     "name": "stderr",
     "output_type": "stream",
     "text": [
      " 81%|████████  | 59/73 [41:15<10:28, 44.89s/it]"
     ]
    },
    {
     "name": "stdout",
     "output_type": "stream",
     "text": [
      "2022-08-12 19:25:15,616 - detection_util - INFO - Processing file: 97_D.jpg\n"
     ]
    },
    {
     "name": "stderr",
     "output_type": "stream",
     "text": [
      " 82%|████████▏ | 60/73 [42:11<10:24, 48.05s/it]"
     ]
    },
    {
     "name": "stdout",
     "output_type": "stream",
     "text": [
      "2022-08-12 19:26:11,028 - detection_util - INFO - Processing file: 97_C.jpg\n"
     ]
    },
    {
     "name": "stderr",
     "output_type": "stream",
     "text": [
      " 84%|████████▎ | 61/73 [42:46<08:52, 44.36s/it]"
     ]
    },
    {
     "name": "stdout",
     "output_type": "stream",
     "text": [
      "2022-08-12 19:26:46,772 - detection_util - INFO - Processing file: 97_B.jpg\n"
     ]
    },
    {
     "name": "stderr",
     "output_type": "stream",
     "text": [
      " 85%|████████▍ | 62/73 [43:27<07:54, 43.10s/it]"
     ]
    },
    {
     "name": "stdout",
     "output_type": "stream",
     "text": [
      "2022-08-12 19:27:26,943 - detection_util - INFO - Processing file: 97_A.jpg\n"
     ]
    },
    {
     "name": "stderr",
     "output_type": "stream",
     "text": [
      " 86%|████████▋ | 63/73 [44:07<07:02, 42.23s/it]"
     ]
    },
    {
     "name": "stdout",
     "output_type": "stream",
     "text": [
      "2022-08-12 19:28:07,134 - detection_util - INFO - Processing file: 98_D.jpg\n"
     ]
    },
    {
     "name": "stderr",
     "output_type": "stream",
     "text": [
      " 88%|████████▊ | 64/73 [44:45<06:09, 41.08s/it]"
     ]
    },
    {
     "name": "stdout",
     "output_type": "stream",
     "text": [
      "2022-08-12 19:28:45,525 - detection_util - INFO - Processing file: 98_C.jpg\n"
     ]
    },
    {
     "name": "stderr",
     "output_type": "stream",
     "text": [
      " 89%|████████▉ | 65/73 [45:18<05:08, 38.58s/it]"
     ]
    },
    {
     "name": "stdout",
     "output_type": "stream",
     "text": [
      "2022-08-12 19:29:18,264 - detection_util - INFO - Processing file: 98_B.jpg\n"
     ]
    },
    {
     "name": "stderr",
     "output_type": "stream",
     "text": [
      " 90%|█████████ | 66/73 [46:04<04:46, 40.88s/it]"
     ]
    },
    {
     "name": "stdout",
     "output_type": "stream",
     "text": [
      "2022-08-12 19:30:04,517 - detection_util - INFO - Processing file: 98_AA.jpg\n"
     ]
    },
    {
     "name": "stderr",
     "output_type": "stream",
     "text": [
      " 92%|█████████▏| 67/73 [46:41<03:57, 39.55s/it]"
     ]
    },
    {
     "name": "stdout",
     "output_type": "stream",
     "text": [
      "2022-08-12 19:30:40,963 - detection_util - INFO - Processing file: 98_A.jpg\n"
     ]
    },
    {
     "name": "stderr",
     "output_type": "stream",
     "text": [
      " 93%|█████████▎| 68/73 [47:17<03:13, 38.67s/it]"
     ]
    },
    {
     "name": "stdout",
     "output_type": "stream",
     "text": [
      "2022-08-12 19:31:17,576 - detection_util - INFO - Processing file: 99_D.jpg\n"
     ]
    },
    {
     "name": "stderr",
     "output_type": "stream",
     "text": [
      " 95%|█████████▍| 69/73 [48:00<02:39, 39.94s/it]"
     ]
    },
    {
     "name": "stdout",
     "output_type": "stream",
     "text": [
      "2022-08-12 19:32:00,497 - detection_util - INFO - Processing file: 99_C.jpg\n"
     ]
    },
    {
     "name": "stderr",
     "output_type": "stream",
     "text": [
      " 96%|█████████▌| 70/73 [48:29<01:49, 36.63s/it]"
     ]
    },
    {
     "name": "stdout",
     "output_type": "stream",
     "text": [
      "2022-08-12 19:32:29,387 - detection_util - INFO - Processing file: 99_B.jpg\n"
     ]
    },
    {
     "name": "stderr",
     "output_type": "stream",
     "text": [
      " 97%|█████████▋| 71/73 [49:02<01:11, 35.56s/it]"
     ]
    },
    {
     "name": "stdout",
     "output_type": "stream",
     "text": [
      "2022-08-12 19:33:02,460 - detection_util - INFO - Processing file: 99_AA.jpg\n"
     ]
    },
    {
     "name": "stderr",
     "output_type": "stream",
     "text": [
      " 99%|█████████▊| 72/73 [49:30<00:33, 33.16s/it]"
     ]
    },
    {
     "name": "stdout",
     "output_type": "stream",
     "text": [
      "2022-08-12 19:33:30,030 - detection_util - INFO - Processing file: 99_A.jpg\n"
     ]
    },
    {
     "name": "stderr",
     "output_type": "stream",
     "text": [
      "100%|██████████| 73/73 [50:15<00:00, 41.31s/it]"
     ]
    },
    {
     "name": "stdout",
     "output_type": "stream",
     "text": [
      "CPU times: user 55min 41s, sys: 18min 27s, total: 1h 14min 9s\n",
      "Wall time: 50min 18s\n"
     ]
    },
    {
     "name": "stderr",
     "output_type": "stream",
     "text": [
      "\n"
     ]
    }
   ],
   "source": [
    "%%time \n",
    "prediction_df = create_predictions(file_names, config, checkpoint,device='cpu')"
   ]
  },
  {
   "cell_type": "code",
   "execution_count": 10,
   "id": "1ea4f38e-187c-4e1e-8cac-d86fcb667fee",
   "metadata": {},
   "outputs": [
    {
     "data": {
      "text/html": [
       "<div>\n",
       "<style scoped>\n",
       "    .dataframe tbody tr th:only-of-type {\n",
       "        vertical-align: middle;\n",
       "    }\n",
       "\n",
       "    .dataframe tbody tr th {\n",
       "        vertical-align: top;\n",
       "    }\n",
       "\n",
       "    .dataframe thead th {\n",
       "        text-align: right;\n",
       "    }\n",
       "</style>\n",
       "<table border=\"1\" class=\"dataframe\">\n",
       "  <thead>\n",
       "    <tr style=\"text-align: right;\">\n",
       "      <th></th>\n",
       "      <th>file_name</th>\n",
       "      <th>xmin</th>\n",
       "      <th>ymin</th>\n",
       "      <th>xmax</th>\n",
       "      <th>ymax</th>\n",
       "      <th>detection_score</th>\n",
       "    </tr>\n",
       "    <tr>\n",
       "      <th>section_id</th>\n",
       "      <th></th>\n",
       "      <th></th>\n",
       "      <th></th>\n",
       "      <th></th>\n",
       "      <th></th>\n",
       "      <th></th>\n",
       "    </tr>\n",
       "  </thead>\n",
       "  <tbody>\n",
       "    <tr>\n",
       "      <th>100_D.jpg@3047-3269-3616-3789</th>\n",
       "      <td>100_D.jpg</td>\n",
       "      <td>3047</td>\n",
       "      <td>3616</td>\n",
       "      <td>3269</td>\n",
       "      <td>3789</td>\n",
       "      <td>0.998979</td>\n",
       "    </tr>\n",
       "    <tr>\n",
       "      <th>100_D.jpg@1629-1806-3187-3458</th>\n",
       "      <td>100_D.jpg</td>\n",
       "      <td>1629</td>\n",
       "      <td>3187</td>\n",
       "      <td>1806</td>\n",
       "      <td>3458</td>\n",
       "      <td>0.998705</td>\n",
       "    </tr>\n",
       "    <tr>\n",
       "      <th>100_D.jpg@2896-3086-3137-3327</th>\n",
       "      <td>100_D.jpg</td>\n",
       "      <td>2896</td>\n",
       "      <td>3137</td>\n",
       "      <td>3086</td>\n",
       "      <td>3327</td>\n",
       "      <td>0.998632</td>\n",
       "    </tr>\n",
       "    <tr>\n",
       "      <th>100_D.jpg@3046-3278-4087-4313</th>\n",
       "      <td>100_D.jpg</td>\n",
       "      <td>3046</td>\n",
       "      <td>4087</td>\n",
       "      <td>3278</td>\n",
       "      <td>4313</td>\n",
       "      <td>0.998483</td>\n",
       "    </tr>\n",
       "    <tr>\n",
       "      <th>100_D.jpg@2677-2839-6258-6460</th>\n",
       "      <td>100_D.jpg</td>\n",
       "      <td>2677</td>\n",
       "      <td>6258</td>\n",
       "      <td>2839</td>\n",
       "      <td>6460</td>\n",
       "      <td>0.998259</td>\n",
       "    </tr>\n",
       "    <tr>\n",
       "      <th>...</th>\n",
       "      <td>...</td>\n",
       "      <td>...</td>\n",
       "      <td>...</td>\n",
       "      <td>...</td>\n",
       "      <td>...</td>\n",
       "      <td>...</td>\n",
       "    </tr>\n",
       "    <tr>\n",
       "      <th>99_A.jpg@2046-2122-6229-6318</th>\n",
       "      <td>99_A.jpg</td>\n",
       "      <td>2046</td>\n",
       "      <td>6229</td>\n",
       "      <td>2122</td>\n",
       "      <td>6318</td>\n",
       "      <td>0.053920</td>\n",
       "    </tr>\n",
       "    <tr>\n",
       "      <th>99_A.jpg@4309-4662-2018-2871</th>\n",
       "      <td>99_A.jpg</td>\n",
       "      <td>4309</td>\n",
       "      <td>2018</td>\n",
       "      <td>4662</td>\n",
       "      <td>2871</td>\n",
       "      <td>0.053610</td>\n",
       "    </tr>\n",
       "    <tr>\n",
       "      <th>99_A.jpg@4187-4255-1060-1152</th>\n",
       "      <td>99_A.jpg</td>\n",
       "      <td>4187</td>\n",
       "      <td>1060</td>\n",
       "      <td>4255</td>\n",
       "      <td>1152</td>\n",
       "      <td>0.052414</td>\n",
       "    </tr>\n",
       "    <tr>\n",
       "      <th>99_A.jpg@1972-2052-6614-6670</th>\n",
       "      <td>99_A.jpg</td>\n",
       "      <td>1972</td>\n",
       "      <td>6614</td>\n",
       "      <td>2052</td>\n",
       "      <td>6670</td>\n",
       "      <td>0.051206</td>\n",
       "    </tr>\n",
       "    <tr>\n",
       "      <th>99_A.jpg@4245-4615-1950-2299</th>\n",
       "      <td>99_A.jpg</td>\n",
       "      <td>4245</td>\n",
       "      <td>1950</td>\n",
       "      <td>4615</td>\n",
       "      <td>2299</td>\n",
       "      <td>0.050295</td>\n",
       "    </tr>\n",
       "  </tbody>\n",
       "</table>\n",
       "<p>8702 rows × 6 columns</p>\n",
       "</div>"
      ],
      "text/plain": [
       "                               file_name  xmin  ymin  xmax  ymax  \\\n",
       "section_id                                                         \n",
       "100_D.jpg@3047-3269-3616-3789  100_D.jpg  3047  3616  3269  3789   \n",
       "100_D.jpg@1629-1806-3187-3458  100_D.jpg  1629  3187  1806  3458   \n",
       "100_D.jpg@2896-3086-3137-3327  100_D.jpg  2896  3137  3086  3327   \n",
       "100_D.jpg@3046-3278-4087-4313  100_D.jpg  3046  4087  3278  4313   \n",
       "100_D.jpg@2677-2839-6258-6460  100_D.jpg  2677  6258  2839  6460   \n",
       "...                                  ...   ...   ...   ...   ...   \n",
       "99_A.jpg@2046-2122-6229-6318    99_A.jpg  2046  6229  2122  6318   \n",
       "99_A.jpg@4309-4662-2018-2871    99_A.jpg  4309  2018  4662  2871   \n",
       "99_A.jpg@4187-4255-1060-1152    99_A.jpg  4187  1060  4255  1152   \n",
       "99_A.jpg@1972-2052-6614-6670    99_A.jpg  1972  6614  2052  6670   \n",
       "99_A.jpg@4245-4615-1950-2299    99_A.jpg  4245  1950  4615  2299   \n",
       "\n",
       "                               detection_score  \n",
       "section_id                                      \n",
       "100_D.jpg@3047-3269-3616-3789         0.998979  \n",
       "100_D.jpg@1629-1806-3187-3458         0.998705  \n",
       "100_D.jpg@2896-3086-3137-3327         0.998632  \n",
       "100_D.jpg@3046-3278-4087-4313         0.998483  \n",
       "100_D.jpg@2677-2839-6258-6460         0.998259  \n",
       "...                                        ...  \n",
       "99_A.jpg@2046-2122-6229-6318          0.053920  \n",
       "99_A.jpg@4309-4662-2018-2871          0.053610  \n",
       "99_A.jpg@4187-4255-1060-1152          0.052414  \n",
       "99_A.jpg@1972-2052-6614-6670          0.051206  \n",
       "99_A.jpg@4245-4615-1950-2299          0.050295  \n",
       "\n",
       "[8702 rows x 6 columns]"
      ]
     },
     "execution_count": 10,
     "metadata": {},
     "output_type": "execute_result"
    }
   ],
   "source": [
    "prediction_df"
   ]
  },
  {
   "cell_type": "code",
   "execution_count": 25,
   "id": "16fe2eb9-ce6d-4ece-a01b-4a17e7bcb28b",
   "metadata": {},
   "outputs": [
    {
     "name": "stdout",
     "output_type": "stream",
     "text": [
      "/home/sagemaker-user\n"
     ]
    }
   ],
   "source": [
    "%cd /home/sagemaker-user/\n",
    "local_directory=f\"MMDetection/output/{job_name}\"\n",
    "file_name='submission-'+ job_name + '.csv'\n",
    "\n",
    "prediction_df.drop_duplicates(subset=['file_name', 'xmin', 'xmax', 'ymin', 'ymax'], inplace=True)\n",
    "prediction_df.to_csv(f'{local_directory}/{file_name}', sep=';')"
   ]
  },
  {
   "cell_type": "code",
   "execution_count": 16,
   "id": "eca78c2c-5cee-4d0c-aa4b-1a50c1d32dbf",
   "metadata": {
    "tags": []
   },
   "outputs": [],
   "source": [
    "# !conda install -y -c conda-forge zip"
   ]
  },
  {
   "cell_type": "code",
   "execution_count": 15,
   "id": "de9f7b1b-da18-46f8-b362-4c3ef761e5f7",
   "metadata": {
    "tags": []
   },
   "outputs": [],
   "source": [
    "# !zip -r -X /home/sagemaker-user/MMDetection/dataall_processed-rgb_images.zip /home/sagemaker-user/MMDetection/data/processed-rgb-images"
   ]
  },
  {
   "cell_type": "code",
   "execution_count": 14,
   "id": "4e98da7f-796a-4df8-8a37-4ff5fac9e78b",
   "metadata": {},
   "outputs": [],
   "source": [
    "# !split --help"
   ]
  },
  {
   "cell_type": "code",
   "execution_count": 13,
   "id": "8c4a8501-be95-41c6-920b-48e51c1c8bf6",
   "metadata": {},
   "outputs": [],
   "source": [
    "# !zip -U -s 200M -O /home/sagemaker-user/MMDetection/data/split-zip/processed_rgb_images_part_.zip /home/sagemaker-user/MMDetection/dataall_processed-rgb_images.zip"
   ]
  },
  {
   "cell_type": "code",
   "execution_count": null,
   "id": "f5d9fcaa-753d-4a36-9ef6-6d2b71d1f8a6",
   "metadata": {},
   "outputs": [],
   "source": []
  }
 ],
 "metadata": {
  "instance_type": "ml.t3.medium",
  "kernelspec": {
   "display_name": "python3 (gdsc5-smstudio-custum/1)",
   "language": "python",
   "name": "python3__SAGEMAKER_INTERNAL__arn:aws:sagemaker:us-east-1:494549386743:image-version/gdsc5-smstudio-custum/1"
  },
  "language_info": {
   "codemirror_mode": {
    "name": "ipython",
    "version": 3
   },
   "file_extension": ".py",
   "mimetype": "text/x-python",
   "name": "python",
   "nbconvert_exporter": "python",
   "pygments_lexer": "ipython3",
   "version": "3.6.13"
  }
 },
 "nbformat": 4,
 "nbformat_minor": 5
}
