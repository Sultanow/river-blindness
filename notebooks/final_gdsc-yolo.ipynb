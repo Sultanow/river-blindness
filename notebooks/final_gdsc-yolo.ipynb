{
 "cells": [
  {
   "cell_type": "markdown",
   "id": "59a8a2a5-d8f2-410e-8ccf-d1662806b0f9",
   "metadata": {
    "tags": []
   },
   "source": [
    "# Imports"
   ]
  },
  {
   "cell_type": "markdown",
   "id": "d7132337-bf3b-4116-9f7f-b39c80cafea6",
   "metadata": {},
   "source": [
    "## Important\n",
    "You need to choose the image gdsc5-smstudio-custom/1"
   ]
  },
  {
   "cell_type": "code",
   "execution_count": 30,
   "id": "5c6fffc4-677d-40b5-9229-623a48fa72ad",
   "metadata": {},
   "outputs": [
    {
     "name": "stdout",
     "output_type": "stream",
     "text": [
      "Requirement already satisfied: imutils in /opt/conda/lib/python3.6/site-packages (0.5.4)\n",
      "\u001b[33mWARNING: Running pip as the 'root' user can result in broken permissions and conflicting behaviour with the system package manager. It is recommended to use a virtual environment instead: https://pip.pypa.io/warnings/venv\u001b[0m\n",
      "Requirement already satisfied: docutils in /opt/conda/lib/python3.6/site-packages (0.18.1)\n",
      "\u001b[33mWARNING: Running pip as the 'root' user can result in broken permissions and conflicting behaviour with the system package manager. It is recommended to use a virtual environment instead: https://pip.pypa.io/warnings/venv\u001b[0m\n",
      "Requirement already satisfied: sagemaker in /opt/conda/lib/python3.6/site-packages (2.103.0)\n",
      "Requirement already satisfied: boto3<2.0,>=1.20.21 in /opt/conda/lib/python3.6/site-packages (from sagemaker) (1.20.24)\n",
      "Requirement already satisfied: packaging>=20.0 in /opt/conda/lib/python3.6/site-packages (from sagemaker) (21.3)\n",
      "Requirement already satisfied: google-pasta in /opt/conda/lib/python3.6/site-packages (from sagemaker) (0.2.0)\n",
      "Requirement already satisfied: protobuf<4.0,>=3.1 in /opt/conda/lib/python3.6/site-packages (from sagemaker) (3.19.1)\n",
      "Requirement already satisfied: smdebug-rulesconfig==1.0.1 in /opt/conda/lib/python3.6/site-packages (from sagemaker) (1.0.1)\n",
      "Requirement already satisfied: numpy<2.0,>=1.9.0 in /opt/conda/lib/python3.6/site-packages (from sagemaker) (1.19.1)\n",
      "Requirement already satisfied: pathos in /opt/conda/lib/python3.6/site-packages (from sagemaker) (0.2.8)\n",
      "Requirement already satisfied: importlib-metadata<5.0,>=1.4.0 in /opt/conda/lib/python3.6/site-packages (from sagemaker) (4.8.3)\n",
      "Requirement already satisfied: attrs<22,>=20.3.0 in /opt/conda/lib/python3.6/site-packages (from sagemaker) (21.2.0)\n",
      "Requirement already satisfied: protobuf3-to-dict<1.0,>=0.1.5 in /opt/conda/lib/python3.6/site-packages (from sagemaker) (0.1.5)\n",
      "Requirement already satisfied: pandas in /opt/conda/lib/python3.6/site-packages (from sagemaker) (1.1.5)\n",
      "Requirement already satisfied: botocore<1.24.0,>=1.23.24 in /opt/conda/lib/python3.6/site-packages (from boto3<2.0,>=1.20.21->sagemaker) (1.23.24)\n",
      "Requirement already satisfied: s3transfer<0.6.0,>=0.5.0 in /opt/conda/lib/python3.6/site-packages (from boto3<2.0,>=1.20.21->sagemaker) (0.5.0)\n",
      "Requirement already satisfied: jmespath<1.0.0,>=0.7.1 in /opt/conda/lib/python3.6/site-packages (from boto3<2.0,>=1.20.21->sagemaker) (0.10.0)\n",
      "Requirement already satisfied: zipp>=0.5 in /opt/conda/lib/python3.6/site-packages (from importlib-metadata<5.0,>=1.4.0->sagemaker) (3.6.0)\n",
      "Requirement already satisfied: typing-extensions>=3.6.4 in /opt/conda/lib/python3.6/site-packages (from importlib-metadata<5.0,>=1.4.0->sagemaker) (3.10.0.2)\n",
      "Requirement already satisfied: pyparsing!=3.0.5,>=2.0.2 in /opt/conda/lib/python3.6/site-packages (from packaging>=20.0->sagemaker) (3.0.6)\n",
      "Requirement already satisfied: six in /opt/conda/lib/python3.6/site-packages (from protobuf3-to-dict<1.0,>=0.1.5->sagemaker) (1.16.0)\n",
      "Requirement already satisfied: python-dateutil>=2.7.3 in /opt/conda/lib/python3.6/site-packages (from pandas->sagemaker) (2.8.2)\n",
      "Requirement already satisfied: pytz>=2017.2 in /opt/conda/lib/python3.6/site-packages (from pandas->sagemaker) (2021.3)\n",
      "Requirement already satisfied: dill>=0.3.4 in /opt/conda/lib/python3.6/site-packages (from pathos->sagemaker) (0.3.4)\n",
      "Requirement already satisfied: multiprocess>=0.70.12 in /opt/conda/lib/python3.6/site-packages (from pathos->sagemaker) (0.70.12.2)\n",
      "Requirement already satisfied: ppft>=1.6.6.4 in /opt/conda/lib/python3.6/site-packages (from pathos->sagemaker) (1.6.6.4)\n",
      "Requirement already satisfied: pox>=0.3.0 in /opt/conda/lib/python3.6/site-packages (from pathos->sagemaker) (0.3.0)\n",
      "Requirement already satisfied: urllib3<1.27,>=1.25.4 in /opt/conda/lib/python3.6/site-packages (from botocore<1.24.0,>=1.23.24->boto3<2.0,>=1.20.21->sagemaker) (1.26.6)\n",
      "\u001b[33mWARNING: Running pip as the 'root' user can result in broken permissions and conflicting behaviour with the system package manager. It is recommended to use a virtual environment instead: https://pip.pypa.io/warnings/venv\u001b[0m\n"
     ]
    }
   ],
   "source": [
    "!pip install imutils\n",
    "!pip install docutils\n",
    "!pip install -U sagemaker"
   ]
  },
  {
   "cell_type": "code",
   "execution_count": 31,
   "id": "dd3b18c4-b2d3-4f91-8f2a-86366f955c5f",
   "metadata": {},
   "outputs": [],
   "source": [
    "import matplotlib.pyplot as plt  # Used for plotting\n",
    "%matplotlib inline\n",
    "import pandas as pd  # Home of the DataFrame construct, _the_ most important object for Data Science\n",
    "import numpy as np\n",
    "import sys  # Python system library needed to load custom functions\n",
    "import os\n",
    "import json\n",
    "import re\n",
    "import tarfile\n",
    "\n",
    "from matplotlib.patches import Rectangle  # Allows drawing the bounding boxes of the worm sections\n",
    "from PIL import Image  # For loading image files\n",
    "from tqdm import tqdm  # for timing a for loop\n",
    "\n",
    "import tarfile\n",
    "import os\n",
    "import os.path\n",
    "import shutil"
   ]
  },
  {
   "cell_type": "code",
   "execution_count": 32,
   "id": "9a54ca1c-ae0d-41b9-9608-94b4c6de952b",
   "metadata": {
    "tags": []
   },
   "outputs": [],
   "source": [
    "import sagemaker\n",
    "from sagemaker import get_execution_role\n",
    "from sagemaker.estimator import Framework, Estimator\n",
    "from sagemaker.processing import Processor, ProcessingInput, ProcessingOutput\n",
    "from sagemaker.session import TrainingInput\n",
    "from sagemaker.pytorch import PyTorch\n",
    "from sagemaker_training import (\n",
    "    entry_point,\n",
    "    environment,\n",
    "    errors,\n",
    "    files,\n",
    "    intermediate_output,\n",
    "    logging_config,\n",
    "    params,\n",
    "    runner,\n",
    ")"
   ]
  },
  {
   "cell_type": "markdown",
   "id": "fba7f888-ef65-410d-af7d-b7ec7e04e852",
   "metadata": {},
   "source": [
    "# AWS Configuration"
   ]
  },
  {
   "cell_type": "code",
   "execution_count": 33,
   "id": "1bb1a4f5-e236-4a55-8d5a-d3b3a49caaee",
   "metadata": {},
   "outputs": [
    {
     "name": "stdout",
     "output_type": "stream",
     "text": [
      "SageMaker Session: <sagemaker.session.Session object at 0x7fa9c0942198>\n",
      "SageMaker role: arn:aws:iam::494549386743:role/service-role/AmazonSageMaker-ExecutionRole-20220618T161542\n",
      "Bucket: sagemaker-us-east-1-494549386743\n"
     ]
    }
   ],
   "source": [
    "sagemaker_session = sagemaker.Session()\n",
    "sagemaker_role = sagemaker.get_execution_role()\n",
    "bucket = sagemaker_session.default_bucket()\n",
    "\n",
    "print(f'SageMaker Session: {sagemaker_session}')\n",
    "print(f'SageMaker role: {sagemaker_role}')\n",
    "print(f'Bucket: {bucket}')"
   ]
  },
  {
   "cell_type": "code",
   "execution_count": 34,
   "id": "fe42649f-3f5c-4d2a-848a-d893e766cb53",
   "metadata": {},
   "outputs": [
    {
     "data": {
      "text/plain": [
       "'AmazonSageMaker-ExecutionRole-20220618T161542'"
      ]
     },
     "execution_count": 34,
     "metadata": {},
     "output_type": "execute_result"
    }
   ],
   "source": [
    "role='AmazonSageMaker-ExecutionRole-20220618T161542'\n",
    "role"
   ]
  },
  {
   "cell_type": "code",
   "execution_count": 35,
   "id": "2c5e3c9f-5ec5-4d52-9992-3aa0953cefcb",
   "metadata": {},
   "outputs": [
    {
     "data": {
      "text/plain": [
       "'arn:aws:iam::494549386743:role/service-role/AmazonSageMaker-ExecutionRole-20220618T161542'"
      ]
     },
     "execution_count": 35,
     "metadata": {},
     "output_type": "execute_result"
    }
   ],
   "source": [
    "sagemaker_session = sagemaker.Session()\n",
    "role = get_execution_role()\n",
    "role"
   ]
  },
  {
   "cell_type": "code",
   "execution_count": 36,
   "id": "c770d9b6-34a9-4459-a1d5-a7083a83cfc8",
   "metadata": {},
   "outputs": [
    {
     "name": "stdout",
     "output_type": "stream",
     "text": [
      "      Name                    Value             Type    Location\n",
      "      ----                    -----             ----    --------\n",
      "   profile                <not set>             None    None\n",
      "access_key     ****************3YFS   container-role    \n",
      "secret_key     ****************YdK8   container-role    \n",
      "    region                us-east-1              env    AWS_DEFAULT_REGION\n"
     ]
    }
   ],
   "source": [
    "!aws configure list"
   ]
  },
  {
   "cell_type": "code",
   "execution_count": 37,
   "id": "efaf5893-e266-4db1-80ba-5f8155be7f60",
   "metadata": {},
   "outputs": [
    {
     "name": "stdout",
     "output_type": "stream",
     "text": [
      "[\n",
      "    \"sagemaker-studio-jna7gyyxsih\",\n",
      "    \"sagemaker-us-east-1-494549386743\"\n",
      "]\n"
     ]
    }
   ],
   "source": [
    "!aws s3api list-buckets --query \"Buckets[].Name\""
   ]
  },
  {
   "cell_type": "code",
   "execution_count": 38,
   "id": "33f22dae-f8d8-4f03-8f02-e89f5c040fda",
   "metadata": {},
   "outputs": [
    {
     "name": "stdout",
     "output_type": "stream",
     "text": [
      "s3://sagemaker-studio-jna7gyyxsih/yolo-input/visualsearch/training-inputs\n",
      "s3://sagemaker-studio-jna7gyyxsih/yolo-input/visualsearch/dataset\n",
      "s3://sagemaker-studio-jna7gyyxsih/yolo-input/visualsearch/labels\n",
      "s3://sagemaker-studio-jna7gyyxsih/yolo-input/visualsearch/training-inputs/input/models/\n",
      "s3://sagemaker-studio-jna7gyyxsih/yolo-input/visualsearch/training-inputs/input/data/weights/\n",
      "s3://sagemaker-studio-jna7gyyxsih/yolo-output/\n",
      "s3://sagemaker-studio-jna7gyyxsih/yolo-input/visualsearch/dataset/\n",
      "s3://sagemaker-studio-jna7gyyxsih/yolo-input/visualsearch/labels/\n"
     ]
    }
   ],
   "source": [
    "s3_input = \"s3://sagemaker-studio-jna7gyyxsih/yolo-input/visualsearch/training-inputs\".format(bucket)\n",
    "s3_images = \"s3://sagemaker-studio-jna7gyyxsih/yolo-input/visualsearch/dataset\" # Images files are here, in a subfolder named 'train'\n",
    "s3_labels = \"s3://sagemaker-studio-jna7gyyxsih/yolo-input/visualsearch/labels\" # Label files are here, in a subfolder named 'train'\n",
    "\n",
    "s3_output = 's3://sagemaker-studio-jna7gyyxsih/yolo-output'.format(bucket)\n",
    "print(s3_input)\n",
    "print(s3_images)\n",
    "print(s3_labels)\n",
    "\n",
    "# cfg  images weights labels\n",
    "cfg='{}/input/models/'.format(s3_input)\n",
    "weights='{}/input/data/weights/'.format(s3_input)\n",
    "outpath='{}/'.format(s3_output)\n",
    "\n",
    "\n",
    "print(cfg)\n",
    "print(weights)\n",
    "print(outpath)\n",
    "\n",
    "images='{}/'.format(s3_images)\n",
    "labels='{}/'.format(s3_labels)\n",
    "\n",
    "print(images)\n",
    "print(labels)"
   ]
  },
  {
   "cell_type": "code",
   "execution_count": 11,
   "id": "0598c2ff-03d0-48a3-b03c-cdd027c6b506",
   "metadata": {},
   "outputs": [
    {
     "data": {
      "text/plain": [
       "'763104351884.dkr.ecr.us-east-1.amazonaws.com/pytorch-training:1.11.0-gpu-py38-cu113-ubuntu20.04-sagemaker'"
      ]
     },
     "execution_count": 11,
     "metadata": {},
     "output_type": "execute_result"
    }
   ],
   "source": [
    "container='763104351884.dkr.ecr.us-east-1.amazonaws.com/pytorch-training:1.11.0-gpu-py38-cu113-ubuntu20.04-sagemaker'\n",
    "container"
   ]
  },
  {
   "cell_type": "markdown",
   "id": "7dcc1037-6230-4f55-8922-f6c9f31f57b5",
   "metadata": {},
   "source": [
    "# Job Configuration"
   ]
  },
  {
   "cell_type": "code",
   "execution_count": 39,
   "id": "ed423f43-e99b-4af9-bb6a-494a36ccdd99",
   "metadata": {},
   "outputs": [],
   "source": [
    "# JSON encode hyperparameters.\n",
    "def json_encode_hyperparameters(hyperparameters):\n",
    "    return {str(k): json.dumps(v) for (k, v) in hyperparameters.items()}\n",
    "\n",
    "\n",
    "hyperparameters = {\n",
    "    \"epochs\": 10,\n",
    "    \"batch-size\": 6\n",
    "}\n",
    "\n",
    "inputs = {\n",
    "    \"cfg\": TrainingInput(cfg),\n",
    "    \"images\": TrainingInput(images),\n",
    "    \"weights\": TrainingInput(weights),\n",
    "    \"labels\": TrainingInput(labels)\n",
    "}"
   ]
  },
  {
   "cell_type": "code",
   "execution_count": 40,
   "id": "9cf931a3-9d74-4088-938c-3f7d2504a7e0",
   "metadata": {},
   "outputs": [],
   "source": [
    "estimator = PyTorch(\n",
    "    entry_point='train.py',\n",
    "    source_dir='s3://sagemaker-studio-jna7gyyxsih/yolo-input/visualsearch/training-inputs/input/input.tar.gz',\n",
    "    image_uri=container,\n",
    "    role=role,\n",
    "    instance_count=1,\n",
    "    instance_type='ml.g4dn.xlarge',\n",
    "    model_dir='/opt/ml/model',\n",
    "    max_run=2*24*60*60,\n",
    "    input_mode='File',\n",
    "    output_path=outpath,\n",
    "    train_output=outpath,\n",
    "    base_job_name='visualsearch-yolov5',\n",
    "    # user_entry_point=\"train.py\",\n",
    "    hyperparameters=hyperparameters,\n",
    "    framework_version='1.9',\n",
    "    py_version='py38'\n",
    ")"
   ]
  },
  {
   "cell_type": "markdown",
   "id": "631b912e-6f3e-4179-a2c4-ea39906ed1fe",
   "metadata": {},
   "source": [
    "# Make Custom Changes To yolov5"
   ]
  },
  {
   "cell_type": "markdown",
   "id": "bcc12ff6-9a4f-4f65-91f9-01f7a70193b5",
   "metadata": {},
   "source": [
    " - detect.py -> Changes Bounding Box Output Format\n",
    " - train.py -> Configured Image Size and Data yaml (Coco to Visualsearch)\n",
    " - requirements.txt -> Updated TorchVision Version\n",
    " - utils/general.py -> Increased Time Limit"
   ]
  },
  {
   "cell_type": "markdown",
   "id": "e74d47d9-4d6d-4289-baa6-ccc60dfbac3c",
   "metadata": {},
   "source": [
    "If you resume the training:\n",
    "\n",
    "1. change changes/train.py --weights to 'best.pt' line 481\n",
    "1. run the next cell to copy the weights"
   ]
  },
  {
   "cell_type": "code",
   "execution_count": 41,
   "id": "6d5e0af3-4066-4b73-9006-31a886f58dd1",
   "metadata": {},
   "outputs": [],
   "source": [
    "# import shutil\n",
    "# source_path='/home/sagemaker-user/river-blindness/outputs/weights/best.pt'\n",
    "# target_path='/home/sagemaker-user/river-blindness/changes/'\n",
    "\n",
    "# shutil.copy(source_path, target_path)"
   ]
  },
  {
   "cell_type": "code",
   "execution_count": 42,
   "id": "5f94fe89-2dfd-4087-a805-a112b335e8fd",
   "metadata": {},
   "outputs": [],
   "source": [
    "directory_path = os.getcwd()\n",
    "folder_name = os.path.basename(directory_path)\n",
    "\n",
    "if(folder_name == \"yolov5\"):\n",
    "    %cd .."
   ]
  },
  {
   "cell_type": "code",
   "execution_count": 43,
   "id": "98752abd-5a64-4e08-87fa-75927d68a42e",
   "metadata": {},
   "outputs": [
    {
     "name": "stdout",
     "output_type": "stream",
     "text": [
      "/home/sagemaker-user/river-blindness\n"
     ]
    }
   ],
   "source": [
    "%cd /home/sagemaker-user/river-blindness"
   ]
  },
  {
   "cell_type": "code",
   "execution_count": 44,
   "id": "2517ce1c-3bfd-4484-bae8-0083f3b0c380",
   "metadata": {},
   "outputs": [
    {
     "name": "stdout",
     "output_type": "stream",
     "text": [
      "/home/sagemaker-user/river-blindness/yolov5\n",
      "Updating 9d7bc06..2e57b84\n",
      "error: Your local changes to the following files would be overwritten by merge:\n",
      "\tdetect.py\n",
      "\tmodels/common.py\n",
      "\trequirements.txt\n",
      "\ttrain.py\n",
      "\tutils/general.py\n",
      "\tutils/metrics.py\n",
      "Please commit your changes or stash them before you merge.\n",
      "Aborting\n",
      "/home/sagemaker-user/river-blindness\n"
     ]
    }
   ],
   "source": [
    "if(os.path.isdir('yolov5')):\n",
    "    # If Repo already cloned\n",
    "    %cd yolov5\n",
    "    !git pull\n",
    "    %cd ..\n",
    "else:\n",
    "    #If Repo not cloned\n",
    "    !git clone https://github.com/ultralytics/yolov5.git"
   ]
  },
  {
   "cell_type": "code",
   "execution_count": 45,
   "id": "1968edc9-11f3-48a6-8ca0-d97fa84d054c",
   "metadata": {},
   "outputs": [],
   "source": [
    "# Copy Changed files from changes to cloned yolov5\n",
    "yolov5_path=\"yolov5\"\n",
    "changes_path=\"changes\"\n",
    "\n",
    "for src_dir, dirs, files in os.walk(changes_path):\n",
    "    dst_dir = src_dir.replace(changes_path, yolov5_path, 1)\n",
    "    if not os.path.exists(dst_dir):\n",
    "        os.makedirs(dst_dir)\n",
    "    for file_ in files:\n",
    "        src_file = os.path.join(src_dir, file_)\n",
    "        dst_file = os.path.join(dst_dir, file_)\n",
    "        if os.path.exists(dst_file):\n",
    "            # in case of the src and dst are the same file\n",
    "            if os.path.samefile(src_file, dst_file):\n",
    "                continue\n",
    "            os.remove(dst_file)\n",
    "        shutil.copy(src_file, dst_dir)"
   ]
  },
  {
   "cell_type": "code",
   "execution_count": 46,
   "id": "54e82321-fe1c-44de-90fe-1f891422f5f0",
   "metadata": {},
   "outputs": [],
   "source": [
    "def make_tarfile_without_parent(output_filename, source_dir):\n",
    "    with tarfile.open(output_filename, \"w:gz\") as tar:\n",
    "        for fn in os.listdir(source_dir):\n",
    "            p = os.path.join(source_dir, fn)\n",
    "            tar.add(p, arcname=fn)"
   ]
  },
  {
   "cell_type": "code",
   "execution_count": 47,
   "id": "42e930b2-7d46-4143-bc50-59c28ae2b8b7",
   "metadata": {},
   "outputs": [],
   "source": [
    "make_tarfile_without_parent(\"input.tar.gz\", yolov5_path)"
   ]
  },
  {
   "cell_type": "markdown",
   "id": "1415f474-3d1b-4088-ac87-8c8147740d00",
   "metadata": {},
   "source": [
    "## Upload Custom yolov5 to S3 Bucket"
   ]
  },
  {
   "cell_type": "code",
   "execution_count": 48,
   "id": "4d5d8b00-7949-4319-987d-634c41a138ec",
   "metadata": {},
   "outputs": [],
   "source": [
    "import boto3, os\n",
    "s3 = boto3.resource('s3')\n",
    "s3.meta.client.upload_file(\"input.tar.gz\",\"sagemaker-studio-jna7gyyxsih\", \"yolo-input/visualsearch/training-inputs/input/input.tar.gz\")"
   ]
  },
  {
   "cell_type": "markdown",
   "id": "74dcab99-7d21-4b89-a8ed-619e7abe6d74",
   "metadata": {},
   "source": [
    "# Run Training Job"
   ]
  },
  {
   "cell_type": "code",
   "execution_count": 49,
   "id": "822e61ea-cec6-4df6-83de-842478e582cb",
   "metadata": {
    "tags": []
   },
   "outputs": [
    {
     "name": "stdout",
     "output_type": "stream",
     "text": [
      "client: <botocore.client.SageMaker object at 0x7fa9b15ade80>\n",
      "training_jobs: visualsearch-yolov5-2022-08-11-13-19-18-018\n"
     ]
    }
   ],
   "source": [
    "# to interrupt and stop the training job while running, uncomment and run\n",
    "import boto3\n",
    "\n",
    "client = boto3.client('sagemaker')\n",
    "print(f'client: {client}')\n",
    "training_job_name=client.list_training_jobs()['TrainingJobSummaries'][0]['TrainingJobName']\n",
    "print(f'training_jobs: {training_job_name}')"
   ]
  },
  {
   "cell_type": "markdown",
   "id": "18dd6c49-6854-4995-bce4-a2a31523df17",
   "metadata": {},
   "source": [
    "To stop the training job: uncomment and run this cell"
   ]
  },
  {
   "cell_type": "code",
   "execution_count": 50,
   "id": "bb8dd424-ac89-4639-8403-3b625c90891d",
   "metadata": {},
   "outputs": [],
   "source": [
    "# response=client.stop_training_job(TrainingJobName=training_job_name)\n",
    "# print(f'response: {response}')"
   ]
  },
  {
   "cell_type": "code",
   "execution_count": 51,
   "id": "efd8997c-1627-41e9-87e2-db804fd42abd",
   "metadata": {},
   "outputs": [],
   "source": [
    "import time \n",
    "dateStr = time.strftime(\"%Y-%m-%d--%H-%M-%S\")\n",
    "log_train_file_name='log-detect-'+dateStr+'.txt'\n",
    "with open('/home/sagemaker-user/river-blindness/outputs/log/'+log_train_file_name, 'w') as f: f.write('')"
   ]
  },
  {
   "cell_type": "code",
   "execution_count": 52,
   "id": "170b7b5b-529a-49c1-a288-902be0fb135c",
   "metadata": {
    "tags": []
   },
   "outputs": [
    {
     "name": "stdout",
     "output_type": "stream",
     "text": [
      "CPU times: user 29.7 ms, sys: 0 ns, total: 29.7 ms\n",
      "Wall time: 299 ms\n"
     ]
    }
   ],
   "source": [
    "%%time\n",
    "%%capture --no-stderr output\n",
    "\n",
    "estimator.fit(inputs,wait=False)\n",
    "\n",
    "with open('outputs/log/'+log_train_file_name, 'w') as f: f.write(output.stdout)"
   ]
  },
  {
   "cell_type": "code",
   "execution_count": 53,
   "id": "8a270226-6980-4753-99f4-ab2e376d6a4e",
   "metadata": {},
   "outputs": [],
   "source": [
    "with open('outputs/log/'+log_train_file_name, 'w') as f: f.write(output.stdout)"
   ]
  },
  {
   "cell_type": "code",
   "execution_count": null,
   "id": "3ad8d676-3987-4fd1-a248-4ea28dec6f27",
   "metadata": {},
   "outputs": [],
   "source": [
    "%pwd"
   ]
  },
  {
   "cell_type": "markdown",
   "id": "925b25ae-a840-4460-8dc3-774dd93399b4",
   "metadata": {},
   "source": [
    "# Get Results from S3"
   ]
  },
  {
   "cell_type": "code",
   "execution_count": 54,
   "id": "9d0345e1-6702-44e7-a97f-2b9288c8e431",
   "metadata": {},
   "outputs": [
    {
     "name": "stdout",
     "output_type": "stream",
     "text": [
      "CPU times: user 4.17 s, sys: 1.74 s, total: 5.91 s\n",
      "Wall time: 12.8 s\n"
     ]
    }
   ],
   "source": [
    "%%time\n",
    "# if session is ended, and you must re-run the notebook: uncomment this cell\n",
    "import boto3\n",
    "\n",
    "folder='visualsearch-yolov5-2022-08-11-14-24-40-772' # put the related folder here manually\n",
    "model_output='s3://sagemaker-studio-jna7gyyxsih/yolo-output/'+folder+'/output/model.tar.gz'\n",
    "m = re.search('^s3://([^/]+)/(.+)$', model_output)\n",
    "source_bucket = m.group(1)\n",
    "source_file = m.group(2)\n",
    "target_file = \"outputs/model.tar.gz\"\n",
    "\n",
    "s3 = boto3.resource('s3')\n",
    "s3.meta.client.download_file(source_bucket, source_file, target_file)\n",
    "\n",
    "tar = tarfile.open(target_file, \"r:gz\")\n",
    "tar.extractall(path=\"outputs\")\n",
    "tar.close()\n"
   ]
  },
  {
   "cell_type": "code",
   "execution_count": 124,
   "id": "98f95b00-6a29-4726-99ea-c43f8401f873",
   "metadata": {},
   "outputs": [],
   "source": [
    "# m = re.search('^s3://([^/]+)/(.+)$', estimator.model_data)\n",
    "# source_bucket = m.group(1)\n",
    "# source_file = m.group(2)\n",
    "# target_file = \"outputs/model.tar.gz\"\n",
    "\n",
    "# s3 = boto3.resource('s3')\n",
    "# s3.meta.client.download_file(source_bucket, source_file, target_file)\n",
    "\n",
    "# tar = tarfile.open(target_file, \"r:gz\")\n",
    "# tar.extractall(path=\"outputs\")\n",
    "# tar.close()"
   ]
  },
  {
   "cell_type": "code",
   "execution_count": 125,
   "id": "d8395e7d-b97b-44e4-8b0c-2b0f94fda90b",
   "metadata": {},
   "outputs": [],
   "source": [
    "# estimator.model_data"
   ]
  },
  {
   "cell_type": "markdown",
   "id": "3a4ac98c-2272-41c6-b657-28278ba9c766",
   "metadata": {},
   "source": [
    "# Make a Submission"
   ]
  },
  {
   "cell_type": "markdown",
   "id": "5823636b-611a-4f6d-9438-4318d31040c7",
   "metadata": {},
   "source": [
    "Submisson CSV needs to be semicolon seperated (not comma!!!)"
   ]
  },
  {
   "cell_type": "code",
   "execution_count": 55,
   "id": "744afc0b-2007-42c1-90cb-0ad5c1a87475",
   "metadata": {},
   "outputs": [],
   "source": [
    "def getAllFiles(path,extension='jpg'):\n",
    "    import glob, os\n",
    "    os.chdir(path)\n",
    "    return [file for file in glob.glob('*.'+extension)]"
   ]
  },
  {
   "cell_type": "code",
   "execution_count": 56,
   "id": "fb2cc8fc-aae4-43d0-8de1-fa7d1e1426c9",
   "metadata": {},
   "outputs": [],
   "source": [
    "def emptyDetectFolder(detect_path):\n",
    "    \n",
    "    import os, shutil\n",
    "    root_path='/home/sagemaker-user/'\n",
    "    yolov5_path='river-blindness/yolov5/'\n",
    "    folder = root_path + yolov5_path + detect_path\n",
    "    for filename in os.listdir(folder):\n",
    "        file_path = os.path.join(folder, filename)\n",
    "        try:\n",
    "            if os.path.isfile(file_path) or os.path.islink(file_path):\n",
    "                os.unlink(file_path)\n",
    "            elif os.path.isdir(file_path):\n",
    "                shutil.rmtree(file_path)\n",
    "        except Exception as e:\n",
    "            print('Failed to delete %s. Reason: %s' % (file_path, e))\n",
    "    \n",
    "    print(f'Folder {folder} is empty now!')\n",
    "    return"
   ]
  },
  {
   "cell_type": "code",
   "execution_count": 57,
   "id": "3e33828b-2d34-4b2a-a834-5e585c6c0853",
   "metadata": {},
   "outputs": [],
   "source": [
    "def runDetect(test_folder,imgsz=1024, conf_val=0.3):  \n",
    "    root_path='/home/sagemaker-user/'\n",
    "    test_path='river-blindness/yolov5/' # to get to test folder\n",
    "    final_test_path=root_path+test_path+test_folder\n",
    "    imgs=getAllFiles(final_test_path,extension='jpg')\n",
    "    %cd /home/sagemaker-user/river-blindness/yolov5\n",
    "    w_p= root_path + 'river-blindness/outputs/weights/best.pt'# get the best weights \n",
    "    for i in imgs:\n",
    "        test_img=final_test_path+ '/' +i\n",
    "        print(test_img)\n",
    "        !python detect.py --weights {w_p} --img {imgsz} --conf {conf_val} --source {test_img}\n",
    "    return"
   ]
  },
  {
   "cell_type": "code",
   "execution_count": 58,
   "id": "8412c349-47f5-441c-ba59-fe60aa303e7e",
   "metadata": {},
   "outputs": [
    {
     "data": {
      "text/plain": [
       "'/home/sagemaker-user/river-blindness'"
      ]
     },
     "execution_count": 58,
     "metadata": {},
     "output_type": "execute_result"
    }
   ],
   "source": [
    "%pwd"
   ]
  },
  {
   "cell_type": "code",
   "execution_count": 59,
   "id": "c427aaf9-3db1-4db7-8667-04ea8c7f974f",
   "metadata": {},
   "outputs": [],
   "source": [
    "def find_all(name, path):\n",
    "    result = []\n",
    "    for root, dirs, files in os.walk(path):\n",
    "        if name in files:\n",
    "            result.append(os.path.join(root, name))\n",
    "    return result"
   ]
  },
  {
   "cell_type": "code",
   "execution_count": 60,
   "id": "ed51e536-c5dc-4d38-9a15-64d2ec729c04",
   "metadata": {},
   "outputs": [],
   "source": [
    "def collectDetectData(test_path):\n",
    "    import datetime\n",
    "    import time\n",
    "    import shutil    \n",
    "    now = datetime.datetime.now()\n",
    "    current_time = now.strftime('%Y-%m-%d-%H-%M-%S')\n",
    "    root_path='/home/sagemaker-user/'\n",
    "    yolov5_path='river-blindness/yolov5/'\n",
    "    # test_path=root_path+yolov5_path+test_path\n",
    "    test_img_p='/home/sagemaker-user/river-blindness/content/test-images2/'\n",
    "    imgs=getAllFiles(test_img_p,extension='jpg')\n",
    "    detect_path=root_path+yolov5_path+'runs/detect/'  \n",
    "    folder = 'detect-' + current_time\n",
    "    path = os.path.join(detect_path, folder)  \n",
    "    os.mkdir(path) \n",
    "    full_path=detect_path+folder+'/'\n",
    "    print(\"Directory '% s' created \" % full_path) \n",
    "    for i in imgs:\n",
    "        test_img='test/images/'+i\n",
    "        detect_img=find_all(i,detect_path)[-1]\n",
    "        if len(find_all(i[:-4]+'-xyxy.txt',detect_path)):\n",
    "            detect_label=find_all(i[:-4]+'-xyxy.txt',detect_path)[-1]\n",
    "        shutil.copy(detect_img, full_path) #copying img to our folder\n",
    "        shutil.copy(detect_label, full_path) #copying labels to our folder\n",
    "    shutil.make_archive(folder, 'zip', full_path) # creating a zip file in test folder\n",
    "    return full_path"
   ]
  },
  {
   "cell_type": "code",
   "execution_count": 61,
   "id": "4799c211-8937-4d59-a861-624eee78b10a",
   "metadata": {},
   "outputs": [],
   "source": [
    "def get_folder_size(path):\n",
    "    size = 0\n",
    "    for path, dirs, files in os.walk(path):\n",
    "        for f in files:\n",
    "            fp = os.path.join(path, f)\n",
    "            size += os.stat(fp).st_size\n",
    "   \n",
    "    if size < 1024:\n",
    "        return f\"{size} bytes\"\n",
    "    elif size < 1024*1024:\n",
    "        return f\"{round(size/1024, 2)} KB\"\n",
    "    elif size < 1024*1024*1024:\n",
    "        return f\"{round(size/(1024*1024), 2)} MB\"\n",
    "    elif size < 1024*1024*1024*1024:\n",
    "        return f\"{round(size/(1024*1024*1024), 2)} GB\""
   ]
  },
  {
   "cell_type": "code",
   "execution_count": 62,
   "id": "1d4cd16a-0ba9-4593-b973-67eead692c2b",
   "metadata": {},
   "outputs": [],
   "source": [
    "def get_file_size(path):\n",
    "    size = os.path.getsize(path)\n",
    "    if size < 1024:\n",
    "        return f\"{size} bytes\"\n",
    "    elif size < 1024*1024:\n",
    "        return f\"{round(size/1024, 2)} KB\"\n",
    "    elif size < 1024*1024*1024:\n",
    "        return f\"{round(size/(1024*1024), 2)} MB\"\n",
    "    elif size < 1024*1024*1024*1024:\n",
    "        return f\"{round(size/(1024*1024*1024), 2)} GB\""
   ]
  },
  {
   "cell_type": "code",
   "execution_count": 63,
   "id": "f73fe181-82fd-43e8-9cd1-bbdf2aa72daa",
   "metadata": {},
   "outputs": [],
   "source": [
    "def getLatestFolder(path):\n",
    "    import glob\n",
    "    import datetime\n",
    "    import time\n",
    "    now = datetime.datetime.now()\n",
    "    current_time = now.strftime('%Y-%m-%d  %H:%M:%S')\n",
    "    t=os.path.getctime  \n",
    "    latest_folder =max(glob.glob(os.path.join(path, '*/')), key=t)\n",
    "    print('Latest Modified folder: ')\n",
    "    print(f'Path: {latest_folder}')\n",
    "    print(f'Size: {get_folder_size(latest_folder)}')\n",
    "    if path[-1] is '/':\n",
    "        folder=latest_folder[len(path):-1]\n",
    "    else:\n",
    "        folder=latest_folder[len(path)+1:-1]\n",
    "    file_date = time.ctime(os.path.getmtime(latest_folder))\n",
    "    file_date = datetime.datetime.strptime(file_date, \"%a %b %d %H:%M:%S %Y\")\n",
    "    print(\"Last modif: %s\" % file_date.strftime('%Y-%m-%d  %H:%M:%S'))\n",
    "    print(\"Current Time: \", current_time)\n",
    "    return folder"
   ]
  },
  {
   "cell_type": "code",
   "execution_count": 64,
   "id": "79386931-8dc7-4411-a4e5-9086a4148977",
   "metadata": {},
   "outputs": [],
   "source": [
    "def createTestPredictionDf(label_path,img_list):\n",
    "    from PIL import Image\n",
    "    root_path='/home/sagemaker-user/'\n",
    "    yolov5_path='river-blindness/yolov5/'\n",
    "    detect_path=root_path+yolov5_path+'runs/detect/'\n",
    "    test_img_p='/home/sagemaker-user/river-blindness/content/test-images/'\n",
    "    test_imgs=getAllFiles(test_img_p,extension='jpg')        \n",
    "   # columns = ['section_id', 'file_name', 'xmin', 'xmax', 'ymin', 'ymax', 'detection_score', 'detection_class']\n",
    "    columns = ['section_id', 'file_name', 'xmin', 'xmax', 'ymin', 'ymax', 'detection_score']\n",
    "    df_results = pd.DataFrame(columns=columns)\n",
    "    predictions = []\n",
    "    for img in img_list:\n",
    "        im = Image.open(test_img_p+img)\n",
    "        w, h = im.size\n",
    "        # print (f'w: {w}, h: {h}')\n",
    "        scale=1\n",
    "        txt_path=detect_path+label_path+img[:-4]+'-xyxy.txt'\n",
    "        if os.path.exists(txt_path):\n",
    "            detection_df=pd.read_table(txt_path, delimiter = ' ',header=None)        \n",
    "            for index, row in detection_df.iterrows():\n",
    "                xmin=int(scale*row[1])\n",
    "                xmax=int(scale*row[3])\n",
    "                ymin=int(scale*row[2])\n",
    "                ymax=int(scale*row[4])\n",
    "                box_dict = dict(\n",
    "                section_id=f'{img}@{xmin}-{xmax}-{ymin}-{ymax}',\n",
    "                file_name=img,\n",
    "                xmin=xmin,\n",
    "                ymin=ymin,\n",
    "                xmax=xmax,\n",
    "                ymax=ymax,\n",
    "                detection_score=row[5]\n",
    "                # , detection_class=class2Staining(row[0])\n",
    "                )\n",
    "                predictions.append(box_dict)\n",
    "\n",
    "    prediction_df = pd.DataFrame(predictions)\n",
    "    prediction_df.set_index('section_id', inplace=True)\n",
    "    prediction_df.to_csv(f'{detect_path+label_path}/results_submission.csv', sep=';')\n",
    "    prediction_df.to_csv(f'{detect_path+label_path}/results_with_comma.csv', sep=',')\n",
    "    return prediction_df"
   ]
  },
  {
   "cell_type": "code",
   "execution_count": 65,
   "id": "18d8ad4e-26fd-4f7d-b6d0-6acf4078339a",
   "metadata": {},
   "outputs": [],
   "source": [
    "# def resizeImage(img_path,resized_folder,resized_name,new_width=1600):\n",
    "#     import cv2\n",
    "#     from matplotlib import pyplot as plt\n",
    "#     import imutils    \n",
    "#     img = cv2.imdecode(np.fromfile(img_path, dtype=np.uint8), cv2.IMREAD_UNCHANGED)\n",
    "#     resized = imutils.resize(img, width=new_width)    \n",
    "#     resized_path=resized_folder+resized_name\n",
    "#     cv2.imwrite(resized_path, resized)\n",
    "#     print(f'Original image path: {img_path}')\n",
    "#     print(f'Resized image path: {resized_path}')\n",
    "#     print('Resized Dimensions : ',resized.shape)\n",
    "#     print('Original Dimensions : ',img.shape)\n",
    "#     # print(f'original image size: {get_file_size(img_path)}')\n",
    "#     # print(f'Resized image size: {get_file_size(resized_path)}')\n",
    "#     # plt.imshow(resized)\n",
    "#     # resized_img = cv2.imread(resized_path)\n",
    "#     # plt.imshow(resized_img)\n",
    "#     # plt.show()\n",
    "#     print(20*'*')\n",
    "#     return"
   ]
  },
  {
   "cell_type": "code",
   "execution_count": 66,
   "id": "6748a28b-fa90-47f6-8e06-fc44e0434358",
   "metadata": {
    "tags": []
   },
   "outputs": [],
   "source": [
    "# img_folder='/home/sagemaker-user/river-blindness/content/test-images/'\n",
    "# resized_folder='/home/sagemaker-user/river-blindness/content/test-images2/'\n",
    "# [resizeImage(img_folder+i,resized_folder,i,new_width=1600) for i in test_imgs]"
   ]
  },
  {
   "cell_type": "code",
   "execution_count": 67,
   "id": "7dec2675-b32b-4d3f-8214-aa838c115280",
   "metadata": {},
   "outputs": [],
   "source": [
    "def emptyFolder(parent_dir,folder_name,root_path='/home/sagemaker-user/'):  \n",
    "    import shutil\n",
    "    folder =root_path+ parent_dir+ folder_name\n",
    "    print(folder)\n",
    "    for filename in os.listdir(folder):\n",
    "        file_path = os.path.join(folder, filename)\n",
    "        try:\n",
    "            if os.path.isfile(file_path) or os.path.islink(file_path):\n",
    "                os.unlink(file_path)\n",
    "            elif os.path.isdir(file_path):\n",
    "                shutil.rmtree(file_path)\n",
    "        except Exception as e:\n",
    "            print('Failed to delete %s. Reason: %s' % (file_path, e))\n",
    "    \n",
    "    print(f'Folder {folder} is empty now!')\n",
    "    return"
   ]
  },
  {
   "cell_type": "code",
   "execution_count": 68,
   "id": "6bcf37cd-f841-405e-a8ca-35fd057fa521",
   "metadata": {},
   "outputs": [],
   "source": [
    "# def reduce_quality(image_path, storage_folder, quality=50, add_qulity_to_name=False):\n",
    "#     import cv2\n",
    "#     os.makedirs(storage_folder, exist_ok=True)\n",
    "\n",
    "#     split_realpath = os.path.split(os.path.relpath(image_path))\n",
    "#     image_name = split_realpath[len(split_realpath)-1]\n",
    "#     image_name_without_ext = os.path.splitext(image_name)[0]\n",
    "#     image_ext = os.path.splitext(image_name)[1]\n",
    "  \n",
    "#     os.path.getsize(image_path)\n",
    "#     # Open the image by specifying the image path.\n",
    "#     image_file = Image.open(image_path)\n",
    "#     im = cv2.imread(image_path)\n",
    "#     print(f\"reducing quality of image: {image_name} to {quality}%\")\n",
    "#     # print(f\"Original image size: {get_file_size(image_path)}\")\n",
    "#     # print(f\"Original image shape: {im.shape}\")\n",
    "\n",
    "\n",
    "#     # the default\n",
    "#     if add_qulity_to_name:\n",
    "#         new_image_name = str(quality) + 'q_' + image_name_without_ext + image_ext\n",
    "#     else:\n",
    "#         new_image_name = image_name_without_ext + image_ext\n",
    "\n",
    "#     new_image_path = os.path.join(storage_folder, new_image_name)\n",
    "#     image_file.save(new_image_path, quality=quality)\n",
    "#     im = cv2.imread(new_image_path)\n",
    "\n",
    "#     # print(f\"Processed image size with quality {quality}%: {get_file_size(new_image_path)}\")\n",
    "#     # print(\"Processed image shape: \" + str(im.shape))\n",
    "#     # print(15*\"--\")\n",
    "    \n",
    "#     return"
   ]
  },
  {
   "cell_type": "code",
   "execution_count": 140,
   "id": "f5c34ce9-5600-45fa-86fb-0eb844dcf9d8",
   "metadata": {},
   "outputs": [],
   "source": [
    "# emptyFolder('river-blindness/yolov5/test/','images')\n",
    "# root_path='/home/sagemaker-user/'\n",
    "# test_storage_folder=root_path+'river-blindness/yolov5/test/images/'\n",
    "# test_folder=root_path+'river-blindness/content/test-images/'\n",
    "# test_imgs=getAllFiles(test_folder,extension='jpg')\n",
    "\n",
    "# qual=10\n",
    "# [reduce_quality(test_folder+i, test_storage_folder, quality=qual,add_qulity_to_name=False) for i in test_imgs]"
   ]
  },
  {
   "cell_type": "code",
   "execution_count": 69,
   "id": "2fe34b54-641b-4e88-9eb9-a8caf1f3cc74",
   "metadata": {
    "tags": []
   },
   "outputs": [
    {
     "name": "stdout",
     "output_type": "stream",
     "text": [
      "CPU times: user 47.1 s, sys: 4.44 s, total: 51.6 s\n",
      "Wall time: 29min 41s\n"
     ]
    }
   ],
   "source": [
    "%%time\n",
    "%%capture --no-stderr outputDetect\n",
    "\n",
    "import time \n",
    "dateStr = time.strftime(\"%Y-%m-%d--%H-%M-%S\")\n",
    "log_detect_file_name='log-detect-'+dateStr+'.txt'\n",
    "with open('/home/sagemaker-user/river-blindness/outputs/log/'+log_detect_file_name, 'w') as f: f.write('')\n",
    "\n",
    "root_path='/home/sagemaker-user/'\n",
    "yolov5_path='river-blindness/yolov5/'\n",
    "test_folder='test/images/'\n",
    "detect_path='runs/detect/'\n",
    "\n",
    "emptyDetectFolder(detect_path)\n",
    "\n",
    "runDetect(test_folder,imgsz=2000)\n",
    "\n",
    "collectDetectData(test_folder)\n",
    "label_path=getLatestFolder(root_path+yolov5_path+detect_path)\n",
    "test_imgs=getAllFiles(root_path+yolov5_path+detect_path+label_path,extension='jpg')\n",
    "\n",
    "df_prediction=createTestPredictionDf(label_path+'/', test_imgs)\n",
    "df_prediction"
   ]
  },
  {
   "cell_type": "code",
   "execution_count": 70,
   "id": "943c7fb0-7e9c-4446-becf-4c8e7d2e9322",
   "metadata": {},
   "outputs": [],
   "source": [
    "with open('/home/sagemaker-user/river-blindness/outputs/log/'+log_detect_file_name, 'w') as f: f.write(outputDetect.stdout)"
   ]
  },
  {
   "cell_type": "code",
   "execution_count": null,
   "id": "ed5cd1c5-b61a-4642-83b8-0e0f83cd6394",
   "metadata": {},
   "outputs": [],
   "source": []
  },
  {
   "cell_type": "code",
   "execution_count": null,
   "id": "9fb0a786-4575-4086-8c62-8d0519c14d70",
   "metadata": {},
   "outputs": [],
   "source": []
  }
 ],
 "metadata": {
  "instance_type": "ml.t3.medium",
  "kernelspec": {
   "display_name": "python3 (gdsc5-smstudio-custum/1)",
   "language": "python",
   "name": "python3__SAGEMAKER_INTERNAL__arn:aws:sagemaker:us-east-1:494549386743:image-version/gdsc5-smstudio-custum/1"
  },
  "language_info": {
   "codemirror_mode": {
    "name": "ipython",
    "version": 3
   },
   "file_extension": ".py",
   "mimetype": "text/x-python",
   "name": "python",
   "nbconvert_exporter": "python",
   "pygments_lexer": "ipython3",
   "version": "3.6.13"
  }
 },
 "nbformat": 4,
 "nbformat_minor": 5
}
