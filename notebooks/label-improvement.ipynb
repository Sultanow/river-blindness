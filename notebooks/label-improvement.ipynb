{
 "cells": [
  {
   "cell_type": "code",
   "execution_count": 22,
   "id": "018d05ca-da06-4c41-ba4a-6712a5eb0215",
   "metadata": {},
   "outputs": [],
   "source": [
    "import matplotlib.pyplot as plt  # Used for plotting\n",
    "%matplotlib inline\n",
    "import pandas as pd  # Home of the DataFrame construct, _the_ most important object for Data Science\n",
    "import numpy as np\n",
    "import sys  # Python system library needed to load custom functions\n",
    "import os\n",
    "import shutil\n",
    "from matplotlib.patches import Rectangle  # Allows drawing the bounding boxes of the worm sections\n",
    "from PIL import Image  # For loading image files\n",
    "from tqdm import tqdm  # for timing a for loop\n",
    "import glob\n",
    "import PIL\n",
    "from PIL import Image\n",
    "from tkinter import image_names\n",
    "from PIL import ImageFile\n",
    "ImageFile.LOAD_TRUNCATED_IMAGES = True\n",
    "import cv2\n",
    "import time\n",
    "import matplotlib\n",
    "from gc import set_debug\n",
    "from pprint import pprint\n",
    "from re import S\n",
    "import struct\n",
    "from turtle import color\n",
    "from cv2 import mean\n",
    "from scipy.stats import cauchy, logistic\n",
    "from PIL import ImageMath, ImageColor, ImageEnhance, ImageFilter\n",
    "ImageFile.LOAD_TRUNCATED_IMAGES = True"
   ]
  },
  {
   "cell_type": "code",
   "execution_count": 4,
   "id": "316aa977-9e14-4b58-bded-ab2f553dc154",
   "metadata": {},
   "outputs": [
    {
     "name": "stdout",
     "output_type": "stream",
     "text": [
      "Requirement already satisfied: imutils in /opt/conda/lib/python3.6/site-packages (0.5.4)\n",
      "\u001b[33mWARNING: Running pip as the 'root' user can result in broken permissions and conflicting behaviour with the system package manager. It is recommended to use a virtual environment instead: https://pip.pypa.io/warnings/venv\u001b[0m\n",
      "Requirement already satisfied: docutils in /opt/conda/lib/python3.6/site-packages (0.18.1)\n",
      "\u001b[33mWARNING: Running pip as the 'root' user can result in broken permissions and conflicting behaviour with the system package manager. It is recommended to use a virtual environment instead: https://pip.pypa.io/warnings/venv\u001b[0m\n"
     ]
    }
   ],
   "source": [
    "!pip install imutils\n",
    "!pip install docutils"
   ]
  },
  {
   "cell_type": "code",
   "execution_count": 5,
   "id": "0878db86-a659-483c-87bd-df99172a600e",
   "metadata": {},
   "outputs": [],
   "source": [
    "sys.path.append('/home/sagemaker-user/gdsc5-tutorials-public/src')"
   ]
  },
  {
   "cell_type": "code",
   "execution_count": 6,
   "id": "adb9d501-274c-4921-bc3b-c364d46801d1",
   "metadata": {},
   "outputs": [
    {
     "name": "stdout",
     "output_type": "stream",
     "text": [
      "No CUDA runtime is found, using CUDA_HOME='/usr/local/cuda'\n"
     ]
    }
   ],
   "source": [
    "from Dataset import OnchoDataset\n",
    "from detection_util import create_predictions\n",
    "from gdsc_score import get_leaderboard_score\n",
    "from gdsc_util import download_directory, download_file, load_sections_df, set_up_logging, PROJECT_DIR\n",
    "from PredictionEvaluator import PredictionEvaluator\n",
    "import random\n",
    "\n",
    "set_up_logging()  # Sets up logging to console and the .log file\n",
    "data_folder = str(PROJECT_DIR / 'data')"
   ]
  },
  {
   "cell_type": "code",
   "execution_count": 7,
   "id": "c9e795fc-b27c-402e-babb-fe25483e2a01",
   "metadata": {},
   "outputs": [
    {
     "data": {
      "text/plain": [
       "65687"
      ]
     },
     "execution_count": 7,
     "metadata": {},
     "output_type": "execute_result"
    }
   ],
   "source": [
    "section_df = load_sections_df(f'{data_folder}/gdsc_train.csv')\n",
    "len(section_df)"
   ]
  },
  {
   "cell_type": "code",
   "execution_count": 8,
   "id": "4e7b975b-53e5-4a60-9a50-1de2e645544e",
   "metadata": {},
   "outputs": [],
   "source": [
    "def getAllFiles(path,extension='jpg'):\n",
    "    import glob, os\n",
    "    os.chdir(path)\n",
    "    return [file for file in glob.glob('*.'+extension)]"
   ]
  },
  {
   "cell_type": "code",
   "execution_count": 9,
   "id": "e0c7f345-798c-48be-899c-4189dec0fcb9",
   "metadata": {},
   "outputs": [],
   "source": [
    "def get_file_size(path):\n",
    "    size = os.path.getsize(path)\n",
    "    if size < 1024:\n",
    "        return f\"{size} bytes\"\n",
    "    elif size < 1024*1024:\n",
    "        return f\"{round(size/1024, 2)} KB\"\n",
    "    elif size < 1024*1024*1024:\n",
    "        return f\"{round(size/(1024*1024), 2)} MB\"\n",
    "    elif size < 1024*1024*1024*1024:\n",
    "        return f\"{round(size/(1024*1024*1024), 2)} GB\""
   ]
  },
  {
   "cell_type": "code",
   "execution_count": 10,
   "id": "4a1542ff-a8f2-4284-839a-b313fbe3e1b2",
   "metadata": {},
   "outputs": [],
   "source": [
    "def get_folder_size(path):\n",
    "    size = 0\n",
    "    for path, dirs, files in os.walk(path):\n",
    "        for f in files:\n",
    "            fp = os.path.join(path, f)\n",
    "            size += os.stat(fp).st_size\n",
    "   \n",
    "    if size < 1024:\n",
    "        return f\"{size} bytes\"\n",
    "    elif size < 1024*1024:\n",
    "        return f\"{round(size/1024, 2)} KB\"\n",
    "    elif size < 1024*1024*1024:\n",
    "        return f\"{round(size/(1024*1024), 2)} MB\"\n",
    "    elif size < 1024*1024*1024*1024:\n",
    "        return f\"{round(size/(1024*1024*1024), 2)} GB\""
   ]
  },
  {
   "cell_type": "code",
   "execution_count": 11,
   "id": "ba21dc33-96a8-45d7-b42e-c43e41f424f0",
   "metadata": {},
   "outputs": [],
   "source": [
    "def getLatestFile(path):\n",
    "    import glob\n",
    "    import datetime\n",
    "    import time\n",
    "    now = datetime.datetime.now()\n",
    "    current_time = now.strftime('%Y-%m-%d  %H:%M:%S')\n",
    "    \n",
    "    if path[-1] is '/':\n",
    "        folder_path=path+'*'\n",
    "    else:\n",
    "        folder_path=path+'/*'        \n",
    "    list_of_files = glob.glob(folder_path) # * means all if need specific format then *.csv\n",
    "    t=os.path.getctime\n",
    "    latest_file = max(list_of_files, key=t)\n",
    "    # print(time_created)\n",
    "    print('Latest Modified file: ')\n",
    "    print(f'Path: {latest_file}')\n",
    "    print(f'Size: {get_file_size(latest_file)}')\n",
    "    if path[-1] is '/':\n",
    "        file=latest_file[len(path):]\n",
    "    else:\n",
    "        file=latest_file[len(path)+1:]\n",
    "    file_date = time.ctime(os.path.getmtime(latest_file))\n",
    "    file_date = datetime.datetime.strptime(file_date, \"%a %b %d %H:%M:%S %Y\")\n",
    "    print(\"Last modif: %s\" % file_date.strftime('%Y-%m-%d  %H:%M:%S'))\n",
    "    print(\"Current Time: \", current_time)\n",
    "    return file"
   ]
  },
  {
   "cell_type": "code",
   "execution_count": 12,
   "id": "37ab22d0-41c1-40de-9640-ae0930ad781d",
   "metadata": {},
   "outputs": [],
   "source": [
    "def getLatestFolder(path):\n",
    "    import glob\n",
    "    import datetime\n",
    "    import time\n",
    "    now = datetime.datetime.now()\n",
    "    current_time = now.strftime('%Y-%m-%d  %H:%M:%S')\n",
    "    t=os.path.getctime  \n",
    "    latest_folder =max(glob.glob(os.path.join(path, '*/')), key=t)\n",
    "    print('Latest Modified folder: ')\n",
    "    print(f'Path: {latest_folder}')\n",
    "    print(f'Size: {get_folder_size(latest_folder)}')\n",
    "    if path[-1] is '/':\n",
    "        folder=latest_folder[len(path):-1]\n",
    "    else:\n",
    "        folder=latest_folder[len(path)+1:-1]\n",
    "    file_date = time.ctime(os.path.getmtime(latest_folder))\n",
    "    file_date = datetime.datetime.strptime(file_date, \"%a %b %d %H:%M:%S %Y\")\n",
    "    print(\"Last modif: %s\" % file_date.strftime('%Y-%m-%d  %H:%M:%S'))\n",
    "    print(\"Current Time: \", current_time)\n",
    "    return folder"
   ]
  },
  {
   "cell_type": "code",
   "execution_count": 13,
   "id": "de2eb281-9854-45a4-a20d-1c3b71094099",
   "metadata": {},
   "outputs": [],
   "source": [
    "def countFilesInPath(path):\n",
    "    import os\n",
    "    _, _, files = next(os.walk(path))\n",
    "    print (f'Path: {path}')\n",
    "    print (f'Number of files: {len(files)}')\n",
    "    return"
   ]
  },
  {
   "cell_type": "code",
   "execution_count": 14,
   "id": "93ff6c8d-30a4-4b5f-8b35-4ee606c85ece",
   "metadata": {},
   "outputs": [],
   "source": [
    "def emptyFolder(parent_dir,folder_name,root_path='/home/sagemaker-user/'):  \n",
    "    import shutil\n",
    "    folder =root_path+ parent_dir+ folder_name\n",
    "    print(folder)\n",
    "    for filename in os.listdir(folder):\n",
    "        file_path = os.path.join(folder, filename)\n",
    "        try:\n",
    "            if os.path.isfile(file_path) or os.path.islink(file_path):\n",
    "                os.unlink(file_path)\n",
    "            elif os.path.isdir(file_path):\n",
    "                shutil.rmtree(file_path)\n",
    "        except Exception as e:\n",
    "            print('Failed to delete %s. Reason: %s' % (file_path, e))\n",
    "    \n",
    "    print(f'Folder {folder} is empty now!')\n",
    "    return"
   ]
  },
  {
   "cell_type": "code",
   "execution_count": 15,
   "id": "b8374806-6d08-4973-90c7-c099f971dce1",
   "metadata": {},
   "outputs": [],
   "source": [
    "def create_folder(parent_dir,folder_name):\n",
    "    path = os.path.join(parent_dir, folder_name)\n",
    "    if os.path.isdir(path):\n",
    "        print(f\"Directory already exits: {path}\")\n",
    "        return\n",
    "    os.mkdir(path)\n",
    "    print(f\"Directory created: {path}\")"
   ]
  },
  {
   "cell_type": "code",
   "execution_count": 16,
   "id": "66daff1f-e983-47c7-a243-b029e3eefe41",
   "metadata": {},
   "outputs": [],
   "source": [
    "def find_largest_smallest_files(folder_path,file_extension='*'):   \n",
    "    list_of_files = list(filter(os.path.isfile,glob.glob(folder_path + '*.'+extension) ))\n",
    "    if len(list_of_files)>0:\n",
    "        max_file = max( list_of_files,key =  lambda x: os.stat(x).st_size)\n",
    "        print('Max File: ', max_file)\n",
    "        print(f\"Max File size: {get_file_size(max_file)}\")\n",
    "        min_file=min( list_of_files,key =  lambda x: os.stat(x).st_size)\n",
    "        print('Min File: ', min_file)\n",
    "        print(f\"Min File size: {get_file_size(min_file)}\")\n",
    "    else:\n",
    "        print(f\"no file with {extension} extension found!\")  \n",
    "    return "
   ]
  },
  {
   "cell_type": "code",
   "execution_count": 26,
   "id": "0ef40e43-9ba2-469c-8584-f7a28f1b4f83",
   "metadata": {},
   "outputs": [],
   "source": [
    "def current_time():\n",
    "    return time.strftime(\"%Y-%m-%d--%H-%M-%S\")"
   ]
  },
  {
   "cell_type": "code",
   "execution_count": 36,
   "id": "5892c319-7cff-4517-b545-fa6a465fab52",
   "metadata": {},
   "outputs": [],
   "source": [
    "def create_zip_file_from_folder(folder_path,storage_path,zip_file_name='zipped'):\n",
    "    now=current_time()\n",
    "    file_name=zip_file_name+'-'+now\n",
    "    shutil.make_archive(file_name, 'zip', folder_path)\n",
    "    if storage_path != os.getcwd()+'/':\n",
    "        shutil.move(file_name+'.zip', storage_path)\n",
    "    print(f\"{file_name+'.zip'} saved to {storage_path}\")\n",
    "    return"
   ]
  },
  {
   "cell_type": "code",
   "execution_count": 38,
   "id": "bd5fcdfb-8c94-4187-b982-ef2837cd3b23",
   "metadata": {},
   "outputs": [
    {
     "name": "stdout",
     "output_type": "stream",
     "text": [
      "zipped-2022-08-03--21-44-56.zip saved to /home/sagemaker-user/river-blindness/changes/\n"
     ]
    }
   ],
   "source": [
    "root_path='/home/sagemaker-user/'\n",
    "train_label_path=root_path+'river-blindness/content/new/labels/train/'\n",
    "valid_label_path=root_path+'river-blindness/content/new/labels/valid/'\n",
    "\n",
    "create_zip_file_from_folder(train_label_path,root_path+'river-blindness/changes/')"
   ]
  }
 ],
 "metadata": {
  "instance_type": "ml.t3.medium",
  "kernelspec": {
   "display_name": "python3 (gdsc5-smstudio-custum/1)",
   "language": "python",
   "name": "python3__SAGEMAKER_INTERNAL__arn:aws:sagemaker:us-east-1:494549386743:image-version/gdsc5-smstudio-custum/1"
  },
  "language_info": {
   "codemirror_mode": {
    "name": "ipython",
    "version": 3
   },
   "file_extension": ".py",
   "mimetype": "text/x-python",
   "name": "python",
   "nbconvert_exporter": "python",
   "pygments_lexer": "ipython3",
   "version": "3.6.13"
  }
 },
 "nbformat": 4,
 "nbformat_minor": 5
}
