{
 "cells": [
  {
   "cell_type": "markdown",
   "metadata": {
    "id": "JuV2kEWRqAty"
   },
   "source": [
    "# Loading the dataset"
   ]
  },
  {
   "cell_type": "code",
   "execution_count": null,
   "metadata": {
    "id": "HEiThIMFkYG9"
   },
   "outputs": [],
   "source": [
    "# Standard libraries\n",
    "from typing import Tuple, Union\n",
    "import json\n",
    "import matplotlib.pyplot as plt\n",
    "import numpy as np\n",
    "import os\n",
    "import pandas as pd\n",
    "\n",
    "# Plotting libraries\n",
    "from bokeh.models import DataRange1d, Range1d\n",
    "from bokeh.plotting import figure, show\n",
    "from bokeh.resources import INLINE\n",
    "from bokeh.io import output_notebook\n",
    "output_notebook(INLINE)\n",
    "\n",
    "# Tables\n",
    "from tabulate import tabulate"
   ]
  },
  {
   "cell_type": "code",
   "execution_count": null,
   "metadata": {
    "id": "_63PNM7rjG2A"
   },
   "outputs": [],
   "source": [
    "# Set the path to the folder which contains the metrics files\n",
    "path_metrics = \"../river-blindness/Unet_Segmentation/modelEvaluationBackups/modelEvaluationWithoutDeepRed/logs/\"\n",
    "# Set line width for all diagrams\n",
    "linewidth = 2"
   ]
  },
  {
   "cell_type": "code",
   "execution_count": null,
   "metadata": {
    "id": "pNTnsjskr_jK"
   },
   "outputs": [],
   "source": [
    "# Functions for collecting and preparing the data for the graphs\n",
    "def load_file(filename: str) -> Union[dict, list]:\n",
    "    data_file = open(path_metrics + filename)\n",
    "    data_json = json.load(data_file)\n",
    "    data_file.close()\n",
    "\n",
    "    return data_json\n",
    "\n",
    "\n",
    "def means(data: dict) -> Tuple[list, list, list, list]:\n",
    "    class0 = []\n",
    "    class1 = []\n",
    "    mean_cl0_cl1 = []\n",
    "    x_vals = []   \n",
    "\n",
    "    for key in data:\n",
    "        class0.append(data[key][-1][0])\n",
    "        class1.append(data[key][-1][1])\n",
    "        mean_cl0_cl1.append((data[key][-1][0] + data[key][-1][1]) / 2)\n",
    "\n",
    "    for y in range(1, len(class0) + 1):\n",
    "        x_vals.append(y)\n",
    "        \n",
    "    return class0, class1, mean_cl0_cl1, x_vals\n",
    "\n",
    "\n",
    "def means_per_epoch(filename: str) -> Tuple[list, list]:\n",
    "    data_json = load_file(filename)\n",
    "    mean_epochs_all_folds = []\n",
    "    \n",
    "    # Get x-axis values\n",
    "    epochs_per_fold = settings['epochs_per_fold']\n",
    "    eval_every = settings['eval_every']\n",
    "    range_epochs = [*range(eval_every, epochs_per_fold + 1, eval_every)]  \n",
    "\n",
    "    for fold in data_json:\n",
    "        mean_epochs_one_fold = []\n",
    "        \n",
    "        for epoch in data_json[fold]:\n",
    "            mean_epochs_one_fold.append((epoch[0] + epoch[1]) / 2)\n",
    "        mean_epochs_all_folds.append(mean_epochs_one_fold)\n",
    "        \n",
    "    return range_epochs, mean_epochs_all_folds   \n",
    "\n",
    "\n",
    "def train_val_values(filename: str) -> Tuple[list, list]:\n",
    "    y_values = load_file(filename)\n",
    "    x_values = []\n",
    "    \n",
    "    if type(y_values) == dict:\n",
    "        y_values = list(y_values.values())\n",
    "    \n",
    "    for fold in y_values:\n",
    "        x_length = len(fold)\n",
    "        x_list = []\n",
    "        for x in range(1, x_length + 1):\n",
    "            x_list.append(x)\n",
    "            \n",
    "        x_values.append(x_list)\n",
    "        \n",
    "    return x_values, y_values\n",
    "  "
   ]
  },
  {
   "cell_type": "code",
   "execution_count": null,
   "metadata": {},
   "outputs": [],
   "source": [
    "# Functions for creating the tables\n",
    "# Setting maximum length of table\n",
    "chunk_size = 10\n",
    "\n",
    "def check_table_length(x_values: list, chunks: list) -> list:\n",
    "    \n",
    "    if len(x_values) < chunk_size:\n",
    "        \n",
    "        return chunks[:len(x_values) + 1]\n",
    "    \n",
    "    return chunks\n",
    "\n",
    "\n",
    "def creating_chunks(arr: list) -> list:\n",
    "    offset = 0\n",
    "    chunks = []\n",
    "    \n",
    "    while offset+chunk_size < len(arr):\n",
    "        chunks.append(arr[offset:offset+chunk_size])\n",
    "        offset += chunk_size\n",
    "    chunks.append(arr[offset:offset+chunk_size])\n",
    "    \n",
    "    return chunks\n",
    "\n",
    "\n",
    "def insert_header(chunks_x: list, chunks_y_0: list, chunks_y_1: list, index: str) -> Tuple[list, list, list]:\n",
    "    \n",
    "    for chunk in chunks_x:\n",
    "        chunk.insert(0, index)\n",
    "            \n",
    "    for chunk in chunks_y_0:\n",
    "        chunk.insert(0, 'Value Class 0')\n",
    "        \n",
    "    for chunk in chunks_y_1:\n",
    "        chunk.insert(0, 'Value Class 1')\n",
    "        \n",
    "    return chunks_x, chunks_y_0, chunks_y_1\n",
    "\n",
    "\n",
    "def table_two_values(x_values: list, y_values_0: list, y_values_1: list, index: str) -> list:\n",
    "    chunks_x = creating_chunks(x_values)\n",
    "    chunks_y_0 = creating_chunks(y_values_0)\n",
    "    chunks_y_1 = creating_chunks(y_values_1)\n",
    "    chunks_x, chunks_y_0, chunks_y_1 = insert_header(chunks_x, chunks_y_0, chunks_y_1, index)\n",
    "    chunks = zip_chunks(chunks_x, chunks_y_0, chunks_y_1)\n",
    "    chunks = check_table_length(x_values, chunks)\n",
    "    \n",
    "    return chunks\n",
    "\n",
    "\n",
    "def zip_chunks(chunks_x: list, chunks_y_0: list, chunks_y_1: list) -> list:\n",
    "    zips = []\n",
    "    \n",
    "    for i in range(len(chunks_x)):\n",
    "        zips.append(list(zip(chunks_x[i], chunks_y_0[i], chunks_y_1[i])))\n",
    "        \n",
    "    while len(zips[-1]) < chunk_size:\n",
    "        zips[-1].append((\"\",\"\"))\n",
    "        \n",
    "    list_of_list_of_tuples = list(zip(*zips))\n",
    "    zipped_chunks = []\n",
    "    \n",
    "    for list_of_tuples in list_of_list_of_tuples:\n",
    "        z = []\n",
    "        \n",
    "        for _tuple in list_of_tuples:\n",
    "            \n",
    "            for _value in _tuple:\n",
    "                z.append(_value)\n",
    "        zipped_chunks.append(z)\n",
    "        \n",
    "    return zipped_chunks\n",
    "\n",
    "# Creating Settings table\n",
    "def settings_table(settings: dict) -> Tuple[list, str]:\n",
    "    setting_keys = list(settings.keys())\n",
    "    setting_values = list(settings.values())\n",
    "    setting_descr = ''\n",
    "    setting_keys.insert(0, '\\033[1;3m' + 'Setting' + '\\033[0m')\n",
    "    setting_values.insert(0, '\\033[1;3m' + 'Value' + '\\033[0m')\n",
    "\n",
    "    if (setting_keys[-1].lower() == 'description') :\n",
    "        setting_descr = setting_values[-1]\n",
    "        setting_keys = setting_keys[:-1]\n",
    "        setting_values = setting_values[:-1]\n",
    "\n",
    "    zips_tuples = list(zip(setting_keys, setting_values))  # Output: list with tuples\n",
    "    zips_lists = list(map(list, zips_tuples))  # Output: list with lists\n",
    "\n",
    "    return zips_lists, setting_descr"
   ]
  },
  {
   "cell_type": "markdown",
   "metadata": {
    "id": "_cvNmM2E6J8F"
   },
   "source": [
    "# Settings"
   ]
  },
  {
   "cell_type": "code",
   "execution_count": null,
   "metadata": {
    "id": "QUyUX_T36MrN"
   },
   "outputs": [],
   "source": [
    "settings_file = open(path_metrics + 'settings.json')\n",
    "settings = json.load(settings_file)\n",
    "settings_file.close()\n",
    "\n",
    "tabledata, description = settings_table(settings)"
   ]
  },
  {
   "cell_type": "code",
   "execution_count": null,
   "metadata": {},
   "outputs": [],
   "source": [
    "print(tabulate(tabledata, headers='firstrow', tablefmt='fancy_grid', colalign=(\"left\",\"left\")))\n",
    "print('\\033[1;3m' + 'Description: ' + '\\033[0m' + description)"
   ]
  },
  {
   "cell_type": "markdown",
   "metadata": {
    "id": "QRy4ar3fxKbP"
   },
   "source": [
    "# Metrics"
   ]
  },
  {
   "cell_type": "markdown",
   "metadata": {
    "id": "nZQRBCcKxWDY"
   },
   "source": [
    "## Dice Score - Means per Fold"
   ]
  },
  {
   "cell_type": "code",
   "execution_count": null,
   "metadata": {},
   "outputs": [],
   "source": [
    "data_json = load_file('diceScoreMeans.json')\n",
    "class0, class1, mean_cl0_cl1, x_vals = means(data_json)"
   ]
  },
  {
   "cell_type": "code",
   "execution_count": null,
   "metadata": {},
   "outputs": [],
   "source": [
    "TOOLTIPS = [\n",
    "    (\"Fold\", \"@x\"),\n",
    "    (\"Dice score\", \"@y\"),\n",
    "    ]\n",
    "    \n",
    "p = figure(\n",
    "    x_axis_label = \"Fold\",\n",
    "    y_axis_label = \"Dice score\",\n",
    "    y_range=DataRange1d(range_padding = 0.1, follow = \"end\", only_visible = True),\n",
    "    width=800,\n",
    "    height=300, \n",
    "    tooltips=TOOLTIPS,\n",
    "    title = \"Dice score means\",\n",
    "    )\n",
    "\n",
    "# Lines\n",
    "p.line(x_vals, class0, legend_label = 'Class 0', color = 'blue', alpha=0.4, line_width=linewidth)\n",
    "p.line(x_vals, class1, legend_label = 'Class 1', color = 'green', alpha=0.4, line_width=linewidth)\n",
    "\n",
    "p.xaxis.minor_tick_line_color = None\n",
    "p.xaxis.ticker = x_vals\n",
    "p.yaxis.minor_tick_line_color = None\n",
    "\n",
    "p.legend.click_policy=\"hide\"\n",
    "p.legend.location = \"top_right\"\n",
    "\n",
    "show(p)"
   ]
  },
  {
   "cell_type": "code",
   "execution_count": null,
   "metadata": {},
   "outputs": [],
   "source": [
    "table_data = table_two_values(x_vals, class0, class1, 'Fold')\n",
    "print('\\033[1;3m' + 'Mean Dice Scores per Fold' + '\\033[0m')\n",
    "print(tabulate(table_data, headers='firstrow', tablefmt='fancy_grid', colalign=(\"center\",\"center\")))"
   ]
  },
  {
   "cell_type": "code",
   "execution_count": null,
   "metadata": {},
   "outputs": [],
   "source": [
    "print(\"Overall mean dice score of class 0: \" + str(np.mean(class0)))\n",
    "print(\"Overall mean dice score of class 1: \" + str(np.mean(class1)))"
   ]
  },
  {
   "cell_type": "markdown",
   "metadata": {
    "id": "FrsE8zrt0CHV"
   },
   "source": [
    "## Dice Score - Means per Epoch"
   ]
  },
  {
   "cell_type": "code",
   "execution_count": null,
   "metadata": {},
   "outputs": [],
   "source": [
    "range_epochs, mean_epochs_all_folds = means_per_epoch('diceScoreMeans.json')"
   ]
  },
  {
   "cell_type": "code",
   "execution_count": null,
   "metadata": {},
   "outputs": [],
   "source": [
    "fold_count = 1\n",
    "\n",
    "for fold in mean_epochs_all_folds:\n",
    "    TOOLTIPS = [\n",
    "    (\"Epoch\", \"@x\"),\n",
    "    (\"Dice score\", \"@y\"),\n",
    "    ]\n",
    "    \n",
    "    p = figure(\n",
    "        x_axis_label = \"Epoch\",\n",
    "        y_axis_label = \"Dice score\",\n",
    "        y_range=DataRange1d(range_padding = 0.1, follow = \"end\", only_visible = True),\n",
    "        width=800,\n",
    "        height=300, \n",
    "        tooltips=TOOLTIPS,\n",
    "        title = \"Dice scores: Fold \" + str(fold_count),\n",
    "        )\n",
    "\n",
    "    # Training losses\n",
    "    p.line(range_epochs, fold, legend_label = 'Mean Dice Score', color = 'blue', alpha=0.4, line_width=linewidth)\n",
    "    \n",
    "    p.xaxis.minor_tick_line_color = None\n",
    "    p.xaxis.ticker = range_epochs\n",
    "    p.yaxis.minor_tick_line_color = None\n",
    "    p.legend.click_policy=\"hide\"\n",
    "    p.legend.location = \"bottom_left\"\n",
    "\n",
    "    show(p) \n",
    "    \n",
    "    print(\"Mean Dice score of Fold \" + str(fold_count) + \": \" + str(np.mean(fold)))\n",
    "    print(\"\\n\\n\")\n",
    "   \n",
    "    fold_count = fold_count + 1"
   ]
  },
  {
   "cell_type": "markdown",
   "metadata": {
    "id": "X16q7xcI0X5f"
   },
   "source": [
    "## Jaccard Index Means"
   ]
  },
  {
   "cell_type": "code",
   "execution_count": null,
   "metadata": {},
   "outputs": [],
   "source": [
    "data_json = load_file('jaccardIndexMeans.json')\n",
    "class0, class1, mean_cl0_cl1, x_vals = means(data_json)"
   ]
  },
  {
   "cell_type": "code",
   "execution_count": null,
   "metadata": {},
   "outputs": [],
   "source": [
    "TOOLTIPS = [\n",
    "    (\"Fold\", \"@x\"),\n",
    "    (\"Jaccard index\", \"@y\"),\n",
    "    ]\n",
    "    \n",
    "p = figure(\n",
    "    x_axis_label = \"Fold\",\n",
    "    y_axis_label = \"Jaccard Index\",\n",
    "    y_range=DataRange1d(range_padding = 0.1, follow = \"end\", only_visible = True),\n",
    "    width=800,\n",
    "    height=300, \n",
    "    tooltips=TOOLTIPS,\n",
    "    title = \"Jaccard Index means\",\n",
    "    )\n",
    "\n",
    "# Lines\n",
    "p.line(x_vals, class0, legend_label = 'Class 0', color = 'blue', alpha=0.4, line_width=linewidth)\n",
    "p.line(x_vals, class1, legend_label = 'Class 1', color = 'green', alpha=0.4, line_width=linewidth)\n",
    "\n",
    "p.xaxis.minor_tick_line_color = None\n",
    "p.xaxis.ticker = x_vals\n",
    "p.yaxis.minor_tick_line_color = None\n",
    "\n",
    "p.legend.click_policy=\"hide\"\n",
    "p.legend.location = \"top_right\"\n",
    "\n",
    "show(p)"
   ]
  },
  {
   "cell_type": "code",
   "execution_count": null,
   "metadata": {},
   "outputs": [],
   "source": [
    "table_data = table_two_values(x_vals, class0, class1, 'Fold')\n",
    "print('\\033[1;3m' + 'Mean Jaccard Index per Fold' + '\\033[0m')\n",
    "print(tabulate(table_data, headers='firstrow', tablefmt='fancy_grid', colalign=(\"center\",\"center\")))"
   ]
  },
  {
   "cell_type": "code",
   "execution_count": null,
   "metadata": {},
   "outputs": [],
   "source": [
    "print(\"Overall mean Jaccard Index of class 0: \" + str(np.mean(class0)))\n",
    "print(\"Overall mean Jaccard Index of class 1: \" + str(np.mean(class1)))"
   ]
  },
  {
   "cell_type": "markdown",
   "metadata": {
    "id": "gzIlY_pc0n6I"
   },
   "source": [
    "## Jaccard Indices per Fold"
   ]
  },
  {
   "cell_type": "code",
   "execution_count": null,
   "metadata": {},
   "outputs": [],
   "source": [
    "range_epochs, mean_epochs_all_folds = means_per_epoch('jaccardIndexMeans.json')"
   ]
  },
  {
   "cell_type": "code",
   "execution_count": null,
   "metadata": {},
   "outputs": [],
   "source": [
    "fold_count = 1\n",
    "\n",
    "for fold in mean_epochs_all_folds:\n",
    "    TOOLTIPS = [\n",
    "    (\"Epoch\", \"@x\"),\n",
    "    (\"Jaccard Index\", \"@y\"),\n",
    "    ]\n",
    "    \n",
    "    p = figure(\n",
    "        x_axis_label = \"Epoch\",\n",
    "        y_axis_label = \"Dice score\",\n",
    "        y_range=DataRange1d(range_padding = 0.1, follow = \"end\", only_visible = True),\n",
    "        width=800,\n",
    "        height=300, \n",
    "        tooltips=TOOLTIPS,\n",
    "        title = \"Dice scores: Fold \" + str(fold_count),\n",
    "        )\n",
    "\n",
    "    # Training losses\n",
    "    p.line(range_epochs, fold, legend_label = 'Mean Jaccard Index', color = 'blue', alpha=0.4, line_width=linewidth)\n",
    "    \n",
    "    p.xaxis.minor_tick_line_color = None\n",
    "    p.xaxis.ticker = range_epochs\n",
    "    p.yaxis.minor_tick_line_color = None\n",
    "    p.legend.click_policy=\"hide\"\n",
    "    p.legend.location = \"top_left\"\n",
    "\n",
    "    show(p) \n",
    "    \n",
    "    print(\"Mean Dice score of Fold \" + str(fold_count) + \": \" + str(np.mean(fold)))\n",
    "    print(\"\\n\\n\")\n",
    "   \n",
    "    fold_count = fold_count + 1"
   ]
  },
  {
   "cell_type": "markdown",
   "metadata": {},
   "source": [
    "## Train & Validation losses"
   ]
  },
  {
   "cell_type": "code",
   "execution_count": null,
   "metadata": {},
   "outputs": [],
   "source": [
    "x_val, y_val = train_val_values('valLosses.json')\n",
    "x_train, y_train = train_val_values('trainLosses.json')\n",
    "fold_count = 1\n",
    "\n",
    "for fold in range(0, len(y_val)):\n",
    "    TOOLTIPS = [\n",
    "    (\"Epoch\", \"@x\"),\n",
    "    (\"Loss\", \"@y\"),\n",
    "    ]\n",
    "    \n",
    "    p = figure(\n",
    "        x_axis_label = \"Epoch\",\n",
    "        y_axis_label = \"Loss\",\n",
    "        y_range=DataRange1d(range_padding = 0.1, follow = \"end\", only_visible = True, start=0),\n",
    "        width=800,\n",
    "        height=300, \n",
    "        tooltips=TOOLTIPS,\n",
    "        title = \"Training and validation losses: Fold \" + str(fold_count),\n",
    "        )\n",
    "\n",
    "    # Training losses\n",
    "    p.line(x_train[fold], y_train[fold], legend_label = 'Training loss', color = 'blue', alpha=0.4, line_width=linewidth)\n",
    "    # Validation losses\n",
    "    p.line(x_val[fold], y_val[fold], legend_label = 'Validation loss', color = 'orange', alpha=0.7, line_width=linewidth)\n",
    "    \n",
    "    p.yaxis.minor_tick_line_color = None\n",
    "    p.legend.click_policy=\"hide\"\n",
    "\n",
    "    show(p)\n",
    "    \n",
    "    print(\"Mean training loss: \" + \"\\t\" + str(np.mean(y_train[fold])))\n",
    "    print(\"Mean validation loss: \" + \"\\t\" + str(np.mean(y_val[fold]))) \n",
    "    print(\"\\n\\n\")\n",
    "    \n",
    "    fold_count = fold_count + 1"
   ]
  }
 ],
 "metadata": {
  "colab": {
   "provenance": [],
   "toc_visible": true
  },
  "kernelspec": {
   "display_name": "Python 3",
   "language": "python",
   "name": "python3"
  },
  "language_info": {
   "codemirror_mode": {
    "name": "ipython",
    "version": 3
   },
   "file_extension": ".py",
   "mimetype": "text/x-python",
   "name": "python",
   "nbconvert_exporter": "python",
   "pygments_lexer": "ipython3",
   "version": "3.9.4"
  },
  "vscode": {
   "interpreter": {
    "hash": "9a28f90e9e7e16bb48f3923e9d683c0c69a588450d8009e66427bb0a83f7dbaf"
   }
  }
 },
 "nbformat": 4,
 "nbformat_minor": 1
}
