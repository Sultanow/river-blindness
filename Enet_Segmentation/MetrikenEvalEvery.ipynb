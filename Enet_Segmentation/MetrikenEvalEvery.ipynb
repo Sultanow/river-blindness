{
 "cells": [
  {
   "cell_type": "code",
   "execution_count": 1,
   "id": "d9f7b8b7",
   "metadata": {},
   "outputs": [],
   "source": [
    "from tabulate import tabulate\n",
    "from typing import Tuple, Union\n",
    "import json\n",
    "import numpy as np"
   ]
  },
  {
   "cell_type": "code",
   "execution_count": 2,
   "id": "4723ee5d",
   "metadata": {},
   "outputs": [],
   "source": [
    "# Set the path to the folder which contains the metrics files\n",
    "path_metrics = \"./modelEvaluation/logs/\"\n",
    "\n",
    "# Set which epoch should be shown\n",
    "epoch = 10"
   ]
  },
  {
   "cell_type": "code",
   "execution_count": 3,
   "id": "a6d6b097",
   "metadata": {},
   "outputs": [],
   "source": [
    "def create_table(settings: dict) -> Tuple[list]:\n",
    "    setting_keys = list(settings.keys())\n",
    "    setting_values = list(settings.values())\n",
    "    setting_keys.insert(0, '\\033[1;3m' + 'Epoch' + '\\033[0m')\n",
    "    setting_values.insert(0, '\\033[1;3m' + 'Mean' + '\\033[0m')\n",
    "\n",
    "    zips_tuples = list(zip(setting_keys, setting_values))  # Output: list with tuples\n",
    "    zips_lists = list(map(list, zips_tuples))  # Output: list with lists\n",
    "\n",
    "    return zips_lists\n",
    "\n",
    "\n",
    "def epoch_in_means(file: str) -> Tuple[float, float]:\n",
    "    class0_vals = []\n",
    "    class1_vals = []\n",
    "    \n",
    "    for key in file:\n",
    "        class0_vals.append(file[key][epoch_in_fold - 1][0])\n",
    "        class1_vals.append(file[key][epoch_in_fold - 1][1])\n",
    "        \n",
    "    class0_mean = np.mean(class0_vals)\n",
    "    class1_mean = np.mean(class1_vals)\n",
    "    \n",
    "    return class0_mean, class1_mean\n",
    "\n",
    "\n",
    "def get_means_per_epoch(file: str) -> dict:\n",
    "    range_epochs = [*range(eval_every, epochs_per_fold + 1, eval_every)]\n",
    "    epoch_number = 0\n",
    "    mean_scores = load_file(file)\n",
    "    means_per_epoch = {}\n",
    "\n",
    "    for epoch in range(len(range_epochs)):\n",
    "        means = 0\n",
    "        \n",
    "        for epoche in mean_scores:\n",
    "            means += (mean_scores[epoche][epoch][0] + mean_scores[epoche][epoch][1] ) / 2\n",
    "\n",
    "        means_per_epoch[range_epochs[epoch]] = (means / len(mean_scores) )\n",
    "\n",
    "    return means_per_epoch\n",
    "    \n",
    "    \n",
    "def load_file(filename: str) -> Union[dict, list]:\n",
    "    data_file = open(path_metrics + filename)\n",
    "    data_json = json.load(data_file)\n",
    "    data_file.close()\n",
    "\n",
    "    return data_json"
   ]
  },
  {
   "cell_type": "code",
   "execution_count": 4,
   "id": "7102eb4c",
   "metadata": {},
   "outputs": [],
   "source": [
    "settings = load_file('settings.json')\n",
    "epochs_per_fold = settings['epochs_per_fold']\n",
    "eval_every = settings['eval_every']"
   ]
  },
  {
   "cell_type": "code",
   "execution_count": 5,
   "id": "462ee0e8",
   "metadata": {},
   "outputs": [],
   "source": [
    "number_of_evals = epochs_per_fold / eval_every\n",
    "epoch_in_fold = int(epoch / number_of_evals)"
   ]
  },
  {
   "cell_type": "code",
   "execution_count": 6,
   "id": "f5dc08c6",
   "metadata": {},
   "outputs": [
    {
     "name": "stdout",
     "output_type": "stream",
     "text": [
      "\u001b[1;3mDice Score Means\u001b[0m\n",
      "Mean values of epoch 10 :\n",
      "class 0:  0.6281405708901292 \n",
      "class 1:  0.7019242662940416\n"
     ]
    }
   ],
   "source": [
    "means_dicescore = load_file('diceScoreMeans.json')\n",
    "class0_mean, class1_mean = epoch_in_means(means_dicescore)\n",
    "print(\"\\033[1;3mDice Score Means\\033[0m\\nMean values of epoch\", epoch, \":\\nclass 0: \", class0_mean, \"\\nclass 1: \", class1_mean)"
   ]
  },
  {
   "cell_type": "code",
   "execution_count": 7,
   "id": "9662d642",
   "metadata": {},
   "outputs": [
    {
     "name": "stdout",
     "output_type": "stream",
     "text": [
      "\u001b[1;3mJaccard Index Means\u001b[0m\n",
      "Mean values of epoch 10 :\n",
      "class 0:  0.5113740357910356 \n",
      "class 1:  0.5814196660562485\n"
     ]
    }
   ],
   "source": [
    "means_jaccard = load_file('jaccardIndexMeans.json')\n",
    "class0_mean, class1_mean = epoch_in_means(means_jaccard)\n",
    "print(\"\\033[1;3mJaccard Index Means\\033[0m\\nMean values of epoch\", epoch, \":\\nclass 0: \", class0_mean, \"\\nclass 1: \", class1_mean)"
   ]
  },
  {
   "cell_type": "code",
   "execution_count": 8,
   "id": "200c6bb6",
   "metadata": {},
   "outputs": [
    {
     "name": "stdout",
     "output_type": "stream",
     "text": [
      "JACCARD\n",
      "╒═════════╤══════════╕\n",
      "│ \u001b[1;3mEpoch\u001b[0m   │ \u001b[1;3mMean\u001b[0m     │\n",
      "╞═════════╪══════════╡\n",
      "│ 10      │ 0.748015 │\n",
      "├─────────┼──────────┤\n",
      "│ 20      │ 0.765342 │\n",
      "├─────────┼──────────┤\n",
      "│ 30      │ 0.794907 │\n",
      "├─────────┼──────────┤\n",
      "│ 40      │ 0.761951 │\n",
      "├─────────┼──────────┤\n",
      "│ 50      │ 0.766044 │\n",
      "├─────────┼──────────┤\n",
      "│ 60      │ 0.750167 │\n",
      "├─────────┼──────────┤\n",
      "│ 70      │ 0.748398 │\n",
      "├─────────┼──────────┤\n",
      "│ 80      │ 0.779441 │\n",
      "├─────────┼──────────┤\n",
      "│ 90      │ 0.778911 │\n",
      "├─────────┼──────────┤\n",
      "│ 100     │ 0.716518 │\n",
      "├─────────┼──────────┤\n",
      "│ 110     │ 0.773752 │\n",
      "├─────────┼──────────┤\n",
      "│ 120     │ 0.546397 │\n",
      "╘═════════╧══════════╛\n",
      "DICE\n",
      "╒═════════╤══════════╕\n",
      "│ \u001b[1;3mEpoch\u001b[0m   │ \u001b[1;3mMean\u001b[0m     │\n",
      "╞═════════╪══════════╡\n",
      "│ 10      │ 0.84119  │\n",
      "├─────────┼──────────┤\n",
      "│ 20      │ 0.854095 │\n",
      "├─────────┼──────────┤\n",
      "│ 30      │ 0.875347 │\n",
      "├─────────┼──────────┤\n",
      "│ 40      │ 0.852479 │\n",
      "├─────────┼──────────┤\n",
      "│ 50      │ 0.854327 │\n",
      "├─────────┼──────────┤\n",
      "│ 60      │ 0.839333 │\n",
      "├─────────┼──────────┤\n",
      "│ 70      │ 0.840015 │\n",
      "├─────────┼──────────┤\n",
      "│ 80      │ 0.862407 │\n",
      "├─────────┼──────────┤\n",
      "│ 90      │ 0.862357 │\n",
      "├─────────┼──────────┤\n",
      "│ 100     │ 0.811185 │\n",
      "├─────────┼──────────┤\n",
      "│ 110     │ 0.859032 │\n",
      "├─────────┼──────────┤\n",
      "│ 120     │ 0.665032 │\n",
      "╘═════════╧══════════╛\n"
     ]
    }
   ],
   "source": [
    "means_per_epoch_jaccard = get_means_per_epoch('jaccardIndexMeans.json')\n",
    "means_per_epoch_dice = get_means_per_epoch('diceScoreMeans.json')\n",
    "tabledata = create_table(means_per_epoch_jaccard)\n",
    "print(\"JACCARD\")\n",
    "print(tabulate(tabledata, headers='firstrow', tablefmt='fancy_grid', colalign=(\"left\",\"left\")))\n",
    "tabledata = create_table(means_per_epoch_dice)\n",
    "print(\"DICE\")\n",
    "print(tabulate(tabledata, headers='firstrow', tablefmt='fancy_grid', colalign=(\"left\",\"left\")))"
   ]
  }
 ],
 "metadata": {
  "kernelspec": {
   "display_name": "Python 3",
   "language": "python",
   "name": "python3"
  },
  "language_info": {
   "codemirror_mode": {
    "name": "ipython",
    "version": 3
   },
   "file_extension": ".py",
   "mimetype": "text/x-python",
   "name": "python",
   "nbconvert_exporter": "python",
   "pygments_lexer": "ipython3",
   "version": "3.9.4"
  },
  "vscode": {
   "interpreter": {
    "hash": "9a28f90e9e7e16bb48f3923e9d683c0c69a588450d8009e66427bb0a83f7dbaf"
   }
  }
 },
 "nbformat": 4,
 "nbformat_minor": 5
}
