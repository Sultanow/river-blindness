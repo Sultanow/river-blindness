{
 "cells": [
  {
   "cell_type": "markdown",
   "id": "945efe73-849c-47ca-8c0b-878318f672a4",
   "metadata": {},
   "source": [
    "# ENet Train\n",
    "\n",
    "This code ist based on the Enet impementation of following GitHub repository: https://github.com/iArunava/ENet-Real-Time-Semantic-Segmentation <br/>\n",
    "Link to the Enet paper: https://arxiv.org/pdf/1606.02147.pdf <br/>\n",
    "K-Fold cross validation is used as evaluation method <br/>"
   ]
  },
  {
   "cell_type": "markdown",
   "id": "c58a4444-de62-41d6-814f-03a5d850ae88",
   "metadata": {
    "tags": []
   },
   "source": [
    "# Imports"
   ]
  },
  {
   "cell_type": "code",
   "execution_count": null,
   "id": "a81aecf7-8dd7-4fda-bf40-75d4eff22785",
   "metadata": {},
   "outputs": [],
   "source": [
    "import torch\n",
    "import torch.nn as nn\n",
    "import torch.nn.functional as F\n",
    "import numpy as np\n",
    "import matplotlib.pyplot as plt\n",
    "import cv2\n",
    "import os\n",
    "import json\n",
    "import random\n",
    "\n",
    "from enetModules.ENet import ENet\n",
    "from enetModules.Utils import Utils\n",
    "from sklearn.model_selection import KFold\n",
    "from tqdm import tqdm\n",
    "from PIL import Image\n",
    "from torchmetrics import JaccardIndex\n",
    "from torchmetrics import Dice"
   ]
  },
  {
   "cell_type": "markdown",
   "id": "53e10d93-121a-4025-9593-98e34db36a4a",
   "metadata": {},
   "source": [
    "# Default Settings\n",
    "**Change paths here if necessary**"
   ]
  },
  {
   "cell_type": "code",
   "execution_count": null,
   "id": "a872e25d-c6b2-411f-af1d-07ae776d6213",
   "metadata": {},
   "outputs": [],
   "source": [
    "cuda = True\n",
    "batch_size = 10\n",
    "epochs_per_fold = 120\n",
    "learn_rate = 5e-4 \n",
    "n_classes = 2\n",
    "weight_decay = 2e-4\n",
    "k_folds = 5\n",
    "eval_every = 10\n",
    "description = \"Diese Enet Evaluation wurde mit den River Blindess Datensatz trainiert. Erweiterere(Rotation + Sharpend + Contrast) Datenaugmentierung wurde angewendet. Validation set wurde separiert.\"\n",
    "\n",
    "path_save_model = \"./modelEvaluation/\"\n",
    "# path_images = \"../../content/SchistosomaMansoni/img/\"\n",
    "# path_labels = \"../../content/SchistosomaMansoni/labels/\"\n",
    "# path_images_val = \"../../content/SchistosomaMansoni/val_img/\"\n",
    "# path_labels_val = \"../..//content/SchistosomaMansoni/val_labels/\"\n",
    "path_images = \"../../content/RiverBlindness/img/\"\n",
    "path_labels = \"../../content/RiverBlindness/labels/\"\n",
    "path_images_val = \"../../content/RiverBlindness/val_img/\"\n",
    "path_labels_val = \"../..//content/RiverBlindness/val_labels/\"\n",
    "\n",
    "with open(path_save_model + \"logs/settings.json\", \"w\", encoding=\"utf-8\") as f:\n",
    "    settings = { \n",
    "        \"cuda\": cuda,\n",
    "        \"batch_size\": batch_size,\n",
    "        \"epochs_per_fold\": epochs_per_fold,\n",
    "        \"learn_rate\": learn_rate,\n",
    "        \"n_classes\": n_classes,\n",
    "        \"weight_decay\": weight_decay,\n",
    "        \"k_folds\": k_folds,\n",
    "        \"eval_every\": eval_every,\n",
    "        \"description\": description\n",
    "    }\n",
    "    \n",
    "    json.dump(settings, f, ensure_ascii=False, indent=4)\n"
   ]
  },
  {
   "cell_type": "markdown",
   "id": "5c55195b-6234-44d3-8f7c-8a994354ec26",
   "metadata": {},
   "source": [
    "# Evaluation Section"
   ]
  },
  {
   "cell_type": "code",
   "execution_count": null,
   "id": "dfeaebf1-e364-4e1d-a601-95bcd9f7810a",
   "metadata": {},
   "outputs": [],
   "source": [
    "img_filenames = np.array(os.listdir(path_images))\n",
    "input_train = []\n",
    "\n",
    "label_filenames = np.array(os.listdir(path_labels))\n",
    "label_train = []\n",
    "\n",
    "assert(len(img_filenames) == len(label_filenames))\n",
    "\n",
    "random.shuffle(img_filenames)\n",
    "\n",
    "print(\"[INFO]Loading trainings dataset.\")\n",
    "#Reading train images and labels                  \n",
    "for file in tqdm(img_filenames):    \n",
    "    img = Image.open(path_images + file)\n",
    "    label = Image.open(path_labels + file)\n",
    "    augmented_imgs, augmented_labels = Utils.imageAugmentation(img, label)\n",
    "       \n",
    "    for aug_img in augmented_imgs:\n",
    "        img = cv2.resize(np.array(aug_img), (512, 512), cv2.INTER_NEAREST)\n",
    "        input_train.append(img[:,:,0:3]) # cutting out potential alpha channel\n",
    "      \n",
    "    for aug_label in augmented_labels:\n",
    "        label = cv2.resize(np.array(aug_label), (512, 512), cv2.INTER_NEAREST)\n",
    "        label_train.append(label)\n",
    "\n",
    "input_train = np.stack(input_train, axis=2)\n",
    "input_train = torch.tensor(input_train).transpose(0, 2).transpose(1, 3)\n",
    "\n",
    "label_train = np.array(label_train) \n",
    "label_train = torch.tensor(label_train)\n",
    "\n",
    "val_img_filenames = np.array(os.listdir(path_images_val))\n",
    "input_val = []\n",
    "\n",
    "val_label_filenames = np.array(os.listdir(path_labels_val))\n",
    "label_val = []\n",
    "\n",
    "assert(len(val_img_filenames) == len(val_label_filenames))\n",
    "\n",
    "print(\"[INFO]Loading validation dataset\")\n",
    "# Reading validation images and labels. Validation set should not be augmented\n",
    "for file in tqdm(val_img_filenames):\n",
    "    val_img = Image.open(path_images_val + file)\n",
    "    val_img = cv2.resize(np.array(val_img), (512, 512), cv2.INTER_NEAREST)\n",
    "    input_val.append(val_img[:,:,0:3])\n",
    "    \n",
    "    val_label = Image.open(path_labels_val + file)\n",
    "    val_label = cv2.resize(np.array(val_label), (512, 512), cv2.INTER_NEAREST)\n",
    "    label_val.append(val_label)\n",
    "    \n",
    "input_val = np.stack(input_val, axis=2)\n",
    "input_val = torch.tensor(input_val).transpose(0,2).transpose(1,3)\n",
    "\n",
    "label_val = np.array(label_val)\n",
    "label_val = torch.tensor(label_val)\n",
    "\n",
    "print(\"[INFO]Starting to define the class weights...\")\n",
    "class_weights = Utils.get_class_weights(label_train, n_classes)\n",
    "print(\"[INFO]Fetched all class weights successfully!\")\n",
    "\n",
    "# Checking for cuda\n",
    "if(torch.cuda.is_available() & cuda):\n",
    "    print(\"[INFO]CUDA is available!\")\n",
    "    device = torch.device(\"cuda:0\")\n",
    "else:\n",
    "    print(\"[INFO]CUDA isn't available!\")\n",
    "    device = torch.device(\"cpu\")                          "
   ]
  },
  {
   "cell_type": "code",
   "execution_count": 4,
   "id": "c9fb0f5b-6e80-47e0-a02b-2d1e6d47f545",
   "metadata": {
    "tags": []
   },
   "outputs": [
    {
     "name": "stderr",
     "output_type": "stream",
     "text": [
      "100%|██████████| 6/6 [00:00<00:00, 13.60it/s]\n"
     ]
    },
    {
     "name": "stdout",
     "output_type": "stream",
     "text": [
      "Loss 4.187231\n",
      "Epoch 53/120...\n",
      "--------------- Epoch 54 ---------------\n"
     ]
    },
    {
     "name": "stderr",
     "output_type": "stream",
     "text": [
      "100%|██████████| 156/156 [00:38<00:00,  4.09it/s]\n"
     ]
    },
    {
     "name": "stdout",
     "output_type": "stream",
     "text": [
      "\n",
      "Epoch 54/120... Loss 12.983139\n",
      "\n",
      "Validation:\n"
     ]
    },
    {
     "name": "stderr",
     "output_type": "stream",
     "text": [
      "100%|██████████| 6/6 [00:00<00:00, 14.83it/s]\n"
     ]
    },
    {
     "name": "stdout",
     "output_type": "stream",
     "text": [
      "Loss 3.951043\n",
      "Epoch 54/120...\n",
      "--------------- Epoch 55 ---------------\n"
     ]
    },
    {
     "name": "stderr",
     "output_type": "stream",
     "text": [
      "100%|██████████| 156/156 [00:37<00:00,  4.11it/s]\n"
     ]
    },
    {
     "name": "stdout",
     "output_type": "stream",
     "text": [
      "\n",
      "Epoch 55/120... Loss 19.456456\n",
      "\n",
      "Validation:\n"
     ]
    },
    {
     "name": "stderr",
     "output_type": "stream",
     "text": [
      "100%|██████████| 6/6 [00:00<00:00, 14.47it/s]\n"
     ]
    },
    {
     "name": "stdout",
     "output_type": "stream",
     "text": [
      "Loss 2.642823\n",
      "Epoch 55/120...\n",
      "--------------- Epoch 56 ---------------\n"
     ]
    },
    {
     "name": "stderr",
     "output_type": "stream",
     "text": [
      "100%|██████████| 156/156 [00:37<00:00,  4.12it/s]\n"
     ]
    },
    {
     "name": "stdout",
     "output_type": "stream",
     "text": [
      "\n",
      "Epoch 56/120... Loss 14.243744\n",
      "\n",
      "Validation:\n"
     ]
    },
    {
     "name": "stderr",
     "output_type": "stream",
     "text": [
      "100%|██████████| 6/6 [00:00<00:00, 14.26it/s]\n"
     ]
    },
    {
     "name": "stdout",
     "output_type": "stream",
     "text": [
      "Loss 6.069395\n",
      "Epoch 56/120...\n",
      "--------------- Epoch 57 ---------------\n"
     ]
    },
    {
     "name": "stderr",
     "output_type": "stream",
     "text": [
      "100%|██████████| 156/156 [00:37<00:00,  4.11it/s]\n"
     ]
    },
    {
     "name": "stdout",
     "output_type": "stream",
     "text": [
      "\n",
      "Epoch 57/120... Loss 11.752108\n",
      "\n",
      "Validation:\n"
     ]
    },
    {
     "name": "stderr",
     "output_type": "stream",
     "text": [
      "100%|██████████| 6/6 [00:00<00:00, 14.52it/s]\n"
     ]
    },
    {
     "name": "stdout",
     "output_type": "stream",
     "text": [
      "Loss 1.356900\n",
      "Epoch 57/120...\n",
      "--------------- Epoch 58 ---------------\n"
     ]
    },
    {
     "name": "stderr",
     "output_type": "stream",
     "text": [
      "100%|██████████| 156/156 [00:37<00:00,  4.11it/s]\n"
     ]
    },
    {
     "name": "stdout",
     "output_type": "stream",
     "text": [
      "\n",
      "Epoch 58/120... Loss 10.947261\n",
      "\n",
      "Validation:\n"
     ]
    },
    {
     "name": "stderr",
     "output_type": "stream",
     "text": [
      "100%|██████████| 6/6 [00:00<00:00, 14.48it/s]\n"
     ]
    },
    {
     "name": "stdout",
     "output_type": "stream",
     "text": [
      "Loss 1.268774\n",
      "Epoch 58/120...\n",
      "--------------- Epoch 59 ---------------\n"
     ]
    },
    {
     "name": "stderr",
     "output_type": "stream",
     "text": [
      "100%|██████████| 156/156 [00:37<00:00,  4.11it/s]\n"
     ]
    },
    {
     "name": "stdout",
     "output_type": "stream",
     "text": [
      "\n",
      "Epoch 59/120... Loss 10.170162\n",
      "\n",
      "Validation:\n"
     ]
    },
    {
     "name": "stderr",
     "output_type": "stream",
     "text": [
      "100%|██████████| 6/6 [00:00<00:00, 14.61it/s]\n"
     ]
    },
    {
     "name": "stdout",
     "output_type": "stream",
     "text": [
      "Loss 1.616982\n",
      "Epoch 59/120...\n",
      "--------------- Epoch 60 ---------------\n"
     ]
    },
    {
     "name": "stderr",
     "output_type": "stream",
     "text": [
      "100%|██████████| 156/156 [00:37<00:00,  4.11it/s]\n"
     ]
    },
    {
     "name": "stdout",
     "output_type": "stream",
     "text": [
      "\n",
      "Epoch 60/120... Loss 9.875285\n",
      "\n",
      "Validation:\n"
     ]
    },
    {
     "name": "stderr",
     "output_type": "stream",
     "text": [
      "100%|██████████| 6/6 [00:00<00:00, 13.79it/s]\n"
     ]
    },
    {
     "name": "stdout",
     "output_type": "stream",
     "text": [
      "Loss 1.367324\n",
      "Epoch 60/120...\n",
      "[INFO]Starting Evaluation for Fold 5 Epoche 60.\n"
     ]
    },
    {
     "name": "stderr",
     "output_type": "stream",
     "text": [
      "100%|██████████| 389/389 [00:38<00:00, 10.09it/s]\n"
     ]
    },
    {
     "name": "stdout",
     "output_type": "stream",
     "text": [
      "---------------------------------------------------------------------------------------------------------------------------------------\n",
      "Jaccard Index: \t meanClass[0] = 0.8487320251207425 \t meanClass[1] = 0.8227482668691551 \t mean = 0.8357401459949488\n",
      "Dice Score: \t meanClass[0] = 0.9133036887431206 \t meanClass[1] = 0.8943946625089277 \t mean = 0.9038491756260242\n",
      "---------------------------------------------------------------------------------------------------------------------------------------\n",
      "--------------- Epoch 61 ---------------\n"
     ]
    },
    {
     "name": "stderr",
     "output_type": "stream",
     "text": [
      "100%|██████████| 156/156 [00:38<00:00,  4.10it/s]\n"
     ]
    },
    {
     "name": "stdout",
     "output_type": "stream",
     "text": [
      "\n",
      "Epoch 61/120... Loss 9.385445\n",
      "\n",
      "Validation:\n"
     ]
    },
    {
     "name": "stderr",
     "output_type": "stream",
     "text": [
      "100%|██████████| 6/6 [00:00<00:00, 14.54it/s]\n"
     ]
    },
    {
     "name": "stdout",
     "output_type": "stream",
     "text": [
      "Loss 2.370435\n",
      "Epoch 61/120...\n",
      "--------------- Epoch 62 ---------------\n"
     ]
    },
    {
     "name": "stderr",
     "output_type": "stream",
     "text": [
      "100%|██████████| 156/156 [00:37<00:00,  4.11it/s]\n"
     ]
    },
    {
     "name": "stdout",
     "output_type": "stream",
     "text": [
      "\n",
      "Epoch 62/120... Loss 9.373209\n",
      "\n",
      "Validation:\n"
     ]
    },
    {
     "name": "stderr",
     "output_type": "stream",
     "text": [
      "100%|██████████| 6/6 [00:00<00:00, 14.52it/s]\n"
     ]
    },
    {
     "name": "stdout",
     "output_type": "stream",
     "text": [
      "Loss 2.157965\n",
      "Epoch 62/120...\n",
      "--------------- Epoch 63 ---------------\n"
     ]
    },
    {
     "name": "stderr",
     "output_type": "stream",
     "text": [
      "100%|██████████| 156/156 [00:37<00:00,  4.11it/s]\n"
     ]
    },
    {
     "name": "stdout",
     "output_type": "stream",
     "text": [
      "\n",
      "Epoch 63/120... Loss 10.110670\n",
      "\n",
      "Validation:\n"
     ]
    },
    {
     "name": "stderr",
     "output_type": "stream",
     "text": [
      "100%|██████████| 6/6 [00:00<00:00, 14.69it/s]\n"
     ]
    },
    {
     "name": "stdout",
     "output_type": "stream",
     "text": [
      "Loss 5.486668\n",
      "Epoch 63/120...\n",
      "--------------- Epoch 64 ---------------\n"
     ]
    },
    {
     "name": "stderr",
     "output_type": "stream",
     "text": [
      "100%|██████████| 156/156 [00:39<00:00,  3.95it/s]\n"
     ]
    },
    {
     "name": "stdout",
     "output_type": "stream",
     "text": [
      "\n",
      "Epoch 64/120... Loss 11.428773\n",
      "\n",
      "Validation:\n"
     ]
    },
    {
     "name": "stderr",
     "output_type": "stream",
     "text": [
      "100%|██████████| 6/6 [00:00<00:00, 13.89it/s]\n"
     ]
    },
    {
     "name": "stdout",
     "output_type": "stream",
     "text": [
      "Loss 4.157160\n",
      "Epoch 64/120...\n",
      "--------------- Epoch 65 ---------------\n"
     ]
    },
    {
     "name": "stderr",
     "output_type": "stream",
     "text": [
      "100%|██████████| 156/156 [00:40<00:00,  3.83it/s]\n"
     ]
    },
    {
     "name": "stdout",
     "output_type": "stream",
     "text": [
      "\n",
      "Epoch 65/120... Loss 12.026727\n",
      "\n",
      "Validation:\n"
     ]
    },
    {
     "name": "stderr",
     "output_type": "stream",
     "text": [
      "100%|██████████| 6/6 [00:00<00:00, 14.00it/s]\n"
     ]
    },
    {
     "name": "stdout",
     "output_type": "stream",
     "text": [
      "Loss 5.955658\n",
      "Epoch 65/120...\n",
      "--------------- Epoch 66 ---------------\n"
     ]
    },
    {
     "name": "stderr",
     "output_type": "stream",
     "text": [
      "100%|██████████| 156/156 [00:40<00:00,  3.83it/s]\n"
     ]
    },
    {
     "name": "stdout",
     "output_type": "stream",
     "text": [
      "\n",
      "Epoch 66/120... Loss 12.414477\n",
      "\n",
      "Validation:\n"
     ]
    },
    {
     "name": "stderr",
     "output_type": "stream",
     "text": [
      "100%|██████████| 6/6 [00:00<00:00, 13.93it/s]\n"
     ]
    },
    {
     "name": "stdout",
     "output_type": "stream",
     "text": [
      "Loss 2.653403\n",
      "Epoch 66/120...\n",
      "--------------- Epoch 67 ---------------\n"
     ]
    },
    {
     "name": "stderr",
     "output_type": "stream",
     "text": [
      "100%|██████████| 156/156 [00:40<00:00,  3.87it/s]\n"
     ]
    },
    {
     "name": "stdout",
     "output_type": "stream",
     "text": [
      "\n",
      "Epoch 67/120... Loss 10.812359\n",
      "\n",
      "Validation:\n"
     ]
    },
    {
     "name": "stderr",
     "output_type": "stream",
     "text": [
      "100%|██████████| 6/6 [00:00<00:00, 14.09it/s]\n"
     ]
    },
    {
     "name": "stdout",
     "output_type": "stream",
     "text": [
      "Loss 2.649951\n",
      "Epoch 67/120...\n",
      "--------------- Epoch 68 ---------------\n"
     ]
    },
    {
     "name": "stderr",
     "output_type": "stream",
     "text": [
      "100%|██████████| 156/156 [00:40<00:00,  3.90it/s]\n"
     ]
    },
    {
     "name": "stdout",
     "output_type": "stream",
     "text": [
      "\n",
      "Epoch 68/120... Loss 10.254841\n",
      "\n",
      "Validation:\n"
     ]
    },
    {
     "name": "stderr",
     "output_type": "stream",
     "text": [
      "100%|██████████| 6/6 [00:00<00:00, 13.75it/s]\n"
     ]
    },
    {
     "name": "stdout",
     "output_type": "stream",
     "text": [
      "Loss 2.411454\n",
      "Epoch 68/120...\n",
      "--------------- Epoch 69 ---------------\n"
     ]
    },
    {
     "name": "stderr",
     "output_type": "stream",
     "text": [
      "100%|██████████| 156/156 [00:40<00:00,  3.89it/s]\n"
     ]
    },
    {
     "name": "stdout",
     "output_type": "stream",
     "text": [
      "\n",
      "Epoch 69/120... Loss 9.572689\n",
      "\n",
      "Validation:\n"
     ]
    },
    {
     "name": "stderr",
     "output_type": "stream",
     "text": [
      "100%|██████████| 6/6 [00:00<00:00, 14.10it/s]\n"
     ]
    },
    {
     "name": "stdout",
     "output_type": "stream",
     "text": [
      "Loss 2.015446\n",
      "Epoch 69/120...\n",
      "--------------- Epoch 70 ---------------\n"
     ]
    },
    {
     "name": "stderr",
     "output_type": "stream",
     "text": [
      "100%|██████████| 156/156 [00:40<00:00,  3.88it/s]\n"
     ]
    },
    {
     "name": "stdout",
     "output_type": "stream",
     "text": [
      "\n",
      "Epoch 70/120... Loss 8.914674\n",
      "\n",
      "Validation:\n"
     ]
    },
    {
     "name": "stderr",
     "output_type": "stream",
     "text": [
      "100%|██████████| 6/6 [00:00<00:00, 14.04it/s]\n"
     ]
    },
    {
     "name": "stdout",
     "output_type": "stream",
     "text": [
      "Loss 1.592474\n",
      "Epoch 70/120...\n",
      "[INFO]Starting Evaluation for Fold 5 Epoche 70.\n"
     ]
    },
    {
     "name": "stderr",
     "output_type": "stream",
     "text": [
      "100%|██████████| 389/389 [00:39<00:00,  9.96it/s]\n"
     ]
    },
    {
     "name": "stdout",
     "output_type": "stream",
     "text": [
      "---------------------------------------------------------------------------------------------------------------------------------------\n",
      "Jaccard Index: \t meanClass[0] = 0.7988126866308767 \t meanClass[1] = 0.8154364414417345 \t mean = 0.8071245640363056\n",
      "Dice Score: \t meanClass[0] = 0.8752212380765336 \t meanClass[1] = 0.8891836865242465 \t mean = 0.8822024623003901\n",
      "---------------------------------------------------------------------------------------------------------------------------------------\n",
      "--------------- Epoch 71 ---------------\n"
     ]
    },
    {
     "name": "stderr",
     "output_type": "stream",
     "text": [
      "100%|██████████| 156/156 [00:40<00:00,  3.86it/s]\n"
     ]
    },
    {
     "name": "stdout",
     "output_type": "stream",
     "text": [
      "\n",
      "Epoch 71/120... Loss 8.766873\n",
      "\n",
      "Validation:\n"
     ]
    },
    {
     "name": "stderr",
     "output_type": "stream",
     "text": [
      "100%|██████████| 6/6 [00:00<00:00, 13.85it/s]\n"
     ]
    },
    {
     "name": "stdout",
     "output_type": "stream",
     "text": [
      "Loss 1.400583\n",
      "Epoch 71/120...\n",
      "--------------- Epoch 72 ---------------\n"
     ]
    },
    {
     "name": "stderr",
     "output_type": "stream",
     "text": [
      "100%|██████████| 156/156 [00:40<00:00,  3.87it/s]\n"
     ]
    },
    {
     "name": "stdout",
     "output_type": "stream",
     "text": [
      "\n",
      "Epoch 72/120... Loss 10.322561\n",
      "\n",
      "Validation:\n"
     ]
    },
    {
     "name": "stderr",
     "output_type": "stream",
     "text": [
      "100%|██████████| 6/6 [00:00<00:00, 13.87it/s]\n"
     ]
    },
    {
     "name": "stdout",
     "output_type": "stream",
     "text": [
      "Loss 3.970898\n",
      "Epoch 72/120...\n",
      "--------------- Epoch 73 ---------------\n"
     ]
    },
    {
     "name": "stderr",
     "output_type": "stream",
     "text": [
      "100%|██████████| 156/156 [00:40<00:00,  3.87it/s]\n"
     ]
    },
    {
     "name": "stdout",
     "output_type": "stream",
     "text": [
      "\n",
      "Epoch 73/120... Loss 11.217902\n",
      "\n",
      "Validation:\n"
     ]
    },
    {
     "name": "stderr",
     "output_type": "stream",
     "text": [
      "100%|██████████| 6/6 [00:00<00:00, 14.28it/s]\n"
     ]
    },
    {
     "name": "stdout",
     "output_type": "stream",
     "text": [
      "Loss 2.195647\n",
      "Epoch 73/120...\n",
      "--------------- Epoch 74 ---------------\n"
     ]
    },
    {
     "name": "stderr",
     "output_type": "stream",
     "text": [
      "100%|██████████| 156/156 [00:40<00:00,  3.88it/s]\n"
     ]
    },
    {
     "name": "stdout",
     "output_type": "stream",
     "text": [
      "\n",
      "Epoch 74/120... Loss 11.069994\n",
      "\n",
      "Validation:\n"
     ]
    },
    {
     "name": "stderr",
     "output_type": "stream",
     "text": [
      "100%|██████████| 6/6 [00:00<00:00, 13.99it/s]\n"
     ]
    },
    {
     "name": "stdout",
     "output_type": "stream",
     "text": [
      "Loss 5.240166\n",
      "Epoch 74/120...\n",
      "--------------- Epoch 75 ---------------\n"
     ]
    },
    {
     "name": "stderr",
     "output_type": "stream",
     "text": [
      "100%|██████████| 156/156 [00:40<00:00,  3.88it/s]\n"
     ]
    },
    {
     "name": "stdout",
     "output_type": "stream",
     "text": [
      "\n",
      "Epoch 75/120... Loss 12.344306\n",
      "\n",
      "Validation:\n"
     ]
    },
    {
     "name": "stderr",
     "output_type": "stream",
     "text": [
      "100%|██████████| 6/6 [00:00<00:00, 13.82it/s]\n"
     ]
    },
    {
     "name": "stdout",
     "output_type": "stream",
     "text": [
      "Loss 3.137630\n",
      "Epoch 75/120...\n",
      "--------------- Epoch 76 ---------------\n"
     ]
    },
    {
     "name": "stderr",
     "output_type": "stream",
     "text": [
      "100%|██████████| 156/156 [00:40<00:00,  3.88it/s]\n"
     ]
    },
    {
     "name": "stdout",
     "output_type": "stream",
     "text": [
      "\n",
      "Epoch 76/120... Loss 11.547016\n",
      "\n",
      "Validation:\n"
     ]
    },
    {
     "name": "stderr",
     "output_type": "stream",
     "text": [
      "100%|██████████| 6/6 [00:00<00:00, 14.14it/s]\n"
     ]
    },
    {
     "name": "stdout",
     "output_type": "stream",
     "text": [
      "Loss 1.487429\n",
      "Epoch 76/120...\n",
      "--------------- Epoch 77 ---------------\n"
     ]
    },
    {
     "name": "stderr",
     "output_type": "stream",
     "text": [
      "100%|██████████| 156/156 [00:39<00:00,  3.90it/s]\n"
     ]
    },
    {
     "name": "stdout",
     "output_type": "stream",
     "text": [
      "\n",
      "Epoch 77/120... Loss 9.286671\n",
      "\n",
      "Validation:\n"
     ]
    },
    {
     "name": "stderr",
     "output_type": "stream",
     "text": [
      "100%|██████████| 6/6 [00:00<00:00, 13.99it/s]\n"
     ]
    },
    {
     "name": "stdout",
     "output_type": "stream",
     "text": [
      "Loss 1.270240\n",
      "Epoch 77/120...\n",
      "--------------- Epoch 78 ---------------\n"
     ]
    },
    {
     "name": "stderr",
     "output_type": "stream",
     "text": [
      "100%|██████████| 156/156 [00:39<00:00,  3.98it/s]\n"
     ]
    },
    {
     "name": "stdout",
     "output_type": "stream",
     "text": [
      "\n",
      "Epoch 78/120... Loss 8.914488\n",
      "\n",
      "Validation:\n"
     ]
    },
    {
     "name": "stderr",
     "output_type": "stream",
     "text": [
      "100%|██████████| 6/6 [00:00<00:00, 14.51it/s]\n"
     ]
    },
    {
     "name": "stdout",
     "output_type": "stream",
     "text": [
      "Loss 1.140722\n",
      "Epoch 78/120...\n",
      "--------------- Epoch 79 ---------------\n"
     ]
    },
    {
     "name": "stderr",
     "output_type": "stream",
     "text": [
      "100%|██████████| 156/156 [00:38<00:00,  4.05it/s]\n"
     ]
    },
    {
     "name": "stdout",
     "output_type": "stream",
     "text": [
      "\n",
      "Epoch 79/120... Loss 8.465630\n",
      "\n",
      "Validation:\n"
     ]
    },
    {
     "name": "stderr",
     "output_type": "stream",
     "text": [
      "100%|██████████| 6/6 [00:00<00:00, 14.43it/s]\n"
     ]
    },
    {
     "name": "stdout",
     "output_type": "stream",
     "text": [
      "Loss 2.060660\n",
      "Epoch 79/120...\n",
      "--------------- Epoch 80 ---------------\n"
     ]
    },
    {
     "name": "stderr",
     "output_type": "stream",
     "text": [
      "100%|██████████| 156/156 [00:38<00:00,  4.06it/s]\n"
     ]
    },
    {
     "name": "stdout",
     "output_type": "stream",
     "text": [
      "\n",
      "Epoch 80/120... Loss 9.055604\n",
      "\n",
      "Validation:\n"
     ]
    },
    {
     "name": "stderr",
     "output_type": "stream",
     "text": [
      "100%|██████████| 6/6 [00:00<00:00, 14.84it/s]\n"
     ]
    },
    {
     "name": "stdout",
     "output_type": "stream",
     "text": [
      "Loss 3.666478\n",
      "Epoch 80/120...\n",
      "[INFO]Starting Evaluation for Fold 5 Epoche 80.\n"
     ]
    },
    {
     "name": "stderr",
     "output_type": "stream",
     "text": [
      "100%|██████████| 389/389 [00:38<00:00, 10.21it/s]\n"
     ]
    },
    {
     "name": "stdout",
     "output_type": "stream",
     "text": [
      "---------------------------------------------------------------------------------------------------------------------------------------\n",
      "Jaccard Index: \t meanClass[0] = 0.751727634576415 \t meanClass[1] = 0.6275928890617483 \t mean = 0.6896602618190817\n",
      "Dice Score: \t meanClass[0] = 0.8494080757114145 \t meanClass[1] = 0.7415921187918911 \t mean = 0.7955000972516528\n",
      "---------------------------------------------------------------------------------------------------------------------------------------\n",
      "--------------- Epoch 81 ---------------\n"
     ]
    },
    {
     "name": "stderr",
     "output_type": "stream",
     "text": [
      "100%|██████████| 156/156 [00:38<00:00,  4.04it/s]\n"
     ]
    },
    {
     "name": "stdout",
     "output_type": "stream",
     "text": [
      "\n",
      "Epoch 81/120... Loss 8.863915\n",
      "\n",
      "Validation:\n"
     ]
    },
    {
     "name": "stderr",
     "output_type": "stream",
     "text": [
      "100%|██████████| 6/6 [00:00<00:00, 14.19it/s]\n"
     ]
    },
    {
     "name": "stdout",
     "output_type": "stream",
     "text": [
      "Loss 2.110138\n",
      "Epoch 81/120...\n",
      "--------------- Epoch 82 ---------------\n"
     ]
    },
    {
     "name": "stderr",
     "output_type": "stream",
     "text": [
      "100%|██████████| 156/156 [00:38<00:00,  4.04it/s]\n"
     ]
    },
    {
     "name": "stdout",
     "output_type": "stream",
     "text": [
      "\n",
      "Epoch 82/120... Loss 8.362333\n",
      "\n",
      "Validation:\n"
     ]
    },
    {
     "name": "stderr",
     "output_type": "stream",
     "text": [
      "100%|██████████| 6/6 [00:00<00:00, 14.70it/s]\n"
     ]
    },
    {
     "name": "stdout",
     "output_type": "stream",
     "text": [
      "Loss 1.843099\n",
      "Epoch 82/120...\n",
      "--------------- Epoch 83 ---------------\n"
     ]
    },
    {
     "name": "stderr",
     "output_type": "stream",
     "text": [
      "100%|██████████| 156/156 [00:38<00:00,  4.04it/s]\n"
     ]
    },
    {
     "name": "stdout",
     "output_type": "stream",
     "text": [
      "\n",
      "Epoch 83/120... Loss 8.569247\n",
      "\n",
      "Validation:\n"
     ]
    },
    {
     "name": "stderr",
     "output_type": "stream",
     "text": [
      "100%|██████████| 6/6 [00:00<00:00, 14.88it/s]\n"
     ]
    },
    {
     "name": "stdout",
     "output_type": "stream",
     "text": [
      "Loss 4.111494\n",
      "Epoch 83/120...\n",
      "--------------- Epoch 84 ---------------\n"
     ]
    },
    {
     "name": "stderr",
     "output_type": "stream",
     "text": [
      "100%|██████████| 156/156 [00:38<00:00,  4.09it/s]\n"
     ]
    },
    {
     "name": "stdout",
     "output_type": "stream",
     "text": [
      "\n",
      "Epoch 84/120... Loss 11.109001\n",
      "\n",
      "Validation:\n"
     ]
    },
    {
     "name": "stderr",
     "output_type": "stream",
     "text": [
      "100%|██████████| 6/6 [00:00<00:00, 14.69it/s]\n"
     ]
    },
    {
     "name": "stdout",
     "output_type": "stream",
     "text": [
      "Loss 6.167778\n",
      "Epoch 84/120...\n",
      "--------------- Epoch 85 ---------------\n"
     ]
    },
    {
     "name": "stderr",
     "output_type": "stream",
     "text": [
      "100%|██████████| 156/156 [00:38<00:00,  4.07it/s]\n"
     ]
    },
    {
     "name": "stdout",
     "output_type": "stream",
     "text": [
      "\n",
      "Epoch 85/120... Loss 17.048635\n",
      "\n",
      "Validation:\n"
     ]
    },
    {
     "name": "stderr",
     "output_type": "stream",
     "text": [
      "100%|██████████| 6/6 [00:00<00:00, 14.92it/s]\n"
     ]
    },
    {
     "name": "stdout",
     "output_type": "stream",
     "text": [
      "Loss 7.175263\n",
      "Epoch 85/120...\n",
      "--------------- Epoch 86 ---------------\n"
     ]
    },
    {
     "name": "stderr",
     "output_type": "stream",
     "text": [
      "100%|██████████| 156/156 [00:38<00:00,  4.07it/s]\n"
     ]
    },
    {
     "name": "stdout",
     "output_type": "stream",
     "text": [
      "\n",
      "Epoch 86/120... Loss 15.198469\n",
      "\n",
      "Validation:\n"
     ]
    },
    {
     "name": "stderr",
     "output_type": "stream",
     "text": [
      "100%|██████████| 6/6 [00:00<00:00, 15.20it/s]\n"
     ]
    },
    {
     "name": "stdout",
     "output_type": "stream",
     "text": [
      "Loss 2.278179\n",
      "Epoch 86/120...\n",
      "--------------- Epoch 87 ---------------\n"
     ]
    },
    {
     "name": "stderr",
     "output_type": "stream",
     "text": [
      "100%|██████████| 156/156 [00:38<00:00,  4.08it/s]\n"
     ]
    },
    {
     "name": "stdout",
     "output_type": "stream",
     "text": [
      "\n",
      "Epoch 87/120... Loss 9.893728\n",
      "\n",
      "Validation:\n"
     ]
    },
    {
     "name": "stderr",
     "output_type": "stream",
     "text": [
      "100%|██████████| 6/6 [00:00<00:00, 15.25it/s]\n"
     ]
    },
    {
     "name": "stdout",
     "output_type": "stream",
     "text": [
      "Loss 1.286656\n",
      "Epoch 87/120...\n",
      "--------------- Epoch 88 ---------------\n"
     ]
    },
    {
     "name": "stderr",
     "output_type": "stream",
     "text": [
      "100%|██████████| 156/156 [00:38<00:00,  4.08it/s]\n"
     ]
    },
    {
     "name": "stdout",
     "output_type": "stream",
     "text": [
      "\n",
      "Epoch 88/120... Loss 8.866325\n",
      "\n",
      "Validation:\n"
     ]
    },
    {
     "name": "stderr",
     "output_type": "stream",
     "text": [
      "100%|██████████| 6/6 [00:00<00:00, 14.91it/s]\n"
     ]
    },
    {
     "name": "stdout",
     "output_type": "stream",
     "text": [
      "Loss 1.379965\n",
      "Epoch 88/120...\n",
      "--------------- Epoch 89 ---------------\n"
     ]
    },
    {
     "name": "stderr",
     "output_type": "stream",
     "text": [
      "100%|██████████| 156/156 [00:38<00:00,  4.06it/s]\n"
     ]
    },
    {
     "name": "stdout",
     "output_type": "stream",
     "text": [
      "\n",
      "Epoch 89/120... Loss 8.289067\n",
      "\n",
      "Validation:\n"
     ]
    },
    {
     "name": "stderr",
     "output_type": "stream",
     "text": [
      "100%|██████████| 6/6 [00:00<00:00, 15.03it/s]\n"
     ]
    },
    {
     "name": "stdout",
     "output_type": "stream",
     "text": [
      "Loss 1.698893\n",
      "Epoch 89/120...\n",
      "--------------- Epoch 90 ---------------\n"
     ]
    },
    {
     "name": "stderr",
     "output_type": "stream",
     "text": [
      "100%|██████████| 156/156 [00:38<00:00,  4.08it/s]\n"
     ]
    },
    {
     "name": "stdout",
     "output_type": "stream",
     "text": [
      "\n",
      "Epoch 90/120... Loss 8.278752\n",
      "\n",
      "Validation:\n"
     ]
    },
    {
     "name": "stderr",
     "output_type": "stream",
     "text": [
      "100%|██████████| 6/6 [00:00<00:00, 14.88it/s]\n"
     ]
    },
    {
     "name": "stdout",
     "output_type": "stream",
     "text": [
      "Loss 1.371513\n",
      "Epoch 90/120...\n",
      "[INFO]Starting Evaluation for Fold 5 Epoche 90.\n"
     ]
    },
    {
     "name": "stderr",
     "output_type": "stream",
     "text": [
      "100%|██████████| 389/389 [00:36<00:00, 10.55it/s]\n"
     ]
    },
    {
     "name": "stdout",
     "output_type": "stream",
     "text": [
      "---------------------------------------------------------------------------------------------------------------------------------------\n",
      "Jaccard Index: \t meanClass[0] = 0.8247135624021368 \t meanClass[1] = 0.8201794442756624 \t mean = 0.8224465033388996\n",
      "Dice Score: \t meanClass[0] = 0.8964814172918815 \t meanClass[1] = 0.8927462688601722 \t mean = 0.8946138430760269\n",
      "---------------------------------------------------------------------------------------------------------------------------------------\n",
      "--------------- Epoch 91 ---------------\n"
     ]
    },
    {
     "name": "stderr",
     "output_type": "stream",
     "text": [
      "100%|██████████| 156/156 [00:38<00:00,  4.06it/s]\n"
     ]
    },
    {
     "name": "stdout",
     "output_type": "stream",
     "text": [
      "\n",
      "Epoch 91/120... Loss 7.798442\n",
      "\n",
      "Validation:\n"
     ]
    },
    {
     "name": "stderr",
     "output_type": "stream",
     "text": [
      "100%|██████████| 6/6 [00:00<00:00, 14.83it/s]\n"
     ]
    },
    {
     "name": "stdout",
     "output_type": "stream",
     "text": [
      "Loss 1.320808\n",
      "Epoch 91/120...\n",
      "--------------- Epoch 92 ---------------\n"
     ]
    },
    {
     "name": "stderr",
     "output_type": "stream",
     "text": [
      "100%|██████████| 156/156 [00:38<00:00,  4.07it/s]\n"
     ]
    },
    {
     "name": "stdout",
     "output_type": "stream",
     "text": [
      "\n",
      "Epoch 92/120... Loss 8.029196\n",
      "\n",
      "Validation:\n"
     ]
    },
    {
     "name": "stderr",
     "output_type": "stream",
     "text": [
      "100%|██████████| 6/6 [00:00<00:00, 15.16it/s]\n"
     ]
    },
    {
     "name": "stdout",
     "output_type": "stream",
     "text": [
      "Loss 2.358330\n",
      "Epoch 92/120...\n",
      "--------------- Epoch 93 ---------------\n"
     ]
    },
    {
     "name": "stderr",
     "output_type": "stream",
     "text": [
      "100%|██████████| 156/156 [00:38<00:00,  4.07it/s]\n"
     ]
    },
    {
     "name": "stdout",
     "output_type": "stream",
     "text": [
      "\n",
      "Epoch 93/120... Loss 9.624853\n",
      "\n",
      "Validation:\n"
     ]
    },
    {
     "name": "stderr",
     "output_type": "stream",
     "text": [
      "100%|██████████| 6/6 [00:00<00:00, 15.27it/s]\n"
     ]
    },
    {
     "name": "stdout",
     "output_type": "stream",
     "text": [
      "Loss 4.934745\n",
      "Epoch 93/120...\n",
      "--------------- Epoch 94 ---------------\n"
     ]
    },
    {
     "name": "stderr",
     "output_type": "stream",
     "text": [
      "100%|██████████| 156/156 [00:38<00:00,  4.09it/s]\n"
     ]
    },
    {
     "name": "stdout",
     "output_type": "stream",
     "text": [
      "\n",
      "Epoch 94/120... Loss 15.044001\n",
      "\n",
      "Validation:\n"
     ]
    },
    {
     "name": "stderr",
     "output_type": "stream",
     "text": [
      "100%|██████████| 6/6 [00:00<00:00, 15.19it/s]\n"
     ]
    },
    {
     "name": "stdout",
     "output_type": "stream",
     "text": [
      "Loss 4.841292\n",
      "Epoch 94/120...\n",
      "--------------- Epoch 95 ---------------\n"
     ]
    },
    {
     "name": "stderr",
     "output_type": "stream",
     "text": [
      "100%|██████████| 156/156 [00:38<00:00,  4.08it/s]\n"
     ]
    },
    {
     "name": "stdout",
     "output_type": "stream",
     "text": [
      "\n",
      "Epoch 95/120... Loss 11.009347\n",
      "\n",
      "Validation:\n"
     ]
    },
    {
     "name": "stderr",
     "output_type": "stream",
     "text": [
      "100%|██████████| 6/6 [00:00<00:00, 14.81it/s]\n"
     ]
    },
    {
     "name": "stdout",
     "output_type": "stream",
     "text": [
      "Loss 1.245764\n",
      "Epoch 95/120...\n",
      "--------------- Epoch 96 ---------------\n"
     ]
    },
    {
     "name": "stderr",
     "output_type": "stream",
     "text": [
      "100%|██████████| 156/156 [00:38<00:00,  4.07it/s]\n"
     ]
    },
    {
     "name": "stdout",
     "output_type": "stream",
     "text": [
      "\n",
      "Epoch 96/120... Loss 8.874041\n",
      "\n",
      "Validation:\n"
     ]
    },
    {
     "name": "stderr",
     "output_type": "stream",
     "text": [
      "100%|██████████| 6/6 [00:00<00:00, 14.84it/s]\n"
     ]
    },
    {
     "name": "stdout",
     "output_type": "stream",
     "text": [
      "Loss 2.406649\n",
      "Epoch 96/120...\n",
      "--------------- Epoch 97 ---------------\n"
     ]
    },
    {
     "name": "stderr",
     "output_type": "stream",
     "text": [
      "100%|██████████| 156/156 [00:38<00:00,  4.08it/s]\n"
     ]
    },
    {
     "name": "stdout",
     "output_type": "stream",
     "text": [
      "\n",
      "Epoch 97/120... Loss 8.180412\n",
      "\n",
      "Validation:\n"
     ]
    },
    {
     "name": "stderr",
     "output_type": "stream",
     "text": [
      "100%|██████████| 6/6 [00:00<00:00, 14.71it/s]\n"
     ]
    },
    {
     "name": "stdout",
     "output_type": "stream",
     "text": [
      "Loss 5.999155\n",
      "Epoch 97/120...\n",
      "--------------- Epoch 98 ---------------\n"
     ]
    },
    {
     "name": "stderr",
     "output_type": "stream",
     "text": [
      "100%|██████████| 156/156 [00:38<00:00,  4.09it/s]\n"
     ]
    },
    {
     "name": "stdout",
     "output_type": "stream",
     "text": [
      "\n",
      "Epoch 98/120... Loss 8.178873\n",
      "\n",
      "Validation:\n"
     ]
    },
    {
     "name": "stderr",
     "output_type": "stream",
     "text": [
      "100%|██████████| 6/6 [00:00<00:00, 14.79it/s]\n"
     ]
    },
    {
     "name": "stdout",
     "output_type": "stream",
     "text": [
      "Loss 1.681249\n",
      "Epoch 98/120...\n",
      "--------------- Epoch 99 ---------------\n"
     ]
    },
    {
     "name": "stderr",
     "output_type": "stream",
     "text": [
      "100%|██████████| 156/156 [00:38<00:00,  4.07it/s]\n"
     ]
    },
    {
     "name": "stdout",
     "output_type": "stream",
     "text": [
      "\n",
      "Epoch 99/120... Loss 8.027131\n",
      "\n",
      "Validation:\n"
     ]
    },
    {
     "name": "stderr",
     "output_type": "stream",
     "text": [
      "100%|██████████| 6/6 [00:00<00:00, 15.10it/s]\n"
     ]
    },
    {
     "name": "stdout",
     "output_type": "stream",
     "text": [
      "Loss 2.649262\n",
      "Epoch 99/120...\n",
      "--------------- Epoch 100 ---------------\n"
     ]
    },
    {
     "name": "stderr",
     "output_type": "stream",
     "text": [
      "100%|██████████| 156/156 [00:38<00:00,  4.07it/s]\n"
     ]
    },
    {
     "name": "stdout",
     "output_type": "stream",
     "text": [
      "\n",
      "Epoch 100/120... Loss 8.027380\n",
      "\n",
      "Validation:\n"
     ]
    },
    {
     "name": "stderr",
     "output_type": "stream",
     "text": [
      "100%|██████████| 6/6 [00:00<00:00, 14.57it/s]\n"
     ]
    },
    {
     "name": "stdout",
     "output_type": "stream",
     "text": [
      "Loss 4.606994\n",
      "Epoch 100/120...\n",
      "[INFO]Starting Evaluation for Fold 5 Epoche 100.\n"
     ]
    },
    {
     "name": "stderr",
     "output_type": "stream",
     "text": [
      "100%|██████████| 389/389 [00:38<00:00,  9.98it/s]\n"
     ]
    },
    {
     "name": "stdout",
     "output_type": "stream",
     "text": [
      "---------------------------------------------------------------------------------------------------------------------------------------\n",
      "Jaccard Index: \t meanClass[0] = 0.5885974810242349 \t meanClass[1] = 0.6919189304649677 \t mean = 0.6402582057446013\n",
      "Dice Score: \t meanClass[0] = 0.6970634109653044 \t meanClass[1] = 0.8046926047011329 \t mean = 0.7508780078332187\n",
      "---------------------------------------------------------------------------------------------------------------------------------------\n",
      "--------------- Epoch 101 ---------------\n"
     ]
    },
    {
     "name": "stderr",
     "output_type": "stream",
     "text": [
      "100%|██████████| 156/156 [00:38<00:00,  4.02it/s]\n"
     ]
    },
    {
     "name": "stdout",
     "output_type": "stream",
     "text": [
      "\n",
      "Epoch 101/120... Loss 9.532188\n",
      "\n",
      "Validation:\n"
     ]
    },
    {
     "name": "stderr",
     "output_type": "stream",
     "text": [
      "100%|██████████| 6/6 [00:00<00:00, 14.09it/s]\n"
     ]
    },
    {
     "name": "stdout",
     "output_type": "stream",
     "text": [
      "Loss 2.155541\n",
      "Epoch 101/120...\n",
      "--------------- Epoch 102 ---------------\n"
     ]
    },
    {
     "name": "stderr",
     "output_type": "stream",
     "text": [
      "100%|██████████| 156/156 [00:38<00:00,  4.05it/s]\n"
     ]
    },
    {
     "name": "stdout",
     "output_type": "stream",
     "text": [
      "\n",
      "Epoch 102/120... Loss 9.532328\n",
      "\n",
      "Validation:\n"
     ]
    },
    {
     "name": "stderr",
     "output_type": "stream",
     "text": [
      "100%|██████████| 6/6 [00:00<00:00, 14.76it/s]\n"
     ]
    },
    {
     "name": "stdout",
     "output_type": "stream",
     "text": [
      "Loss 1.481889\n",
      "Epoch 102/120...\n",
      "--------------- Epoch 103 ---------------\n"
     ]
    },
    {
     "name": "stderr",
     "output_type": "stream",
     "text": [
      "100%|██████████| 156/156 [00:38<00:00,  4.04it/s]\n"
     ]
    },
    {
     "name": "stdout",
     "output_type": "stream",
     "text": [
      "\n",
      "Epoch 103/120... Loss 8.291060\n",
      "\n",
      "Validation:\n"
     ]
    },
    {
     "name": "stderr",
     "output_type": "stream",
     "text": [
      "100%|██████████| 6/6 [00:00<00:00, 14.44it/s]\n"
     ]
    },
    {
     "name": "stdout",
     "output_type": "stream",
     "text": [
      "Loss 2.347081\n",
      "Epoch 103/120...\n",
      "--------------- Epoch 104 ---------------\n"
     ]
    },
    {
     "name": "stderr",
     "output_type": "stream",
     "text": [
      "100%|██████████| 156/156 [00:38<00:00,  4.04it/s]\n"
     ]
    },
    {
     "name": "stdout",
     "output_type": "stream",
     "text": [
      "\n",
      "Epoch 104/120... Loss 8.586769\n",
      "\n",
      "Validation:\n"
     ]
    },
    {
     "name": "stderr",
     "output_type": "stream",
     "text": [
      "100%|██████████| 6/6 [00:00<00:00, 14.80it/s]\n"
     ]
    },
    {
     "name": "stdout",
     "output_type": "stream",
     "text": [
      "Loss 1.817172\n",
      "Epoch 104/120...\n",
      "--------------- Epoch 105 ---------------\n"
     ]
    },
    {
     "name": "stderr",
     "output_type": "stream",
     "text": [
      "100%|██████████| 156/156 [00:38<00:00,  4.05it/s]\n"
     ]
    },
    {
     "name": "stdout",
     "output_type": "stream",
     "text": [
      "\n",
      "Epoch 105/120... Loss 14.077908\n",
      "\n",
      "Validation:\n"
     ]
    },
    {
     "name": "stderr",
     "output_type": "stream",
     "text": [
      "100%|██████████| 6/6 [00:00<00:00, 14.26it/s]\n"
     ]
    },
    {
     "name": "stdout",
     "output_type": "stream",
     "text": [
      "Loss 4.947053\n",
      "Epoch 105/120...\n",
      "--------------- Epoch 106 ---------------\n"
     ]
    },
    {
     "name": "stderr",
     "output_type": "stream",
     "text": [
      "100%|██████████| 156/156 [00:38<00:00,  4.06it/s]\n"
     ]
    },
    {
     "name": "stdout",
     "output_type": "stream",
     "text": [
      "\n",
      "Epoch 106/120... Loss 14.842016\n",
      "\n",
      "Validation:\n"
     ]
    },
    {
     "name": "stderr",
     "output_type": "stream",
     "text": [
      "100%|██████████| 6/6 [00:00<00:00, 13.67it/s]\n"
     ]
    },
    {
     "name": "stdout",
     "output_type": "stream",
     "text": [
      "Loss 2.807796\n",
      "Epoch 106/120...\n",
      "--------------- Epoch 107 ---------------\n"
     ]
    },
    {
     "name": "stderr",
     "output_type": "stream",
     "text": [
      "100%|██████████| 156/156 [00:38<00:00,  4.04it/s]\n"
     ]
    },
    {
     "name": "stdout",
     "output_type": "stream",
     "text": [
      "\n",
      "Epoch 107/120... Loss 9.865772\n",
      "\n",
      "Validation:\n"
     ]
    },
    {
     "name": "stderr",
     "output_type": "stream",
     "text": [
      "100%|██████████| 6/6 [00:00<00:00, 14.77it/s]\n"
     ]
    },
    {
     "name": "stdout",
     "output_type": "stream",
     "text": [
      "Loss 2.122747\n",
      "Epoch 107/120...\n",
      "--------------- Epoch 108 ---------------\n"
     ]
    },
    {
     "name": "stderr",
     "output_type": "stream",
     "text": [
      "100%|██████████| 156/156 [00:40<00:00,  3.86it/s]\n"
     ]
    },
    {
     "name": "stdout",
     "output_type": "stream",
     "text": [
      "\n",
      "Epoch 108/120... Loss 8.262210\n",
      "\n",
      "Validation:\n"
     ]
    },
    {
     "name": "stderr",
     "output_type": "stream",
     "text": [
      "100%|██████████| 6/6 [00:00<00:00, 13.89it/s]\n"
     ]
    },
    {
     "name": "stdout",
     "output_type": "stream",
     "text": [
      "Loss 1.556264\n",
      "Epoch 108/120...\n",
      "--------------- Epoch 109 ---------------\n"
     ]
    },
    {
     "name": "stderr",
     "output_type": "stream",
     "text": [
      "100%|██████████| 156/156 [00:41<00:00,  3.80it/s]\n"
     ]
    },
    {
     "name": "stdout",
     "output_type": "stream",
     "text": [
      "\n",
      "Epoch 109/120... Loss 7.844956\n",
      "\n",
      "Validation:\n"
     ]
    },
    {
     "name": "stderr",
     "output_type": "stream",
     "text": [
      "100%|██████████| 6/6 [00:00<00:00, 13.40it/s]\n"
     ]
    },
    {
     "name": "stdout",
     "output_type": "stream",
     "text": [
      "Loss 1.406801\n",
      "Epoch 109/120...\n",
      "--------------- Epoch 110 ---------------\n"
     ]
    },
    {
     "name": "stderr",
     "output_type": "stream",
     "text": [
      "100%|██████████| 156/156 [00:41<00:00,  3.77it/s]\n"
     ]
    },
    {
     "name": "stdout",
     "output_type": "stream",
     "text": [
      "\n",
      "Epoch 110/120... Loss 7.418975\n",
      "\n",
      "Validation:\n"
     ]
    },
    {
     "name": "stderr",
     "output_type": "stream",
     "text": [
      "100%|██████████| 6/6 [00:00<00:00, 14.87it/s]\n"
     ]
    },
    {
     "name": "stdout",
     "output_type": "stream",
     "text": [
      "Loss 1.508278\n",
      "Epoch 110/120...\n",
      "[INFO]Starting Evaluation for Fold 5 Epoche 110.\n"
     ]
    },
    {
     "name": "stderr",
     "output_type": "stream",
     "text": [
      "100%|██████████| 389/389 [00:37<00:00, 10.32it/s]\n"
     ]
    },
    {
     "name": "stdout",
     "output_type": "stream",
     "text": [
      "---------------------------------------------------------------------------------------------------------------------------------------\n",
      "Jaccard Index: \t meanClass[0] = 0.8608888745461147 \t meanClass[1] = 0.8349051062199634 \t mean = 0.8478969903830391\n",
      "Dice Score: \t meanClass[0] = 0.9207753989567793 \t meanClass[1] = 0.9016305940623148 \t mean = 0.9112029965095471\n",
      "---------------------------------------------------------------------------------------------------------------------------------------\n",
      "--------------- Epoch 111 ---------------\n"
     ]
    },
    {
     "name": "stderr",
     "output_type": "stream",
     "text": [
      "100%|██████████| 156/156 [00:41<00:00,  3.80it/s]\n"
     ]
    },
    {
     "name": "stdout",
     "output_type": "stream",
     "text": [
      "\n",
      "Epoch 111/120... Loss 7.596482\n",
      "\n",
      "Validation:\n"
     ]
    },
    {
     "name": "stderr",
     "output_type": "stream",
     "text": [
      "100%|██████████| 6/6 [00:00<00:00, 13.97it/s]\n"
     ]
    },
    {
     "name": "stdout",
     "output_type": "stream",
     "text": [
      "Loss 1.789667\n",
      "Epoch 111/120...\n",
      "--------------- Epoch 112 ---------------\n"
     ]
    },
    {
     "name": "stderr",
     "output_type": "stream",
     "text": [
      "100%|██████████| 156/156 [00:39<00:00,  3.99it/s]\n"
     ]
    },
    {
     "name": "stdout",
     "output_type": "stream",
     "text": [
      "\n",
      "Epoch 112/120... Loss 8.369801\n",
      "\n",
      "Validation:\n"
     ]
    },
    {
     "name": "stderr",
     "output_type": "stream",
     "text": [
      "100%|██████████| 6/6 [00:00<00:00, 14.45it/s]\n"
     ]
    },
    {
     "name": "stdout",
     "output_type": "stream",
     "text": [
      "Loss 1.904534\n",
      "Epoch 112/120...\n",
      "--------------- Epoch 113 ---------------\n"
     ]
    },
    {
     "name": "stderr",
     "output_type": "stream",
     "text": [
      "100%|██████████| 156/156 [00:39<00:00,  3.99it/s]\n"
     ]
    },
    {
     "name": "stdout",
     "output_type": "stream",
     "text": [
      "\n",
      "Epoch 113/120... Loss 8.254398\n",
      "\n",
      "Validation:\n"
     ]
    },
    {
     "name": "stderr",
     "output_type": "stream",
     "text": [
      "100%|██████████| 6/6 [00:00<00:00, 13.10it/s]\n"
     ]
    },
    {
     "name": "stdout",
     "output_type": "stream",
     "text": [
      "Loss 1.626973\n",
      "Epoch 113/120...\n",
      "--------------- Epoch 114 ---------------\n"
     ]
    },
    {
     "name": "stderr",
     "output_type": "stream",
     "text": [
      "100%|██████████| 156/156 [00:39<00:00,  3.93it/s]\n"
     ]
    },
    {
     "name": "stdout",
     "output_type": "stream",
     "text": [
      "\n",
      "Epoch 114/120... Loss 7.636096\n",
      "\n",
      "Validation:\n"
     ]
    },
    {
     "name": "stderr",
     "output_type": "stream",
     "text": [
      "100%|██████████| 6/6 [00:00<00:00, 14.52it/s]\n"
     ]
    },
    {
     "name": "stdout",
     "output_type": "stream",
     "text": [
      "Loss 1.566247\n",
      "Epoch 114/120...\n",
      "--------------- Epoch 115 ---------------\n"
     ]
    },
    {
     "name": "stderr",
     "output_type": "stream",
     "text": [
      "100%|██████████| 156/156 [00:38<00:00,  4.01it/s]\n"
     ]
    },
    {
     "name": "stdout",
     "output_type": "stream",
     "text": [
      "\n",
      "Epoch 115/120... Loss 9.785146\n",
      "\n",
      "Validation:\n"
     ]
    },
    {
     "name": "stderr",
     "output_type": "stream",
     "text": [
      "100%|██████████| 6/6 [00:00<00:00, 14.66it/s]\n"
     ]
    },
    {
     "name": "stdout",
     "output_type": "stream",
     "text": [
      "Loss 5.823103\n",
      "Epoch 115/120...\n",
      "--------------- Epoch 116 ---------------\n"
     ]
    },
    {
     "name": "stderr",
     "output_type": "stream",
     "text": [
      "100%|██████████| 156/156 [00:38<00:00,  4.03it/s]\n"
     ]
    },
    {
     "name": "stdout",
     "output_type": "stream",
     "text": [
      "\n",
      "Epoch 116/120... Loss 16.589751\n",
      "\n",
      "Validation:\n"
     ]
    },
    {
     "name": "stderr",
     "output_type": "stream",
     "text": [
      "100%|██████████| 6/6 [00:00<00:00, 14.39it/s]\n"
     ]
    },
    {
     "name": "stdout",
     "output_type": "stream",
     "text": [
      "Loss 6.177878\n",
      "Epoch 116/120...\n",
      "--------------- Epoch 117 ---------------\n"
     ]
    },
    {
     "name": "stderr",
     "output_type": "stream",
     "text": [
      "100%|██████████| 156/156 [00:38<00:00,  4.05it/s]\n"
     ]
    },
    {
     "name": "stdout",
     "output_type": "stream",
     "text": [
      "\n",
      "Epoch 117/120... Loss 10.338169\n",
      "\n",
      "Validation:\n"
     ]
    },
    {
     "name": "stderr",
     "output_type": "stream",
     "text": [
      "100%|██████████| 6/6 [00:00<00:00, 14.55it/s]\n"
     ]
    },
    {
     "name": "stdout",
     "output_type": "stream",
     "text": [
      "Loss 2.033978\n",
      "Epoch 117/120...\n",
      "--------------- Epoch 118 ---------------\n"
     ]
    },
    {
     "name": "stderr",
     "output_type": "stream",
     "text": [
      "100%|██████████| 156/156 [00:39<00:00,  3.98it/s]\n"
     ]
    },
    {
     "name": "stdout",
     "output_type": "stream",
     "text": [
      "\n",
      "Epoch 118/120... Loss 8.277368\n",
      "\n",
      "Validation:\n"
     ]
    },
    {
     "name": "stderr",
     "output_type": "stream",
     "text": [
      "100%|██████████| 6/6 [00:00<00:00, 14.36it/s]\n"
     ]
    },
    {
     "name": "stdout",
     "output_type": "stream",
     "text": [
      "Loss 1.187464\n",
      "Epoch 118/120...\n",
      "--------------- Epoch 119 ---------------\n"
     ]
    },
    {
     "name": "stderr",
     "output_type": "stream",
     "text": [
      "100%|██████████| 156/156 [00:38<00:00,  4.06it/s]\n"
     ]
    },
    {
     "name": "stdout",
     "output_type": "stream",
     "text": [
      "\n",
      "Epoch 119/120... Loss 7.547442\n",
      "\n",
      "Validation:\n"
     ]
    },
    {
     "name": "stderr",
     "output_type": "stream",
     "text": [
      "100%|██████████| 6/6 [00:00<00:00, 14.47it/s]\n"
     ]
    },
    {
     "name": "stdout",
     "output_type": "stream",
     "text": [
      "Loss 1.489923\n",
      "Epoch 119/120...\n",
      "--------------- Epoch 120 ---------------\n"
     ]
    },
    {
     "name": "stderr",
     "output_type": "stream",
     "text": [
      "100%|██████████| 156/156 [00:38<00:00,  4.01it/s]\n"
     ]
    },
    {
     "name": "stdout",
     "output_type": "stream",
     "text": [
      "\n",
      "Epoch 120/120... Loss 7.320519\n",
      "\n",
      "Validation:\n"
     ]
    },
    {
     "name": "stderr",
     "output_type": "stream",
     "text": [
      "100%|██████████| 6/6 [00:00<00:00, 14.73it/s]\n"
     ]
    },
    {
     "name": "stdout",
     "output_type": "stream",
     "text": [
      "Loss 1.243981\n",
      "Epoch 120/120...\n",
      "[INFO]Starting Evaluation for Fold 5 Epoche 120.\n"
     ]
    },
    {
     "name": "stderr",
     "output_type": "stream",
     "text": [
      "100%|██████████| 389/389 [00:38<00:00, 10.11it/s]\n"
     ]
    },
    {
     "name": "stdout",
     "output_type": "stream",
     "text": [
      "---------------------------------------------------------------------------------------------------------------------------------------\n",
      "Jaccard Index: \t meanClass[0] = 0.8633795785107159 \t meanClass[1] = 0.8449883123136731 \t mean = 0.8541839454121944\n",
      "Dice Score: \t meanClass[0] = 0.9228689626127405 \t meanClass[1] = 0.9092038509012188 \t mean = 0.9160364067569797\n",
      "---------------------------------------------------------------------------------------------------------------------------------------\n",
      "[INFO]Saving metric data and model.\n",
      "[INFO]Saving done.\n",
      "[INFO]Evaluation process complete!\n"
     ]
    }
   ],
   "source": [
    "print(\"[INFO]Starting Training...\")\n",
    "\n",
    "kf = KFold(n_splits=k_folds, shuffle=False)\n",
    "\n",
    "# Important values and metrics for backup\n",
    "train_losses_json = {}\n",
    "val_losses_json = {}\n",
    "jaccard_index_per_fold_json = {}\n",
    "jaccard_index_means_json = {}\n",
    "dice_score_per_fold_json = {}\n",
    "dice_score_means_json = {}\n",
    "\n",
    "for k, (kfsplit_train, kfsplit_test) in enumerate(kf.split(input_train)): \n",
    "    print(\"===========================\")\n",
    "    print(f\"         Fold: {k + 1}\")     \n",
    "    print(\"===========================\")\n",
    "   \n",
    "    enet = ENet(n_classes)\n",
    "    enet = enet.to(device)\n",
    "    criterion = nn.CrossEntropyLoss(weight=torch.FloatTensor(class_weights).to(device))\n",
    "    optimizer = torch.optim.Adam(enet.parameters(),\n",
    "                                lr=learn_rate,\n",
    "                                weight_decay=weight_decay)\n",
    "    print(\"[INFO]Model,optimizer and loss function instantiated!\")\n",
    "    \n",
    "    kf_X_train, kf_X_test = input_train[kfsplit_train], input_train[kfsplit_test]\n",
    "    kf_y_train, kf_y_test = label_train[kfsplit_train], label_train[kfsplit_test]\n",
    "\n",
    "    jaccard_index_per_fold_json[f\"fold{k+1}\"] = []\n",
    "    dice_score_per_fold_json[f\"fold{k+1}\"] = []\n",
    "    jaccard_index_means_json[f\"fold{k+1}\"] = []\n",
    "    dice_score_means_json[f\"fold{k+1}\"] = []   \n",
    "\n",
    "    train_losses = []\n",
    "    val_losses = []\n",
    "    \n",
    "    batch_count_train = (len(kf_X_train) // batch_size)\n",
    "    batch_count_val = (len(input_val) // batch_size)\n",
    "      \n",
    "    if((len(kf_X_train) / batch_size) % 1 != 0):\n",
    "        batch_count_train += 1\n",
    "        \n",
    "    if((len(input_val) / batch_size) % 1 != 0):\n",
    "        batch_count_val += 1\n",
    "        \n",
    "    for e in range(1, epochs_per_fold + 1):\n",
    "        train_loss = 0\n",
    "        print (\"-\"*15,\"Epoch %d\" % e , \"-\"*15) \n",
    "\n",
    "        enet.train()\n",
    "             \n",
    "        for _ in tqdm(range(batch_count_train)):           \n",
    "            X_train, y_train = kf_X_train[batch_size * _: batch_size * (_ + 1)], kf_y_train[batch_size * _: batch_size * (_ + 1)]          \n",
    "            X_train, y_train = X_train.to(device), y_train.to(device)\n",
    "                                     \n",
    "            optimizer.zero_grad()\n",
    "          \n",
    "            out = enet(X_train.float())        \n",
    "            loss = criterion(out, y_train.long())           \n",
    "            loss.backward()\n",
    "            optimizer.step()\n",
    "                       \n",
    "            train_loss += loss.item()\n",
    "            \n",
    "        print()\n",
    "        train_losses.append(train_loss)\n",
    "\n",
    " \n",
    "        print ('Epoch {}/{}...'.format(e, epochs_per_fold),\n",
    "                'Loss {:6f}'.format(train_loss))\n",
    "            \n",
    "        with torch.no_grad():                \n",
    "            print()\n",
    "            print(\"Validation:\")\n",
    "\n",
    "            # Validates the model\n",
    "            enet.eval()              \n",
    "            val_loss = 0\n",
    "\n",
    "            for _ in tqdm(range(batch_count_val)):           \n",
    "                X_val, y_val = input_val[batch_size * _: batch_size * (_ + 1)], label_val[batch_size * _: batch_size * (_ + 1)]          \n",
    "                X_val, y_val = X_val.to(device), y_val.to(device)\n",
    "\n",
    "                out = enet(X_val.float())\n",
    "                loss = criterion(out, y_val.long())\n",
    "\n",
    "                val_loss += loss.item()\n",
    "\n",
    "            print('Loss {:6f}'.format(val_loss))\n",
    "\n",
    "            val_losses.append(val_loss)            \n",
    "                                                                       \n",
    "        print ('Epoch {}/{}...'.format(e, epochs_per_fold))\n",
    "        \n",
    "        if e % eval_every == 0:\n",
    "            print(f\"[INFO]Starting Evaluation for Fold {k+1} Epoche {e}.\")\n",
    "\n",
    "            jaccard = JaccardIndex(num_classes=n_classes, average=\"none\")\n",
    "            dice = Dice(num_classes=n_classes, average=\"none\")\n",
    "\n",
    "            jaccard_indices = []\n",
    "            dice_scores = []\n",
    "\n",
    "            with torch.no_grad():\n",
    "                for test_sample_index in tqdm(range(0, len(kf_X_test))):            \n",
    "                    out_test = enet((kf_X_test[test_sample_index].unsqueeze(0).float()).to(device)).squeeze(0)\n",
    "                    pred = out_test.data.max(0)[1].cpu().numpy()\n",
    "                    pred = torch.tensor(pred.astype('uint8'))\n",
    "\n",
    "                    jaccard_indices.append(jaccard(pred, kf_y_test[test_sample_index]).tolist())\n",
    "                    dice_scores.append(dice(pred, kf_y_test[test_sample_index]).tolist())\n",
    "\n",
    "            jaccard_index_means_per_class = [np.mean([jindex[0] for jindex in jaccard_indices]), np.mean([jindex[1] for jindex in jaccard_indices])]\n",
    "            dice_score_means_per_class = [np.mean([dscore[0] for dscore in dice_scores]), np.mean([dscore[1] for dscore in dice_scores])]\n",
    "                            \n",
    "            jaccard_index_per_fold_json[f\"fold{k+1}\"].append(jaccard_indices)\n",
    "            dice_score_per_fold_json[f\"fold{k+1}\"].append(dice_scores)\n",
    "            \n",
    "            jaccard_index_means_json[f\"fold{k+1}\"].append(jaccard_index_means_per_class)\n",
    "            dice_score_means_json[f\"fold{k+1}\"].append(dice_score_means_per_class)   \n",
    "\n",
    "            print(\"---------------------------------------------------------------------------------------------------------------------------------------\")      \n",
    "            print(f\"Jaccard Index: \\t meanClass[0] = {str(jaccard_index_means_per_class[0])} \\t meanClass[1] = {str(jaccard_index_means_per_class[1])} \\t mean = {np.mean(jaccard_index_means_per_class)}\")                                  \n",
    "            print(f\"Dice Score: \\t meanClass[0] = {str(dice_score_means_per_class[0])} \\t meanClass[1] = {str(dice_score_means_per_class[1])} \\t mean = {np.mean(dice_score_means_per_class)}\")\n",
    "            print(\"---------------------------------------------------------------------------------------------------------------------------------------\")       \n",
    "  \n",
    "    train_losses_json[f\"fold{k+1}\"] = train_losses\n",
    "    val_losses_json[f\"fold{k+1}\"] = val_losses\n",
    "    \n",
    "    print(\"[INFO]Saving metric data and model.\")\n",
    "       \n",
    "    with open(path_save_model + \"logs/trainLosses.json\", \"w\", encoding=\"utf-8\") as f:\n",
    "        json.dump(train_losses_json, f, ensure_ascii=False, indent=4)\n",
    "        \n",
    "    with open(path_save_model + \"logs/valLosses.json\", \"w\", encoding=\"utf-8\") as f:\n",
    "        json.dump(val_losses_json, f, ensure_ascii=False, indent=4)    \n",
    "        \n",
    "    with open(path_save_model + \"logs/jaccardIndicesPerFold.json\", \"w\", encoding=\"utf-8\") as f:\n",
    "        json.dump(jaccard_index_per_fold_json, f, ensure_ascii=False, indent=4) \n",
    "        \n",
    "    with open(path_save_model + \"logs/diceScoresPerFold.json\", \"w\", encoding=\"utf-8\") as f:\n",
    "        json.dump(dice_score_per_fold_json, f, ensure_ascii=False, indent=4) \n",
    "            \n",
    "    with open(path_save_model + \"logs/jaccardIndexMeans.json\", \"w\", encoding=\"utf-8\") as f:\n",
    "        json.dump(jaccard_index_means_json, f, ensure_ascii=False, indent=4)\n",
    "    \n",
    "    with open(path_save_model + \"logs/diceScoreMeans.json\", \"w\", encoding=\"utf-8\") as f:\n",
    "        json.dump(dice_score_means_json, f, ensure_ascii=False, indent=4) \n",
    "        \n",
    "    checkpoint = {\n",
    "        'fold': k+1,\n",
    "        'state_dict' : enet.state_dict()\n",
    "    }\n",
    "    \n",
    "    torch.save(checkpoint, path_save_model + 'ckpt-enet-{}-{}.pth'.format(k+1, train_loss))\n",
    "\n",
    "    print(\"[INFO]Saving done.\")\n",
    "            \n",
    "print(\"[INFO]Evaluation process complete!\")                                                                             "
   ]
  }
 ],
 "metadata": {
  "kernelspec": {
   "display_name": "base",
   "language": "python",
   "name": "python3"
  },
  "language_info": {
   "codemirror_mode": {
    "name": "ipython",
    "version": 3
   },
   "file_extension": ".py",
   "mimetype": "text/x-python",
   "name": "python",
   "nbconvert_exporter": "python",
   "pygments_lexer": "ipython3",
   "version": "3.9.13"
  },
  "vscode": {
   "interpreter": {
    "hash": "dc8688e06fb41c859b3a1b30abeb667a639c61f56cdaba7eb8e5bd6171de15c6"
   }
  }
 },
 "nbformat": 4,
 "nbformat_minor": 5
}
