{
 "cells": [
  {
   "cell_type": "code",
   "execution_count": null,
   "id": "bd2403fc",
   "metadata": {},
   "outputs": [],
   "source": [
    "# Standard libraries\n",
    "from tabulate import tabulate\n",
    "from typing import Tuple, Union\n",
    "import json\n",
    "import numpy as np\n",
    "import os\n",
    "import pandas as pd\n",
    "\n",
    "# Plotting libraries\n",
    "from bokeh.models import DataRange1d\n",
    "from bokeh.plotting import figure, show\n",
    "from bokeh.resources import INLINE\n",
    "from bokeh.io import output_notebook\n",
    "output_notebook(INLINE)"
   ]
  },
  {
   "cell_type": "code",
   "execution_count": null,
   "id": "e03e110e",
   "metadata": {},
   "outputs": [],
   "source": [
    "def load_file(filename: str) -> Union[dict, list]:\n",
    "    data_file = open(path_metrics + filename)\n",
    "    data_json = json.load(data_file)\n",
    "    data_file.close()\n",
    "  \n",
    "    return data_json\n",
    "\n",
    "\n",
    "def train_val_values(filename: str):\n",
    "    y_values = load_file(filename)   \n",
    "    x_values = []\n",
    "    x_length = len(y_values)\n",
    "    \n",
    "    for x in range(1, x_length + 1):\n",
    "        x_values.append(x)\n",
    "        \n",
    "    return x_values, y_values\n",
    "\n",
    "\n",
    "# Creating Settings table\n",
    "def settings_table(settings: dict) -> Tuple[list, str]:\n",
    "    setting_keys = list(settings.keys())\n",
    "    setting_values = list(settings.values())\n",
    "    setting_descr = ''\n",
    "    setting_keys.insert(0, '\\033[1;3m' + 'Setting' + '\\033[0m')\n",
    "    setting_values.insert(0, '\\033[1;3m' + 'Value' + '\\033[0m')\n",
    "\n",
    "    if (setting_keys[-1].lower() == 'description') :\n",
    "        setting_descr = setting_values[-1]\n",
    "        setting_keys = setting_keys[:-1]\n",
    "        setting_values = setting_values[:-1]\n",
    "\n",
    "    zips_tuples = list(zip(setting_keys, setting_values))  # Output: list with tuples\n",
    "    zips_lists = list(map(list, zips_tuples))  # Output: list with lists\n",
    "\n",
    "    return zips_lists, setting_descr"
   ]
  },
  {
   "cell_type": "code",
   "execution_count": null,
   "id": "c6122087",
   "metadata": {},
   "outputs": [],
   "source": [
    "# Set the path to the folder which contains the metrics files\n",
    "path_metrics = \"../Unet_Segmentation/modelBackups/RiverBlindnessEvaluation_13_02_23_best/logs/\""
   ]
  },
  {
   "cell_type": "markdown",
   "id": "e13219bf",
   "metadata": {},
   "source": [
    "# Settings"
   ]
  },
  {
   "cell_type": "code",
   "execution_count": null,
   "id": "a26594b8",
   "metadata": {},
   "outputs": [],
   "source": [
    "settings_file = open(path_metrics + 'settings.json')\n",
    "settings = json.load(settings_file)\n",
    "settings_file.close()\n",
    "\n",
    "tabledata, description = settings_table(settings)\n",
    "print(tabulate(tabledata, headers='firstrow', tablefmt='fancy_grid', colalign=(\"left\",\"left\")))\n",
    "print('\\033[1;3m' + 'Description: ' + '\\033[0m' + description)"
   ]
  },
  {
   "cell_type": "markdown",
   "id": "0bc7c83e",
   "metadata": {},
   "source": [
    "# Train & Validation losses"
   ]
  },
  {
   "cell_type": "code",
   "execution_count": null,
   "id": "f58bd4b2",
   "metadata": {},
   "outputs": [],
   "source": [
    "x_val, y_val = train_val_values('valLosses.json')\n",
    "x_train, y_train = train_val_values('trainLosses.json')\n",
    "\n",
    "TOOLTIPS = [\n",
    "(\"Epoch\", \"@x\"),\n",
    "(\"Loss\", \"@y\"),\n",
    "]\n",
    "\n",
    "p = figure(\n",
    "    x_axis_label = \"Epoch\",\n",
    "    y_axis_label = \"Loss\",\n",
    "    y_range=DataRange1d(range_padding = 0.1, follow = \"end\", only_visible = True),\n",
    "    width=800,\n",
    "    height=300, \n",
    "    tooltips=TOOLTIPS,\n",
    "    title = \"Training and validation losses\",\n",
    "    )\n",
    "\n",
    "# Training losses\n",
    "p.line(x_train, y_train, legend_label = 'Training loss', color = 'blue', alpha=0.4, line_width=2)\n",
    "# Validation losses\n",
    "p.line(x_val, y_val, legend_label = 'Validation loss', color = 'orange', alpha=0.7, line_width=2)\n",
    "\n",
    "p.yaxis.minor_tick_line_color = None\n",
    "p.legend.click_policy=\"hide\"\n",
    "\n",
    "show(p)\n",
    "\n",
    "print(\"Mean training loss: \" + \"\\t\" + str(np.mean(y_train)))\n",
    "print(\"Mean validation loss: \" + \"\\t\" + str(np.mean(y_val))) \n",
    "\n",
    "y_train_meaned = []\n",
    "y_val_meaned = []\n",
    "\n",
    "for y in range(len(y_train)):\n",
    "    sliced_y_train = y_train[:y+1:]\n",
    "    y_train_meaned.append(np.mean(sliced_y_train))\n",
    "\n",
    "for y in range(len(y_val)):\n",
    "    sliced_y_val = y_val[:y+1:]\n",
    "    y_val_meaned.append(np.mean(sliced_y_val))"
   ]
  }
 ],
 "metadata": {
  "kernelspec": {
   "display_name": "Python 3",
   "language": "python",
   "name": "python3"
  },
  "language_info": {
   "codemirror_mode": {
    "name": "ipython",
    "version": 3
   },
   "file_extension": ".py",
   "mimetype": "text/x-python",
   "name": "python",
   "nbconvert_exporter": "python",
   "pygments_lexer": "ipython3",
   "version": "3.9.4"
  },
  "vscode": {
   "interpreter": {
    "hash": "9a28f90e9e7e16bb48f3923e9d683c0c69a588450d8009e66427bb0a83f7dbaf"
   }
  }
 },
 "nbformat": 4,
 "nbformat_minor": 5
}
